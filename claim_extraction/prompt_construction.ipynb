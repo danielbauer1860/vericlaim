{
 "cells": [
  {
   "cell_type": "code",
   "execution_count": 6,
   "metadata": {},
   "outputs": [],
   "source": [
    "prompt_definition = '''We define a claim as an elementary information unit in a sentence, which no longer\n",
    "needs to be further split. Furthermore, core claims are ones that best describe \n",
    "the core ideas of an article.\n",
    "\n",
    "'''"
   ]
  },
  {
   "cell_type": "code",
   "execution_count": 3,
   "metadata": {},
   "outputs": [
    {
     "name": "stdout",
     "output_type": "stream",
     "text": [
      "{'headline': 'Three Russia Hoax Bombshells Hidden In IG Report On DOJ Surveillance Of Congress', 1: 'By: Mollie Hemingway\\nDecember 17, 2024\\n9 min read\\nSen. Adam Schiff\\nImage Credit\\nSen. Adam Schiff/YouTube\\n\\nThese revelations show why the DOJ needs massive reform in the next administration.', 2: 'Author Mollie Hemingway profile\\nMollie Hemingway\\nVisit on Twitter\\n@mzhemingway\\nMore Articles\\nShare\\n\\n    Share Article on Facebook\\n    Share Article on Twitter\\n\\nShare Article on Truth Social\\n\\n    Share Article via Email\\n\\nLast week the Department of Justice’s inspector general released a report on some of the DOJ’s tracking of communications from media and congressional figures as part of its purported investigation into who was leaking classified information against President Donald Trump in 2017.', 3: 'Three significant bombshells about the Russia collusion hoax were hidden inside the dense and dry 100-page report.', 4: 'For context, when Trump won the 2016 presidential election, anonymous Democrat operatives in the federal government and Congress began leaking like sieves as part of a coordinated effort to paint Trump as a mastermind spy who had worked with Russian President Vladimir Putin for decades in order to steal the election.', 5: 'Two Washington Post stories, a New York Times story, and a CNN story were all found to have included classified information.', 6: 'None of the four stories are specified in the report, but they all appeared in the first half of President Trump’s first year in office.', 7: 'The first Washington Post story is likely the April 2017 story by Ellen Nakashima, Devlin Barrett, and Adam Entous revealing that DOJ had gotten a Foreign Intelligence Surveillance Act (FISA) warrant to spy on Carter Page, a Trump affiliate.', 8: 'The true story of that warrant would end up revealing the corruption of the DOJ, including how it falsified evidence in its application and relied on the laughable Steele dossier as the basis.', 9: 'But at the time of its publication, the FISA story suggested that an honorable DOJ had serious reason to suspect the Trump campaign of colluding with Russia to steal the election.', 10: 'As outlandish and unhinged as the conspiracy theory was, it was fueled with daily drops of classified and deceptively packaged information designed to make it appear legitimate.', 11: 'The corporate media dutifully regurgitated, published, and aired the leaks as part of their campaign against the Republican president.', 12: 'Nakashima, Barrett, and Entous were awarded a Pulitzer Prize for their perpetuation of the Russia collusion hoax in this and other stories.', 13: 'The leaks, which threatened national security and were intended to get Trump removed from office, threw the White House into chaos.', 14: 'For years, polling has indicated that most Democrats continued to cling to the conspiracy theory as an explanation for Trump’s first presidential victory.', 15: 'The leakers have never been brought to justice.', 16: 'Bombshell #1: A Democrat Whistleblower Identified Schiff, Swalwell As Leakers\\n\\nOne of the more surprising claims in the report was that a Democrat staffer on one of the congressional committees “voluntarily told the FBI” almost immediately after the investigation began in 2017 that he suspected two members of Congress and a number of Democrat staffers of being involved in the leaking of the classified information, leading to further investigation of those identified.', 17: 'While the report doesn’t identify the whistleblower, his committee, or name the members of Congress, a 2021 New York Times story already identified then-Rep. Adam Schiff and Rep. Eric Swalwell, both of California, as the two congressmen on the House Permanent Select Committee on Intelligence (HPSCI) who were under investigation.', 18: 'The DOJ report further notes that only these two members of Congress were investigated.', 19: 'Schiff was the top Democrat on HPSCI at the time its Republican chair Devin Nunes was engaged in painstaking efforts to reveal the Russia collusion hoax and many of its participants.', 20: 'Both Schiff and Swalwell were notorious for going on left-wing media outlets such as CNN and MSNBC to push the Russia conspiracy theory.', 21: 'Schiff, now California’s junior senator, lied publicly for years about the matter, falsely claiming to have secret evidence substantiating the hoax.', 22: 'Schiff was widely suspected of leaking information to his allies in the press, or otherwise misrepresenting information from the committee.', 23: 'Swalwell, for his part, famously had an intimate relationship with Communist Chinese spy “Fang Fang,” who had targeted him and other Democrats as part of a honey-trap operation.', 24: 'Despite these serious problems, both men served on HPSCI until former Speaker of the House Kevin McCarthy removed them in early 2023.', 25: 'The whistleblower told the FBI he “suspected that Member 1 had previously leaked classified information and that Member 2 wanted to influence public opinion via the release of classified information.”', 26: 'However, the FBI said the whistleblower didn’t offer enough “direct evidence” of the suspected leaking.', 27: 'The DOJ itself would go on to stonewall Nunes and Senate colleagues who were attempting to investigate DOJ’s lead role in the Russia collusion scam.', 28: 'Many of the top leadership at the FBI, including former Director James Comey and Deputy Director Andrew McCabe, were later unveiled as some of the worst leakers in government and leaders of the Russia collusion hoax.', 29: 'While they were removed from office, the Biden administration later paid some of them off.', 30: 'Bombshell #2: A Top Democrat Staffer Was Caught Communicating With Three Reporters Who Published the Classified Info He Had Access To, But FBI Didn’t Think It Meant Much\\n\\nThe IG report says the whistleblower identified a top Democrat “staffer from the same committee” as a potential leaker.', 31: 'The report notes that DOJ “focused its investigation on the Senior Committee Staffer as the potential source of the leak” and that beyond being identified by the whistleblower, he was someone they “suspected of being the source of the unauthorized disclosure for other reasons as well.”', 32: 'The DOJ was so interested in rooting out leaks of classified information, however, that it waited three full years to interview their main suspect and only after Attorney General Bill Barr apparently caused the investigation to be re-opened in 2020.', 33: 'One almost gets the sense that the DOJ wasn’t super-interested in stopping leaks that fed the Russia collusion hoax they ran.', 34: 'The IG report doesn’t name the senior staffer, but another 2021 New York Times story identifies the suspected leaker. “[', 35: 'T]he leak investigation appeared to have been primarily focused on Michael Bahar, then a staff member on the House Intelligence Committee,” Russia collusion hoaxers Michael S. Schmidt and Charlie Savage wrote. “', 36: 'It remains unclear whether agents were pursuing a theory that Mr. Bahar had leaked on his own or whether they suspected him of talking to reporters with the approval of lawmakers.', 37: 'Either way, it appears they were unable to prove their suspicions that he was the source of any unauthorized disclosures; the case has been closed, and no charges were brought.”', 38: 'It’s unclear if the DOJ was unable or, perhaps more likely, unwilling to go after participants in the Russia collusion hoax it helped run.', 39: 'The IG report reveals that “[r]ecords showed that the Senior Committee Staffer visited the room where the classified material was made available to Members of Congress and congressional staff (Read Room) on at least one and possibly two occasions in early 2017, while still working for the committee.”', 40: 'DOJ obtained his phone records and learned that they “showed that immediately before accessing the Read Room and continuing through shortly after publication of the articles containing the relevant classified information, the Senior Committee Staffer’s phone number was in contact with telephone numbers used by all three of the reporters who authored the articles that disclosed the classified information.”', 41: 'Well, that seems like a big deal.', 42: 'But the senior staffer had the perfect alibi, at least in the view of our trusty FBI investigators.', 43: 'He explained to them that if they looked at more of his phone records, they’d see that he had been yakking it up with two of the three reporters long before they published the classified info he had access to.', 44: 'They discovered that he had been talking to these reporters for a long time and therefore they … decided to drop the investigation with no charges.', 45: 'I’m sure that this explanation would have passed muster with the FBI if it were offered by a Republican.', 46: 'Incidentally, the report keeps asserting the whistleblower had little foundation for his suspicions.', 47: 'In one case, he said he thought some individuals might be using their spouse’s phone to contact the media.', 48: 'And in a December 2017 interview, he said he “overheard the Senior Committee Staffer tell other staffers that the Senior Committee Staffer would use their spouse’s cell phone to make calls, which the Committee Witness believed was intended to conceal the Senior Committee Staffer’s activity.', 49: 'However, the Committee Witness later admitted that they had little foundation for the belief that the Senior Committee Staffer used their spouse’s phone.”', 50: 'Hunh?', 51: 'First off, the IG report said that in addition to the whistleblower’s claims, “the DOJ had other indicators that the Senior Committee Staffer and his spouse used each other’s accounts” and later reiterated they had “indicators that the Senior Committee Staffer and their spouse sometimes used each other’s accounts.”', 52: 'Did the whistleblower later deny his own claim about what he heard the senior staffer tell people?', 53: 'Or is the DOJ simply dismissing eyewitness testimony it wished didn’t exist as having “little foundation?”', 54: 'Bombshell #3: DOJ Spied On As Many Republicans As Democrats When Investigating Democrat Leaks\\n\\nThe IG report shows a surprisingly high number of congressional staff had their communications monitored secretly by the DOJ as part of the investigation into who was leaking classified information to hurt Republicans.', 55: 'A look into who the DOJ was monitoring suggests the investigation was never done in good faith.', 56: 'Of the 43 congressional staffers who were monitored, 21 worked for Democrats and 20 worked for Republicans.', 57: 'Another two worked in nonpartisan positions.', 58: 'At the time that the leak investigation began, Republicans on the HPSCI were famously battling against the Russia collusion conspiracy theory while Democrats were loudly pushing it.', 59: 'Yet the investigators decided that they’d surveil Republicans and Democrats equally because the lead career prosecutor said “because the leakers’ motivations are unknown, prosecutors must explore all possibilities and cannot assume political motives one way or the other.”', 60: 'This career prosecutor added that the Carter Page FISA story “was a good example of that principle because both parties had potential political motivations to leak the information.”', 61: 'In fact, the Carter Page FISA story was transparently designed to cast suspicion on Carter Page, and by extension, the entire Trump campaign, as being Russian agents.', 62: 'Not a single rational person in the world thought that the leak came from the Republicans on HPSCI or other committees trying to get the truth of the Russia collusion hoax out.', 63: 'The decision to use the leak investigation as a pretext to dig into those Republican staffers’ communications instead of tenaciously targeting Democrat leakers or taking the deluge of leaks from the DOJ itself seriously is a great example of why the DOJ needs massive reform in the next administration.', 64: ''}\n"
     ]
    }
   ],
   "source": [
    "#the example pre-processed in the article_pre_processing notebook\n",
    "example_path = \"example_text.txt\"\n",
    "\n",
    "with open(example_path, 'r', encoding=\"utf-8\") as f:\n",
    "    input_example = f.read()\n",
    "\n",
    "print(input_example)"
   ]
  },
  {
   "cell_type": "code",
   "execution_count": 5,
   "metadata": {},
   "outputs": [],
   "source": [
    "output_example = '''{   \"article_title\": \"Three Russia Hoax Bombshells Hidden In IG Report On DOJ Surveillance Of Congress\",\n",
    "    \"url\": \"https://thefederalist.com/2024/12/17/three-russia-hoax-bombshells-hidden-in-ig-report-on-doj-surveillance-of-congress/\",\n",
    "    \"article_length\": 64,\n",
    "    \"claims\": [\n",
    "    {\n",
    "        \"claim\": \"The Department of Justice's inspector general released a report on the DOJ's tracking of communications from media and congressional figures.\",\n",
    "        \"headline\": 0,\n",
    "        \"position\": 2\n",
    "    },\n",
    "    {\n",
    "        \"claim\": \"The report revealed that a Democrat staffer on a congressional committee identified two members of Congress and several Democrat staffers as potential leakers of classified information.\",\n",
    "        \"headline\": 0,\n",
    "        \"position\": 15\n",
    "    },\n",
    "    {\n",
    "        \"claim\": \"Rep. Adam Schiff and Rep. Eric Swalwell were under investigation for leaking classified information, according to a 2021 New York Times story.\",\n",
    "        \"headline\": 0,\n",
    "        \"position\": 12\n",
    "    },\n",
    "    {\n",
    "        \"claim\": \"A top Democrat staffer was caught communicating with three reporters who published classified information he had access to, but the FBI didn't think it meant much.\",\n",
    "        \"headline\": 0,\n",
    "        \"position\": 30\n",
    "    },\n",
    "    {\n",
    "        \"claim\": \"The DOJ spied on as many Republicans as Democrats when investigating Democrat leaks, monitoring 21 Democrat staffers and 20 Republican staffers.\",\n",
    "        \"headline\": 0,\n",
    "        \"position\": 54\n",
    "    }  \n",
    "]\n",
    "}\n",
    "'''"
   ]
  },
  {
   "cell_type": "code",
   "execution_count": 4,
   "metadata": {},
   "outputs": [],
   "source": [
    "specifications = '''\n",
    "• If possible, use a noun as the subject in the claim (try to avoid pronouns),\n",
    "such as ”The Department of Justice's inspector general released a report on the DOJ's tracking of communications from media and congressional figures.”\n",
    "in the previous example.\n",
    "• Do not generate any novel word, be faithful to the provided input.\n",
    "• Do only include claims that can be considered core claims.\n",
    "• Do only include up to five core claims.\n",
    "• For each claim, indicate whether it was made in the headline (1) or not (0)\n",
    "• For each claim, indicate the position of the sentence, in which that claim was started, as indicated by the indices\n",
    "• Your response must be directly the JSON, do not add any other text, such as\n",
    "”Here is the output:” and similar. Note that, each fact expressed in the source\n",
    "text must be present in the output.\n",
    "• Make sure that the JSON is properly formatted, especially with correct types of braces\n",
    "• For the total article, consider the total amount of sentences as indicted by the indices and add it in article_length\n",
    "'''"
   ]
  },
  {
   "cell_type": "code",
   "execution_count": 7,
   "metadata": {},
   "outputs": [],
   "source": [
    "prompt = f'''{prompt_definition}\n",
    "\n",
    "For example, given the following article:\n",
    "INPUT:\n",
    "{input_example}\n",
    "OUTPUT:\n",
    "{output_example}\n",
    "\n",
    "Please consider the following recommendations:\n",
    "{specifications}\n",
    "\n",
    "Now do this task for this input \n",
    "INPUT:\n",
    "'''"
   ]
  },
  {
   "cell_type": "code",
   "execution_count": 9,
   "metadata": {},
   "outputs": [
    {
     "ename": "",
     "evalue": "",
     "output_type": "error",
     "traceback": [
      "\u001b[1;31mThe Kernel crashed while executing code in the current cell or a previous cell. \n",
      "\u001b[1;31mPlease review the code in the cell(s) to identify a possible cause of the failure. \n",
      "\u001b[1;31mClick <a href='https://aka.ms/vscodeJupyterKernelCrash'>here</a> for more info. \n",
      "\u001b[1;31mView Jupyter <a href='command:jupyter.viewOutput'>log</a> for further details."
     ]
    }
   ],
   "source": [
    "version = 3\n",
    "prompt_path = f\"prompt_v{version}.txt\"\n",
    "with open(prompt_path, \"w\", encoding=\"utf-8\") as f:\n",
    "    f.write(prompt)"
   ]
  }
 ],
 "metadata": {
  "kernelspec": {
   "display_name": "venv",
   "language": "python",
   "name": "python3"
  },
  "language_info": {
   "codemirror_mode": {
    "name": "ipython",
    "version": 3
   },
   "file_extension": ".py",
   "mimetype": "text/x-python",
   "name": "python",
   "nbconvert_exporter": "python",
   "pygments_lexer": "ipython3",
   "version": "3.9.5"
  }
 },
 "nbformat": 4,
 "nbformat_minor": 2
}
