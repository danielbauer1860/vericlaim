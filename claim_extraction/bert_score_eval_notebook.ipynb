{
 "cells": [
  {
   "cell_type": "markdown",
   "metadata": {},
   "source": [
    "# Compute Bertscore"
   ]
  },
  {
   "cell_type": "code",
   "execution_count": 1,
   "metadata": {},
   "outputs": [
    {
     "name": "stderr",
     "output_type": "stream",
     "text": [
      "c:\\Users\\danie\\Desktop\\Studium\\Master's thesis\\MA_Code\\venv\\lib\\site-packages\\tqdm\\auto.py:21: TqdmWarning: IProgress not found. Please update jupyter and ipywidgets. See https://ipywidgets.readthedocs.io/en/stable/user_install.html\n",
      "  from .autonotebook import tqdm as notebook_tqdm\n"
     ]
    }
   ],
   "source": [
    "from evaluate import load\n",
    "import json\n",
    "\n",
    "result_path = \"bert_score_results.json\""
   ]
  },
  {
   "cell_type": "code",
   "execution_count": 2,
   "metadata": {},
   "outputs": [],
   "source": [
    "core_claim_json_path = \"core_claims_eval.json\"\n",
    "\n",
    "with open(core_claim_json_path, 'r', encoding=\"utf-8\") as j:\n",
    "    core_claims_eval = json.loads(j.read())"
   ]
  },
  {
   "cell_type": "code",
   "execution_count": 3,
   "metadata": {},
   "outputs": [
    {
     "name": "stderr",
     "output_type": "stream",
     "text": [
      "Downloading builder script: 100%|██████████| 7.95k/7.95k [00:00<?, ?B/s]\n"
     ]
    }
   ],
   "source": [
    "#helper functions for reformating and extracting the dict\n",
    "def extract_core_claim_dict(article, reformat=True):\n",
    "    core_claims = {}\n",
    "    for key, value in article.items():\n",
    "        if \"core_claims\" in key:\n",
    "            core_claims[key] = value\n",
    "    if (reformat):\n",
    "        return reformat_core_claim_dict(core_claim_dict=core_claims)\n",
    "    return core_claims\n",
    "\n",
    "\n",
    "def reformat_core_claim_dict(core_claim_dict):\n",
    "    core_claim_comparison = {}\n",
    "    core_claim_comparison[\"core_claim_pairs\"] = []\n",
    "    for key_p, value_p in core_claim_dict.items():\n",
    "        for key_r, value_r in core_claim_dict.items():\n",
    "            if key_p == key_r:\n",
    "                continue\n",
    "            p_r_dict = {}\n",
    "            p_r_dict['p'] = key_p\n",
    "            p_r_dict['r'] = key_r\n",
    "            p_r_dict['claim_pairs'] = []\n",
    "            for claim_p in value_p:\n",
    "                claim_pair = {\n",
    "                    \"claims_prediction\" : [claim_p] * len(value_r),\n",
    "                    \"claims_reference\" : value_r\n",
    "                }\n",
    "                p_r_dict['claim_pairs'].append(claim_pair)\n",
    "            core_claim_comparison['core_claim_pairs'].append(p_r_dict)\n",
    "    return core_claim_comparison\n",
    "\n",
    "from evaluate import load\n",
    "bertscore = load(\"bertscore\")\n",
    "\n",
    "def get_result_dict(article):\n",
    "    results_core_claim_comparison = extract_core_claim_dict(article)\n",
    "    for pair in results_core_claim_comparison['core_claim_pairs']:\n",
    "        \n",
    "        pair['scores'] = {}\n",
    "        \n",
    "        for i, claim_pair in enumerate(pair['claim_pairs']):\n",
    "            results = bertscore.compute(predictions=claim_pair['claims_prediction'], references=claim_pair['claims_reference'], model_type=\"distilbert-base-uncased\")\n",
    "            del results['hashcode']\n",
    "            pair['scores'][f'claim_{i+1}'] = results\n",
    "        del pair['claim_pairs']\n",
    "    return results_core_claim_comparison"
   ]
  },
  {
   "cell_type": "code",
   "execution_count": 4,
   "metadata": {},
   "outputs": [
    {
     "name": "stderr",
     "output_type": "stream",
     "text": [
      "c:\\Users\\danie\\Desktop\\Studium\\Master's thesis\\MA_Code\\venv\\lib\\site-packages\\huggingface_hub\\file_download.py:140: UserWarning: `huggingface_hub` cache-system uses symlinks by default to efficiently store duplicated files but your machine does not support them in C:\\Users\\danie\\.cache\\huggingface\\hub\\models--distilbert-base-uncased. Caching files will still work but in a degraded version that might require more space on your disk. This warning can be disabled by setting the `HF_HUB_DISABLE_SYMLINKS_WARNING` environment variable. For more details, see https://huggingface.co/docs/huggingface_hub/how-to-cache#limitations.\n",
      "To support symlinks on Windows, you either need to activate Developer Mode or to run Python as an administrator. In order to activate developer mode, see this article: https://docs.microsoft.com/en-us/windows/apps/get-started/enable-your-device-for-development\n",
      "  warnings.warn(message)\n"
     ]
    }
   ],
   "source": [
    "results = {}\n",
    "results['articles'] = []\n",
    "for article in core_claims_eval['articles']:\n",
    "    article_dict = {}\n",
    "    article_dict['article_title']= article['article_title']\n",
    "    article_dict['results'] = get_result_dict(article)\n",
    "    results['articles'].append(article_dict)"
   ]
  },
  {
   "cell_type": "code",
   "execution_count": 10,
   "metadata": {},
   "outputs": [],
   "source": [
    "#run only if changes are made to the code above\n",
    "with open (result_path, \"w\") as f:\n",
    "    json.dump(results, f)"
   ]
  },
  {
   "cell_type": "markdown",
   "metadata": {},
   "source": [
    "# Process and display Results"
   ]
  },
  {
   "cell_type": "code",
   "execution_count": 5,
   "metadata": {},
   "outputs": [],
   "source": [
    "import json\n",
    "with open(result_path, 'r', encoding=\"utf-8\") as j:\n",
    "    results = json.loads(j.read())"
   ]
  },
  {
   "cell_type": "code",
   "execution_count": 68,
   "metadata": {},
   "outputs": [
    {
     "name": "stdout",
     "output_type": "stream",
     "text": [
      "{'claim_1': {'precision': np.float64(0.7316822528839111), 'recall': np.float64(0.7246290564537048), 'f1': np.float64(0.7280950546264648), 'precision_avg': np.float64(0.7316822528839111)}, 'claim_2': {'precision': np.float64(0.7658299207687378), 'recall': np.float64(0.7471313357353211), 'f1': np.float64(0.7562829732894898)}, 'claim_3': {'precision': np.float64(0.723418402671814), 'recall': np.float64(0.738398814201355), 'f1': np.float64(0.7306166291236877)}, 'claim_4': {'precision': np.float64(0.7408034801483154), 'recall': np.float64(0.7089059948921204), 'f1': np.float64(0.7243470788002014)}, 'claim_5': {'precision': np.float64(0.7382403254508972), 'recall': np.float64(0.7334891796112061), 'f1': np.float64(0.7357544660568237)}}\n"
     ]
    }
   ],
   "source": [
    "# import numpy as np\n",
    "# for claim, scores in test_example_claims.items():\n",
    "#     for metric, values in scores.items():\n",
    "#         scores[f\"{metric}\"] = np.average(values)\n",
    "\n",
    "# print (test_example_claims)"
   ]
  },
  {
   "cell_type": "code",
   "execution_count": 6,
   "metadata": {},
   "outputs": [
    {
     "data": {
      "text/html": [
       "<div>\n",
       "<style scoped>\n",
       "    .dataframe tbody tr th:only-of-type {\n",
       "        vertical-align: middle;\n",
       "    }\n",
       "\n",
       "    .dataframe tbody tr th {\n",
       "        vertical-align: top;\n",
       "    }\n",
       "\n",
       "    .dataframe thead th {\n",
       "        text-align: right;\n",
       "    }\n",
       "</style>\n",
       "<table border=\"1\" class=\"dataframe\">\n",
       "  <thead>\n",
       "    <tr style=\"text-align: right;\">\n",
       "      <th></th>\n",
       "      <th>Claim</th>\n",
       "      <th>Metric</th>\n",
       "      <th>Value</th>\n",
       "      <th>P-R Pair</th>\n",
       "      <th>Highlight</th>\n",
       "    </tr>\n",
       "  </thead>\n",
       "  <tbody>\n",
       "    <tr>\n",
       "      <th>0</th>\n",
       "      <td>claim_1</td>\n",
       "      <td>Precision</td>\n",
       "      <td>0.791067</td>\n",
       "      <td>core_claims_llama, core_claims_gemini_naive</td>\n",
       "      <td>True</td>\n",
       "    </tr>\n",
       "    <tr>\n",
       "      <th>1</th>\n",
       "      <td>claim_1</td>\n",
       "      <td>Recall</td>\n",
       "      <td>0.787880</td>\n",
       "      <td>core_claims_llama, core_claims_gemini_naive</td>\n",
       "      <td>True</td>\n",
       "    </tr>\n",
       "    <tr>\n",
       "      <th>2</th>\n",
       "      <td>claim_1</td>\n",
       "      <td>F1</td>\n",
       "      <td>0.789348</td>\n",
       "      <td>core_claims_llama, core_claims_gemini_naive</td>\n",
       "      <td>True</td>\n",
       "    </tr>\n",
       "    <tr>\n",
       "      <th>3</th>\n",
       "      <td>claim_2</td>\n",
       "      <td>Precision</td>\n",
       "      <td>0.780099</td>\n",
       "      <td>core_claims_llama, core_claims_gemini_naive</td>\n",
       "      <td>True</td>\n",
       "    </tr>\n",
       "    <tr>\n",
       "      <th>4</th>\n",
       "      <td>claim_2</td>\n",
       "      <td>Recall</td>\n",
       "      <td>0.802476</td>\n",
       "      <td>core_claims_llama, core_claims_gemini_naive</td>\n",
       "      <td>True</td>\n",
       "    </tr>\n",
       "    <tr>\n",
       "      <th>...</th>\n",
       "      <td>...</td>\n",
       "      <td>...</td>\n",
       "      <td>...</td>\n",
       "      <td>...</td>\n",
       "      <td>...</td>\n",
       "    </tr>\n",
       "    <tr>\n",
       "      <th>1420</th>\n",
       "      <td>claim_4</td>\n",
       "      <td>Recall</td>\n",
       "      <td>0.695392</td>\n",
       "      <td>core_claims_reader_3, core_claims_reader_4</td>\n",
       "      <td>False</td>\n",
       "    </tr>\n",
       "    <tr>\n",
       "      <th>1421</th>\n",
       "      <td>claim_4</td>\n",
       "      <td>F1</td>\n",
       "      <td>0.698061</td>\n",
       "      <td>core_claims_reader_3, core_claims_reader_4</td>\n",
       "      <td>False</td>\n",
       "    </tr>\n",
       "    <tr>\n",
       "      <th>1422</th>\n",
       "      <td>claim_5</td>\n",
       "      <td>Precision</td>\n",
       "      <td>0.670614</td>\n",
       "      <td>core_claims_reader_3, core_claims_reader_4</td>\n",
       "      <td>False</td>\n",
       "    </tr>\n",
       "    <tr>\n",
       "      <th>1423</th>\n",
       "      <td>claim_5</td>\n",
       "      <td>Recall</td>\n",
       "      <td>0.736838</td>\n",
       "      <td>core_claims_reader_3, core_claims_reader_4</td>\n",
       "      <td>False</td>\n",
       "    </tr>\n",
       "    <tr>\n",
       "      <th>1424</th>\n",
       "      <td>claim_5</td>\n",
       "      <td>F1</td>\n",
       "      <td>0.702110</td>\n",
       "      <td>core_claims_reader_3, core_claims_reader_4</td>\n",
       "      <td>False</td>\n",
       "    </tr>\n",
       "  </tbody>\n",
       "</table>\n",
       "<p>1425 rows × 5 columns</p>\n",
       "</div>"
      ],
      "text/plain": [
       "        Claim     Metric     Value  \\\n",
       "0     claim_1  Precision  0.791067   \n",
       "1     claim_1     Recall  0.787880   \n",
       "2     claim_1         F1  0.789348   \n",
       "3     claim_2  Precision  0.780099   \n",
       "4     claim_2     Recall  0.802476   \n",
       "...       ...        ...       ...   \n",
       "1420  claim_4     Recall  0.695392   \n",
       "1421  claim_4         F1  0.698061   \n",
       "1422  claim_5  Precision  0.670614   \n",
       "1423  claim_5     Recall  0.736838   \n",
       "1424  claim_5         F1  0.702110   \n",
       "\n",
       "                                         P-R Pair  Highlight  \n",
       "0     core_claims_llama, core_claims_gemini_naive       True  \n",
       "1     core_claims_llama, core_claims_gemini_naive       True  \n",
       "2     core_claims_llama, core_claims_gemini_naive       True  \n",
       "3     core_claims_llama, core_claims_gemini_naive       True  \n",
       "4     core_claims_llama, core_claims_gemini_naive       True  \n",
       "...                                           ...        ...  \n",
       "1420   core_claims_reader_3, core_claims_reader_4      False  \n",
       "1421   core_claims_reader_3, core_claims_reader_4      False  \n",
       "1422   core_claims_reader_3, core_claims_reader_4      False  \n",
       "1423   core_claims_reader_3, core_claims_reader_4      False  \n",
       "1424   core_claims_reader_3, core_claims_reader_4      False  \n",
       "\n",
       "[1425 rows x 5 columns]"
      ]
     },
     "execution_count": 6,
     "metadata": {},
     "output_type": "execute_result"
    }
   ],
   "source": [
    "import seaborn as sns\n",
    "import matplotlib.pyplot as plt\n",
    "import pandas as pd\n",
    "\n",
    "data = results\n",
    "\n",
    "#transform the data into a new dict containing averages and excluding duplicate p-r pairs\n",
    "pr_pairs = {}\n",
    "for article in data['articles']:\n",
    "    for claim_pair in article['results']['core_claim_pairs']:\n",
    "        pr_pair = frozenset({claim_pair['p'], claim_pair['r']})\n",
    "        if pr_pair not in pr_pairs:\n",
    "            pr_pairs[pr_pair] = {'claims': []}\n",
    "        for claim, metrics in claim_pair['scores'].items():\n",
    "            avg_precision = sum(metrics['precision']) / len(metrics['precision'])\n",
    "            avg_recall = sum(metrics['recall']) / len(metrics['recall'])\n",
    "            avg_f1 = sum(metrics['f1']) / len(metrics['f1'])\n",
    "            pr_pairs[pr_pair]['claims'].append({\n",
    "                'Claim': claim,\n",
    "                'Precision': avg_precision,\n",
    "                'Recall': avg_recall,\n",
    "                'F1': avg_f1\n",
    "            })\n",
    "\n",
    "rows = []\n",
    "for pr_pair, details in pr_pairs.items():\n",
    "    for claim_details in details['claims']:\n",
    "        pr_str = ', '.join(pr_pair)\n",
    "        rows.append({\n",
    "            'Claim': claim_details['Claim'],\n",
    "            'Metric': 'Precision',\n",
    "            'Value': claim_details['Precision'], #add each metric into their own row\n",
    "            'P-R Pair': pr_str,\n",
    "            'Highlight': '_llama' in pr_str or '_gemini' in pr_str #add a boolean distinction between pairs containing a LLM and ones that don't\n",
    "        })\n",
    "        rows.append({\n",
    "            'Claim': claim_details['Claim'],\n",
    "            'Metric': 'Recall',\n",
    "            'Value': claim_details['Recall'],\n",
    "            'P-R Pair': pr_str,\n",
    "            'Highlight': '_llama' in pr_str or '_gemini' in pr_str\n",
    "        })\n",
    "        rows.append({\n",
    "            'Claim': claim_details['Claim'],\n",
    "            'Metric': 'F1',\n",
    "            'Value': claim_details['F1'],\n",
    "            'P-R Pair': pr_str,\n",
    "            'Highlight': '_llama' in pr_str or '_gemini' in pr_str\n",
    "        })\n",
    "\n",
    "df = pd.DataFrame(rows)\n",
    "df\n",
    "\n"
   ]
  },
  {
   "cell_type": "code",
   "execution_count": 19,
   "metadata": {},
   "outputs": [
    {
     "data": {
      "image/png": "[encoded data removed]",
      "text/plain": [
       "<Figure size 1200x800 with 1 Axes>"
      ]
     },
     "metadata": {},
     "output_type": "display_data"
    }
   ],
   "source": [
    "#assigning two custom palette to highlight specific pairs\n",
    "palette = {}\n",
    "base_palette = sns.color_palette(\"Reds\", df['P-R Pair'].nunique())\n",
    "highlight_palette = sns.color_palette(\"Blues\", df['P-R Pair'].nunique())\n",
    "\n",
    "for pr in df['P-R Pair'].unique():\n",
    "    if any(x in pr for x in ['_llama', '_gemini']):\n",
    "        palette[pr] = highlight_palette.pop(0)\n",
    "    else:\n",
    "        palette[pr] = base_palette.pop(0)\n",
    "\n",
    "#plot with distinct colors for highlighted pairs\n",
    "plt.figure(figsize=(12, 8))\n",
    "ax = sns.barplot(x='Metric', y='Value', hue='P-R Pair', data=df.sort_values(by=['P-R Pair']), palette=palette)\n",
    "plt.title('Average BERTScore Similarty for Reader/LLM Pairings')\n",
    "plt.ylabel('Score')\n",
    "plt.ylim(0, 1)\n",
    "plt.legend(title='Reader/LLM Pair')\n",
    "sns.move_legend(ax, \"center\", bbox_to_anchor=(0.5, -0.3), ncol=2)\n",
    "plt.show()\n"
   ]
  },
  {
   "cell_type": "code",
   "execution_count": 8,
   "metadata": {},
   "outputs": [
    {
     "data": {
      "text/plain": [
       "P-R Pair                                        Metric   \n",
       "core_claims_reader_3, core_claims_reader_4      Recall       0.737370\n",
       "                                                Precision    0.737370\n",
       "                                                F1           0.737029\n",
       "core_claims_reader_3, core_claims_reader_2      Recall       0.735990\n",
       "                                                Precision    0.737195\n",
       "                                                F1           0.735992\n",
       "core_claims_reader_3, core_claims_llama         Recall       0.745369\n",
       "                                                Precision    0.745369\n",
       "                                                F1           0.745133\n",
       "core_claims_reader_2, core_claims_reader_4      Recall       0.726890\n",
       "                                                Precision    0.727982\n",
       "                                                F1           0.726496\n",
       "core_claims_reader_1, core_claims_reader_4      Recall       0.731155\n",
       "                                                Precision    0.731155\n",
       "                                                F1           0.730279\n",
       "core_claims_reader_1, core_claims_reader_3      Recall       0.730137\n",
       "                                                Precision    0.730137\n",
       "                                                F1           0.729631\n",
       "core_claims_reader_1, core_claims_reader_2      Recall       0.734462\n",
       "                                                Precision    0.735101\n",
       "                                                F1           0.733946\n",
       "core_claims_reader_1, core_claims_llama         Recall       0.727175\n",
       "                                                Precision    0.727175\n",
       "                                                F1           0.726600\n",
       "core_claims_llama, core_claims_reader_4         Recall       0.736077\n",
       "                                                Precision    0.736077\n",
       "                                                F1           0.735537\n",
       "core_claims_llama, core_claims_reader_2         Recall       0.732099\n",
       "                                                Precision    0.733617\n",
       "                                                F1           0.732162\n",
       "core_claims_gemini_naive, core_claims_reader_4  Recall       0.732232\n",
       "                                                Precision    0.733080\n",
       "                                                F1           0.732267\n",
       "core_claims_gemini_naive, core_claims_reader_3  Recall       0.751030\n",
       "                                                Precision    0.751833\n",
       "                                                F1           0.751228\n",
       "core_claims_gemini_naive, core_claims_reader_2  Recall       0.739641\n",
       "                                                Precision    0.746624\n",
       "                                                F1           0.742443\n",
       "core_claims_gemini_naive, core_claims_reader_1  Recall       0.725120\n",
       "                                                Precision    0.727500\n",
       "                                                F1           0.725741\n",
       "core_claims_gemini_naive, core_claims_llama     Recall       0.757961\n",
       "                                                Precision    0.758686\n",
       "                                                F1           0.758054\n",
       "Name: Value, dtype: float64"
      ]
     },
     "execution_count": 8,
     "metadata": {},
     "output_type": "execute_result"
    }
   ],
   "source": [
    "metric_averages = df.groupby(['P-R Pair', 'Metric'])['Value'].mean().sort_index()\n",
    "metric_averages.sort_index(axis='index', ascending=False)"
   ]
  },
  {
   "cell_type": "code",
   "execution_count": 60,
   "metadata": {},
   "outputs": [
    {
     "name": "stdout",
     "output_type": "stream",
     "text": [
      "Outliers based on Z-Score:\n",
      "       Metric                                     P-R Pair     Value   Z-Score\n",
      "0          F1  core_claims_gemini_naive, core_claims_llama  0.758054  2.412668\n",
      "15  Precision  core_claims_gemini_naive, core_claims_llama  0.758686  2.363419\n",
      "30     Recall  core_claims_gemini_naive, core_claims_llama  0.757961  2.456184\n"
     ]
    }
   ],
   "source": [
    "from scipy import stats\n",
    "import numpy as np\n",
    "\n",
    "# Calculate metric averages\n",
    "metric_averages = df.groupby(['Metric', 'P-R Pair'])['Value'].mean().reset_index()\n",
    "\n",
    "# Apply z-score transformation\n",
    "metric_averages['Z-Score'] = metric_averages.groupby(['Metric'])['Value'].transform(lambda x: stats.zscore(x))\n",
    "\n",
    "# Identify outliers\n",
    "outliers = metric_averages[np.abs(metric_averages['Z-Score']) > 2]\n",
    "\n",
    "print(\"Outliers based on Z-Score:\")\n",
    "print(outliers)\n"
   ]
  },
  {
   "cell_type": "markdown",
   "metadata": {},
   "source": [
    "Further Descriptive Statistics"
   ]
  },
  {
   "cell_type": "code",
   "execution_count": 15,
   "metadata": {},
   "outputs": [
    {
     "name": "stdout",
     "output_type": "stream",
     "text": [
      "Metric\n",
      "F1           0.736555\n",
      "Precision    0.737669\n",
      "Recall       0.736522\n",
      "Name: Value, dtype: float64\n"
     ]
    }
   ],
   "source": [
    "total_averages = df.groupby('Metric')['Value'].mean()\n",
    "print(total_averages)"
   ]
  },
  {
   "cell_type": "code",
   "execution_count": 148,
   "metadata": {},
   "outputs": [
    {
     "data": {
      "text/plain": [
       "P-R Pair                                        Metric   \n",
       "core_claims_gemini_naive, core_claims_reader_1  F1           0.681997\n",
       "                                                Precision    0.645224\n",
       "                                                Recall       0.668887\n",
       "core_claims_gemini_naive, core_claims_reader_3  F1           0.711808\n",
       "                                                Precision    0.701665\n",
       "                                                Recall       0.711512\n",
       "core_claims_llama, core_claims_gemini_naive     F1           0.708579\n",
       "                                                Precision    0.697367\n",
       "                                                Recall       0.695309\n",
       "core_claims_llama, core_claims_reader_1         F1           0.666878\n",
       "                                                Precision    0.635502\n",
       "                                                Recall       0.675033\n",
       "core_claims_llama, core_claims_reader_2         F1           0.676012\n",
       "                                                Precision    0.667782\n",
       "                                                Recall       0.669880\n",
       "core_claims_llama, core_claims_reader_3         F1           0.700816\n",
       "                                                Precision    0.698783\n",
       "                                                Recall       0.692457\n",
       "core_claims_reader_2, core_claims_gemini_naive  F1           0.674506\n",
       "                                                Precision    0.665568\n",
       "                                                Recall       0.674313\n",
       "core_claims_reader_2, core_claims_reader_1      F1           0.685474\n",
       "                                                Precision    0.682696\n",
       "                                                Recall       0.660279\n",
       "core_claims_reader_2, core_claims_reader_3      F1           0.686936\n",
       "                                                Precision    0.673355\n",
       "                                                Recall       0.670197\n",
       "core_claims_reader_3, core_claims_reader_1      F1           0.673403\n",
       "                                                Precision    0.645015\n",
       "                                                Recall       0.665205\n",
       "core_claims_reader_4, core_claims_gemini_naive  F1           0.684833\n",
       "                                                Precision    0.666350\n",
       "                                                Recall       0.676204\n",
       "core_claims_reader_4, core_claims_llama         F1           0.693284\n",
       "                                                Precision    0.661916\n",
       "                                                Recall       0.680036\n",
       "core_claims_reader_4, core_claims_reader_1      F1           0.677315\n",
       "                                                Precision    0.680397\n",
       "                                                Recall       0.672396\n",
       "core_claims_reader_4, core_claims_reader_2      F1           0.662515\n",
       "                                                Precision    0.677071\n",
       "                                                Recall       0.645202\n",
       "core_claims_reader_4, core_claims_reader_3      F1           0.698061\n",
       "                                                Precision    0.670614\n",
       "                                                Recall       0.691694\n",
       "Name: Value, dtype: float64"
      ]
     },
     "execution_count": 148,
     "metadata": {},
     "output_type": "execute_result"
    }
   ],
   "source": [
    "minimum_values = df.groupby(['P-R Pair', 'Metric'])['Value'].min()\n",
    "minimum_values"
   ]
  },
  {
   "cell_type": "code",
   "execution_count": 149,
   "metadata": {},
   "outputs": [
    {
     "data": {
      "text/plain": [
       "P-R Pair                                        Metric   \n",
       "core_claims_gemini_naive, core_claims_reader_1  F1           0.766719\n",
       "                                                Precision    0.781620\n",
       "                                                Recall       0.781428\n",
       "core_claims_gemini_naive, core_claims_reader_3  F1           0.791694\n",
       "                                                Precision    0.795607\n",
       "                                                Recall       0.810998\n",
       "core_claims_llama, core_claims_gemini_naive     F1           0.791072\n",
       "                                                Precision    0.793625\n",
       "                                                Recall       0.804437\n",
       "core_claims_llama, core_claims_reader_1         F1           0.771700\n",
       "                                                Precision    0.790004\n",
       "                                                Recall       0.781068\n",
       "core_claims_llama, core_claims_reader_2         F1           0.791804\n",
       "                                                Precision    0.793354\n",
       "                                                Recall       0.803203\n",
       "core_claims_llama, core_claims_reader_3         F1           0.802850\n",
       "                                                Precision    0.791910\n",
       "                                                Recall       0.819124\n",
       "core_claims_reader_2, core_claims_gemini_naive  F1           0.793916\n",
       "                                                Precision    0.799578\n",
       "                                                Recall       0.807523\n",
       "core_claims_reader_2, core_claims_reader_1      F1           0.791994\n",
       "                                                Precision    0.801660\n",
       "                                                Recall       0.836201\n",
       "core_claims_reader_2, core_claims_reader_3      F1           0.778493\n",
       "                                                Precision    0.803156\n",
       "                                                Recall       0.777991\n",
       "core_claims_reader_3, core_claims_reader_1      F1           0.779259\n",
       "                                                Precision    0.782440\n",
       "                                                Recall       0.792356\n",
       "core_claims_reader_4, core_claims_gemini_naive  F1           0.778438\n",
       "                                                Precision    0.774624\n",
       "                                                Recall       0.799842\n",
       "core_claims_reader_4, core_claims_llama         F1           0.796962\n",
       "                                                Precision    0.792352\n",
       "                                                Recall       0.827018\n",
       "core_claims_reader_4, core_claims_reader_1      F1           0.786775\n",
       "                                                Precision    0.804226\n",
       "                                                Recall       0.822247\n",
       "core_claims_reader_4, core_claims_reader_2      F1           0.764637\n",
       "                                                Precision    0.789908\n",
       "                                                Recall       0.789999\n",
       "core_claims_reader_4, core_claims_reader_3      F1           0.778976\n",
       "                                                Precision    0.777847\n",
       "                                                Recall       0.796098\n",
       "Name: Value, dtype: float64"
      ]
     },
     "execution_count": 149,
     "metadata": {},
     "output_type": "execute_result"
    }
   ],
   "source": [
    "maximum_values = df.groupby(['P-R Pair', 'Metric'])['Value'].max()\n",
    "maximum_values"
   ]
  },
  {
   "cell_type": "code",
   "execution_count": 18,
   "metadata": {},
   "outputs": [
    {
     "data": {
      "text/plain": [
       "P-R Pair                                        Metric   \n",
       "core_claims_gemini_naive, core_claims_llama     F1           0.023286\n",
       "                                                Precision    0.022568\n",
       "                                                Recall       0.027668\n",
       "core_claims_gemini_naive, core_claims_reader_4  F1           0.025139\n",
       "                                                Precision    0.025356\n",
       "                                                Recall       0.029591\n",
       "core_claims_llama, core_claims_reader_4         F1           0.026332\n",
       "                                                Precision    0.029089\n",
       "                                                Recall       0.031158\n",
       "core_claims_reader_1, core_claims_gemini_naive  F1           0.021408\n",
       "                                                Precision    0.026566\n",
       "                                                Recall       0.024940\n",
       "core_claims_reader_1, core_claims_llama         F1           0.028661\n",
       "                                                Precision    0.033286\n",
       "                                                Recall       0.031081\n",
       "core_claims_reader_1, core_claims_reader_2      F1           0.026909\n",
       "                                                Precision    0.028037\n",
       "                                                Recall       0.036937\n",
       "core_claims_reader_1, core_claims_reader_3      F1           0.022600\n",
       "                                                Precision    0.024700\n",
       "                                                Recall       0.028164\n",
       "core_claims_reader_1, core_claims_reader_4      F1           0.025759\n",
       "                                                Precision    0.028488\n",
       "                                                Recall       0.034292\n",
       "core_claims_reader_2, core_claims_gemini_naive  F1           0.029661\n",
       "                                                Precision    0.036540\n",
       "                                                Recall       0.033304\n",
       "core_claims_reader_2, core_claims_llama         F1           0.025698\n",
       "                                                Precision    0.031810\n",
       "                                                Recall       0.031603\n",
       "core_claims_reader_2, core_claims_reader_4      F1           0.024574\n",
       "                                                Precision    0.032326\n",
       "                                                Recall       0.032946\n",
       "core_claims_reader_3, core_claims_gemini_naive  F1           0.020972\n",
       "                                                Precision    0.022394\n",
       "                                                Recall       0.023590\n",
       "core_claims_reader_3, core_claims_llama         F1           0.023737\n",
       "                                                Precision    0.022312\n",
       "                                                Recall       0.028793\n",
       "core_claims_reader_3, core_claims_reader_2      F1           0.021884\n",
       "                                                Precision    0.029804\n",
       "                                                Recall       0.025979\n",
       "core_claims_reader_3, core_claims_reader_4      F1           0.020852\n",
       "                                                Precision    0.022789\n",
       "                                                Recall       0.024223\n",
       "Name: Value, dtype: float64"
      ]
     },
     "execution_count": 18,
     "metadata": {},
     "output_type": "execute_result"
    }
   ],
   "source": [
    "std = df.groupby(['P-R Pair', 'Metric'])['Value'].std()\n",
    "std"
   ]
  }
 ],
 "metadata": {
  "kernelspec": {
   "display_name": "venv",
   "language": "python",
   "name": "python3"
  },
  "language_info": {
   "codemirror_mode": {
    "name": "ipython",
    "version": 3
   },
   "file_extension": ".py",
   "mimetype": "text/x-python",
   "name": "python",
   "nbconvert_exporter": "python",
   "pygments_lexer": "ipython3",
   "version": "3.9.5"
  }
 },
 "nbformat": 4,
 "nbformat_minor": 2
}
