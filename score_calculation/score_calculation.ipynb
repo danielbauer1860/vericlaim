{
 "cells": [
  {
   "cell_type": "code",
   "execution_count": 242,
   "metadata": {},
   "outputs": [],
   "source": [
    "import pandas as pd\n",
    "import os\n",
    "import numpy as np\n",
    "from dotenv import load_dotenv\n",
    "import ast\n",
    "load_dotenv()\n",
    "\n",
    "data_folder = os.getenv(\"DATA_FOLDER\")\n",
    "\n",
    "iteration = 0\n",
    "test_df = pd.read_csv(f'{data_folder}/test_label_data.csv', sep=\";\",index_col=0)\n",
    "df = pd.read_csv(f'{data_folder}/label_data_{iteration*100}_{iteration*100+100}.csv', sep=\";\",index_col=0)\n",
    "json_path = f'{data_folder}/label_data_{iteration*100}_{iteration*100+100}.json'\n"
   ]
  },
  {
   "cell_type": "code",
   "execution_count": 243,
   "metadata": {},
   "outputs": [],
   "source": [
    "\n",
    "from sklearn.preprocessing import MinMaxScaler\n",
    "from sklearn.metrics import mean_squared_error, mean_absolute_error, r2_score, accuracy_score, f1_score, recall_score, precision_score, ndcg_score\n",
    "from scipy.optimize import minimize\n",
    "from scipy.special import expit\n"
   ]
  },
  {
   "cell_type": "code",
   "execution_count": 244,
   "metadata": {},
   "outputs": [
    {
     "data": {
      "text/plain": [
       "0    [{'comparisons': [{'claim_article_a': 'Arizona...\n",
       "Name: Labels, dtype: object"
      ]
     },
     "execution_count": 244,
     "metadata": {},
     "output_type": "execute_result"
    }
   ],
   "source": [
    "test_df['Labels']"
   ]
  },
  {
   "cell_type": "code",
   "execution_count": 245,
   "metadata": {},
   "outputs": [],
   "source": [
    "faulty_labels = 0\n",
    "def safe_literal_eval(x):\n",
    "    global faulty_labels\n",
    "    try:\n",
    "        return ast.literal_eval(x)\n",
    "    except:\n",
    "        faulty_labels += 1\n"
   ]
  },
  {
   "cell_type": "code",
   "execution_count": 246,
   "metadata": {},
   "outputs": [
    {
     "name": "stdout",
     "output_type": "stream",
     "text": [
      "0\n"
     ]
    }
   ],
   "source": [
    "df['Labels'] = df['Labels'].apply(safe_literal_eval)\n",
    "print(faulty_labels)"
   ]
  },
  {
   "cell_type": "code",
   "execution_count": 247,
   "metadata": {},
   "outputs": [
    {
     "data": {
      "text/plain": [
       "0     [{'comparisons': [{'claim_article_a': \"Arizona...\n",
       "1     [{}, {}, {}, {}, {}, {}, {}, {}, {}, {'compari...\n",
       "2     [{'comparisons': [{'claim_article_a': \"Arizona...\n",
       "3     [{}, {}, {'comparisons': [{'claim_article_a': ...\n",
       "4     [{}, {}, {'comparisons': [{'claim_article_a': ...\n",
       "                            ...                        \n",
       "95    [{'comparisons': [{'claim_article_a': 'Dr. Rob...\n",
       "96                 [{}, {}, {}, {}, {}, {}, {}, {}, {}]\n",
       "97             [{}, {}, {}, {}, {}, {}, {}, {}, {}, {}]\n",
       "98                 [{}, {}, {}, {}, {}, {}, {}, {}, {}]\n",
       "99             [{}, {}, {}, {}, {}, {}, {}, {}, {}, {}]\n",
       "Name: Labels, Length: 100, dtype: object"
      ]
     },
     "execution_count": 247,
     "metadata": {},
     "output_type": "execute_result"
    }
   ],
   "source": [
    "df['Labels']"
   ]
  },
  {
   "cell_type": "code",
   "execution_count": 248,
   "metadata": {},
   "outputs": [],
   "source": [
    "def get_num_articles(label_lists):\n",
    "    return sum(bool(d) for d in label_lists)\n",
    "\n",
    "df['num_valid_articles'] = df['Labels'].apply(get_num_articles)"
   ]
  },
  {
   "cell_type": "code",
   "execution_count": 249,
   "metadata": {},
   "outputs": [
    {
     "data": {
      "text/plain": [
       "count    100.000000\n",
       "mean       2.470000\n",
       "std        1.982015\n",
       "min        0.000000\n",
       "25%        1.000000\n",
       "50%        2.000000\n",
       "75%        4.000000\n",
       "max        9.000000\n",
       "Name: num_valid_articles, dtype: float64"
      ]
     },
     "execution_count": 249,
     "metadata": {},
     "output_type": "execute_result"
    }
   ],
   "source": [
    "df['num_valid_articles'].describe()"
   ]
  },
  {
   "cell_type": "markdown",
   "metadata": {},
   "source": [
    "If a Newsguard Score could not be retrieved for an article, it will be filled by the placeholder score, in this case the median of the average newsguard scores as given by Aslett et al."
   ]
  },
  {
   "cell_type": "code",
   "execution_count": 250,
   "metadata": {},
   "outputs": [
    {
     "data": {
      "text/plain": [
       "np.float64(89.6875)"
      ]
     },
     "execution_count": 250,
     "metadata": {},
     "output_type": "execute_result"
    }
   ],
   "source": [
    "placeholder_ng_score = df['avg_score'].median()\n",
    "placeholder_ng_score"
   ]
  },
  {
   "cell_type": "code",
   "execution_count": 251,
   "metadata": {},
   "outputs": [],
   "source": [
    "import math\n",
    "\n",
    "def sigmoid(x):\n",
    "  return 1 / (1 + math.exp(-x))"
   ]
  },
  {
   "cell_type": "code",
   "execution_count": null,
   "metadata": {},
   "outputs": [],
   "source": [
    "def weighted_metric(weights, label_dict_list, positions=False):\n",
    "    #create three distinct lists to control each parameter\n",
    "    if not label_dict_list:\n",
    "        return None\n",
    "    article_stances = []\n",
    "    article_ng_scores = []\n",
    "    article_serp_positions = []\n",
    "    \n",
    "    for article in label_dict_list: #this is the search level; here we can retrieve SERP position and Newsguard score\n",
    "        if not article: #catch empty entries\n",
    "            continue\n",
    "        if len(article['comparisons']) == 0:\n",
    "               continue\n",
    "        #retrieve variables\n",
    "        serp_newsguard = article['serp_newsguard']\n",
    "        serp_position = article['serp_position']\n",
    "\n",
    "        #add to lists for decomposed calculation\n",
    "        article_ng_scores.append(serp_newsguard)\n",
    "        article_serp_positions.append(serp_position)\n",
    "\n",
    "        article_stance = 0\n",
    "        for claim_pair in article['comparisons']: #this is the \"article level\"; here we can retrieve relative claim position and the bool headline info\n",
    "            relation = claim_pair['relation']\n",
    "            if relation == 0:\n",
    "                continue\n",
    "\n",
    "            try:\n",
    "                #retrieve relative claim positions\n",
    "                fm_claim_position = claim_pair['fm_claim_position']\n",
    "                serp_claim_position = claim_pair['serp_claim_position']\n",
    "\n",
    "                #retrieve headline bool\n",
    "                fm_claim_headline = claim_pair['fm_claim_headline']\n",
    "                serp_claim_headline = claim_pair['serp_claim_headline']\n",
    "            except:\n",
    "                if positions:\n",
    "                    return None\n",
    "\n",
    "            article_stance += relation\n",
    "\n",
    "        article_stances.append(article_stance/len(article['comparisons']))\n",
    "        article_stance = 0\n",
    "\n",
    "    if not article_stances:\n",
    "        return None\n",
    "\n",
    "    article_stances = np.array(article_stances)\n",
    "    article_ng_scores = np.array(article_ng_scores, dtype=float)\n",
    "    article_ng_scores = np.nan_to_num(article_ng_scores, nan=placeholder_ng_score) #replace NaN with the placeholder\n",
    "    article_ng_scores = article_ng_scores / 100 #normalize newsguard scores between 0 and 1\n",
    "    article_serp_positions = np.array(article_serp_positions)\n",
    "    article_serp_positions = 1/article_serp_positions #1/x\n",
    "\n",
    "\n",
    "    # print(article_stances)\n",
    "    # print(article_ng_scores)\n",
    "    # print(article_serp_positions)\n",
    "    metrics =  np.vstack((article_stances, article_ng_scores, article_serp_positions))\n",
    "    weighted_preds = np.dot(weights, metrics)\n",
    "    return sigmoid(np.median(weighted_preds))\n"
   ]
  },
  {
   "cell_type": "code",
   "execution_count": 267,
   "metadata": {},
   "outputs": [],
   "source": [
    "label_mapping = {\n",
    "    'Coul' : np.nan,\n",
    "    'Misl' : 0,\n",
    "    'True' : 1\n",
    "}\n",
    "\n",
    "df['User_Labels'] = df['Category'].map(label_mapping)"
   ]
  },
  {
   "cell_type": "code",
   "execution_count": 268,
   "metadata": {},
   "outputs": [
    {
     "data": {
      "text/html": [
       "<div>\n",
       "<style scoped>\n",
       "    .dataframe tbody tr th:only-of-type {\n",
       "        vertical-align: middle;\n",
       "    }\n",
       "\n",
       "    .dataframe tbody tr th {\n",
       "        vertical-align: top;\n",
       "    }\n",
       "\n",
       "    .dataframe thead th {\n",
       "        text-align: right;\n",
       "    }\n",
       "</style>\n",
       "<table border=\"1\" class=\"dataframe\">\n",
       "  <thead>\n",
       "    <tr style=\"text-align: right;\">\n",
       "      <th></th>\n",
       "      <th>Article_day</th>\n",
       "      <th>ResponseId</th>\n",
       "      <th>Day</th>\n",
       "      <th>Category</th>\n",
       "      <th>True_Dummy</th>\n",
       "      <th>Seven_Ordinal</th>\n",
       "      <th>Four_Ordinal</th>\n",
       "      <th>Age</th>\n",
       "      <th>Gender</th>\n",
       "      <th>FC_Eval</th>\n",
       "      <th>...</th>\n",
       "      <th>Unrel_contain_65</th>\n",
       "      <th>Unrel_contain_70</th>\n",
       "      <th>avg_score</th>\n",
       "      <th>list_domains</th>\n",
       "      <th>list_scores</th>\n",
       "      <th>all_clean_urls</th>\n",
       "      <th>newsguard_dict</th>\n",
       "      <th>Labels</th>\n",
       "      <th>num_valid_articles</th>\n",
       "      <th>User_Labels</th>\n",
       "    </tr>\n",
       "  </thead>\n",
       "  <tbody>\n",
       "    <tr>\n",
       "      <th>1</th>\n",
       "      <td>Day_1_1</td>\n",
       "      <td>R_1Gv8iAs1HEqGuUe</td>\n",
       "      <td>Day_1</td>\n",
       "      <td>Misl</td>\n",
       "      <td>0</td>\n",
       "      <td>1</td>\n",
       "      <td>1</td>\n",
       "      <td>35</td>\n",
       "      <td>1</td>\n",
       "      <td>FM</td>\n",
       "      <td>...</td>\n",
       "      <td>0.0</td>\n",
       "      <td>0.0</td>\n",
       "      <td>95.277778</td>\n",
       "      <td>abc15.com', 'salon.com', 'cnn.com', 'politico....</td>\n",
       "      <td>100,87.5,87.5,100,95,95,100,100,92.5</td>\n",
       "      <td>('https://www.abc15.com/news/state/poll-many-r...</td>\n",
       "      <td>{'abc15.com': 100, 'salon.com': 87.5, 'cnn.com...</td>\n",
       "      <td>[{}, {}, {}, {}, {}, {}, {}, {}, {}, {'compari...</td>\n",
       "      <td>1</td>\n",
       "      <td>0.0</td>\n",
       "    </tr>\n",
       "    <tr>\n",
       "      <th>2</th>\n",
       "      <td>Day_1_1</td>\n",
       "      <td>R_1Gv8iAs1HEqGuUe</td>\n",
       "      <td>Day_1</td>\n",
       "      <td>Misl</td>\n",
       "      <td>0</td>\n",
       "      <td>1</td>\n",
       "      <td>1</td>\n",
       "      <td>35</td>\n",
       "      <td>1</td>\n",
       "      <td>FM</td>\n",
       "      <td>...</td>\n",
       "      <td>1.0</td>\n",
       "      <td>1.0</td>\n",
       "      <td>83.450000</td>\n",
       "      <td>cnn.com', 'thehill.com', 'salon.com', 'washing...</td>\n",
       "      <td>87.5,80,87.5,42,87.5,100,92.5,87.5,85,85</td>\n",
       "      <td>('https://www.cnn.com/2021/07/18/politics/fact...</td>\n",
       "      <td>{'cnn.com': 87.5, 'thehill.com': 80, 'salon.co...</td>\n",
       "      <td>[{'comparisons': [{'claim_article_a': \"Arizona...</td>\n",
       "      <td>4</td>\n",
       "      <td>0.0</td>\n",
       "    </tr>\n",
       "    <tr>\n",
       "      <th>3</th>\n",
       "      <td>Day_1_1</td>\n",
       "      <td>R_3KT6q7Vntwvmg8Z</td>\n",
       "      <td>Day_1</td>\n",
       "      <td>True</td>\n",
       "      <td>1</td>\n",
       "      <td>7</td>\n",
       "      <td>3</td>\n",
       "      <td>33</td>\n",
       "      <td>1</td>\n",
       "      <td>FM</td>\n",
       "      <td>...</td>\n",
       "      <td>0.0</td>\n",
       "      <td>0.0</td>\n",
       "      <td>92.812500</td>\n",
       "      <td>thehill.com', 'recorder.maricopa.gov', 'washin...</td>\n",
       "      <td>80,100,100,100,100,92.5,75,95</td>\n",
       "      <td>('https://thehill.com/homenews/campaign/563100...</td>\n",
       "      <td>{'thehill.com': 80, 'recorder.maricopa.gov': 1...</td>\n",
       "      <td>[{}, {}, {'comparisons': [{'claim_article_a': ...</td>\n",
       "      <td>6</td>\n",
       "      <td>1.0</td>\n",
       "    </tr>\n",
       "    <tr>\n",
       "      <th>4</th>\n",
       "      <td>Day_1_1</td>\n",
       "      <td>R_1Gv8iAs1HEqGuUe</td>\n",
       "      <td>Day_1</td>\n",
       "      <td>Misl</td>\n",
       "      <td>0</td>\n",
       "      <td>1</td>\n",
       "      <td>1</td>\n",
       "      <td>35</td>\n",
       "      <td>1</td>\n",
       "      <td>FM</td>\n",
       "      <td>...</td>\n",
       "      <td>0.0</td>\n",
       "      <td>0.0</td>\n",
       "      <td>96.000000</td>\n",
       "      <td>apnews.com', 'detroitnews.com', 'cnn.com', 'ap...</td>\n",
       "      <td>95,92.5,87.5,95,95,100,100,100,100,95</td>\n",
       "      <td>('https://apnews.com/article/technology-joe-bi...</td>\n",
       "      <td>{'apnews.com': 95, 'detroitnews.com': 92.5, 'c...</td>\n",
       "      <td>[{}, {}, {'comparisons': [{'claim_article_a': ...</td>\n",
       "      <td>6</td>\n",
       "      <td>0.0</td>\n",
       "    </tr>\n",
       "    <tr>\n",
       "      <th>5</th>\n",
       "      <td>Day_1_1</td>\n",
       "      <td>R_yx69bWSwS7KJTDb</td>\n",
       "      <td>Day_1</td>\n",
       "      <td>Misl</td>\n",
       "      <td>0</td>\n",
       "      <td>3</td>\n",
       "      <td>2</td>\n",
       "      <td>25</td>\n",
       "      <td>1</td>\n",
       "      <td>FM</td>\n",
       "      <td>...</td>\n",
       "      <td>0.0</td>\n",
       "      <td>0.0</td>\n",
       "      <td>NaN</td>\n",
       "      <td>twitter.com', 'twitter.com', 'beckernews.com',...</td>\n",
       "      <td>NaN</td>\n",
       "      <td>('https://twitter.com/kylenabecker?ref_src=tws...</td>\n",
       "      <td>{}</td>\n",
       "      <td>[{}, {}, {}, {}, {}, {}, {}, {}, {}, {}]</td>\n",
       "      <td>0</td>\n",
       "      <td>0.0</td>\n",
       "    </tr>\n",
       "    <tr>\n",
       "      <th>...</th>\n",
       "      <td>...</td>\n",
       "      <td>...</td>\n",
       "      <td>...</td>\n",
       "      <td>...</td>\n",
       "      <td>...</td>\n",
       "      <td>...</td>\n",
       "      <td>...</td>\n",
       "      <td>...</td>\n",
       "      <td>...</td>\n",
       "      <td>...</td>\n",
       "      <td>...</td>\n",
       "      <td>...</td>\n",
       "      <td>...</td>\n",
       "      <td>...</td>\n",
       "      <td>...</td>\n",
       "      <td>...</td>\n",
       "      <td>...</td>\n",
       "      <td>...</td>\n",
       "      <td>...</td>\n",
       "      <td>...</td>\n",
       "      <td>...</td>\n",
       "    </tr>\n",
       "    <tr>\n",
       "      <th>94</th>\n",
       "      <td>Day_1_3</td>\n",
       "      <td>R_24d72uJHVnyQYtL</td>\n",
       "      <td>Day_1</td>\n",
       "      <td>True</td>\n",
       "      <td>1</td>\n",
       "      <td>6</td>\n",
       "      <td>4</td>\n",
       "      <td>67</td>\n",
       "      <td>0</td>\n",
       "      <td>FM</td>\n",
       "      <td>...</td>\n",
       "      <td>1.0</td>\n",
       "      <td>1.0</td>\n",
       "      <td>56.000000</td>\n",
       "      <td>techstartups.com', 'twitter.com', 'zerohedge.c...</td>\n",
       "      <td>5,7.5,87.5,87.5,92.5</td>\n",
       "      <td>('https://techstartups.com/2021/07/17/mrna-vac...</td>\n",
       "      <td>{'techstartups.com': 5, 'twitter.com': 7.5, 'z...</td>\n",
       "      <td>[{}, {}, {}, {}, {}, {}, {}, {}, {'comparisons...</td>\n",
       "      <td>1</td>\n",
       "      <td>1.0</td>\n",
       "    </tr>\n",
       "    <tr>\n",
       "      <th>95</th>\n",
       "      <td>Day_1_3</td>\n",
       "      <td>R_6gSAhAKCKeijlQZ</td>\n",
       "      <td>Day_1</td>\n",
       "      <td>True</td>\n",
       "      <td>1</td>\n",
       "      <td>6</td>\n",
       "      <td>4</td>\n",
       "      <td>39</td>\n",
       "      <td>0</td>\n",
       "      <td>FM</td>\n",
       "      <td>...</td>\n",
       "      <td>0.0</td>\n",
       "      <td>0.0</td>\n",
       "      <td>91.500000</td>\n",
       "      <td>newportri.com', 'galvnews.com', 'fortune.com',...</td>\n",
       "      <td>95,92.5,100,87.5,82.5</td>\n",
       "      <td>('https://www.newportri.com/story/opinion/lett...</td>\n",
       "      <td>{}</td>\n",
       "      <td>[{'comparisons': [{'claim_article_a': 'Dr. Rob...</td>\n",
       "      <td>2</td>\n",
       "      <td>1.0</td>\n",
       "    </tr>\n",
       "    <tr>\n",
       "      <th>96</th>\n",
       "      <td>Day_1_3</td>\n",
       "      <td>R_1Cr6QLqQcjGmEWV</td>\n",
       "      <td>Day_1</td>\n",
       "      <td>Misl</td>\n",
       "      <td>0</td>\n",
       "      <td>2</td>\n",
       "      <td>1</td>\n",
       "      <td>53</td>\n",
       "      <td>0</td>\n",
       "      <td>FM</td>\n",
       "      <td>...</td>\n",
       "      <td>1.0</td>\n",
       "      <td>1.0</td>\n",
       "      <td>53.750000</td>\n",
       "      <td>tigerdroppings.com', 'teamblind.com', 'glockta...</td>\n",
       "      <td>100,7.5</td>\n",
       "      <td>('https://www.tigerdroppings.com/rant/politics...</td>\n",
       "      <td>{'tigerdroppings.com': 100, 'teamblind.com': 7.5}</td>\n",
       "      <td>[{}, {}, {}, {}, {}, {}, {}, {}, {}]</td>\n",
       "      <td>0</td>\n",
       "      <td>0.0</td>\n",
       "    </tr>\n",
       "    <tr>\n",
       "      <th>97</th>\n",
       "      <td>Day_1_3</td>\n",
       "      <td>R_XilsxctsD6UhvsR</td>\n",
       "      <td>Day_1</td>\n",
       "      <td>Misl</td>\n",
       "      <td>0</td>\n",
       "      <td>3</td>\n",
       "      <td>2</td>\n",
       "      <td>37</td>\n",
       "      <td>0</td>\n",
       "      <td>FM</td>\n",
       "      <td>...</td>\n",
       "      <td>0.0</td>\n",
       "      <td>0.0</td>\n",
       "      <td>98.571429</td>\n",
       "      <td>googleadservices.com', 'youtube.com', 'nytimes...</td>\n",
       "      <td>100,100,100,100,95,95,100</td>\n",
       "      <td>('https://www.googleadservices.com/', 'https:/...</td>\n",
       "      <td>{'googleadservices.com': 100, 'youtube.com': 1...</td>\n",
       "      <td>[{}, {}, {}, {}, {}, {}, {}, {}, {}, {}]</td>\n",
       "      <td>0</td>\n",
       "      <td>0.0</td>\n",
       "    </tr>\n",
       "    <tr>\n",
       "      <th>99</th>\n",
       "      <td>Day_1_3</td>\n",
       "      <td>R_20M3irK9yP7zOGl</td>\n",
       "      <td>Day_1</td>\n",
       "      <td>Misl</td>\n",
       "      <td>0</td>\n",
       "      <td>1</td>\n",
       "      <td>1</td>\n",
       "      <td>29</td>\n",
       "      <td>0</td>\n",
       "      <td>FM</td>\n",
       "      <td>...</td>\n",
       "      <td>1.0</td>\n",
       "      <td>1.0</td>\n",
       "      <td>61.250000</td>\n",
       "      <td>fonts.googleapis.com', 'totalhealth.co.uk', 'l...</td>\n",
       "      <td>100,22.5</td>\n",
       "      <td>('https://fonts.googleapis.com/css?family=Robo...</td>\n",
       "      <td>{}</td>\n",
       "      <td>[{}, {}, {}, {}, {}, {}, {}, {}, {}, {}]</td>\n",
       "      <td>0</td>\n",
       "      <td>0.0</td>\n",
       "    </tr>\n",
       "  </tbody>\n",
       "</table>\n",
       "<p>88 rows × 39 columns</p>\n",
       "</div>"
      ],
      "text/plain": [
       "   Article_day         ResponseId    Day Category  True_Dummy  Seven_Ordinal  \\\n",
       "1      Day_1_1  R_1Gv8iAs1HEqGuUe  Day_1     Misl           0              1   \n",
       "2      Day_1_1  R_1Gv8iAs1HEqGuUe  Day_1     Misl           0              1   \n",
       "3      Day_1_1  R_3KT6q7Vntwvmg8Z  Day_1     True           1              7   \n",
       "4      Day_1_1  R_1Gv8iAs1HEqGuUe  Day_1     Misl           0              1   \n",
       "5      Day_1_1  R_yx69bWSwS7KJTDb  Day_1     Misl           0              3   \n",
       "..         ...                ...    ...      ...         ...            ...   \n",
       "94     Day_1_3  R_24d72uJHVnyQYtL  Day_1     True           1              6   \n",
       "95     Day_1_3  R_6gSAhAKCKeijlQZ  Day_1     True           1              6   \n",
       "96     Day_1_3  R_1Cr6QLqQcjGmEWV  Day_1     Misl           0              2   \n",
       "97     Day_1_3  R_XilsxctsD6UhvsR  Day_1     Misl           0              3   \n",
       "99     Day_1_3  R_20M3irK9yP7zOGl  Day_1     Misl           0              1   \n",
       "\n",
       "    Four_Ordinal  Age  Gender FC_Eval  ... Unrel_contain_65 Unrel_contain_70  \\\n",
       "1              1   35       1      FM  ...              0.0              0.0   \n",
       "2              1   35       1      FM  ...              1.0              1.0   \n",
       "3              3   33       1      FM  ...              0.0              0.0   \n",
       "4              1   35       1      FM  ...              0.0              0.0   \n",
       "5              2   25       1      FM  ...              0.0              0.0   \n",
       "..           ...  ...     ...     ...  ...              ...              ...   \n",
       "94             4   67       0      FM  ...              1.0              1.0   \n",
       "95             4   39       0      FM  ...              0.0              0.0   \n",
       "96             1   53       0      FM  ...              1.0              1.0   \n",
       "97             2   37       0      FM  ...              0.0              0.0   \n",
       "99             1   29       0      FM  ...              1.0              1.0   \n",
       "\n",
       "    avg_score                                       list_domains  \\\n",
       "1   95.277778  abc15.com', 'salon.com', 'cnn.com', 'politico....   \n",
       "2   83.450000  cnn.com', 'thehill.com', 'salon.com', 'washing...   \n",
       "3   92.812500  thehill.com', 'recorder.maricopa.gov', 'washin...   \n",
       "4   96.000000  apnews.com', 'detroitnews.com', 'cnn.com', 'ap...   \n",
       "5         NaN  twitter.com', 'twitter.com', 'beckernews.com',...   \n",
       "..        ...                                                ...   \n",
       "94  56.000000  techstartups.com', 'twitter.com', 'zerohedge.c...   \n",
       "95  91.500000  newportri.com', 'galvnews.com', 'fortune.com',...   \n",
       "96  53.750000  tigerdroppings.com', 'teamblind.com', 'glockta...   \n",
       "97  98.571429  googleadservices.com', 'youtube.com', 'nytimes...   \n",
       "99  61.250000  fonts.googleapis.com', 'totalhealth.co.uk', 'l...   \n",
       "\n",
       "                                 list_scores  \\\n",
       "1       100,87.5,87.5,100,95,95,100,100,92.5   \n",
       "2   87.5,80,87.5,42,87.5,100,92.5,87.5,85,85   \n",
       "3              80,100,100,100,100,92.5,75,95   \n",
       "4      95,92.5,87.5,95,95,100,100,100,100,95   \n",
       "5                                        NaN   \n",
       "..                                       ...   \n",
       "94                      5,7.5,87.5,87.5,92.5   \n",
       "95                     95,92.5,100,87.5,82.5   \n",
       "96                                   100,7.5   \n",
       "97                 100,100,100,100,95,95,100   \n",
       "99                                  100,22.5   \n",
       "\n",
       "                                       all_clean_urls  \\\n",
       "1   ('https://www.abc15.com/news/state/poll-many-r...   \n",
       "2   ('https://www.cnn.com/2021/07/18/politics/fact...   \n",
       "3   ('https://thehill.com/homenews/campaign/563100...   \n",
       "4   ('https://apnews.com/article/technology-joe-bi...   \n",
       "5   ('https://twitter.com/kylenabecker?ref_src=tws...   \n",
       "..                                                ...   \n",
       "94  ('https://techstartups.com/2021/07/17/mrna-vac...   \n",
       "95  ('https://www.newportri.com/story/opinion/lett...   \n",
       "96  ('https://www.tigerdroppings.com/rant/politics...   \n",
       "97  ('https://www.googleadservices.com/', 'https:/...   \n",
       "99  ('https://fonts.googleapis.com/css?family=Robo...   \n",
       "\n",
       "                                       newsguard_dict  \\\n",
       "1   {'abc15.com': 100, 'salon.com': 87.5, 'cnn.com...   \n",
       "2   {'cnn.com': 87.5, 'thehill.com': 80, 'salon.co...   \n",
       "3   {'thehill.com': 80, 'recorder.maricopa.gov': 1...   \n",
       "4   {'apnews.com': 95, 'detroitnews.com': 92.5, 'c...   \n",
       "5                                                  {}   \n",
       "..                                                ...   \n",
       "94  {'techstartups.com': 5, 'twitter.com': 7.5, 'z...   \n",
       "95                                                 {}   \n",
       "96  {'tigerdroppings.com': 100, 'teamblind.com': 7.5}   \n",
       "97  {'googleadservices.com': 100, 'youtube.com': 1...   \n",
       "99                                                 {}   \n",
       "\n",
       "                                               Labels  num_valid_articles  \\\n",
       "1   [{}, {}, {}, {}, {}, {}, {}, {}, {}, {'compari...                   1   \n",
       "2   [{'comparisons': [{'claim_article_a': \"Arizona...                   4   \n",
       "3   [{}, {}, {'comparisons': [{'claim_article_a': ...                   6   \n",
       "4   [{}, {}, {'comparisons': [{'claim_article_a': ...                   6   \n",
       "5            [{}, {}, {}, {}, {}, {}, {}, {}, {}, {}]                   0   \n",
       "..                                                ...                 ...   \n",
       "94  [{}, {}, {}, {}, {}, {}, {}, {}, {'comparisons...                   1   \n",
       "95  [{'comparisons': [{'claim_article_a': 'Dr. Rob...                   2   \n",
       "96               [{}, {}, {}, {}, {}, {}, {}, {}, {}]                   0   \n",
       "97           [{}, {}, {}, {}, {}, {}, {}, {}, {}, {}]                   0   \n",
       "99           [{}, {}, {}, {}, {}, {}, {}, {}, {}, {}]                   0   \n",
       "\n",
       "    User_Labels  \n",
       "1           0.0  \n",
       "2           0.0  \n",
       "3           1.0  \n",
       "4           0.0  \n",
       "5           0.0  \n",
       "..          ...  \n",
       "94          1.0  \n",
       "95          1.0  \n",
       "96          0.0  \n",
       "97          0.0  \n",
       "99          0.0  \n",
       "\n",
       "[88 rows x 39 columns]"
      ]
     },
     "execution_count": 268,
     "metadata": {},
     "output_type": "execute_result"
    }
   ],
   "source": [
    "df = df[df['User_Labels'].notna()]\n",
    "df"
   ]
  },
  {
   "cell_type": "code",
   "execution_count": null,
   "metadata": {},
   "outputs": [],
   "source": [
    "def cost_function(weights, label_list, y):\n",
    "    pred_list = np.array([weighted_metric(weights, l) for l in label_list]) \n",
    "    #scaler = MinMaxScaler(feature_range=(-1, 1))\n",
    "    #normalized_preds = scaler.fit_transform(pred_list.reshape(-1, 1)).flatten()\n",
    "    print(pred_list)\n",
    "    y = np.array(y)\n",
    "    y = y[~np.isnan(pred_list)]\n",
    "    print(y)\n",
    "    pred_list = pred_list[~np.isnan(pred_list)]\n",
    "    return mean_squared_error(y, pred_list)"
   ]
  },
  {
   "cell_type": "code",
   "execution_count": 274,
   "metadata": {},
   "outputs": [
    {
     "name": "stdout",
     "output_type": "stream",
     "text": [
      "[0.5815084366955354 0.5863499401646062 0.6139448812010134\n",
      " 0.5547113092946534 None 0.6336250237341008 0.5815084366955354\n",
      " 0.585401932587979 0.585401932587979 0.5919990232731771 0.5919990232731771\n",
      " 0.6322194183501241 0.585368162754207 0.5723633180440735\n",
      " 0.6149302535446237 0.6336250237341008 0.5931838104128396\n",
      " 0.5962872129694232 0.5653659357636591 None 0.5785441902836977\n",
      " 0.6262046431017451 0.6577762353687765 0.6015278955704818\n",
      " 0.5868524785397771 0.5902182561614635 0.5931055955600439\n",
      " 0.5815084366955354 0.619729440865097 0.6052406956812597\n",
      " 0.5271152984312819 0.5928898877323376 0.6205796753721665\n",
      " 0.6006486982741097 0.5857685815180886 0.6104846795158617\n",
      " 0.5683733935871558 0.5905646263614605 0.5873857810469977\n",
      " 0.581988770808365 0.578619623606993 0.5957409404667504 0.5822945742491356\n",
      " 0.5935037310307851 0.5893616455085824 0.5289775359476135\n",
      " 0.5734567497524867 0.5877689656597637 0.578619623606993\n",
      " 0.5171521213149903 0.5966236863881923 0.5825119429172573 None\n",
      " 0.6073276085512612 0.595078473866134 0.5757254186135672\n",
      " 0.5883019150757531 None 0.5835147662620759 0.5803396174569732\n",
      " 0.5858996463970902 None None 0.5861021772808148 0.5705534027081024 None\n",
      " None 0.5774877403402103 0.5771641950567868 0.5893616455085824\n",
      " 0.6082590307465143 0.6059632114129946 0.6145810225104936\n",
      " 0.5835147662620759 0.5815084366955354 0.5633376032721764\n",
      " 0.589766454981803 None None 0.5837653644811305 0.5171521213149903 None\n",
      " 0.60747242650075 0.5824004758049134 0.5935037310307851 None None None]\n"
     ]
    },
    {
     "ename": "TypeError",
     "evalue": "ufunc 'isnan' not supported for the input types, and the inputs could not be safely coerced to any supported types according to the casting rule ''safe''",
     "output_type": "error",
     "traceback": [
      "\u001b[1;31m---------------------------------------------------------------------------\u001b[0m",
      "\u001b[1;31mTypeError\u001b[0m                                 Traceback (most recent call last)",
      "Cell \u001b[1;32mIn[274], line 2\u001b[0m\n\u001b[0;32m      1\u001b[0m initial_weights \u001b[38;5;241m=\u001b[39m np\u001b[38;5;241m.\u001b[39marray([\u001b[38;5;241m0.33\u001b[39m, \u001b[38;5;241m0.33\u001b[39m, \u001b[38;5;241m0.33\u001b[39m])\n\u001b[1;32m----> 2\u001b[0m \u001b[43mcost_function\u001b[49m\u001b[43m(\u001b[49m\u001b[43minitial_weights\u001b[49m\u001b[43m,\u001b[49m\u001b[43m \u001b[49m\u001b[43mdf\u001b[49m\u001b[43m[\u001b[49m\u001b[38;5;124;43m'\u001b[39;49m\u001b[38;5;124;43mLabels\u001b[39;49m\u001b[38;5;124;43m'\u001b[39;49m\u001b[43m]\u001b[49m\u001b[38;5;241;43m.\u001b[39;49m\u001b[43mtolist\u001b[49m\u001b[43m(\u001b[49m\u001b[43m)\u001b[49m\u001b[43m,\u001b[49m\u001b[43m \u001b[49m\u001b[43mdf\u001b[49m\u001b[43m[\u001b[49m\u001b[38;5;124;43m'\u001b[39;49m\u001b[38;5;124;43mUser_Labels\u001b[39;49m\u001b[38;5;124;43m'\u001b[39;49m\u001b[43m]\u001b[49m\u001b[38;5;241;43m.\u001b[39;49m\u001b[43mtolist\u001b[49m\u001b[43m(\u001b[49m\u001b[43m)\u001b[49m\u001b[43m)\u001b[49m\n",
      "Cell \u001b[1;32mIn[273], line 8\u001b[0m, in \u001b[0;36mcost_function\u001b[1;34m(weights, label_list, y)\u001b[0m\n\u001b[0;32m      6\u001b[0m y \u001b[38;5;241m=\u001b[39m [x \u001b[38;5;28;01mfor\u001b[39;00m x \u001b[38;5;129;01min\u001b[39;00m y \u001b[38;5;28;01mif\u001b[39;00m x \u001b[38;5;129;01mis\u001b[39;00m \u001b[38;5;129;01mnot\u001b[39;00m \u001b[38;5;28;01mNone\u001b[39;00m]\n\u001b[0;32m      7\u001b[0m y \u001b[38;5;241m=\u001b[39m np\u001b[38;5;241m.\u001b[39marray(y)\n\u001b[1;32m----> 8\u001b[0m y \u001b[38;5;241m=\u001b[39m y[\u001b[38;5;241m~\u001b[39m\u001b[43mnp\u001b[49m\u001b[38;5;241;43m.\u001b[39;49m\u001b[43misnan\u001b[49m\u001b[43m(\u001b[49m\u001b[43mpred_list\u001b[49m\u001b[43m)\u001b[49m]\n\u001b[0;32m      9\u001b[0m \u001b[38;5;28mprint\u001b[39m(y)\n\u001b[0;32m     10\u001b[0m pred_list \u001b[38;5;241m=\u001b[39m pred_list[\u001b[38;5;241m~\u001b[39mnp\u001b[38;5;241m.\u001b[39misnan(pred_list)]\n",
      "\u001b[1;31mTypeError\u001b[0m: ufunc 'isnan' not supported for the input types, and the inputs could not be safely coerced to any supported types according to the casting rule ''safe''"
     ]
    }
   ],
   "source": [
    "initial_weights = np.array([0.33, 0.33, 0.33])\n",
    "cost_function(initial_weights, df['Labels'].tolist(), df['User_Labels'].tolist())"
   ]
  },
  {
   "cell_type": "code",
   "execution_count": 240,
   "metadata": {},
   "outputs": [
    {
     "ename": "TypeError",
     "evalue": "ufunc 'isnan' not supported for the input types, and the inputs could not be safely coerced to any supported types according to the casting rule ''safe''",
     "output_type": "error",
     "traceback": [
      "\u001b[1;31m---------------------------------------------------------------------------\u001b[0m",
      "\u001b[1;31mTypeError\u001b[0m                                 Traceback (most recent call last)",
      "Cell \u001b[1;32mIn[240], line 7\u001b[0m\n\u001b[0;32m      1\u001b[0m initial_weights \u001b[38;5;241m=\u001b[39m np\u001b[38;5;241m.\u001b[39marray([\u001b[38;5;241m0.33\u001b[39m, \u001b[38;5;241m0.33\u001b[39m, \u001b[38;5;241m0.33\u001b[39m]) \u001b[38;5;66;03m#Weights for article stance, ng score, serp position\u001b[39;00m\n\u001b[0;32m      3\u001b[0m \u001b[38;5;66;03m# def weight_constraint(weights):\u001b[39;00m\n\u001b[0;32m      4\u001b[0m \u001b[38;5;66;03m#     return np.sum(weights) - 1\u001b[39;00m\n\u001b[0;32m      5\u001b[0m \u001b[38;5;66;03m# constraints = ({'type': 'eq', 'fun': weight_constraint})\u001b[39;00m\n\u001b[1;32m----> 7\u001b[0m result \u001b[38;5;241m=\u001b[39m \u001b[43mminimize\u001b[49m\u001b[43m(\u001b[49m\u001b[43mcost_function\u001b[49m\u001b[43m,\u001b[49m\u001b[43m \u001b[49m\u001b[43minitial_weights\u001b[49m\u001b[43m,\u001b[49m\u001b[43m \u001b[49m\u001b[43margs\u001b[49m\u001b[38;5;241;43m=\u001b[39;49m\u001b[43m(\u001b[49m\u001b[43mdf\u001b[49m\u001b[43m[\u001b[49m\u001b[38;5;124;43m'\u001b[39;49m\u001b[38;5;124;43mLabels\u001b[39;49m\u001b[38;5;124;43m'\u001b[39;49m\u001b[43m]\u001b[49m\u001b[38;5;241;43m.\u001b[39;49m\u001b[43mtolist\u001b[49m\u001b[43m(\u001b[49m\u001b[43m)\u001b[49m\u001b[43m,\u001b[49m\u001b[43m \u001b[49m\u001b[43mdf\u001b[49m\u001b[43m[\u001b[49m\u001b[38;5;124;43m'\u001b[39;49m\u001b[38;5;124;43mUser_Labels\u001b[39;49m\u001b[38;5;124;43m'\u001b[39;49m\u001b[43m]\u001b[49m\u001b[38;5;241;43m.\u001b[39;49m\u001b[43mtolist\u001b[49m\u001b[43m(\u001b[49m\u001b[43m)\u001b[49m\u001b[43m)\u001b[49m\u001b[43m,\u001b[49m\u001b[43m \u001b[49m\u001b[43mmethod\u001b[49m\u001b[38;5;241;43m=\u001b[39;49m\u001b[38;5;124;43m'\u001b[39;49m\u001b[38;5;124;43mSLSQP\u001b[39;49m\u001b[38;5;124;43m'\u001b[39;49m\u001b[43m,\u001b[49m\u001b[43m \u001b[49m\u001b[43mbounds\u001b[49m\u001b[38;5;241;43m=\u001b[39;49m\u001b[43m[\u001b[49m\u001b[43m(\u001b[49m\u001b[38;5;241;43m0\u001b[39;49m\u001b[43m,\u001b[49m\u001b[43m \u001b[49m\u001b[38;5;241;43m1\u001b[39;49m\u001b[43m)\u001b[49m\u001b[43m,\u001b[49m\u001b[43m \u001b[49m\u001b[43m(\u001b[49m\u001b[38;5;241;43m0\u001b[39;49m\u001b[43m,\u001b[49m\u001b[43m \u001b[49m\u001b[38;5;241;43m1\u001b[39;49m\u001b[43m)\u001b[49m\u001b[43m,\u001b[49m\u001b[43m \u001b[49m\u001b[43m(\u001b[49m\u001b[38;5;241;43m0\u001b[39;49m\u001b[43m,\u001b[49m\u001b[43m \u001b[49m\u001b[38;5;241;43m1\u001b[39;49m\u001b[43m)\u001b[49m\u001b[43m]\u001b[49m\u001b[43m,\u001b[49m\u001b[43m \u001b[49m\u001b[43moptions\u001b[49m\u001b[38;5;241;43m=\u001b[39;49m\u001b[43m{\u001b[49m\u001b[38;5;124;43m'\u001b[39;49m\u001b[38;5;124;43mmaxiter\u001b[39;49m\u001b[38;5;124;43m'\u001b[39;49m\u001b[43m:\u001b[49m\u001b[43m \u001b[49m\u001b[38;5;241;43m1000\u001b[39;49m\u001b[43m,\u001b[49m\u001b[43m \u001b[49m\u001b[38;5;124;43m'\u001b[39;49m\u001b[38;5;124;43mftol\u001b[39;49m\u001b[38;5;124;43m'\u001b[39;49m\u001b[43m:\u001b[49m\u001b[43m \u001b[49m\u001b[38;5;241;43m1e-6\u001b[39;49m\u001b[43m}\u001b[49m\u001b[43m)\u001b[49m\n\u001b[0;32m      9\u001b[0m optimal_weights \u001b[38;5;241m=\u001b[39m result\u001b[38;5;241m.\u001b[39mx\n\u001b[0;32m     10\u001b[0m \u001b[38;5;28mprint\u001b[39m(\u001b[38;5;124mf\u001b[39m\u001b[38;5;124m\"\u001b[39m\u001b[38;5;124mOptimal Weights: \u001b[39m\u001b[38;5;132;01m{\u001b[39;00moptimal_weights\u001b[38;5;132;01m}\u001b[39;00m\u001b[38;5;124m\"\u001b[39m)\n",
      "File \u001b[1;32mc:\\Users\\danie\\Desktop\\Studium\\Master's thesis\\MA_Code\\venv\\lib\\site-packages\\scipy\\optimize\\_minimize.py:722\u001b[0m, in \u001b[0;36mminimize\u001b[1;34m(fun, x0, args, method, jac, hess, hessp, bounds, constraints, tol, callback, options)\u001b[0m\n\u001b[0;32m    719\u001b[0m     res \u001b[38;5;241m=\u001b[39m _minimize_cobyla(fun, x0, args, constraints, callback\u001b[38;5;241m=\u001b[39mcallback,\n\u001b[0;32m    720\u001b[0m                            bounds\u001b[38;5;241m=\u001b[39mbounds, \u001b[38;5;241m*\u001b[39m\u001b[38;5;241m*\u001b[39moptions)\n\u001b[0;32m    721\u001b[0m \u001b[38;5;28;01melif\u001b[39;00m meth \u001b[38;5;241m==\u001b[39m \u001b[38;5;124m'\u001b[39m\u001b[38;5;124mslsqp\u001b[39m\u001b[38;5;124m'\u001b[39m:\n\u001b[1;32m--> 722\u001b[0m     res \u001b[38;5;241m=\u001b[39m _minimize_slsqp(fun, x0, args, jac, bounds,\n\u001b[0;32m    723\u001b[0m                           constraints, callback\u001b[38;5;241m=\u001b[39mcallback, \u001b[38;5;241m*\u001b[39m\u001b[38;5;241m*\u001b[39moptions)\n\u001b[0;32m    724\u001b[0m \u001b[38;5;28;01melif\u001b[39;00m meth \u001b[38;5;241m==\u001b[39m \u001b[38;5;124m'\u001b[39m\u001b[38;5;124mtrust-constr\u001b[39m\u001b[38;5;124m'\u001b[39m:\n\u001b[0;32m    725\u001b[0m     res \u001b[38;5;241m=\u001b[39m _minimize_trustregion_constr(fun, x0, args, jac, hess, hessp,\n\u001b[0;32m    726\u001b[0m                                        bounds, constraints,\n\u001b[0;32m    727\u001b[0m                                        callback\u001b[38;5;241m=\u001b[39mcallback, \u001b[38;5;241m*\u001b[39m\u001b[38;5;241m*\u001b[39moptions)\n",
      "File \u001b[1;32mc:\\Users\\danie\\Desktop\\Studium\\Master's thesis\\MA_Code\\venv\\lib\\site-packages\\scipy\\optimize\\_slsqp_py.py:383\u001b[0m, in \u001b[0;36m_minimize_slsqp\u001b[1;34m(func, x0, args, jac, bounds, constraints, maxiter, ftol, iprint, disp, eps, callback, finite_diff_rel_step, **unknown_options)\u001b[0m\n\u001b[0;32m    380\u001b[0m     xu[infbnd[:, \u001b[38;5;241m1\u001b[39m]] \u001b[38;5;241m=\u001b[39m np\u001b[38;5;241m.\u001b[39mnan\n\u001b[0;32m    382\u001b[0m \u001b[38;5;66;03m# ScalarFunction provides function and gradient evaluation\u001b[39;00m\n\u001b[1;32m--> 383\u001b[0m sf \u001b[38;5;241m=\u001b[39m \u001b[43m_prepare_scalar_function\u001b[49m\u001b[43m(\u001b[49m\u001b[43mfunc\u001b[49m\u001b[43m,\u001b[49m\u001b[43m \u001b[49m\u001b[43mx\u001b[49m\u001b[43m,\u001b[49m\u001b[43m \u001b[49m\u001b[43mjac\u001b[49m\u001b[38;5;241;43m=\u001b[39;49m\u001b[43mjac\u001b[49m\u001b[43m,\u001b[49m\u001b[43m \u001b[49m\u001b[43margs\u001b[49m\u001b[38;5;241;43m=\u001b[39;49m\u001b[43margs\u001b[49m\u001b[43m,\u001b[49m\u001b[43m \u001b[49m\u001b[43mepsilon\u001b[49m\u001b[38;5;241;43m=\u001b[39;49m\u001b[43meps\u001b[49m\u001b[43m,\u001b[49m\n\u001b[0;32m    384\u001b[0m \u001b[43m                              \u001b[49m\u001b[43mfinite_diff_rel_step\u001b[49m\u001b[38;5;241;43m=\u001b[39;49m\u001b[43mfinite_diff_rel_step\u001b[49m\u001b[43m,\u001b[49m\n\u001b[0;32m    385\u001b[0m \u001b[43m                              \u001b[49m\u001b[43mbounds\u001b[49m\u001b[38;5;241;43m=\u001b[39;49m\u001b[43mnew_bounds\u001b[49m\u001b[43m)\u001b[49m\n\u001b[0;32m    386\u001b[0m \u001b[38;5;66;03m# gh11403 SLSQP sometimes exceeds bounds by 1 or 2 ULP, make sure this\u001b[39;00m\n\u001b[0;32m    387\u001b[0m \u001b[38;5;66;03m# doesn't get sent to the func/grad evaluator.\u001b[39;00m\n\u001b[0;32m    388\u001b[0m wrapped_fun \u001b[38;5;241m=\u001b[39m _clip_x_for_func(sf\u001b[38;5;241m.\u001b[39mfun, new_bounds)\n",
      "File \u001b[1;32mc:\\Users\\danie\\Desktop\\Studium\\Master's thesis\\MA_Code\\venv\\lib\\site-packages\\scipy\\optimize\\_optimize.py:288\u001b[0m, in \u001b[0;36m_prepare_scalar_function\u001b[1;34m(fun, x0, jac, args, bounds, epsilon, finite_diff_rel_step, hess)\u001b[0m\n\u001b[0;32m    284\u001b[0m     bounds \u001b[38;5;241m=\u001b[39m (\u001b[38;5;241m-\u001b[39mnp\u001b[38;5;241m.\u001b[39minf, np\u001b[38;5;241m.\u001b[39minf)\n\u001b[0;32m    286\u001b[0m \u001b[38;5;66;03m# ScalarFunction caches. Reuse of fun(x) during grad\u001b[39;00m\n\u001b[0;32m    287\u001b[0m \u001b[38;5;66;03m# calculation reduces overall function evaluations.\u001b[39;00m\n\u001b[1;32m--> 288\u001b[0m sf \u001b[38;5;241m=\u001b[39m \u001b[43mScalarFunction\u001b[49m\u001b[43m(\u001b[49m\u001b[43mfun\u001b[49m\u001b[43m,\u001b[49m\u001b[43m \u001b[49m\u001b[43mx0\u001b[49m\u001b[43m,\u001b[49m\u001b[43m \u001b[49m\u001b[43margs\u001b[49m\u001b[43m,\u001b[49m\u001b[43m \u001b[49m\u001b[43mgrad\u001b[49m\u001b[43m,\u001b[49m\u001b[43m \u001b[49m\u001b[43mhess\u001b[49m\u001b[43m,\u001b[49m\n\u001b[0;32m    289\u001b[0m \u001b[43m                    \u001b[49m\u001b[43mfinite_diff_rel_step\u001b[49m\u001b[43m,\u001b[49m\u001b[43m \u001b[49m\u001b[43mbounds\u001b[49m\u001b[43m,\u001b[49m\u001b[43m \u001b[49m\u001b[43mepsilon\u001b[49m\u001b[38;5;241;43m=\u001b[39;49m\u001b[43mepsilon\u001b[49m\u001b[43m)\u001b[49m\n\u001b[0;32m    291\u001b[0m \u001b[38;5;28;01mreturn\u001b[39;00m sf\n",
      "File \u001b[1;32mc:\\Users\\danie\\Desktop\\Studium\\Master's thesis\\MA_Code\\venv\\lib\\site-packages\\scipy\\optimize\\_differentiable_functions.py:166\u001b[0m, in \u001b[0;36mScalarFunction.__init__\u001b[1;34m(self, fun, x0, args, grad, hess, finite_diff_rel_step, finite_diff_bounds, epsilon)\u001b[0m\n\u001b[0;32m    163\u001b[0m     \u001b[38;5;28mself\u001b[39m\u001b[38;5;241m.\u001b[39mf \u001b[38;5;241m=\u001b[39m fun_wrapped(\u001b[38;5;28mself\u001b[39m\u001b[38;5;241m.\u001b[39mx)\n\u001b[0;32m    165\u001b[0m \u001b[38;5;28mself\u001b[39m\u001b[38;5;241m.\u001b[39m_update_fun_impl \u001b[38;5;241m=\u001b[39m update_fun\n\u001b[1;32m--> 166\u001b[0m \u001b[38;5;28;43mself\u001b[39;49m\u001b[38;5;241;43m.\u001b[39;49m\u001b[43m_update_fun\u001b[49m\u001b[43m(\u001b[49m\u001b[43m)\u001b[49m\n\u001b[0;32m    168\u001b[0m \u001b[38;5;66;03m# Gradient evaluation\u001b[39;00m\n\u001b[0;32m    169\u001b[0m \u001b[38;5;28;01mif\u001b[39;00m \u001b[38;5;28mcallable\u001b[39m(grad):\n",
      "File \u001b[1;32mc:\\Users\\danie\\Desktop\\Studium\\Master's thesis\\MA_Code\\venv\\lib\\site-packages\\scipy\\optimize\\_differentiable_functions.py:262\u001b[0m, in \u001b[0;36mScalarFunction._update_fun\u001b[1;34m(self)\u001b[0m\n\u001b[0;32m    260\u001b[0m \u001b[38;5;28;01mdef\u001b[39;00m\u001b[38;5;250m \u001b[39m\u001b[38;5;21m_update_fun\u001b[39m(\u001b[38;5;28mself\u001b[39m):\n\u001b[0;32m    261\u001b[0m     \u001b[38;5;28;01mif\u001b[39;00m \u001b[38;5;129;01mnot\u001b[39;00m \u001b[38;5;28mself\u001b[39m\u001b[38;5;241m.\u001b[39mf_updated:\n\u001b[1;32m--> 262\u001b[0m         \u001b[38;5;28;43mself\u001b[39;49m\u001b[38;5;241;43m.\u001b[39;49m\u001b[43m_update_fun_impl\u001b[49m\u001b[43m(\u001b[49m\u001b[43m)\u001b[49m\n\u001b[0;32m    263\u001b[0m         \u001b[38;5;28mself\u001b[39m\u001b[38;5;241m.\u001b[39mf_updated \u001b[38;5;241m=\u001b[39m \u001b[38;5;28;01mTrue\u001b[39;00m\n",
      "File \u001b[1;32mc:\\Users\\danie\\Desktop\\Studium\\Master's thesis\\MA_Code\\venv\\lib\\site-packages\\scipy\\optimize\\_differentiable_functions.py:163\u001b[0m, in \u001b[0;36mScalarFunction.__init__.<locals>.update_fun\u001b[1;34m()\u001b[0m\n\u001b[0;32m    162\u001b[0m \u001b[38;5;28;01mdef\u001b[39;00m\u001b[38;5;250m \u001b[39m\u001b[38;5;21mupdate_fun\u001b[39m():\n\u001b[1;32m--> 163\u001b[0m     \u001b[38;5;28mself\u001b[39m\u001b[38;5;241m.\u001b[39mf \u001b[38;5;241m=\u001b[39m \u001b[43mfun_wrapped\u001b[49m\u001b[43m(\u001b[49m\u001b[38;5;28;43mself\u001b[39;49m\u001b[38;5;241;43m.\u001b[39;49m\u001b[43mx\u001b[49m\u001b[43m)\u001b[49m\n",
      "File \u001b[1;32mc:\\Users\\danie\\Desktop\\Studium\\Master's thesis\\MA_Code\\venv\\lib\\site-packages\\scipy\\optimize\\_differentiable_functions.py:145\u001b[0m, in \u001b[0;36mScalarFunction.__init__.<locals>.fun_wrapped\u001b[1;34m(x)\u001b[0m\n\u001b[0;32m    141\u001b[0m \u001b[38;5;28mself\u001b[39m\u001b[38;5;241m.\u001b[39mnfev \u001b[38;5;241m+\u001b[39m\u001b[38;5;241m=\u001b[39m \u001b[38;5;241m1\u001b[39m\n\u001b[0;32m    142\u001b[0m \u001b[38;5;66;03m# Send a copy because the user may overwrite it.\u001b[39;00m\n\u001b[0;32m    143\u001b[0m \u001b[38;5;66;03m# Overwriting results in undefined behaviour because\u001b[39;00m\n\u001b[0;32m    144\u001b[0m \u001b[38;5;66;03m# fun(self.x) will change self.x, with the two no longer linked.\u001b[39;00m\n\u001b[1;32m--> 145\u001b[0m fx \u001b[38;5;241m=\u001b[39m \u001b[43mfun\u001b[49m\u001b[43m(\u001b[49m\u001b[43mnp\u001b[49m\u001b[38;5;241;43m.\u001b[39;49m\u001b[43mcopy\u001b[49m\u001b[43m(\u001b[49m\u001b[43mx\u001b[49m\u001b[43m)\u001b[49m\u001b[43m,\u001b[49m\u001b[43m \u001b[49m\u001b[38;5;241;43m*\u001b[39;49m\u001b[43margs\u001b[49m\u001b[43m)\u001b[49m\n\u001b[0;32m    146\u001b[0m \u001b[38;5;66;03m# Make sure the function returns a true scalar\u001b[39;00m\n\u001b[0;32m    147\u001b[0m \u001b[38;5;28;01mif\u001b[39;00m \u001b[38;5;129;01mnot\u001b[39;00m np\u001b[38;5;241m.\u001b[39misscalar(fx):\n",
      "Cell \u001b[1;32mIn[238], line 6\u001b[0m, in \u001b[0;36mcost_function\u001b[1;34m(weights, label_list, y)\u001b[0m\n\u001b[0;32m      3\u001b[0m \u001b[38;5;66;03m#scaler = MinMaxScaler(feature_range=(-1, 1))\u001b[39;00m\n\u001b[0;32m      4\u001b[0m \u001b[38;5;66;03m#normalized_preds = scaler.fit_transform(pred_list.reshape(-1, 1)).flatten()\u001b[39;00m\n\u001b[0;32m      5\u001b[0m y \u001b[38;5;241m=\u001b[39m np\u001b[38;5;241m.\u001b[39marray(y)\n\u001b[1;32m----> 6\u001b[0m y \u001b[38;5;241m=\u001b[39m y[\u001b[38;5;241m~\u001b[39m\u001b[43mnp\u001b[49m\u001b[38;5;241;43m.\u001b[39;49m\u001b[43misnan\u001b[49m\u001b[43m(\u001b[49m\u001b[43mpred_list\u001b[49m\u001b[43m)\u001b[49m]\n\u001b[0;32m      7\u001b[0m \u001b[38;5;28mprint\u001b[39m(y)\n\u001b[0;32m      8\u001b[0m pred_list \u001b[38;5;241m=\u001b[39m pred_list[\u001b[38;5;241m~\u001b[39mnp\u001b[38;5;241m.\u001b[39misnan(pred_list)]\n",
      "\u001b[1;31mTypeError\u001b[0m: ufunc 'isnan' not supported for the input types, and the inputs could not be safely coerced to any supported types according to the casting rule ''safe''"
     ]
    }
   ],
   "source": [
    "initial_weights = np.array([0.33, 0.33, 0.33]) #Weights for article stance, ng score, serp position\n",
    "\n",
    "# def weight_constraint(weights):\n",
    "#     return np.sum(weights) - 1\n",
    "# constraints = ({'type': 'eq', 'fun': weight_constraint})\n",
    "\n",
    "result = minimize(cost_function, initial_weights, args=(df['Labels'].tolist(), df['User_Labels'].tolist()), method='SLSQP', bounds=[(0, 1), (0, 1), (0, 1)], options={'maxiter': 1000, 'ftol': 1e-6})\n",
    "\n",
    "optimal_weights = result.x\n",
    "print(f\"Optimal Weights: {optimal_weights}\")\n",
    "\n",
    "cost_function(optimal_weights, df['Labels'].tolist(), df['User_Labels'])"
   ]
  },
  {
   "cell_type": "code",
   "execution_count": null,
   "metadata": {},
   "outputs": [],
   "source": [
    "def get_metrics(weights, label_list):\n",
    "    pred_list = np.array([weighted_metric(weights, l) for l in label_list])\n",
    "    return pred_list\n",
    "    # scaler = MinMaxScaler(feature_range=(-1, 1))\n",
    "    # normalized_preds = scaler.fit_transform(pred_list.reshape(-1, 1)).flatten()\n",
    "    # return normalized_preds"
   ]
  },
  {
   "cell_type": "code",
   "execution_count": null,
   "metadata": {},
   "outputs": [],
   "source": [
    "df ['Metric'] = get_metrics(optimal_weights, df['Labels'].tolist())"
   ]
  },
  {
   "cell_type": "code",
   "execution_count": null,
   "metadata": {},
   "outputs": [
    {
     "data": {
      "text/plain": [
       "1     0.513497\n",
       "2     0.545626\n",
       "3     0.552892\n",
       "4     0.471542\n",
       "6     0.599891\n",
       "        ...   \n",
       "90    0.526975\n",
       "91    0.421664\n",
       "93    0.535021\n",
       "94    0.514996\n",
       "95    0.543785\n",
       "Name: Metric, Length: 74, dtype: float64"
      ]
     },
     "execution_count": 199,
     "metadata": {},
     "output_type": "execute_result"
    }
   ],
   "source": [
    "df['Metric']"
   ]
  },
  {
   "cell_type": "code",
   "execution_count": null,
   "metadata": {},
   "outputs": [
    {
     "ename": "KeyError",
     "evalue": "'Metric'",
     "output_type": "error",
     "traceback": [
      "\u001b[1;31m---------------------------------------------------------------------------\u001b[0m",
      "\u001b[1;31mKeyError\u001b[0m                                  Traceback (most recent call last)",
      "File \u001b[1;32mc:\\Users\\danie\\Desktop\\Studium\\Master's thesis\\MA_Code\\venv\\lib\\site-packages\\pandas\\core\\indexes\\base.py:3805\u001b[0m, in \u001b[0;36mIndex.get_loc\u001b[1;34m(self, key)\u001b[0m\n\u001b[0;32m   3804\u001b[0m \u001b[38;5;28;01mtry\u001b[39;00m:\n\u001b[1;32m-> 3805\u001b[0m     \u001b[38;5;28;01mreturn\u001b[39;00m \u001b[38;5;28;43mself\u001b[39;49m\u001b[38;5;241;43m.\u001b[39;49m\u001b[43m_engine\u001b[49m\u001b[38;5;241;43m.\u001b[39;49m\u001b[43mget_loc\u001b[49m\u001b[43m(\u001b[49m\u001b[43mcasted_key\u001b[49m\u001b[43m)\u001b[49m\n\u001b[0;32m   3806\u001b[0m \u001b[38;5;28;01mexcept\u001b[39;00m \u001b[38;5;167;01mKeyError\u001b[39;00m \u001b[38;5;28;01mas\u001b[39;00m err:\n",
      "File \u001b[1;32mindex.pyx:167\u001b[0m, in \u001b[0;36mpandas._libs.index.IndexEngine.get_loc\u001b[1;34m()\u001b[0m\n",
      "File \u001b[1;32mindex.pyx:196\u001b[0m, in \u001b[0;36mpandas._libs.index.IndexEngine.get_loc\u001b[1;34m()\u001b[0m\n",
      "File \u001b[1;32mpandas\\\\_libs\\\\hashtable_class_helper.pxi:7081\u001b[0m, in \u001b[0;36mpandas._libs.hashtable.PyObjectHashTable.get_item\u001b[1;34m()\u001b[0m\n",
      "File \u001b[1;32mpandas\\\\_libs\\\\hashtable_class_helper.pxi:7089\u001b[0m, in \u001b[0;36mpandas._libs.hashtable.PyObjectHashTable.get_item\u001b[1;34m()\u001b[0m\n",
      "\u001b[1;31mKeyError\u001b[0m: 'Metric'",
      "\nThe above exception was the direct cause of the following exception:\n",
      "\u001b[1;31mKeyError\u001b[0m                                  Traceback (most recent call last)",
      "Cell \u001b[1;32mIn[224], line 1\u001b[0m\n\u001b[1;32m----> 1\u001b[0m df \u001b[38;5;241m=\u001b[39m df[\u001b[43mdf\u001b[49m\u001b[43m[\u001b[49m\u001b[38;5;124;43m'\u001b[39;49m\u001b[38;5;124;43mMetric\u001b[39;49m\u001b[38;5;124;43m'\u001b[39;49m\u001b[43m]\u001b[49m\u001b[38;5;241m.\u001b[39mnotna()]\n",
      "File \u001b[1;32mc:\\Users\\danie\\Desktop\\Studium\\Master's thesis\\MA_Code\\venv\\lib\\site-packages\\pandas\\core\\frame.py:4102\u001b[0m, in \u001b[0;36mDataFrame.__getitem__\u001b[1;34m(self, key)\u001b[0m\n\u001b[0;32m   4100\u001b[0m \u001b[38;5;28;01mif\u001b[39;00m \u001b[38;5;28mself\u001b[39m\u001b[38;5;241m.\u001b[39mcolumns\u001b[38;5;241m.\u001b[39mnlevels \u001b[38;5;241m>\u001b[39m \u001b[38;5;241m1\u001b[39m:\n\u001b[0;32m   4101\u001b[0m     \u001b[38;5;28;01mreturn\u001b[39;00m \u001b[38;5;28mself\u001b[39m\u001b[38;5;241m.\u001b[39m_getitem_multilevel(key)\n\u001b[1;32m-> 4102\u001b[0m indexer \u001b[38;5;241m=\u001b[39m \u001b[38;5;28;43mself\u001b[39;49m\u001b[38;5;241;43m.\u001b[39;49m\u001b[43mcolumns\u001b[49m\u001b[38;5;241;43m.\u001b[39;49m\u001b[43mget_loc\u001b[49m\u001b[43m(\u001b[49m\u001b[43mkey\u001b[49m\u001b[43m)\u001b[49m\n\u001b[0;32m   4103\u001b[0m \u001b[38;5;28;01mif\u001b[39;00m is_integer(indexer):\n\u001b[0;32m   4104\u001b[0m     indexer \u001b[38;5;241m=\u001b[39m [indexer]\n",
      "File \u001b[1;32mc:\\Users\\danie\\Desktop\\Studium\\Master's thesis\\MA_Code\\venv\\lib\\site-packages\\pandas\\core\\indexes\\base.py:3812\u001b[0m, in \u001b[0;36mIndex.get_loc\u001b[1;34m(self, key)\u001b[0m\n\u001b[0;32m   3807\u001b[0m     \u001b[38;5;28;01mif\u001b[39;00m \u001b[38;5;28misinstance\u001b[39m(casted_key, \u001b[38;5;28mslice\u001b[39m) \u001b[38;5;129;01mor\u001b[39;00m (\n\u001b[0;32m   3808\u001b[0m         \u001b[38;5;28misinstance\u001b[39m(casted_key, abc\u001b[38;5;241m.\u001b[39mIterable)\n\u001b[0;32m   3809\u001b[0m         \u001b[38;5;129;01mand\u001b[39;00m \u001b[38;5;28many\u001b[39m(\u001b[38;5;28misinstance\u001b[39m(x, \u001b[38;5;28mslice\u001b[39m) \u001b[38;5;28;01mfor\u001b[39;00m x \u001b[38;5;129;01min\u001b[39;00m casted_key)\n\u001b[0;32m   3810\u001b[0m     ):\n\u001b[0;32m   3811\u001b[0m         \u001b[38;5;28;01mraise\u001b[39;00m InvalidIndexError(key)\n\u001b[1;32m-> 3812\u001b[0m     \u001b[38;5;28;01mraise\u001b[39;00m \u001b[38;5;167;01mKeyError\u001b[39;00m(key) \u001b[38;5;28;01mfrom\u001b[39;00m\u001b[38;5;250m \u001b[39m\u001b[38;5;21;01merr\u001b[39;00m\n\u001b[0;32m   3813\u001b[0m \u001b[38;5;28;01mexcept\u001b[39;00m \u001b[38;5;167;01mTypeError\u001b[39;00m:\n\u001b[0;32m   3814\u001b[0m     \u001b[38;5;66;03m# If we have a listlike key, _check_indexing_error will raise\u001b[39;00m\n\u001b[0;32m   3815\u001b[0m     \u001b[38;5;66;03m#  InvalidIndexError. Otherwise we fall through and re-raise\u001b[39;00m\n\u001b[0;32m   3816\u001b[0m     \u001b[38;5;66;03m#  the TypeError.\u001b[39;00m\n\u001b[0;32m   3817\u001b[0m     \u001b[38;5;28mself\u001b[39m\u001b[38;5;241m.\u001b[39m_check_indexing_error(key)\n",
      "\u001b[1;31mKeyError\u001b[0m: 'Metric'"
     ]
    }
   ],
   "source": [
    "df = df[df['Metric'].notna()]"
   ]
  },
  {
   "cell_type": "code",
   "execution_count": null,
   "metadata": {},
   "outputs": [],
   "source": [
    "from sklearn.preprocessing import MinMaxScaler\n",
    "from sklearn.metrics import mean_squared_error, mean_absolute_error, r2_score, accuracy_score, f1_score, recall_score, precision_score"
   ]
  },
  {
   "cell_type": "code",
   "execution_count": null,
   "metadata": {},
   "outputs": [
    {
     "name": "stdout",
     "output_type": "stream",
     "text": [
      "Mean Squared Error: 0.42629269246023915\n",
      "Mean Absolute Error: 0.5613075171310218\n",
      "R-squared: -0.7101676072617364\n"
     ]
    }
   ],
   "source": [
    "# Calculate Mean Squared Error\n",
    "mse = mean_squared_error(df['User_Labels'], df['Normalized_Metric'])\n",
    "print(f\"Mean Squared Error: {mse}\")\n",
    "\n",
    "# Calculate Mean Absolute Error\n",
    "mae = mean_absolute_error(df['User_Labels'], df['Normalized_Metric'])\n",
    "print(f\"Mean Absolute Error: {mae}\")\n",
    "\n",
    "# Calculate R-squared\n",
    "r2 = r2_score(df['User_Labels'], df['Normalized_Metric'])\n",
    "print(f\"R-squared: {r2}\")\n"
   ]
  },
  {
   "cell_type": "code",
   "execution_count": null,
   "metadata": {},
   "outputs": [],
   "source": [
    "df['Binary_Metric'] = [1 if (x) > 0.5 else 0 for x in df['Metric']]"
   ]
  },
  {
   "cell_type": "code",
   "execution_count": null,
   "metadata": {},
   "outputs": [
    {
     "data": {
      "text/plain": [
       "1     1\n",
       "2     1\n",
       "3     1\n",
       "4     0\n",
       "6     1\n",
       "     ..\n",
       "90    1\n",
       "91    0\n",
       "93    1\n",
       "94    1\n",
       "95    1\n",
       "Name: Binary_Metric, Length: 74, dtype: int64"
      ]
     },
     "execution_count": 204,
     "metadata": {},
     "output_type": "execute_result"
    }
   ],
   "source": [
    "df['Binary_Metric']"
   ]
  },
  {
   "cell_type": "code",
   "execution_count": null,
   "metadata": {},
   "outputs": [
    {
     "name": "stdout",
     "output_type": "stream",
     "text": [
      "Accuracy: 0.581081081081081\n",
      "F1: 0.581081081081081\n",
      "Precision: 0.581081081081081\n",
      "Recall: 0.581081081081081\n"
     ]
    }
   ],
   "source": [
    "# Calculate Accuracy\n",
    "acc = accuracy_score(df['User_Labels'], df['Binary_Metric'])\n",
    "print(f\"Accuracy: {acc}\")\n",
    "\n",
    "# Calculate F1\n",
    "f1 = f1_score(df['User_Labels'], df['Binary_Metric'], average=\"micro\")\n",
    "print(f\"F1: {f1}\")\n",
    "\n",
    "# Calculate Precision\n",
    "prec = precision_score(df['User_Labels'], df['Binary_Metric'], average=\"micro\")\n",
    "print(f\"Precision: {prec}\")\n",
    "\n",
    "# Calculate Recall\n",
    "recall = recall_score(df['User_Labels'], df['Binary_Metric'], average=\"micro\")\n",
    "print(f\"Recall: {recall}\")"
   ]
  }
 ],
 "metadata": {
  "kernelspec": {
   "display_name": "venv",
   "language": "python",
   "name": "python3"
  },
  "language_info": {
   "codemirror_mode": {
    "name": "ipython",
    "version": 3
   },
   "file_extension": ".py",
   "mimetype": "text/x-python",
   "name": "python",
   "nbconvert_exporter": "python",
   "pygments_lexer": "ipython3",
   "version": "3.9.5"
  }
 },
 "nbformat": 4,
 "nbformat_minor": 2
}
