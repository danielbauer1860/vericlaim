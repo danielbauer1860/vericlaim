{
 "cells": [
  {
   "cell_type": "code",
   "execution_count": 2,
   "metadata": {},
   "outputs": [],
   "source": [
    "import pandas as pd\n",
    "import os\n",
    "import numpy as np\n",
    "from dotenv import load_dotenv\n",
    "import ast\n",
    "import glob\n",
    "import pingouin as pg\n",
    "\n",
    "load_dotenv()\n",
    "\n",
    "data_folder = os.getenv(\"DATA_FOLDER\")\n",
    "\n",
    "file_prefix = 'label_data'\n",
    "\n",
    "# Use glob to find all CSV files with the given filename start\n",
    "file_list = glob.glob(f\"{data_folder}/{file_prefix}*.csv\")\n",
    "\n",
    "# Read each file into a DataFrame and concatenate them into a single DataFrame\n",
    "dataframes = [pd.read_csv(file, sep=\";\",index_col=0) for file in file_list]\n",
    "df = pd.concat(dataframes, ignore_index=True)"
   ]
  },
  {
   "cell_type": "markdown",
   "metadata": {},
   "source": [
    "Testing for faulty labels"
   ]
  },
  {
   "cell_type": "code",
   "execution_count": 3,
   "metadata": {},
   "outputs": [
    {
     "name": "stdout",
     "output_type": "stream",
     "text": [
      "101\n"
     ]
    }
   ],
   "source": [
    "faulty_labels = 0\n",
    "def safe_literal_eval(x):\n",
    "    global faulty_labels\n",
    "    try:\n",
    "        return ast.literal_eval(x)\n",
    "    except:\n",
    "        faulty_labels += 1\n",
    "\n",
    "df['Labels'] = df['Labels'].apply(safe_literal_eval)\n",
    "print(faulty_labels)"
   ]
  },
  {
   "cell_type": "markdown",
   "metadata": {},
   "source": [
    "## Statistical Analysis of NewsGuard scores (before Transformation)"
   ]
  },
  {
   "cell_type": "code",
   "execution_count": 4,
   "metadata": {},
   "outputs": [],
   "source": [
    "df = df[df['Category'] != 'Coul']"
   ]
  },
  {
   "cell_type": "code",
   "execution_count": 5,
   "metadata": {},
   "outputs": [
    {
     "data": {
      "text/html": [
       "<div>\n",
       "<style scoped>\n",
       "    .dataframe tbody tr th:only-of-type {\n",
       "        vertical-align: middle;\n",
       "    }\n",
       "\n",
       "    .dataframe tbody tr th {\n",
       "        vertical-align: top;\n",
       "    }\n",
       "\n",
       "    .dataframe thead th {\n",
       "        text-align: right;\n",
       "    }\n",
       "</style>\n",
       "<table border=\"1\" class=\"dataframe\">\n",
       "  <thead>\n",
       "    <tr style=\"text-align: right;\">\n",
       "      <th></th>\n",
       "      <th>count</th>\n",
       "      <th>mean</th>\n",
       "      <th>std</th>\n",
       "      <th>min</th>\n",
       "      <th>25%</th>\n",
       "      <th>50%</th>\n",
       "      <th>75%</th>\n",
       "      <th>max</th>\n",
       "    </tr>\n",
       "    <tr>\n",
       "      <th>Category</th>\n",
       "      <th></th>\n",
       "      <th></th>\n",
       "      <th></th>\n",
       "      <th></th>\n",
       "      <th></th>\n",
       "      <th></th>\n",
       "      <th></th>\n",
       "      <th></th>\n",
       "    </tr>\n",
       "  </thead>\n",
       "  <tbody>\n",
       "    <tr>\n",
       "      <th>Misl</th>\n",
       "      <td>420.0</td>\n",
       "      <td>86.607946</td>\n",
       "      <td>14.821564</td>\n",
       "      <td>15.555556</td>\n",
       "      <td>84.705357</td>\n",
       "      <td>92.113095</td>\n",
       "      <td>95.232955</td>\n",
       "      <td>100.0</td>\n",
       "    </tr>\n",
       "    <tr>\n",
       "      <th>True</th>\n",
       "      <td>359.0</td>\n",
       "      <td>83.667999</td>\n",
       "      <td>17.965217</td>\n",
       "      <td>5.000000</td>\n",
       "      <td>82.500000</td>\n",
       "      <td>90.000000</td>\n",
       "      <td>93.880952</td>\n",
       "      <td>100.0</td>\n",
       "    </tr>\n",
       "  </tbody>\n",
       "</table>\n",
       "</div>"
      ],
      "text/plain": [
       "          count       mean        std        min        25%        50%  \\\n",
       "Category                                                                 \n",
       "Misl      420.0  86.607946  14.821564  15.555556  84.705357  92.113095   \n",
       "True      359.0  83.667999  17.965217   5.000000  82.500000  90.000000   \n",
       "\n",
       "                75%    max  \n",
       "Category                    \n",
       "Misl      95.232955  100.0  \n",
       "True      93.880952  100.0  "
      ]
     },
     "execution_count": 5,
     "metadata": {},
     "output_type": "execute_result"
    }
   ],
   "source": [
    "df.groupby('Category')['avg_score'].describe() "
   ]
  },
  {
   "cell_type": "code",
   "execution_count": 6,
   "metadata": {},
   "outputs": [
    {
     "data": {
      "text/html": [
       "<div>\n",
       "<style scoped>\n",
       "    .dataframe tbody tr th:only-of-type {\n",
       "        vertical-align: middle;\n",
       "    }\n",
       "\n",
       "    .dataframe tbody tr th {\n",
       "        vertical-align: top;\n",
       "    }\n",
       "\n",
       "    .dataframe thead th {\n",
       "        text-align: right;\n",
       "    }\n",
       "</style>\n",
       "<table border=\"1\" class=\"dataframe\">\n",
       "  <thead>\n",
       "    <tr style=\"text-align: right;\">\n",
       "      <th></th>\n",
       "      <th>U-val</th>\n",
       "      <th>alternative</th>\n",
       "      <th>p-val</th>\n",
       "      <th>RBC</th>\n",
       "      <th>CLES</th>\n",
       "    </tr>\n",
       "  </thead>\n",
       "  <tbody>\n",
       "    <tr>\n",
       "      <th>MWU</th>\n",
       "      <td>85611.5</td>\n",
       "      <td>greater</td>\n",
       "      <td>0.000547</td>\n",
       "      <td>0.135582</td>\n",
       "      <td>0.567791</td>\n",
       "    </tr>\n",
       "  </tbody>\n",
       "</table>\n",
       "</div>"
      ],
      "text/plain": [
       "       U-val alternative     p-val       RBC      CLES\n",
       "MWU  85611.5     greater  0.000547  0.135582  0.567791"
      ]
     },
     "execution_count": 6,
     "metadata": {},
     "output_type": "execute_result"
    }
   ],
   "source": [
    "pg.normality(data=df, dv='avg_score', group='Category') #not normally distributed\n",
    "pg.mwu(x=df.loc[df['Category'] == 'Misl', 'avg_score'],\n",
    "                y=df.loc[df['Category'] == 'True', 'avg_score'],\n",
    "                alternative='greater') #Mann-Whitney U (testing if Misl (Group 1) is higher than True (Group 2) -> differences statistically significant, but with a small effect size (RBC < 0.3)"
   ]
  },
  {
   "cell_type": "markdown",
   "metadata": {},
   "source": [
    "Rerunning the analysis for only the non-NaN label values"
   ]
  },
  {
   "cell_type": "code",
   "execution_count": 7,
   "metadata": {},
   "outputs": [],
   "source": [
    "df = df[df['Labels'].notna()]"
   ]
  },
  {
   "cell_type": "code",
   "execution_count": 8,
   "metadata": {},
   "outputs": [
    {
     "data": {
      "text/html": [
       "<div>\n",
       "<style scoped>\n",
       "    .dataframe tbody tr th:only-of-type {\n",
       "        vertical-align: middle;\n",
       "    }\n",
       "\n",
       "    .dataframe tbody tr th {\n",
       "        vertical-align: top;\n",
       "    }\n",
       "\n",
       "    .dataframe thead th {\n",
       "        text-align: right;\n",
       "    }\n",
       "</style>\n",
       "<table border=\"1\" class=\"dataframe\">\n",
       "  <thead>\n",
       "    <tr style=\"text-align: right;\">\n",
       "      <th></th>\n",
       "      <th>count</th>\n",
       "      <th>mean</th>\n",
       "      <th>std</th>\n",
       "      <th>min</th>\n",
       "      <th>25%</th>\n",
       "      <th>50%</th>\n",
       "      <th>75%</th>\n",
       "      <th>max</th>\n",
       "    </tr>\n",
       "    <tr>\n",
       "      <th>Category</th>\n",
       "      <th></th>\n",
       "      <th></th>\n",
       "      <th></th>\n",
       "      <th></th>\n",
       "      <th></th>\n",
       "      <th></th>\n",
       "      <th></th>\n",
       "      <th></th>\n",
       "    </tr>\n",
       "  </thead>\n",
       "  <tbody>\n",
       "    <tr>\n",
       "      <th>Misl</th>\n",
       "      <td>368.0</td>\n",
       "      <td>86.641955</td>\n",
       "      <td>14.599342</td>\n",
       "      <td>15.555556</td>\n",
       "      <td>85.000000</td>\n",
       "      <td>92.083333</td>\n",
       "      <td>95.0000</td>\n",
       "      <td>100.0</td>\n",
       "    </tr>\n",
       "    <tr>\n",
       "      <th>True</th>\n",
       "      <td>330.0</td>\n",
       "      <td>85.077213</td>\n",
       "      <td>15.746573</td>\n",
       "      <td>5.000000</td>\n",
       "      <td>83.517857</td>\n",
       "      <td>90.217857</td>\n",
       "      <td>94.1125</td>\n",
       "      <td>100.0</td>\n",
       "    </tr>\n",
       "  </tbody>\n",
       "</table>\n",
       "</div>"
      ],
      "text/plain": [
       "          count       mean        std        min        25%        50%  \\\n",
       "Category                                                                 \n",
       "Misl      368.0  86.641955  14.599342  15.555556  85.000000  92.083333   \n",
       "True      330.0  85.077213  15.746573   5.000000  83.517857  90.217857   \n",
       "\n",
       "              75%    max  \n",
       "Category                  \n",
       "Misl      95.0000  100.0  \n",
       "True      94.1125  100.0  "
      ]
     },
     "execution_count": 8,
     "metadata": {},
     "output_type": "execute_result"
    }
   ],
   "source": [
    "df.groupby('Category')['avg_score'].describe() "
   ]
  },
  {
   "cell_type": "code",
   "execution_count": 9,
   "metadata": {},
   "outputs": [
    {
     "data": {
      "text/html": [
       "<div>\n",
       "<style scoped>\n",
       "    .dataframe tbody tr th:only-of-type {\n",
       "        vertical-align: middle;\n",
       "    }\n",
       "\n",
       "    .dataframe tbody tr th {\n",
       "        vertical-align: top;\n",
       "    }\n",
       "\n",
       "    .dataframe thead th {\n",
       "        text-align: right;\n",
       "    }\n",
       "</style>\n",
       "<table border=\"1\" class=\"dataframe\">\n",
       "  <thead>\n",
       "    <tr style=\"text-align: right;\">\n",
       "      <th></th>\n",
       "      <th>U-val</th>\n",
       "      <th>alternative</th>\n",
       "      <th>p-val</th>\n",
       "      <th>RBC</th>\n",
       "      <th>CLES</th>\n",
       "    </tr>\n",
       "  </thead>\n",
       "  <tbody>\n",
       "    <tr>\n",
       "      <th>MWU</th>\n",
       "      <td>67620.0</td>\n",
       "      <td>greater</td>\n",
       "      <td>0.004739</td>\n",
       "      <td>0.113636</td>\n",
       "      <td>0.556818</td>\n",
       "    </tr>\n",
       "  </tbody>\n",
       "</table>\n",
       "</div>"
      ],
      "text/plain": [
       "       U-val alternative     p-val       RBC      CLES\n",
       "MWU  67620.0     greater  0.004739  0.113636  0.556818"
      ]
     },
     "execution_count": 9,
     "metadata": {},
     "output_type": "execute_result"
    }
   ],
   "source": [
    "pg.normality(data=df, dv='avg_score', group='Category') #not normally distributed\n",
    "pg.mwu(x=df.loc[df['Category'] == 'Misl', 'avg_score'],\n",
    "                y=df.loc[df['Category'] == 'True', 'avg_score'],\n",
    "                alternative='greater') #Mann-Whitney U (testing if Misl (Group 1) is higher than True (Group 2) -> differences statistically significant, but with a small effect size (RBC < 0.3)"
   ]
  },
  {
   "cell_type": "code",
   "execution_count": 10,
   "metadata": {},
   "outputs": [],
   "source": [
    "# placeholder_ng_score = df['avg_score'].median()\n",
    "# placeholder_ng_score"
   ]
  },
  {
   "cell_type": "markdown",
   "metadata": {},
   "source": [
    "## Feature Extraction"
   ]
  },
  {
   "cell_type": "markdown",
   "metadata": {},
   "source": [
    "This is the main function for extracting and calculating the features for analysis."
   ]
  },
  {
   "cell_type": "code",
   "execution_count": 11,
   "metadata": {},
   "outputs": [],
   "source": [
    "def retrieve_params(label_dict_list, positions=False, headlines=False):\n",
    "    #create three distinct lists to control each parameter\n",
    "    # if label_dict_list is empty return NaN\n",
    "    if not label_dict_list:\n",
    "        return np.nan\n",
    "    article_stances = []\n",
    "    article_ng_scores = []\n",
    "    article_serp_positions = []\n",
    "    \n",
    "    for article in label_dict_list: #this is the search level; here we can retrieve SERP position and Newsguard score\n",
    "        if not article: #catch empty entries\n",
    "            continue\n",
    "        if len(article['comparisons']) == 0:\n",
    "               continue\n",
    "        #retrieve variables\n",
    "        serp_newsguard = article['serp_newsguard']\n",
    "        serp_position = article['serp_position']\n",
    "\n",
    "        #add to lists for decomposed calculation\n",
    "        article_ng_scores.append(serp_newsguard)\n",
    "        article_serp_positions.append(serp_position)\n",
    "\n",
    "        article_stance = 0\n",
    "        for claim_pair in article['comparisons']: #this is the \"article level\"; here we can retrieve relative claim position and the bool headline info\n",
    "            relation = claim_pair['relation']\n",
    "\n",
    "            if relation == 0: #skip calculation logic for unrelated claims\n",
    "                continue\n",
    "\n",
    "            try:\n",
    "                #retrieve relative claim positions\n",
    "                fm_claim_position = claim_pair['fm_claim_position']\n",
    "                serp_claim_position = claim_pair['serp_claim_position']\n",
    "\n",
    "                #retrieve headline bool\n",
    "                fm_claim_headline = claim_pair['fm_claim_headline']\n",
    "                serp_claim_headline = claim_pair['serp_claim_headline']\n",
    "\n",
    "            except:\n",
    "                pass\n",
    "\n",
    "            if not positions and not headlines: #calculate article stance only based on relation\n",
    "                article_stance += relation\n",
    "            if positions and not headlines: #calculate article stance based on relation and position\n",
    "                if relation in [-1, 1]:\n",
    "                    if serp_claim_position < fm_claim_position: #if serp claim earlier in the article than the respective fm claim\n",
    "                        article_stance += relation + (serp_claim_position - fm_claim_position) if relation == -1 else relation - (serp_claim_position - fm_claim_position) #e.g. -1 - dif else 1 + dif (reinforcing in each direction)\n",
    "                    else: # if serp claim later in article than the respective fm claim\n",
    "                        article_stance += relation - (fm_claim_position - serp_claim_position) if relation == -1 else relation + (fm_claim_position - serp_claim_position) #e.g. - 1 + dif else 1 - dif (weakening in each direction)\n",
    "            if positions and headlines:\n",
    "                if relation in [-1, 1]:\n",
    "                    individual_stance = 0\n",
    "                    if serp_claim_position < fm_claim_position: #if serp claim earlier in the article than the respective fm claim\n",
    "                        individual_stance = relation + (serp_claim_position - fm_claim_position) if relation == -1 else relation - (serp_claim_position - fm_claim_position) #e.g. -1 - dif else 1 + dif (reinforcing in each direction)\n",
    "                        if serp_claim_headline:\n",
    "                            individual_stance *= 2\n",
    "                    else: # if serp claim later in article than the respective fm claim\n",
    "                        individual_stance = relation - (fm_claim_position - serp_claim_position) if relation == -1 else relation + (fm_claim_position - serp_claim_position) #e.g. - 1 + dif else 1 - dif (weakening in each direction)\n",
    "                        if serp_claim_headline:\n",
    "                                individual_stance *= 2\n",
    "                    article_stance += individual_stance\n",
    "            if headlines and not positions:\n",
    "                article_stance += relation * serp_claim_headline \n",
    "        if headlines and not positions:\n",
    "            article_stances.append(article_stance/len(article['comparisons']))\n",
    "        else:\n",
    "            article_stances.append(article_stance/len(article['comparisons']))\n",
    "\n",
    "    #if article_stances could not be successfully retrieved, return NaN\n",
    "    if not article_stances:\n",
    "        return np.nan\n",
    "    \n",
    "    article_ng_scores = np.array(article_ng_scores, dtype=float)\n",
    "    # article_ng_scores = np.nan_to_num(article_ng_scores, nan=placeholder_ng_score) \n",
    "\n",
    "    return {'article_stances': article_stances, 'article_ng_scores': article_ng_scores, 'article_serp_positions': article_serp_positions}"
   ]
  },
  {
   "cell_type": "markdown",
   "metadata": {},
   "source": [
    "Extracting the features based on different configs"
   ]
  },
  {
   "cell_type": "code",
   "execution_count": 12,
   "metadata": {},
   "outputs": [],
   "source": [
    "df['Features_Raw']= df['Labels'].apply(retrieve_params)\n",
    "df['Features_Pos']= df['Labels'].apply(lambda x: retrieve_params(x, positions=True, headlines=False))\n",
    "df['Features_H']= df['Labels'].apply(lambda x: retrieve_params(x, positions=False, headlines=True))\n",
    "df['Features_HP']= df['Labels'].apply(lambda x: retrieve_params(x, positions=True, headlines=True))"
   ]
  },
  {
   "cell_type": "code",
   "execution_count": 13,
   "metadata": {},
   "outputs": [],
   "source": [
    "df = df[df['Features_Raw'].notna()]"
   ]
  },
  {
   "cell_type": "code",
   "execution_count": 14,
   "metadata": {},
   "outputs": [
    {
     "data": {
      "text/html": [
       "<div>\n",
       "<style scoped>\n",
       "    .dataframe tbody tr th:only-of-type {\n",
       "        vertical-align: middle;\n",
       "    }\n",
       "\n",
       "    .dataframe tbody tr th {\n",
       "        vertical-align: top;\n",
       "    }\n",
       "\n",
       "    .dataframe thead th {\n",
       "        text-align: right;\n",
       "    }\n",
       "</style>\n",
       "<table border=\"1\" class=\"dataframe\">\n",
       "  <thead>\n",
       "    <tr style=\"text-align: right;\">\n",
       "      <th></th>\n",
       "      <th>Article_day</th>\n",
       "      <th>ResponseId</th>\n",
       "      <th>Day</th>\n",
       "      <th>Category</th>\n",
       "      <th>True_Dummy</th>\n",
       "      <th>Seven_Ordinal</th>\n",
       "      <th>Four_Ordinal</th>\n",
       "      <th>Age</th>\n",
       "      <th>Gender</th>\n",
       "      <th>FC_Eval</th>\n",
       "      <th>...</th>\n",
       "      <th>avg_score</th>\n",
       "      <th>list_domains</th>\n",
       "      <th>list_scores</th>\n",
       "      <th>all_clean_urls</th>\n",
       "      <th>newsguard_dict</th>\n",
       "      <th>Labels</th>\n",
       "      <th>Features_Raw</th>\n",
       "      <th>Features_Pos</th>\n",
       "      <th>Features_H</th>\n",
       "      <th>Features_HP</th>\n",
       "    </tr>\n",
       "  </thead>\n",
       "  <tbody>\n",
       "    <tr>\n",
       "      <th>1</th>\n",
       "      <td>Day_1_1</td>\n",
       "      <td>R_1Gv8iAs1HEqGuUe</td>\n",
       "      <td>Day_1</td>\n",
       "      <td>Misl</td>\n",
       "      <td>0</td>\n",
       "      <td>1</td>\n",
       "      <td>1</td>\n",
       "      <td>35</td>\n",
       "      <td>1</td>\n",
       "      <td>FM</td>\n",
       "      <td>...</td>\n",
       "      <td>95.277778</td>\n",
       "      <td>abc15.com', 'salon.com', 'cnn.com', 'politico....</td>\n",
       "      <td>100,87.5,87.5,100,95,95,100,100,92.5</td>\n",
       "      <td>('https://www.abc15.com/news/state/poll-many-r...</td>\n",
       "      <td>{'abc15.com': 100, 'salon.com': 87.5, 'cnn.com...</td>\n",
       "      <td>[{}, {}, {}, {}, {}, {}, {}, {}, {}, {'compari...</td>\n",
       "      <td>{'article_stances': [0.0], 'article_ng_scores'...</td>\n",
       "      <td>{'article_stances': [-0.011111111111111125], '...</td>\n",
       "      <td>{'article_stances': [0.0], 'article_ng_scores'...</td>\n",
       "      <td>{'article_stances': [-0.011111111111111125], '...</td>\n",
       "    </tr>\n",
       "    <tr>\n",
       "      <th>2</th>\n",
       "      <td>Day_1_1</td>\n",
       "      <td>R_1Gv8iAs1HEqGuUe</td>\n",
       "      <td>Day_1</td>\n",
       "      <td>Misl</td>\n",
       "      <td>0</td>\n",
       "      <td>1</td>\n",
       "      <td>1</td>\n",
       "      <td>35</td>\n",
       "      <td>1</td>\n",
       "      <td>FM</td>\n",
       "      <td>...</td>\n",
       "      <td>83.450000</td>\n",
       "      <td>cnn.com', 'thehill.com', 'salon.com', 'washing...</td>\n",
       "      <td>87.5,80,87.5,42,87.5,100,92.5,87.5,85,85</td>\n",
       "      <td>('https://www.cnn.com/2021/07/18/politics/fact...</td>\n",
       "      <td>{'cnn.com': 87.5, 'thehill.com': 80, 'salon.co...</td>\n",
       "      <td>[{'comparisons': [{'claim_article_a': \"Arizona...</td>\n",
       "      <td>{'article_stances': [-0.2, 0.08, -0.12, 0.0], ...</td>\n",
       "      <td>{'article_stances': [-0.20393939393939392, 0.2...</td>\n",
       "      <td>{'article_stances': [0.0, 0.2, 0.0, 0.0], 'art...</td>\n",
       "      <td>{'article_stances': [-0.20393939393939392, 0.4...</td>\n",
       "    </tr>\n",
       "    <tr>\n",
       "      <th>3</th>\n",
       "      <td>Day_1_1</td>\n",
       "      <td>R_3KT6q7Vntwvmg8Z</td>\n",
       "      <td>Day_1</td>\n",
       "      <td>True</td>\n",
       "      <td>1</td>\n",
       "      <td>7</td>\n",
       "      <td>3</td>\n",
       "      <td>33</td>\n",
       "      <td>1</td>\n",
       "      <td>FM</td>\n",
       "      <td>...</td>\n",
       "      <td>92.812500</td>\n",
       "      <td>thehill.com', 'recorder.maricopa.gov', 'washin...</td>\n",
       "      <td>80,100,100,100,100,92.5,75,95</td>\n",
       "      <td>('https://thehill.com/homenews/campaign/563100...</td>\n",
       "      <td>{'thehill.com': 80, 'recorder.maricopa.gov': 1...</td>\n",
       "      <td>[{}, {}, {'comparisons': [{'claim_article_a': ...</td>\n",
       "      <td>{'article_stances': [0.24, 0.4, 0.12, 0.4, 0.2...</td>\n",
       "      <td>{'article_stances': [0.2829512516469038, 0.475...</td>\n",
       "      <td>{'article_stances': [0.0, 0.2, 0.0, 0.2, 0.0, ...</td>\n",
       "      <td>{'article_stances': [0.2829512516469038, 0.745...</td>\n",
       "    </tr>\n",
       "    <tr>\n",
       "      <th>4</th>\n",
       "      <td>Day_1_1</td>\n",
       "      <td>R_1Gv8iAs1HEqGuUe</td>\n",
       "      <td>Day_1</td>\n",
       "      <td>Misl</td>\n",
       "      <td>0</td>\n",
       "      <td>1</td>\n",
       "      <td>1</td>\n",
       "      <td>35</td>\n",
       "      <td>1</td>\n",
       "      <td>FM</td>\n",
       "      <td>...</td>\n",
       "      <td>96.000000</td>\n",
       "      <td>apnews.com', 'detroitnews.com', 'cnn.com', 'ap...</td>\n",
       "      <td>95,92.5,87.5,95,95,100,100,100,100,95</td>\n",
       "      <td>('https://apnews.com/article/technology-joe-bi...</td>\n",
       "      <td>{'apnews.com': 95, 'detroitnews.com': 92.5, 'c...</td>\n",
       "      <td>[{}, {}, {'comparisons': [{'claim_article_a': ...</td>\n",
       "      <td>{'article_stances': [-0.2, -0.8, -0.28, -1.0, ...</td>\n",
       "      <td>{'article_stances': [-0.20393939393939392, -1....</td>\n",
       "      <td>{'article_stances': [0.0, -0.8, 0.12, -0.2, -0...</td>\n",
       "      <td>{'article_stances': [-0.20393939393939392, -2....</td>\n",
       "    </tr>\n",
       "    <tr>\n",
       "      <th>6</th>\n",
       "      <td>Day_1_1</td>\n",
       "      <td>R_3LXaF7Z7z740d2k</td>\n",
       "      <td>Day_1</td>\n",
       "      <td>Misl</td>\n",
       "      <td>0</td>\n",
       "      <td>1</td>\n",
       "      <td>1</td>\n",
       "      <td>26</td>\n",
       "      <td>1</td>\n",
       "      <td>FM</td>\n",
       "      <td>...</td>\n",
       "      <td>70.500000</td>\n",
       "      <td>westernjournal.com', 'newsweek.com', 'flipboar...</td>\n",
       "      <td>82,100,12.5,87.5</td>\n",
       "      <td>('https://www.westernjournal.com/az-state-sena...</td>\n",
       "      <td>{'westernjournal.com': 82, 'newsweek.com': 100...</td>\n",
       "      <td>[{'comparisons': [{'claim_article_a': \"Arizona...</td>\n",
       "      <td>{'article_stances': [0.16, -0.16], 'article_ng...</td>\n",
       "      <td>{'article_stances': [0.1693333333333333, -0.08...</td>\n",
       "      <td>{'article_stances': [0.04, 0.04], 'article_ng_...</td>\n",
       "      <td>{'article_stances': [0.20954545454545453, -0.0...</td>\n",
       "    </tr>\n",
       "    <tr>\n",
       "      <th>...</th>\n",
       "      <td>...</td>\n",
       "      <td>...</td>\n",
       "      <td>...</td>\n",
       "      <td>...</td>\n",
       "      <td>...</td>\n",
       "      <td>...</td>\n",
       "      <td>...</td>\n",
       "      <td>...</td>\n",
       "      <td>...</td>\n",
       "      <td>...</td>\n",
       "      <td>...</td>\n",
       "      <td>...</td>\n",
       "      <td>...</td>\n",
       "      <td>...</td>\n",
       "      <td>...</td>\n",
       "      <td>...</td>\n",
       "      <td>...</td>\n",
       "      <td>...</td>\n",
       "      <td>...</td>\n",
       "      <td>...</td>\n",
       "      <td>...</td>\n",
       "    </tr>\n",
       "    <tr>\n",
       "      <th>954</th>\n",
       "      <td>Day_9_3</td>\n",
       "      <td>R_2QEWqk6A2nnsg7O</td>\n",
       "      <td>Day_9</td>\n",
       "      <td>True</td>\n",
       "      <td>1</td>\n",
       "      <td>6</td>\n",
       "      <td>4</td>\n",
       "      <td>26</td>\n",
       "      <td>0</td>\n",
       "      <td>FM</td>\n",
       "      <td>...</td>\n",
       "      <td>91.666667</td>\n",
       "      <td>cnn.com', 'cnn.com', 'cnn.com', 'cnn.com', 'cn...</td>\n",
       "      <td>87.5,87.5,87.5,87.5,87.5,87.5,100,100,100</td>\n",
       "      <td>('https://www.cnn.com/videos/us/2021/10/25/nih...</td>\n",
       "      <td>{'cnn.com': 87.5, 'npr.org': 100, 'nytimes.com...</td>\n",
       "      <td>[{'comparisons': [{'claim_article_a': \"The NIH...</td>\n",
       "      <td>{'article_stances': [1.0], 'article_ng_scores'...</td>\n",
       "      <td>{'article_stances': [1.3117647058823534], 'art...</td>\n",
       "      <td>{'article_stances': [1.0], 'article_ng_scores'...</td>\n",
       "      <td>{'article_stances': [2.6235294117647068], 'art...</td>\n",
       "    </tr>\n",
       "    <tr>\n",
       "      <th>955</th>\n",
       "      <td>Day_9_3</td>\n",
       "      <td>R_3P7x5JWi3Xcbsqi</td>\n",
       "      <td>Day_9</td>\n",
       "      <td>True</td>\n",
       "      <td>1</td>\n",
       "      <td>7</td>\n",
       "      <td>4</td>\n",
       "      <td>25</td>\n",
       "      <td>1</td>\n",
       "      <td>FM</td>\n",
       "      <td>...</td>\n",
       "      <td>90.000000</td>\n",
       "      <td>nih.gov', 'nih.gov', ''', 'jacksonville.com', ...</td>\n",
       "      <td>82.5,82.5,100,95</td>\n",
       "      <td>('https://www.nih.gov/news-events/news-release...</td>\n",
       "      <td>{}</td>\n",
       "      <td>[{'comparisons': [{'claim_article_a': \"The NIH...</td>\n",
       "      <td>{'article_stances': [-0.12, -0.2], 'article_ng...</td>\n",
       "      <td>{'article_stances': [-0.1420211161387632, -0.2...</td>\n",
       "      <td>{'article_stances': [0.0, 0.0], 'article_ng_sc...</td>\n",
       "      <td>{'article_stances': [-0.1420211161387632, -0.2...</td>\n",
       "    </tr>\n",
       "    <tr>\n",
       "      <th>956</th>\n",
       "      <td>Day_9_3</td>\n",
       "      <td>R_3JqGYdN07AFVzOf</td>\n",
       "      <td>Day_9</td>\n",
       "      <td>Misl</td>\n",
       "      <td>0</td>\n",
       "      <td>1</td>\n",
       "      <td>1</td>\n",
       "      <td>41</td>\n",
       "      <td>0</td>\n",
       "      <td>FM</td>\n",
       "      <td>...</td>\n",
       "      <td>98.437500</td>\n",
       "      <td>factcheck.org', 'yahoo.com', 'theintercept.com...</td>\n",
       "      <td>100,100,87.5,100,100,100,100,100</td>\n",
       "      <td>('https://www.factcheck.org/2021/10/scicheck-r...</td>\n",
       "      <td>{'factcheck.org': 100, 'yahoo.com': 100, 'thei...</td>\n",
       "      <td>[{'comparisons': [{'claim_article_a': \"The NIH...</td>\n",
       "      <td>{'article_stances': [-0.08, 0.0, 0.2, 0.2, 0.2...</td>\n",
       "      <td>{'article_stances': [-0.055083591331269374, -0...</td>\n",
       "      <td>{'article_stances': [0.0, 0.0, 0.0, 0.16, 0.0]...</td>\n",
       "      <td>{'article_stances': [-0.055083591331269374, -0...</td>\n",
       "    </tr>\n",
       "    <tr>\n",
       "      <th>957</th>\n",
       "      <td>Day_9_3</td>\n",
       "      <td>R_1P6MQAwGMgs0Loo</td>\n",
       "      <td>Day_9</td>\n",
       "      <td>True</td>\n",
       "      <td>1</td>\n",
       "      <td>5</td>\n",
       "      <td>3</td>\n",
       "      <td>39</td>\n",
       "      <td>0</td>\n",
       "      <td>FM</td>\n",
       "      <td>...</td>\n",
       "      <td>94.166667</td>\n",
       "      <td>googleadservices.com', 'scientificamerican.com...</td>\n",
       "      <td>100,77.5,87.5,100,100,100</td>\n",
       "      <td>('https://www.googleadservices.com/', 'https:/...</td>\n",
       "      <td>{'googleadservices.com': 100, 'scientificameri...</td>\n",
       "      <td>[{}, {'comparisons': [{'claim_article_a': \"The...</td>\n",
       "      <td>{'article_stances': [-0.04, 0.0, 0.0, 0.08, -0...</td>\n",
       "      <td>{'article_stances': [-0.040581473968897906, -0...</td>\n",
       "      <td>{'article_stances': [0.0, 0.0, 0.0, 0.0, 0.0],...</td>\n",
       "      <td>{'article_stances': [-0.040581473968897906, -0...</td>\n",
       "    </tr>\n",
       "    <tr>\n",
       "      <th>958</th>\n",
       "      <td>Day_9_3</td>\n",
       "      <td>R_rcgF4h6LylUXPUd</td>\n",
       "      <td>Day_9</td>\n",
       "      <td>Misl</td>\n",
       "      <td>0</td>\n",
       "      <td>1</td>\n",
       "      <td>2</td>\n",
       "      <td>23</td>\n",
       "      <td>0</td>\n",
       "      <td>FM</td>\n",
       "      <td>...</td>\n",
       "      <td>92.500000</td>\n",
       "      <td>covid19.nih.gov', 'grants.nih.gov', 'grants.ni...</td>\n",
       "      <td>100,87.5,100,87.5,87.5</td>\n",
       "      <td>('https://covid19.nih.gov/funding#:~:text=NIH%...</td>\n",
       "      <td>{'covid19.nih.gov': 100, 'grants.nih.gov': 87.5}</td>\n",
       "      <td>[{}, {}, {}, {}, {}, {'comparisons': [{'claim_...</td>\n",
       "      <td>{'article_stances': [-0.08, 0.24, 0.28], 'arti...</td>\n",
       "      <td>{'article_stances': [-0.055083591331269374, 0....</td>\n",
       "      <td>{'article_stances': [0.0, 0.08, 0.0], 'article...</td>\n",
       "      <td>{'article_stances': [-0.055083591331269374, 0....</td>\n",
       "    </tr>\n",
       "  </tbody>\n",
       "</table>\n",
       "<p>595 rows × 41 columns</p>\n",
       "</div>"
      ],
      "text/plain": [
       "    Article_day         ResponseId    Day Category  True_Dummy  Seven_Ordinal  \\\n",
       "1       Day_1_1  R_1Gv8iAs1HEqGuUe  Day_1     Misl           0              1   \n",
       "2       Day_1_1  R_1Gv8iAs1HEqGuUe  Day_1     Misl           0              1   \n",
       "3       Day_1_1  R_3KT6q7Vntwvmg8Z  Day_1     True           1              7   \n",
       "4       Day_1_1  R_1Gv8iAs1HEqGuUe  Day_1     Misl           0              1   \n",
       "6       Day_1_1  R_3LXaF7Z7z740d2k  Day_1     Misl           0              1   \n",
       "..          ...                ...    ...      ...         ...            ...   \n",
       "954     Day_9_3  R_2QEWqk6A2nnsg7O  Day_9     True           1              6   \n",
       "955     Day_9_3  R_3P7x5JWi3Xcbsqi  Day_9     True           1              7   \n",
       "956     Day_9_3  R_3JqGYdN07AFVzOf  Day_9     Misl           0              1   \n",
       "957     Day_9_3  R_1P6MQAwGMgs0Loo  Day_9     True           1              5   \n",
       "958     Day_9_3  R_rcgF4h6LylUXPUd  Day_9     Misl           0              1   \n",
       "\n",
       "     Four_Ordinal  Age  Gender FC_Eval  ...  avg_score  \\\n",
       "1               1   35       1      FM  ...  95.277778   \n",
       "2               1   35       1      FM  ...  83.450000   \n",
       "3               3   33       1      FM  ...  92.812500   \n",
       "4               1   35       1      FM  ...  96.000000   \n",
       "6               1   26       1      FM  ...  70.500000   \n",
       "..            ...  ...     ...     ...  ...        ...   \n",
       "954             4   26       0      FM  ...  91.666667   \n",
       "955             4   25       1      FM  ...  90.000000   \n",
       "956             1   41       0      FM  ...  98.437500   \n",
       "957             3   39       0      FM  ...  94.166667   \n",
       "958             2   23       0      FM  ...  92.500000   \n",
       "\n",
       "                                          list_domains  \\\n",
       "1    abc15.com', 'salon.com', 'cnn.com', 'politico....   \n",
       "2    cnn.com', 'thehill.com', 'salon.com', 'washing...   \n",
       "3    thehill.com', 'recorder.maricopa.gov', 'washin...   \n",
       "4    apnews.com', 'detroitnews.com', 'cnn.com', 'ap...   \n",
       "6    westernjournal.com', 'newsweek.com', 'flipboar...   \n",
       "..                                                 ...   \n",
       "954  cnn.com', 'cnn.com', 'cnn.com', 'cnn.com', 'cn...   \n",
       "955  nih.gov', 'nih.gov', ''', 'jacksonville.com', ...   \n",
       "956  factcheck.org', 'yahoo.com', 'theintercept.com...   \n",
       "957  googleadservices.com', 'scientificamerican.com...   \n",
       "958  covid19.nih.gov', 'grants.nih.gov', 'grants.ni...   \n",
       "\n",
       "                                   list_scores  \\\n",
       "1         100,87.5,87.5,100,95,95,100,100,92.5   \n",
       "2     87.5,80,87.5,42,87.5,100,92.5,87.5,85,85   \n",
       "3                80,100,100,100,100,92.5,75,95   \n",
       "4        95,92.5,87.5,95,95,100,100,100,100,95   \n",
       "6                             82,100,12.5,87.5   \n",
       "..                                         ...   \n",
       "954  87.5,87.5,87.5,87.5,87.5,87.5,100,100,100   \n",
       "955                           82.5,82.5,100,95   \n",
       "956           100,100,87.5,100,100,100,100,100   \n",
       "957                  100,77.5,87.5,100,100,100   \n",
       "958                     100,87.5,100,87.5,87.5   \n",
       "\n",
       "                                        all_clean_urls  \\\n",
       "1    ('https://www.abc15.com/news/state/poll-many-r...   \n",
       "2    ('https://www.cnn.com/2021/07/18/politics/fact...   \n",
       "3    ('https://thehill.com/homenews/campaign/563100...   \n",
       "4    ('https://apnews.com/article/technology-joe-bi...   \n",
       "6    ('https://www.westernjournal.com/az-state-sena...   \n",
       "..                                                 ...   \n",
       "954  ('https://www.cnn.com/videos/us/2021/10/25/nih...   \n",
       "955  ('https://www.nih.gov/news-events/news-release...   \n",
       "956  ('https://www.factcheck.org/2021/10/scicheck-r...   \n",
       "957  ('https://www.googleadservices.com/', 'https:/...   \n",
       "958  ('https://covid19.nih.gov/funding#:~:text=NIH%...   \n",
       "\n",
       "                                        newsguard_dict  \\\n",
       "1    {'abc15.com': 100, 'salon.com': 87.5, 'cnn.com...   \n",
       "2    {'cnn.com': 87.5, 'thehill.com': 80, 'salon.co...   \n",
       "3    {'thehill.com': 80, 'recorder.maricopa.gov': 1...   \n",
       "4    {'apnews.com': 95, 'detroitnews.com': 92.5, 'c...   \n",
       "6    {'westernjournal.com': 82, 'newsweek.com': 100...   \n",
       "..                                                 ...   \n",
       "954  {'cnn.com': 87.5, 'npr.org': 100, 'nytimes.com...   \n",
       "955                                                 {}   \n",
       "956  {'factcheck.org': 100, 'yahoo.com': 100, 'thei...   \n",
       "957  {'googleadservices.com': 100, 'scientificameri...   \n",
       "958   {'covid19.nih.gov': 100, 'grants.nih.gov': 87.5}   \n",
       "\n",
       "                                                Labels  \\\n",
       "1    [{}, {}, {}, {}, {}, {}, {}, {}, {}, {'compari...   \n",
       "2    [{'comparisons': [{'claim_article_a': \"Arizona...   \n",
       "3    [{}, {}, {'comparisons': [{'claim_article_a': ...   \n",
       "4    [{}, {}, {'comparisons': [{'claim_article_a': ...   \n",
       "6    [{'comparisons': [{'claim_article_a': \"Arizona...   \n",
       "..                                                 ...   \n",
       "954  [{'comparisons': [{'claim_article_a': \"The NIH...   \n",
       "955  [{'comparisons': [{'claim_article_a': \"The NIH...   \n",
       "956  [{'comparisons': [{'claim_article_a': \"The NIH...   \n",
       "957  [{}, {'comparisons': [{'claim_article_a': \"The...   \n",
       "958  [{}, {}, {}, {}, {}, {'comparisons': [{'claim_...   \n",
       "\n",
       "                                          Features_Raw  \\\n",
       "1    {'article_stances': [0.0], 'article_ng_scores'...   \n",
       "2    {'article_stances': [-0.2, 0.08, -0.12, 0.0], ...   \n",
       "3    {'article_stances': [0.24, 0.4, 0.12, 0.4, 0.2...   \n",
       "4    {'article_stances': [-0.2, -0.8, -0.28, -1.0, ...   \n",
       "6    {'article_stances': [0.16, -0.16], 'article_ng...   \n",
       "..                                                 ...   \n",
       "954  {'article_stances': [1.0], 'article_ng_scores'...   \n",
       "955  {'article_stances': [-0.12, -0.2], 'article_ng...   \n",
       "956  {'article_stances': [-0.08, 0.0, 0.2, 0.2, 0.2...   \n",
       "957  {'article_stances': [-0.04, 0.0, 0.0, 0.08, -0...   \n",
       "958  {'article_stances': [-0.08, 0.24, 0.28], 'arti...   \n",
       "\n",
       "                                          Features_Pos  \\\n",
       "1    {'article_stances': [-0.011111111111111125], '...   \n",
       "2    {'article_stances': [-0.20393939393939392, 0.2...   \n",
       "3    {'article_stances': [0.2829512516469038, 0.475...   \n",
       "4    {'article_stances': [-0.20393939393939392, -1....   \n",
       "6    {'article_stances': [0.1693333333333333, -0.08...   \n",
       "..                                                 ...   \n",
       "954  {'article_stances': [1.3117647058823534], 'art...   \n",
       "955  {'article_stances': [-0.1420211161387632, -0.2...   \n",
       "956  {'article_stances': [-0.055083591331269374, -0...   \n",
       "957  {'article_stances': [-0.040581473968897906, -0...   \n",
       "958  {'article_stances': [-0.055083591331269374, 0....   \n",
       "\n",
       "                                            Features_H  \\\n",
       "1    {'article_stances': [0.0], 'article_ng_scores'...   \n",
       "2    {'article_stances': [0.0, 0.2, 0.0, 0.0], 'art...   \n",
       "3    {'article_stances': [0.0, 0.2, 0.0, 0.2, 0.0, ...   \n",
       "4    {'article_stances': [0.0, -0.8, 0.12, -0.2, -0...   \n",
       "6    {'article_stances': [0.04, 0.04], 'article_ng_...   \n",
       "..                                                 ...   \n",
       "954  {'article_stances': [1.0], 'article_ng_scores'...   \n",
       "955  {'article_stances': [0.0, 0.0], 'article_ng_sc...   \n",
       "956  {'article_stances': [0.0, 0.0, 0.0, 0.16, 0.0]...   \n",
       "957  {'article_stances': [0.0, 0.0, 0.0, 0.0, 0.0],...   \n",
       "958  {'article_stances': [0.0, 0.08, 0.0], 'article...   \n",
       "\n",
       "                                           Features_HP  \n",
       "1    {'article_stances': [-0.011111111111111125], '...  \n",
       "2    {'article_stances': [-0.20393939393939392, 0.4...  \n",
       "3    {'article_stances': [0.2829512516469038, 0.745...  \n",
       "4    {'article_stances': [-0.20393939393939392, -2....  \n",
       "6    {'article_stances': [0.20954545454545453, -0.0...  \n",
       "..                                                 ...  \n",
       "954  {'article_stances': [2.6235294117647068], 'art...  \n",
       "955  {'article_stances': [-0.1420211161387632, -0.2...  \n",
       "956  {'article_stances': [-0.055083591331269374, -0...  \n",
       "957  {'article_stances': [-0.040581473968897906, -0...  \n",
       "958  {'article_stances': [-0.055083591331269374, 0....  \n",
       "\n",
       "[595 rows x 41 columns]"
      ]
     },
     "execution_count": 14,
     "metadata": {},
     "output_type": "execute_result"
    }
   ],
   "source": [
    "df"
   ]
  },
  {
   "cell_type": "markdown",
   "metadata": {},
   "source": [
    "# Additional Features for Exploration"
   ]
  },
  {
   "cell_type": "markdown",
   "metadata": {},
   "source": [
    "## Label Transformation"
   ]
  },
  {
   "cell_type": "code",
   "execution_count": 15,
   "metadata": {},
   "outputs": [],
   "source": [
    "label_mapping = {\n",
    "    'Coul' : np.nan,\n",
    "    'Misl' : 0,\n",
    "    'True' : 1\n",
    "}\n",
    "\n",
    "df['User_Labels'] = df['Category'].map(label_mapping)"
   ]
  },
  {
   "cell_type": "code",
   "execution_count": 16,
   "metadata": {},
   "outputs": [],
   "source": [
    "df = df[df['User_Labels'].notna()] #remove 'could' values"
   ]
  },
  {
   "cell_type": "markdown",
   "metadata": {},
   "source": [
    "## Number of articles"
   ]
  },
  {
   "cell_type": "code",
   "execution_count": 17,
   "metadata": {},
   "outputs": [],
   "source": [
    "def get_num_articles(label_lists):\n",
    "    return sum(bool(d) for d in label_lists)\n",
    "\n",
    "df['num_valid_articles'] = df['Labels'].apply(get_num_articles)"
   ]
  },
  {
   "cell_type": "code",
   "execution_count": 18,
   "metadata": {},
   "outputs": [
    {
     "data": {
      "text/plain": [
       "count    595.000000\n",
       "mean       3.242017\n",
       "std        1.755774\n",
       "min        1.000000\n",
       "25%        2.000000\n",
       "50%        3.000000\n",
       "75%        4.000000\n",
       "max        9.000000\n",
       "Name: num_valid_articles, dtype: float64"
      ]
     },
     "execution_count": 18,
     "metadata": {},
     "output_type": "execute_result"
    }
   ],
   "source": [
    "df['num_valid_articles'].describe()"
   ]
  },
  {
   "cell_type": "code",
   "execution_count": 19,
   "metadata": {},
   "outputs": [
    {
     "data": {
      "text/html": [
       "<div>\n",
       "<style scoped>\n",
       "    .dataframe tbody tr th:only-of-type {\n",
       "        vertical-align: middle;\n",
       "    }\n",
       "\n",
       "    .dataframe tbody tr th {\n",
       "        vertical-align: top;\n",
       "    }\n",
       "\n",
       "    .dataframe thead th {\n",
       "        text-align: right;\n",
       "    }\n",
       "</style>\n",
       "<table border=\"1\" class=\"dataframe\">\n",
       "  <thead>\n",
       "    <tr style=\"text-align: right;\">\n",
       "      <th></th>\n",
       "      <th>count</th>\n",
       "      <th>mean</th>\n",
       "      <th>std</th>\n",
       "      <th>min</th>\n",
       "      <th>25%</th>\n",
       "      <th>50%</th>\n",
       "      <th>75%</th>\n",
       "      <th>max</th>\n",
       "    </tr>\n",
       "    <tr>\n",
       "      <th>Category</th>\n",
       "      <th></th>\n",
       "      <th></th>\n",
       "      <th></th>\n",
       "      <th></th>\n",
       "      <th></th>\n",
       "      <th></th>\n",
       "      <th></th>\n",
       "      <th></th>\n",
       "    </tr>\n",
       "  </thead>\n",
       "  <tbody>\n",
       "    <tr>\n",
       "      <th>Misl</th>\n",
       "      <td>300.0</td>\n",
       "      <td>3.233333</td>\n",
       "      <td>1.705457</td>\n",
       "      <td>1.0</td>\n",
       "      <td>2.0</td>\n",
       "      <td>3.0</td>\n",
       "      <td>4.0</td>\n",
       "      <td>8.0</td>\n",
       "    </tr>\n",
       "    <tr>\n",
       "      <th>True</th>\n",
       "      <td>295.0</td>\n",
       "      <td>3.250847</td>\n",
       "      <td>1.808368</td>\n",
       "      <td>1.0</td>\n",
       "      <td>2.0</td>\n",
       "      <td>3.0</td>\n",
       "      <td>4.0</td>\n",
       "      <td>9.0</td>\n",
       "    </tr>\n",
       "  </tbody>\n",
       "</table>\n",
       "</div>"
      ],
      "text/plain": [
       "          count      mean       std  min  25%  50%  75%  max\n",
       "Category                                                    \n",
       "Misl      300.0  3.233333  1.705457  1.0  2.0  3.0  4.0  8.0\n",
       "True      295.0  3.250847  1.808368  1.0  2.0  3.0  4.0  9.0"
      ]
     },
     "execution_count": 19,
     "metadata": {},
     "output_type": "execute_result"
    }
   ],
   "source": [
    "df.groupby('Category')['num_valid_articles'].describe()"
   ]
  },
  {
   "cell_type": "code",
   "execution_count": 20,
   "metadata": {},
   "outputs": [
    {
     "name": "stderr",
     "output_type": "stream",
     "text": [
      "C:\\Users\\danie\\AppData\\Local\\Temp\\ipykernel_2152\\2884463668.py:8: FutureWarning: \n",
      "\n",
      "Passing `palette` without assigning `hue` is deprecated and will be removed in v0.14.0. Assign the `x` variable to `hue` and set `legend=False` for the same effect.\n",
      "\n",
      "  sns.barplot(data=counts, x='Value', y='Count', palette='Set1')\n"
     ]
    },
    {
     "data": {
      "text/plain": [
       "Text(0, 0.5, 'Frequency')"
      ]
     },
     "execution_count": 20,
     "metadata": {},
     "output_type": "execute_result"
    },
    {
     "data": {
      "image/png": "[encoded data removed]",
      "text/plain": [
       "<Figure size 640x480 with 1 Axes>"
      ]
     },
     "metadata": {},
     "output_type": "display_data"
    }
   ],
   "source": [
    "import matplotlib.pyplot as plt\n",
    "import seaborn as sns\n",
    "\n",
    "counts = df['num_valid_articles'].value_counts().reset_index()\n",
    "counts.columns = ['Value', 'Count']  # Rename columns for clarity\n",
    "\n",
    "# Create the barplot\n",
    "sns.barplot(data=counts, x='Value', y='Count', palette='Set1')\n",
    "plt.title('Successfully obtained Articles')\n",
    "plt.xlabel('Number of Valid Articles')\n",
    "plt.ylabel('Frequency')"
   ]
  },
  {
   "cell_type": "markdown",
   "metadata": {},
   "source": [
    "# Article Stances"
   ]
  },
  {
   "cell_type": "markdown",
   "metadata": {},
   "source": [
    "## Raw Stances"
   ]
  },
  {
   "cell_type": "code",
   "execution_count": 21,
   "metadata": {},
   "outputs": [],
   "source": [
    "#try different transformation methods\n",
    "\n",
    "def transform_stances(feat_dict, method):\n",
    "    if pd.isna(feat_dict):\n",
    "        return np.nan\n",
    "    stance_list = feat_dict['article_stances']\n",
    "    return method(stance_list)"
   ]
  },
  {
   "cell_type": "markdown",
   "metadata": {},
   "source": [
    "### Mean"
   ]
  },
  {
   "cell_type": "code",
   "execution_count": 22,
   "metadata": {},
   "outputs": [],
   "source": [
    "df['Stances_Mean'] = df['Features_Raw'].apply(lambda x: transform_stances(x, method=np.mean))"
   ]
  },
  {
   "cell_type": "code",
   "execution_count": 23,
   "metadata": {},
   "outputs": [
    {
     "data": {
      "text/plain": [
       "count    595.000000\n",
       "mean       0.106813\n",
       "std        0.253608\n",
       "min       -1.000000\n",
       "25%       -0.018000\n",
       "50%        0.080000\n",
       "75%        0.266667\n",
       "max        1.000000\n",
       "Name: Stances_Mean, dtype: float64"
      ]
     },
     "execution_count": 23,
     "metadata": {},
     "output_type": "execute_result"
    }
   ],
   "source": [
    "df['Stances_Mean'].describe()"
   ]
  },
  {
   "cell_type": "code",
   "execution_count": 24,
   "metadata": {},
   "outputs": [
    {
     "data": {
      "text/html": [
       "<div>\n",
       "<style scoped>\n",
       "    .dataframe tbody tr th:only-of-type {\n",
       "        vertical-align: middle;\n",
       "    }\n",
       "\n",
       "    .dataframe tbody tr th {\n",
       "        vertical-align: top;\n",
       "    }\n",
       "\n",
       "    .dataframe thead th {\n",
       "        text-align: right;\n",
       "    }\n",
       "</style>\n",
       "<table border=\"1\" class=\"dataframe\">\n",
       "  <thead>\n",
       "    <tr style=\"text-align: right;\">\n",
       "      <th></th>\n",
       "      <th>count</th>\n",
       "      <th>mean</th>\n",
       "      <th>std</th>\n",
       "      <th>min</th>\n",
       "      <th>25%</th>\n",
       "      <th>50%</th>\n",
       "      <th>75%</th>\n",
       "      <th>max</th>\n",
       "    </tr>\n",
       "    <tr>\n",
       "      <th>Category</th>\n",
       "      <th></th>\n",
       "      <th></th>\n",
       "      <th></th>\n",
       "      <th></th>\n",
       "      <th></th>\n",
       "      <th></th>\n",
       "      <th></th>\n",
       "      <th></th>\n",
       "    </tr>\n",
       "  </thead>\n",
       "  <tbody>\n",
       "    <tr>\n",
       "      <th>Misl</th>\n",
       "      <td>300.0</td>\n",
       "      <td>0.075238</td>\n",
       "      <td>0.236799</td>\n",
       "      <td>-0.866667</td>\n",
       "      <td>-0.048</td>\n",
       "      <td>0.026667</td>\n",
       "      <td>0.20</td>\n",
       "      <td>0.76</td>\n",
       "    </tr>\n",
       "    <tr>\n",
       "      <th>True</th>\n",
       "      <td>295.0</td>\n",
       "      <td>0.138922</td>\n",
       "      <td>0.266209</td>\n",
       "      <td>-1.000000</td>\n",
       "      <td>0.000</td>\n",
       "      <td>0.128000</td>\n",
       "      <td>0.32</td>\n",
       "      <td>1.00</td>\n",
       "    </tr>\n",
       "  </tbody>\n",
       "</table>\n",
       "</div>"
      ],
      "text/plain": [
       "          count      mean       std       min    25%       50%   75%   max\n",
       "Category                                                                  \n",
       "Misl      300.0  0.075238  0.236799 -0.866667 -0.048  0.026667  0.20  0.76\n",
       "True      295.0  0.138922  0.266209 -1.000000  0.000  0.128000  0.32  1.00"
      ]
     },
     "execution_count": 24,
     "metadata": {},
     "output_type": "execute_result"
    }
   ],
   "source": [
    "df.groupby('Category')['Stances_Mean'].describe()"
   ]
  },
  {
   "cell_type": "code",
   "execution_count": 25,
   "metadata": {},
   "outputs": [
    {
     "data": {
      "text/html": [
       "<div>\n",
       "<style scoped>\n",
       "    .dataframe tbody tr th:only-of-type {\n",
       "        vertical-align: middle;\n",
       "    }\n",
       "\n",
       "    .dataframe tbody tr th {\n",
       "        vertical-align: top;\n",
       "    }\n",
       "\n",
       "    .dataframe thead th {\n",
       "        text-align: right;\n",
       "    }\n",
       "</style>\n",
       "<table border=\"1\" class=\"dataframe\">\n",
       "  <thead>\n",
       "    <tr style=\"text-align: right;\">\n",
       "      <th></th>\n",
       "      <th>U-val</th>\n",
       "      <th>alternative</th>\n",
       "      <th>p-val</th>\n",
       "      <th>RBC</th>\n",
       "      <th>CLES</th>\n",
       "    </tr>\n",
       "  </thead>\n",
       "  <tbody>\n",
       "    <tr>\n",
       "      <th>MWU</th>\n",
       "      <td>36073.0</td>\n",
       "      <td>less</td>\n",
       "      <td>0.000047</td>\n",
       "      <td>-0.184791</td>\n",
       "      <td>0.592395</td>\n",
       "    </tr>\n",
       "  </tbody>\n",
       "</table>\n",
       "</div>"
      ],
      "text/plain": [
       "       U-val alternative     p-val       RBC      CLES\n",
       "MWU  36073.0        less  0.000047 -0.184791  0.592395"
      ]
     },
     "execution_count": 25,
     "metadata": {},
     "output_type": "execute_result"
    }
   ],
   "source": [
    "import pingouin as pg\n",
    "pg.normality(data=df, dv='Stances_Mean', group='Category') #not normally distributed\n",
    "pg.mwu(x=df.loc[df['Category'] == 'Misl', 'Stances_Mean'],\n",
    "                y=df.loc[df['Category'] == 'True', 'Stances_Mean'],\n",
    "                alternative='less') #Mann-Whitney U (testing if Misl (Group 1) is less than True (Group 2) -> differences statistically significant, but with a small effect size (RBC < 0.3)"
   ]
  },
  {
   "cell_type": "code",
   "execution_count": 26,
   "metadata": {},
   "outputs": [
    {
     "data": {
      "text/html": [
       "<div>\n",
       "<style scoped>\n",
       "    .dataframe tbody tr th:only-of-type {\n",
       "        vertical-align: middle;\n",
       "    }\n",
       "\n",
       "    .dataframe tbody tr th {\n",
       "        vertical-align: top;\n",
       "    }\n",
       "\n",
       "    .dataframe thead th {\n",
       "        text-align: right;\n",
       "    }\n",
       "</style>\n",
       "<table border=\"1\" class=\"dataframe\">\n",
       "  <thead>\n",
       "    <tr style=\"text-align: right;\">\n",
       "      <th></th>\n",
       "      <th>count</th>\n",
       "      <th>mean</th>\n",
       "      <th>std</th>\n",
       "      <th>min</th>\n",
       "      <th>25%</th>\n",
       "      <th>50%</th>\n",
       "      <th>75%</th>\n",
       "      <th>max</th>\n",
       "    </tr>\n",
       "    <tr>\n",
       "      <th>num_valid_articles</th>\n",
       "      <th></th>\n",
       "      <th></th>\n",
       "      <th></th>\n",
       "      <th></th>\n",
       "      <th></th>\n",
       "      <th></th>\n",
       "      <th></th>\n",
       "      <th></th>\n",
       "    </tr>\n",
       "  </thead>\n",
       "  <tbody>\n",
       "    <tr>\n",
       "      <th>1</th>\n",
       "      <td>105.0</td>\n",
       "      <td>0.147429</td>\n",
       "      <td>0.351888</td>\n",
       "      <td>-1.000000</td>\n",
       "      <td>0.000000</td>\n",
       "      <td>0.120000</td>\n",
       "      <td>0.440000</td>\n",
       "      <td>1.000000</td>\n",
       "    </tr>\n",
       "    <tr>\n",
       "      <th>2</th>\n",
       "      <td>137.0</td>\n",
       "      <td>0.113066</td>\n",
       "      <td>0.279699</td>\n",
       "      <td>-1.000000</td>\n",
       "      <td>0.000000</td>\n",
       "      <td>0.080000</td>\n",
       "      <td>0.320000</td>\n",
       "      <td>0.720000</td>\n",
       "    </tr>\n",
       "    <tr>\n",
       "      <th>3</th>\n",
       "      <td>114.0</td>\n",
       "      <td>0.101519</td>\n",
       "      <td>0.224328</td>\n",
       "      <td>-0.866667</td>\n",
       "      <td>-0.010000</td>\n",
       "      <td>0.080000</td>\n",
       "      <td>0.266667</td>\n",
       "      <td>0.520000</td>\n",
       "    </tr>\n",
       "    <tr>\n",
       "      <th>4</th>\n",
       "      <td>97.0</td>\n",
       "      <td>0.061874</td>\n",
       "      <td>0.169322</td>\n",
       "      <td>-0.450000</td>\n",
       "      <td>-0.040000</td>\n",
       "      <td>0.053333</td>\n",
       "      <td>0.170000</td>\n",
       "      <td>0.470000</td>\n",
       "    </tr>\n",
       "    <tr>\n",
       "      <th>5</th>\n",
       "      <td>67.0</td>\n",
       "      <td>0.109761</td>\n",
       "      <td>0.177236</td>\n",
       "      <td>-0.272000</td>\n",
       "      <td>-0.028000</td>\n",
       "      <td>0.112000</td>\n",
       "      <td>0.232000</td>\n",
       "      <td>0.544000</td>\n",
       "    </tr>\n",
       "    <tr>\n",
       "      <th>6</th>\n",
       "      <td>50.0</td>\n",
       "      <td>0.081053</td>\n",
       "      <td>0.224124</td>\n",
       "      <td>-0.460000</td>\n",
       "      <td>-0.083333</td>\n",
       "      <td>0.033333</td>\n",
       "      <td>0.240000</td>\n",
       "      <td>0.560000</td>\n",
       "    </tr>\n",
       "    <tr>\n",
       "      <th>7</th>\n",
       "      <td>17.0</td>\n",
       "      <td>0.098936</td>\n",
       "      <td>0.240454</td>\n",
       "      <td>-0.342857</td>\n",
       "      <td>-0.005714</td>\n",
       "      <td>0.057143</td>\n",
       "      <td>0.333333</td>\n",
       "      <td>0.422857</td>\n",
       "    </tr>\n",
       "    <tr>\n",
       "      <th>8</th>\n",
       "      <td>6.0</td>\n",
       "      <td>0.305929</td>\n",
       "      <td>0.154284</td>\n",
       "      <td>0.135000</td>\n",
       "      <td>0.170144</td>\n",
       "      <td>0.312788</td>\n",
       "      <td>0.406250</td>\n",
       "      <td>0.515000</td>\n",
       "    </tr>\n",
       "    <tr>\n",
       "      <th>9</th>\n",
       "      <td>2.0</td>\n",
       "      <td>0.042222</td>\n",
       "      <td>0.103709</td>\n",
       "      <td>-0.031111</td>\n",
       "      <td>0.005556</td>\n",
       "      <td>0.042222</td>\n",
       "      <td>0.078889</td>\n",
       "      <td>0.115556</td>\n",
       "    </tr>\n",
       "  </tbody>\n",
       "</table>\n",
       "</div>"
      ],
      "text/plain": [
       "                    count      mean       std       min       25%       50%  \\\n",
       "num_valid_articles                                                            \n",
       "1                   105.0  0.147429  0.351888 -1.000000  0.000000  0.120000   \n",
       "2                   137.0  0.113066  0.279699 -1.000000  0.000000  0.080000   \n",
       "3                   114.0  0.101519  0.224328 -0.866667 -0.010000  0.080000   \n",
       "4                    97.0  0.061874  0.169322 -0.450000 -0.040000  0.053333   \n",
       "5                    67.0  0.109761  0.177236 -0.272000 -0.028000  0.112000   \n",
       "6                    50.0  0.081053  0.224124 -0.460000 -0.083333  0.033333   \n",
       "7                    17.0  0.098936  0.240454 -0.342857 -0.005714  0.057143   \n",
       "8                     6.0  0.305929  0.154284  0.135000  0.170144  0.312788   \n",
       "9                     2.0  0.042222  0.103709 -0.031111  0.005556  0.042222   \n",
       "\n",
       "                         75%       max  \n",
       "num_valid_articles                      \n",
       "1                   0.440000  1.000000  \n",
       "2                   0.320000  0.720000  \n",
       "3                   0.266667  0.520000  \n",
       "4                   0.170000  0.470000  \n",
       "5                   0.232000  0.544000  \n",
       "6                   0.240000  0.560000  \n",
       "7                   0.333333  0.422857  \n",
       "8                   0.406250  0.515000  \n",
       "9                   0.078889  0.115556  "
      ]
     },
     "execution_count": 26,
     "metadata": {},
     "output_type": "execute_result"
    }
   ],
   "source": [
    "df.groupby('num_valid_articles')['Stances_Mean'].describe()"
   ]
  },
  {
   "cell_type": "code",
   "execution_count": 27,
   "metadata": {},
   "outputs": [
    {
     "name": "stderr",
     "output_type": "stream",
     "text": [
      "C:\\Users\\danie\\AppData\\Local\\Temp\\ipykernel_2152\\2511394612.py:4: FutureWarning: \n",
      "\n",
      "Passing `palette` without assigning `hue` is deprecated and will be removed in v0.14.0. Assign the `x` variable to `hue` and set `legend=False` for the same effect.\n",
      "\n",
      "  sns.boxplot(data=df, x='Category', y='Stances_Mean', palette='Set1')\n"
     ]
    },
    {
     "data": {
      "text/plain": [
       "Text(0, 0.5, 'Stances Mean')"
      ]
     },
     "execution_count": 27,
     "metadata": {},
     "output_type": "execute_result"
    },
    {
     "data": {
      "image/png": "[encoded data removed]",
      "text/plain": [
       "<Figure size 640x480 with 1 Axes>"
      ]
     },
     "metadata": {},
     "output_type": "display_data"
    }
   ],
   "source": [
    "import matplotlib.pyplot as plt\n",
    "import seaborn as sns\n",
    "\n",
    "sns.boxplot(data=df, x='Category', y='Stances_Mean', palette='Set1')\n",
    "plt.title('Boxplot of Stances Mean by User Label')\n",
    "plt.xlabel('User Label')\n",
    "plt.ylabel('Stances Mean')"
   ]
  },
  {
   "cell_type": "code",
   "execution_count": 28,
   "metadata": {},
   "outputs": [
    {
     "name": "stderr",
     "output_type": "stream",
     "text": [
      "C:\\Users\\danie\\AppData\\Local\\Temp\\ipykernel_2152\\3390867210.py:1: FutureWarning: \n",
      "\n",
      "Passing `palette` without assigning `hue` is deprecated and will be removed in v0.14.0. Assign the `x` variable to `hue` and set `legend=False` for the same effect.\n",
      "\n",
      "  sns.boxplot(data=df, x='num_valid_articles', y='Stances_Mean', palette='Set1')\n"
     ]
    },
    {
     "data": {
      "text/plain": [
       "Text(0, 0.5, 'Stances Mean')"
      ]
     },
     "execution_count": 28,
     "metadata": {},
     "output_type": "execute_result"
    },
    {
     "data": {
      "image/png": "[encoded data removed]",
      "text/plain": [
       "<Figure size 640x480 with 1 Axes>"
      ]
     },
     "metadata": {},
     "output_type": "display_data"
    }
   ],
   "source": [
    "sns.boxplot(data=df, x='num_valid_articles', y='Stances_Mean', palette='Set1')\n",
    "plt.title('Boxplot of Stances Mean by SERP article count')\n",
    "plt.xlabel('Number of Valid Articles')\n",
    "plt.ylabel('Stances Mean')"
   ]
  },
  {
   "cell_type": "markdown",
   "metadata": {},
   "source": [
    "#### Last User Queries"
   ]
  },
  {
   "cell_type": "code",
   "execution_count": 29,
   "metadata": {},
   "outputs": [
    {
     "data": {
      "text/html": [
       "<div>\n",
       "<style scoped>\n",
       "    .dataframe tbody tr th:only-of-type {\n",
       "        vertical-align: middle;\n",
       "    }\n",
       "\n",
       "    .dataframe tbody tr th {\n",
       "        vertical-align: top;\n",
       "    }\n",
       "\n",
       "    .dataframe thead th {\n",
       "        text-align: right;\n",
       "    }\n",
       "</style>\n",
       "<table border=\"1\" class=\"dataframe\">\n",
       "  <thead>\n",
       "    <tr style=\"text-align: right;\">\n",
       "      <th></th>\n",
       "      <th>count</th>\n",
       "      <th>mean</th>\n",
       "      <th>std</th>\n",
       "      <th>min</th>\n",
       "      <th>25%</th>\n",
       "      <th>50%</th>\n",
       "      <th>75%</th>\n",
       "      <th>max</th>\n",
       "    </tr>\n",
       "    <tr>\n",
       "      <th>Category</th>\n",
       "      <th></th>\n",
       "      <th></th>\n",
       "      <th></th>\n",
       "      <th></th>\n",
       "      <th></th>\n",
       "      <th></th>\n",
       "      <th></th>\n",
       "      <th></th>\n",
       "    </tr>\n",
       "  </thead>\n",
       "  <tbody>\n",
       "    <tr>\n",
       "      <th>Misl</th>\n",
       "      <td>123.0</td>\n",
       "      <td>0.058543</td>\n",
       "      <td>0.240146</td>\n",
       "      <td>-0.866667</td>\n",
       "      <td>-0.088</td>\n",
       "      <td>0.03</td>\n",
       "      <td>0.200000</td>\n",
       "      <td>0.72</td>\n",
       "    </tr>\n",
       "    <tr>\n",
       "      <th>True</th>\n",
       "      <td>142.0</td>\n",
       "      <td>0.147195</td>\n",
       "      <td>0.279643</td>\n",
       "      <td>-1.000000</td>\n",
       "      <td>0.000</td>\n",
       "      <td>0.13</td>\n",
       "      <td>0.341143</td>\n",
       "      <td>1.00</td>\n",
       "    </tr>\n",
       "  </tbody>\n",
       "</table>\n",
       "</div>"
      ],
      "text/plain": [
       "          count      mean       std       min    25%   50%       75%   max\n",
       "Category                                                                  \n",
       "Misl      123.0  0.058543  0.240146 -0.866667 -0.088  0.03  0.200000  0.72\n",
       "True      142.0  0.147195  0.279643 -1.000000  0.000  0.13  0.341143  1.00"
      ]
     },
     "execution_count": 29,
     "metadata": {},
     "output_type": "execute_result"
    }
   ],
   "source": [
    "last_search_df = df.drop_duplicates(subset='ResponseId', keep='last')\n",
    "last_search_df.groupby('Category')['Stances_Mean'].describe()"
   ]
  },
  {
   "cell_type": "code",
   "execution_count": 30,
   "metadata": {},
   "outputs": [
    {
     "name": "stderr",
     "output_type": "stream",
     "text": [
      "C:\\Users\\danie\\AppData\\Local\\Temp\\ipykernel_2152\\3509361157.py:1: FutureWarning: \n",
      "\n",
      "Passing `palette` without assigning `hue` is deprecated and will be removed in v0.14.0. Assign the `x` variable to `hue` and set `legend=False` for the same effect.\n",
      "\n",
      "  sns.boxplot(data=last_search_df, x='Category', y='Stances_Mean', palette='Set1')\n"
     ]
    },
    {
     "data": {
      "text/plain": [
       "Text(0, 0.5, 'Stances Mean')"
      ]
     },
     "execution_count": 30,
     "metadata": {},
     "output_type": "execute_result"
    },
    {
     "data": {
      "image/png": "[encoded data removed]",
      "text/plain": [
       "<Figure size 640x480 with 1 Axes>"
      ]
     },
     "metadata": {},
     "output_type": "display_data"
    }
   ],
   "source": [
    "sns.boxplot(data=last_search_df, x='Category', y='Stances_Mean', palette='Set1')\n",
    "plt.title('Boxplot of Stances Mean by User Label (Only last query)')\n",
    "plt.xlabel('User Label')\n",
    "plt.ylabel('Stances Mean')"
   ]
  },
  {
   "cell_type": "markdown",
   "metadata": {},
   "source": [
    "### NDCG"
   ]
  },
  {
   "cell_type": "code",
   "execution_count": 31,
   "metadata": {},
   "outputs": [],
   "source": [
    "from sklearn.metrics import ndcg_score"
   ]
  },
  {
   "cell_type": "code",
   "execution_count": 32,
   "metadata": {},
   "outputs": [
    {
     "name": "stdout",
     "output_type": "stream",
     "text": [
      "[[0.75  0.505 0.65  0.    1.   ]] [[1.    0.75  0.65  0.505 0.   ]]\n"
     ]
    },
    {
     "data": {
      "text/plain": [
       "np.float64(0.883307074205988)"
      ]
     },
     "execution_count": 32,
     "metadata": {},
     "output_type": "execute_result"
    }
   ],
   "source": [
    "test_array = [0.5, 0.01, 0.3, -1, 1]\n",
    "\n",
    "#transform values to fit between 0 and 1\n",
    "\n",
    "def ndcg(stances):\n",
    "    stances = np.array(stances)\n",
    "    stances = (stances + 1) / 2  # Transform values from [-1, 1] to [0, 1]\n",
    "    if len(stances) == 1:\n",
    "        return np.nan\n",
    "    true_relevance = np.array([stances])  \n",
    "    relevance_score = np.array([sorted(stances, reverse=True)]) \n",
    "    print(true_relevance, relevance_score)\n",
    "\n",
    "    return ndcg_score(true_relevance, relevance_score)\n",
    "          \n",
    "ndcg(test_array)"
   ]
  },
  {
   "cell_type": "code",
   "execution_count": 33,
   "metadata": {},
   "outputs": [
    {
     "name": "stdout",
     "output_type": "stream",
     "text": [
      "[[0.4  0.54 0.44 0.5 ]] [[0.54 0.5  0.44 0.4 ]]\n",
      "[[0.62 0.7  0.56 0.7  0.6  0.5 ]] [[0.7  0.7  0.62 0.6  0.56 0.5 ]]\n",
      "[[0.4  0.1  0.36 0.   0.16 0.6 ]] [[0.6  0.4  0.36 0.16 0.1  0.  ]]\n",
      "[[0.58 0.42]] [[0.58 0.42]]\n",
      "[[0.58       0.52       0.44642857 0.4       ]] [[0.58       0.52       0.44642857 0.4       ]]\n",
      "[[0.58       0.52       0.44642857 0.4       ]] [[0.58       0.52       0.44642857 0.4       ]]\n",
      "[[0.58 0.4  0.56]] [[0.58 0.56 0.4 ]]\n",
      "[[0.58 0.4  0.56]] [[0.58 0.56 0.4 ]]\n",
      "[[0.42 0.58]] [[0.58 0.42]]\n",
      "[[0.42 0.5 ]] [[0.5  0.42]]\n",
      "[[0.3  0.44 0.3  0.2  0.22 0.5  0.5 ]] [[0.5  0.5  0.44 0.3  0.3  0.22 0.2 ]]\n",
      "[[0.42 0.5 ]] [[0.5  0.42]]\n",
      "[[0.58 0.42]] [[0.58 0.42]]\n",
      "[[0.42 0.5  0.38]] [[0.5  0.42 0.38]]\n",
      "[[0.42 0.58 0.58]] [[0.58 0.58 0.42]]\n",
      "[[0.4  0.38 0.4 ]] [[0.4  0.4  0.38]]\n",
      "[[0.42 0.58]] [[0.58 0.42]]\n",
      "[[0.42 0.52 0.62]] [[0.62 0.52 0.42]]\n",
      "[[0.38 0.58]] [[0.58 0.38]]\n",
      "[[0.2 0.5 0.5 0.3 0.5]] [[0.5 0.5 0.5 0.3 0.2]]\n",
      "[[0.42 0.58 0.3 ]] [[0.58 0.42 0.3 ]]\n",
      "[[0.5  0.7  0.42 0.4 ]] [[0.7  0.5  0.42 0.4 ]]\n",
      "[[0.16 0.14]] [[0.16 0.14]]\n",
      "[[0.58 0.42]] [[0.58 0.42]]\n",
      "[[0.4  0.58]] [[0.58 0.4 ]]\n",
      "[[0.42 0.4  0.1  0.42 0.7 ]] [[0.7  0.42 0.42 0.4  0.1 ]]\n",
      "[[0.42 0.4 ]] [[0.42 0.4 ]]\n",
      "[[0.52 0.4 ]] [[0.52 0.4 ]]\n",
      "[[0.42 0.3  0.58 0.6  0.5 ]] [[0.6  0.58 0.5  0.42 0.3 ]]\n",
      "[[0.42 0.3  0.56]] [[0.56 0.42 0.3 ]]\n",
      "[[0.42 0.3  0.38 0.62 0.46]] [[0.62 0.46 0.42 0.38 0.3 ]]\n",
      "[[0.4  0.4  0.28 0.5 ]] [[0.5  0.4  0.4  0.28]]\n",
      "[[0.1  0.42 0.7 ]] [[0.7  0.42 0.1 ]]\n",
      "[[0.7  0.52 0.1  0.   0.58 0.5 ]] [[0.7  0.58 0.52 0.5  0.1  0.  ]]\n",
      "[[0.3 0. ]] [[0.3 0. ]]\n",
      "[[0.1  0.1  0.52 0.6  0.5 ]] [[0.6  0.52 0.5  0.1  0.1 ]]\n",
      "[[0.  0.5]] [[0.5 0. ]]\n",
      "[[0.7  0.54 0.5  0.6  0.6 ]] [[0.7  0.6  0.6  0.54 0.5 ]]\n",
      "[[0.5 0.3]] [[0.5 0.3]]\n",
      "[[0.6  0.6  0.8  0.52 0.6  0.62]] [[0.8  0.62 0.6  0.6  0.6  0.52]]\n",
      "[[0.52 0.3  0.4  0.5  0.7 ]] [[0.7  0.52 0.5  0.4  0.3 ]]\n",
      "[[0.7  0.4  0.4  0.3  0.3  0.52 0.78 0.46 0.5 ]] [[0.78 0.7  0.52 0.5  0.46 0.4  0.4  0.3  0.3 ]]\n",
      "[[0.6  0.1  0.52 0.1  0.4  0.6 ]] [[0.6  0.6  0.52 0.4  0.1  0.1 ]]\n",
      "[[0.5 0.5]] [[0.5 0.5]]\n",
      "[[0.52 0.4  0.3  0.3 ]] [[0.52 0.4  0.3  0.3 ]]\n",
      "[[0.  0.3 0.4 0.4]] [[0.4 0.4 0.3 0. ]]\n",
      "[[0.  0.5]] [[0.5 0. ]]\n",
      "[[0.5 0.  0.4]] [[0.5 0.4 0. ]]\n",
      "[[0.7  0.52 0.1  0.   0.58 0.5 ]] [[0.7  0.58 0.52 0.5  0.1  0.  ]]\n",
      "[[0.7 0. ]] [[0.7 0. ]]\n",
      "[[0.52       0.58       0.71153846 0.7       ]] [[0.71153846 0.7        0.58       0.52      ]]\n",
      "[[0.6 0.1 0.5]] [[0.6 0.5 0.1]]\n",
      "[[0.5 0.3 0.5]] [[0.5 0.5 0.3]]\n",
      "[[0.5 0. ]] [[0.5 0. ]]\n",
      "[[0.6 0.1 0.1 0.  0.5 0.5 0.5]] [[0.6 0.5 0.5 0.5 0.1 0.1 0. ]]\n",
      "[[0.1 0.  0.1]] [[0.1 0.1 0. ]]\n",
      "[[0.58 0.52 0.3  0.4  0.7  0.7  0.5 ]] [[0.7  0.7  0.58 0.52 0.5  0.4  0.3 ]]\n",
      "[[0.5 0. ]] [[0.5 0. ]]\n",
      "[[0.7 0.7]] [[0.7 0.7]]\n",
      "[[0.5 0.6 0.2 0.6 0.1 0.4 0.8]] [[0.8 0.6 0.6 0.5 0.4 0.2 0.1]]\n",
      "[[0.6  0.5  0.5  0.5  0.68 0.7  0.46 0.52 0.56]] [[0.7  0.68 0.6  0.56 0.52 0.5  0.5  0.5  0.46]]\n",
      "[[0.4  0.2  0.1  0.46 0.52 0.5 ]] [[0.52 0.5  0.46 0.4  0.2  0.1 ]]\n",
      "[[0.7  0.52 0.2  0.   0.58 0.5 ]] [[0.7  0.58 0.52 0.5  0.2  0.  ]]\n",
      "[[0.2 0.1 0.6]] [[0.6 0.2 0.1]]\n",
      "[[0.7  0.4  0.58 0.5 ]] [[0.7  0.58 0.5  0.4 ]]\n",
      "[[0.56 0.6  0.5 ]] [[0.6  0.56 0.5 ]]\n",
      "[[0.6  0.84 0.62 0.7  0.5 ]] [[0.84 0.7  0.62 0.6  0.5 ]]\n",
      "[[0.56 0.34]] [[0.56 0.34]]\n",
      "[[0.78 0.7  0.56]] [[0.78 0.7  0.56]]\n",
      "[[0.82 0.5 ]] [[0.82 0.5 ]]\n",
      "[[0.5  0.66 0.5  0.5  0.5 ]] [[0.66 0.5  0.5  0.5  0.5 ]]\n",
      "[[0.54 0.7  0.48 0.64]] [[0.7  0.64 0.54 0.48]]\n",
      "[[0.5 0.5]] [[0.5 0.5]]\n",
      "[[0.66 0.72 0.5  0.6  0.82]] [[0.82 0.72 0.66 0.6  0.5 ]]\n",
      "[[0.56 0.62 0.5 ]] [[0.62 0.56 0.5 ]]\n",
      "[[0.8  0.6  0.72 0.5 ]] [[0.8  0.72 0.6  0.5 ]]\n",
      "[[0.58 0.66 0.66]] [[0.66 0.66 0.58]]\n",
      "[[0.5  0.72 0.78 0.66]] [[0.78 0.72 0.66 0.5 ]]\n",
      "[[0.5 0.5 0.5]] [[0.5 0.5 0.5]]\n",
      "[[0.72 0.72]] [[0.72 0.72]]\n",
      "[[0.5 0.5 0.5]] [[0.5 0.5 0.5]]\n",
      "[[0.74 0.82 0.5 ]] [[0.82 0.74 0.5 ]]\n",
      "[[0.82 0.54 0.5 ]] [[0.82 0.54 0.5 ]]\n",
      "[[0.68 0.64 0.5 ]] [[0.68 0.64 0.5 ]]\n",
      "[[0.84 0.64 0.78 0.9  0.7 ]] [[0.9  0.84 0.78 0.7  0.64]]\n",
      "[[0.72 0.72]] [[0.72 0.72]]\n",
      "[[0.64 0.76]] [[0.76 0.64]]\n",
      "[[0.34 0.44 0.54 0.82 0.72]] [[0.82 0.72 0.54 0.44 0.34]]\n",
      "[[0.8 0.6]] [[0.8 0.6]]\n",
      "[[0.82 0.76 0.52 0.7  0.74]] [[0.82 0.76 0.74 0.7  0.52]]\n",
      "[[0.62 0.8 ]] [[0.8  0.62]]\n",
      "[[0.5 0.5 0.5 0.5]] [[0.5 0.5 0.5 0.5]]\n",
      "[[0.5 0.5]] [[0.5 0.5]]\n",
      "[[0.72 0.6 ]] [[0.72 0.6 ]]\n",
      "[[0.5 0.5]] [[0.5 0.5]]\n",
      "[[0.6  0.84 0.7  0.5  0.36]] [[0.84 0.7  0.6  0.5  0.36]]\n",
      "[[0.56 0.5  0.36]] [[0.56 0.5  0.36]]\n",
      "[[0.5 0.5]] [[0.5 0.5]]\n",
      "[[0.5 0.5]] [[0.5 0.5]]\n",
      "[[0.62 0.66]] [[0.66 0.62]]\n",
      "[[0.56 0.56 0.36]] [[0.56 0.56 0.36]]\n",
      "[[0.6 0.8]] [[0.8 0.6]]\n",
      "[[0.54 0.5 ]] [[0.54 0.5 ]]\n",
      "[[0.5 0.5 0.5]] [[0.5 0.5 0.5]]\n",
      "[[0.86 0.66 0.5 ]] [[0.86 0.66 0.5 ]]\n",
      "[[0.66 0.66 0.5  0.5  0.58]] [[0.66 0.66 0.58 0.5  0.5 ]]\n",
      "[[0.62 0.72 0.5  0.62 0.72]] [[0.72 0.72 0.62 0.62 0.5 ]]\n",
      "[[0.6  0.84 0.7  0.5  0.28]] [[0.84 0.7  0.6  0.5  0.28]]\n",
      "[[0.56 0.46 0.6  0.5  0.48 0.36]] [[0.6  0.56 0.5  0.48 0.46 0.36]]\n",
      "[[0.8  0.76 0.48 0.66 0.66]] [[0.8  0.76 0.66 0.66 0.48]]\n",
      "[[0.5  0.5  0.54]] [[0.54 0.5  0.5 ]]\n",
      "[[0.5 0.5]] [[0.5 0.5]]\n",
      "[[0.5 0.5]] [[0.5 0.5]]\n",
      "[[0.5  0.66 0.6 ]] [[0.66 0.6  0.5 ]]\n",
      "[[0.5 0.5 0.5 0.5]] [[0.5 0.5 0.5 0.5]]\n",
      "[[0.5  0.5  0.62]] [[0.62 0.5  0.5 ]]\n",
      "[[0.5  0.74]] [[0.74 0.5 ]]\n",
      "[[0.64 0.84]] [[0.84 0.64]]\n",
      "[[0.5 0.5]] [[0.5 0.5]]\n",
      "[[0.58 0.5  0.44]] [[0.58 0.5  0.44]]\n",
      "[[0.8  0.54]] [[0.8  0.54]]\n",
      "[[0.9  0.66 0.62 0.42]] [[0.9  0.66 0.62 0.42]]\n",
      "[[0.6  0.58]] [[0.6  0.58]]\n",
      "[[0.48 0.54 0.44]] [[0.54 0.48 0.44]]\n",
      "[[0.7  0.62]] [[0.7  0.62]]\n",
      "[[0.44 0.64]] [[0.64 0.44]]\n",
      "[[0.5 0.5 0.5 0.5 0.5]] [[0.5 0.5 0.5 0.5 0.5]]\n",
      "[[0.64 0.84]] [[0.84 0.64]]\n",
      "[[0.5  0.48]] [[0.5  0.48]]\n",
      "[[0.72 0.64 0.84]] [[0.84 0.72 0.64]]\n",
      "[[0.64 0.84]] [[0.84 0.64]]\n",
      "[[0.64 0.46]] [[0.64 0.46]]\n",
      "[[0.56 0.58 0.48 0.58]] [[0.58 0.58 0.56 0.48]]\n",
      "[[0.56 0.44 0.74]] [[0.74 0.56 0.44]]\n",
      "[[0.48 0.38 0.5 ]] [[0.5  0.48 0.38]]\n",
      "[[0.34 0.36 0.1 ]] [[0.36 0.34 0.1 ]]\n",
      "[[0.64 0.6  0.58]] [[0.64 0.6  0.58]]\n",
      "[[0.5  0.54]] [[0.54 0.5 ]]\n",
      "[[0.64 0.84 0.5 ]] [[0.84 0.64 0.5 ]]\n",
      "[[0.58 0.5  0.44]] [[0.58 0.5  0.44]]\n",
      "[[0.2  0.44]] [[0.44 0.2 ]]\n",
      "[[0.64 0.84 0.62]] [[0.84 0.64 0.62]]\n",
      "[[0.64 0.84]] [[0.84 0.64]]\n",
      "[[0.5 0.5]] [[0.5 0.5]]\n",
      "[[0.5  0.68]] [[0.68 0.5 ]]\n",
      "[[0.62 0.72 0.7 ]] [[0.72 0.7  0.62]]\n",
      "[[0.46 0.54 0.5  0.66]] [[0.66 0.54 0.5  0.46]]\n",
      "[[0.64 0.58 0.54]] [[0.64 0.58 0.54]]\n",
      "[[0.62 0.7 ]] [[0.7  0.62]]\n",
      "[[0.64 0.84 0.46]] [[0.84 0.64 0.46]]\n",
      "[[0.38 0.56 0.56 0.56 0.56]] [[0.56 0.56 0.56 0.56 0.38]]\n",
      "[[0.7  0.62]] [[0.7  0.62]]\n",
      "[[0.6  0.5  0.48]] [[0.6  0.5  0.48]]\n",
      "[[0.42 0.5  0.6 ]] [[0.6  0.5  0.42]]\n",
      "[[0.64 0.74]] [[0.74 0.64]]\n",
      "[[0.64 0.6  0.58]] [[0.64 0.6  0.58]]\n",
      "[[0.64 0.74]] [[0.74 0.64]]\n",
      "[[0.72 0.66 0.2 ]] [[0.72 0.66 0.2 ]]\n",
      "[[0.8 0.4]] [[0.8 0.4]]\n",
      "[[0.72 0.18 0.5 ]] [[0.72 0.5  0.18]]\n",
      "[[0.72 0.18]] [[0.72 0.18]]\n",
      "[[0.72 0.82]] [[0.82 0.72]]\n",
      "[[0.82 0.72 0.74]] [[0.82 0.74 0.72]]\n",
      "[[0.5 0.5]] [[0.5 0.5]]\n",
      "[[0.72 0.4 ]] [[0.72 0.4 ]]\n",
      "[[0.72 0.7 ]] [[0.72 0.7 ]]\n",
      "[[0.44 0.72 0.82]] [[0.82 0.72 0.44]]\n",
      "[[0.72 0.5 ]] [[0.72 0.5 ]]\n",
      "[[0.5  0.82]] [[0.82 0.5 ]]\n",
      "[[0.7 0.5]] [[0.7 0.5]]\n",
      "[[0.72 0.7  0.82]] [[0.82 0.72 0.7 ]]\n",
      "[[0.72 0.66 0.76]] [[0.76 0.72 0.66]]\n",
      "[[0.72 0.44]] [[0.72 0.44]]\n",
      "[[0.72 0.54 0.32 0.52]] [[0.72 0.54 0.52 0.32]]\n",
      "[[0.82 0.72 0.7 ]] [[0.82 0.72 0.7 ]]\n",
      "[[0.72 0.5 ]] [[0.72 0.5 ]]\n",
      "[[0.5 0.5]] [[0.5 0.5]]\n",
      "[[0.5  0.3  0.48 0.58]] [[0.58 0.5  0.48 0.3 ]]\n",
      "[[0.82 0.72 0.7 ]] [[0.82 0.72 0.7 ]]\n",
      "[[0.3  0.5  0.5  0.5  0.28]] [[0.5  0.5  0.5  0.3  0.28]]\n",
      "[[0.72 0.7  0.82]] [[0.82 0.72 0.7 ]]\n",
      "[[0.72 0.7 ]] [[0.72 0.7 ]]\n",
      "[[0.72 0.5 ]] [[0.72 0.5 ]]\n",
      "[[0.72 0.44 0.5  0.6 ]] [[0.72 0.6  0.5  0.44]]\n",
      "[[0.72 0.7 ]] [[0.72 0.7 ]]\n",
      "[[0.5 0.4 0.5]] [[0.5 0.5 0.4]]\n",
      "[[0.72 0.3  0.4  0.5 ]] [[0.72 0.5  0.4  0.3 ]]\n",
      "[[0.72 0.66 0.82]] [[0.82 0.72 0.66]]\n",
      "[[0.72 0.5  0.82]] [[0.82 0.72 0.5 ]]\n",
      "[[0.8  0.6  0.52 0.3 ]] [[0.8  0.6  0.52 0.3 ]]\n",
      "[[0.8  0.5  0.3  0.74]] [[0.8  0.74 0.5  0.3 ]]\n",
      "[[0.64 0.64 0.6  0.62]] [[0.64 0.64 0.62 0.6 ]]\n",
      "[[0.5  0.64 0.62 0.8 ]] [[0.8  0.64 0.62 0.5 ]]\n",
      "[[0.9  0.68 0.56 0.62 0.6 ]] [[0.9  0.68 0.62 0.6  0.56]]\n",
      "[[0.8  0.64 0.64]] [[0.8  0.64 0.64]]\n",
      "[[0.5  0.72 0.56]] [[0.72 0.56 0.5 ]]\n",
      "[[0.62 0.64 0.5 ]] [[0.64 0.62 0.5 ]]\n",
      "[[0.58 0.1  0.52]] [[0.58 0.52 0.1 ]]\n",
      "[[0.5  0.3  0.72 0.62]] [[0.72 0.62 0.5  0.3 ]]\n",
      "[[0.92 0.64 0.58]] [[0.92 0.64 0.58]]\n",
      "[[0.72 0.1 ]] [[0.72 0.1 ]]\n",
      "[[0.72 0.64 0.62]] [[0.72 0.64 0.62]]\n",
      "[[0.64 0.64 0.72 0.42 0.64 0.58]] [[0.72 0.64 0.64 0.64 0.58 0.42]]\n",
      "[[0.72 0.72 0.62 0.92 0.5  0.7 ]] [[0.92 0.72 0.72 0.7  0.62 0.5 ]]\n",
      "[[0.44 0.4  0.3  0.38]] [[0.44 0.4  0.38 0.3 ]]\n",
      "[[0.72 0.64 1.   0.7  0.62]] [[1.   0.72 0.7  0.64 0.62]]\n",
      "[[0.62 0.64 0.92]] [[0.92 0.64 0.62]]\n",
      "[[0.72 0.5  0.62]] [[0.72 0.62 0.5 ]]\n",
      "[[0.44 0.44 0.1 ]] [[0.44 0.44 0.1 ]]\n",
      "[[0.66 0.46 0.46]] [[0.66 0.46 0.46]]\n",
      "[[0.62 0.88 0.3  0.5  0.66]] [[0.88 0.66 0.62 0.5  0.3 ]]\n",
      "[[0.72 0.5 ]] [[0.72 0.5 ]]\n",
      "[[0.72 0.62 0.88 0.5 ]] [[0.88 0.72 0.62 0.5 ]]\n",
      "[[0.72 0.5  0.64 0.62 0.58]] [[0.72 0.64 0.62 0.58 0.5 ]]\n",
      "[[0.92 0.36 0.34 0.44]] [[0.92 0.44 0.36 0.34]]\n",
      "[[0.5  0.62 0.72 0.3 ]] [[0.72 0.62 0.5  0.3 ]]\n",
      "[[0.72 0.3  0.5  0.8  0.5 ]] [[0.8  0.72 0.5  0.5  0.3 ]]\n",
      "[[0.72 0.88 0.62 0.5 ]] [[0.88 0.72 0.62 0.5 ]]\n",
      "[[0.72 0.5  0.64 0.62]] [[0.72 0.64 0.62 0.5 ]]\n",
      "[[0.58 0.64 0.46]] [[0.64 0.58 0.46]]\n",
      "[[0.5  0.4  0.44 0.48]] [[0.5  0.48 0.44 0.4 ]]\n",
      "[[0.58 0.64 0.1  0.92 0.58]] [[0.92 0.64 0.58 0.58 0.1 ]]\n",
      "[[0.5  0.44 0.62]] [[0.62 0.5  0.44]]\n",
      "[[0.72 0.5  0.3  0.8 ]] [[0.8  0.72 0.5  0.3 ]]\n",
      "[[0.72 0.44 0.54 0.5  0.3 ]] [[0.72 0.54 0.5  0.44 0.3 ]]\n",
      "[[0.72 0.64 0.62 0.62]] [[0.72 0.64 0.62 0.62]]\n",
      "[[0.72 0.5  0.4 ]] [[0.72 0.5  0.4 ]]\n",
      "[[0.72 0.58 0.62 0.64 0.64]] [[0.72 0.64 0.64 0.62 0.58]]\n",
      "[[0.5  0.52 0.5  0.5 ]] [[0.52 0.5  0.5  0.5 ]]\n",
      "[[1.   0.64]] [[1.   0.64]]\n",
      "[[0.58 0.44 0.5 ]] [[0.58 0.5  0.44]]\n",
      "[[0.5  0.5  0.32]] [[0.5  0.5  0.32]]\n",
      "[[0.5  0.44 0.4 ]] [[0.5  0.44 0.4 ]]\n",
      "[[0.5 0.5 0.5]] [[0.5 0.5 0.5]]\n",
      "[[0.5 0.5]] [[0.5 0.5]]\n",
      "[[0.3 0.4 0.5]] [[0.5 0.4 0.3]]\n",
      "[[0.5 0.5 0.5]] [[0.5 0.5 0.5]]\n",
      "[[0.4  0.44]] [[0.44 0.4 ]]\n",
      "[[0.5 0.5 0.5 0.5]] [[0.5 0.5 0.5 0.5]]\n",
      "[[0.5 0.5 0.5 0.5]] [[0.5 0.5 0.5 0.5]]\n",
      "[[0.5 0.5]] [[0.5 0.5]]\n",
      "[[0.56 0.5 ]] [[0.56 0.5 ]]\n",
      "[[0.4  0.46]] [[0.46 0.4 ]]\n",
      "[[0.86 0.5 ]] [[0.86 0.5 ]]\n",
      "[[0.86 0.72]] [[0.86 0.72]]\n",
      "[[0.5 0.5 0.5]] [[0.5 0.5 0.5]]\n",
      "[[0.4 0.5 0.5]] [[0.5 0.5 0.4]]\n",
      "[[0.5  0.52 0.5  0.5 ]] [[0.52 0.5  0.5  0.5 ]]\n",
      "[[0.6  0.54 0.5  0.62]] [[0.62 0.6  0.54 0.5 ]]\n",
      "[[0.4  0.46 0.8  0.22 0.42]] [[0.8  0.46 0.42 0.4  0.22]]\n",
      "[[0.32 0.32 0.62 0.5 ]] [[0.62 0.5  0.32 0.32]]\n",
      "[[0.44 0.42 0.5 ]] [[0.5  0.44 0.42]]\n",
      "[[0.5  0.5  0.5  0.42]] [[0.5  0.5  0.5  0.42]]\n",
      "[[0.5  0.54 0.5  0.5 ]] [[0.54 0.5  0.5  0.5 ]]\n",
      "[[0.38 0.5 ]] [[0.5  0.38]]\n",
      "[[0.5  0.64 0.5  0.32]] [[0.64 0.5  0.5  0.32]]\n",
      "[[0.5 0.5 0.5]] [[0.5 0.5 0.5]]\n",
      "[[0.5  0.5  0.78 0.4  0.1 ]] [[0.78 0.5  0.5  0.4  0.1 ]]\n",
      "[[0.86 0.4 ]] [[0.86 0.4 ]]\n",
      "[[0.4  0.42]] [[0.42 0.4 ]]\n",
      "[[0.56 0.66]] [[0.66 0.56]]\n",
      "[[0.5 0.5 0.5 0.4]] [[0.5 0.5 0.5 0.4]]\n",
      "[[0.56 0.5 ]] [[0.56 0.5 ]]\n",
      "[[0.64 0.5  0.5  0.32 0.68]] [[0.68 0.64 0.5  0.5  0.32]]\n",
      "[[0.7  0.45 0.5 ]] [[0.7  0.5  0.45]]\n",
      "[[0.78 0.58 0.56]] [[0.78 0.58 0.56]]\n",
      "[[0.66 0.5  0.78 0.6  0.58]] [[0.78 0.66 0.6  0.58 0.5 ]]\n",
      "[[0.7  0.84 0.8  0.74 0.6  0.74 0.62 0.64]] [[0.84 0.8  0.74 0.74 0.7  0.64 0.62 0.6 ]]\n",
      "[[0.6  0.78 0.74 0.64 0.62 0.84 0.76]] [[0.84 0.78 0.76 0.74 0.64 0.62 0.6 ]]\n",
      "[[0.52 0.56 0.76 0.58 0.64 0.74]] [[0.76 0.74 0.64 0.58 0.56 0.52]]\n",
      "[[0.6  0.78 0.52 0.82 0.6 ]] [[0.82 0.78 0.6  0.6  0.52]]\n",
      "[[0.6  0.6  0.5  0.84]] [[0.84 0.6  0.6  0.5 ]]\n",
      "[[0.62 0.84 0.72 0.6  0.7  0.64]] [[0.84 0.72 0.7  0.64 0.62 0.6 ]]\n",
      "[[0.78 0.84 0.86 0.84 0.6  0.76]] [[0.86 0.84 0.84 0.78 0.76 0.6 ]]\n",
      "[[0.54 0.56 0.76 0.64 0.76]] [[0.76 0.76 0.64 0.56 0.54]]\n",
      "[[0.78 0.62 0.84 0.7  0.64 0.6 ]] [[0.84 0.78 0.7  0.64 0.62 0.6 ]]\n",
      "[[0.52 0.7  0.6  0.58 0.84 0.76]] [[0.84 0.76 0.7  0.6  0.58 0.52]]\n",
      "[[0.78 0.62 0.84 0.7  0.64 0.6 ]] [[0.84 0.78 0.7  0.64 0.62 0.6 ]]\n",
      "[[0.58 0.52 0.7  0.68 0.58 0.52]] [[0.7  0.68 0.58 0.58 0.52 0.52]]\n",
      "[[0.56 0.6  0.68 0.68 0.7  0.5 ]] [[0.7  0.68 0.68 0.6  0.56 0.5 ]]\n",
      "[[0.7 0.7 0.5]] [[0.7 0.7 0.5]]\n",
      "[[0.7  0.56 0.64 0.56 0.66 0.58]] [[0.7  0.66 0.64 0.58 0.56 0.56]]\n",
      "[[0.78 0.64 0.84 0.7  0.5  0.68 0.84]] [[0.84 0.84 0.78 0.7  0.68 0.64 0.5 ]]\n",
      "[[0.78 0.84 0.86 0.84 0.6  0.76 0.62 0.76]] [[0.86 0.84 0.84 0.78 0.76 0.76 0.62 0.6 ]]\n",
      "[[0.6  0.54 0.72 0.84 0.7 ]] [[0.84 0.72 0.7  0.6  0.54]]\n",
      "[[0.78 0.56 0.6  0.76 0.7  0.62]] [[0.78 0.76 0.7  0.62 0.6  0.56]]\n",
      "[[0.78 0.56 0.6  0.54 0.76]] [[0.78 0.76 0.6  0.56 0.54]]\n",
      "[[0.62       0.64       0.5        0.78       0.44230769 0.56\n",
      "  0.66       0.84      ]] [[0.84       0.78       0.66       0.64       0.62       0.56\n",
      "  0.5        0.44230769]]\n",
      "[[0.78 0.72 0.62 0.84 0.6  0.64 0.7 ]] [[0.84 0.78 0.72 0.7  0.64 0.62 0.6 ]]\n",
      "[[0.56 0.6  0.76 0.54 0.76 0.68]] [[0.76 0.76 0.68 0.6  0.56 0.54]]\n",
      "[[0.76 0.7  0.84 0.64]] [[0.84 0.76 0.7  0.64]]\n",
      "[[0.78 0.76 0.64 0.62 0.84 0.76]] [[0.84 0.78 0.76 0.76 0.64 0.62]]\n",
      "[[0.56 0.76 0.84 0.68]] [[0.84 0.76 0.68 0.56]]\n",
      "[[0.78 0.76 0.58 0.54 0.72 0.7  0.62]] [[0.78 0.76 0.72 0.7  0.62 0.58 0.54]]\n",
      "[[0.62 0.78 0.52 0.6  0.82]] [[0.82 0.78 0.62 0.6  0.52]]\n",
      "[[0.58 0.7  0.52 0.68 0.58 0.52]] [[0.7  0.68 0.58 0.58 0.52 0.52]]\n",
      "[[0.76 0.54 0.78 0.76 0.7  0.5 ]] [[0.78 0.76 0.76 0.7  0.54 0.5 ]]\n",
      "[[0.74 0.78 0.56 0.76 0.54 0.84 0.64 0.6 ]] [[0.84 0.78 0.76 0.74 0.64 0.6  0.56 0.54]]\n",
      "[[0.54 0.5  0.5  0.5  0.5  0.5 ]] [[0.54 0.5  0.5  0.5  0.5  0.5 ]]\n",
      "[[0.36 0.5  0.5  0.54]] [[0.54 0.5  0.5  0.36]]\n",
      "[[0.54 0.7 ]] [[0.7  0.54]]\n",
      "[[0.7  0.5  0.5  0.54 0.5  0.5 ]] [[0.7  0.54 0.5  0.5  0.5  0.5 ]]\n",
      "[[0.86 0.66]] [[0.86 0.66]]\n",
      "[[0.54 0.44 0.44]] [[0.54 0.44 0.44]]\n",
      "[[0.5 0.5 0.5]] [[0.5 0.5 0.5]]\n",
      "[[0.44 0.44]] [[0.44 0.44]]\n",
      "[[0.5 0.5]] [[0.5 0.5]]\n",
      "[[0.44 0.66 0.54 0.56 0.54]] [[0.66 0.56 0.54 0.54 0.44]]\n",
      "[[0.46 0.38 0.5 ]] [[0.5  0.46 0.38]]\n",
      "[[0.46 0.66 0.5  0.5  0.54 0.5 ]] [[0.66 0.54 0.5  0.5  0.5  0.46]]\n",
      "[[0.54 0.42 0.72 0.56 0.6  0.55]] [[0.72 0.6  0.56 0.55 0.54 0.42]]\n",
      "[[0.5  0.5  0.54]] [[0.54 0.5  0.5 ]]\n",
      "[[0.54 0.44 0.38]] [[0.54 0.44 0.38]]\n",
      "[[0.5  0.45]] [[0.5  0.45]]\n",
      "[[0.48 0.5 ]] [[0.5  0.48]]\n",
      "[[0.54 0.68 0.54 0.58 0.58 0.6  0.66]] [[0.68 0.66 0.6  0.58 0.58 0.54 0.54]]\n",
      "[[0.62 0.68 0.6 ]] [[0.68 0.62 0.6 ]]\n",
      "[[0.54 0.5  0.36 0.5  0.48]] [[0.54 0.5  0.5  0.48 0.36]]\n",
      "[[0.5 0.5]] [[0.5 0.5]]\n",
      "[[0.7 0.7 0.6 0.6 0.5]] [[0.7 0.7 0.6 0.6 0.5]]\n",
      "[[0.56 0.56 0.56 0.56 0.56]] [[0.56 0.56 0.56 0.56 0.56]]\n",
      "[[0.54 0.58 0.68 0.7  0.4 ]] [[0.7  0.68 0.58 0.54 0.4 ]]\n",
      "[[0.54 0.6  0.5  0.46 0.66 0.5  0.34]] [[0.66 0.6  0.54 0.5  0.5  0.46 0.34]]\n",
      "[[0.66 0.54 0.56 0.46]] [[0.66 0.56 0.54 0.46]]\n",
      "[[0.54 0.48 0.46 0.5 ]] [[0.54 0.5  0.48 0.46]]\n",
      "[[0.54 0.48 0.46 0.5  0.5  0.5 ]] [[0.54 0.5  0.5  0.5  0.48 0.46]]\n",
      "[[0.48 0.5 ]] [[0.5  0.48]]\n",
      "[[0.54 0.7  0.54]] [[0.7  0.54 0.54]]\n",
      "[[0.5  0.5  0.54]] [[0.54 0.5  0.5 ]]\n",
      "[[0.54 0.5  0.5  0.48 0.46 0.5  0.5 ]] [[0.54 0.5  0.5  0.5  0.5  0.48 0.46]]\n",
      "[[0.7  0.6  0.54 0.54 0.54 0.54 0.54 0.54]] [[0.7  0.6  0.54 0.54 0.54 0.54 0.54 0.54]]\n",
      "[[0.54 0.68 0.58 0.7  0.4  0.58]] [[0.7  0.68 0.58 0.58 0.54 0.4 ]]\n",
      "[[0.5  0.48 0.5 ]] [[0.5  0.5  0.48]]\n",
      "[[0.54 0.5  0.7 ]] [[0.7  0.54 0.5 ]]\n",
      "[[0.54 0.5  0.34 0.5 ]] [[0.54 0.5  0.5  0.34]]\n",
      "[[0.5 0.5]] [[0.5 0.5]]\n",
      "[[0.5  0.5  0.48 0.46 0.5 ]] [[0.5  0.5  0.5  0.48 0.46]]\n",
      "[[0.5  0.66]] [[0.66 0.5 ]]\n",
      "[[0.5  0.66 0.58 0.5 ]] [[0.66 0.58 0.5  0.5 ]]\n",
      "[[0.44 0.44]] [[0.44 0.44]]\n",
      "[[0.5 0.5 0.5]] [[0.5 0.5 0.5]]\n",
      "[[0.54 0.58 0.6 ]] [[0.6  0.58 0.54]]\n",
      "[[0.54 0.76 0.7  0.62]] [[0.76 0.7  0.62 0.54]]\n",
      "[[0.76 0.7 ]] [[0.76 0.7 ]]\n",
      "[[0.54 0.6  0.46]] [[0.6  0.54 0.46]]\n",
      "[[0.54 0.66 0.76]] [[0.76 0.66 0.54]]\n",
      "[[0.68 0.76 0.7  0.54 0.6 ]] [[0.76 0.7  0.68 0.6  0.54]]\n",
      "[[0.54 0.52 0.66 0.6 ]] [[0.66 0.6  0.54 0.52]]\n",
      "[[0.42 0.68 0.5  0.58]] [[0.68 0.58 0.5  0.42]]\n",
      "[[0.54 0.54 0.44 0.6  0.48]] [[0.6  0.54 0.54 0.48 0.44]]\n",
      "[[0.5 0.5]] [[0.5 0.5]]\n",
      "[[0.54 0.58 0.66]] [[0.66 0.58 0.54]]\n",
      "[[0.5  0.4  0.4  0.56]] [[0.56 0.5  0.4  0.4 ]]\n",
      "[[0.76 0.52]] [[0.76 0.52]]\n",
      "[[0.48 0.54 0.82 0.54]] [[0.82 0.54 0.54 0.48]]\n",
      "[[0.54 0.58]] [[0.58 0.54]]\n",
      "[[0.76 0.5 ]] [[0.76 0.5 ]]\n",
      "[[0.76 0.5 ]] [[0.76 0.5 ]]\n",
      "[[0.54 0.76 0.56 0.64 0.56]] [[0.76 0.64 0.56 0.56 0.54]]\n",
      "[[0.54 0.6  0.58 0.66 0.52 0.52 0.76]] [[0.76 0.66 0.6  0.58 0.54 0.52 0.52]]\n",
      "[[0.76 0.54 0.56 0.58]] [[0.76 0.58 0.56 0.54]]\n",
      "[[0.76 0.54 0.56 0.64]] [[0.76 0.64 0.56 0.54]]\n",
      "[[0.82 0.48 0.54 0.54]] [[0.82 0.54 0.54 0.48]]\n",
      "[[0.54 0.58]] [[0.58 0.54]]\n",
      "[[0.76       0.58       0.63333333]] [[0.76       0.63333333 0.58      ]]\n",
      "[[0.54 0.66 0.42]] [[0.66 0.54 0.42]]\n",
      "[[0.54 0.66 0.68 0.76 0.46]] [[0.76 0.68 0.66 0.54 0.46]]\n",
      "[[0.54 0.6  0.52 0.52 0.76]] [[0.76 0.6  0.54 0.52 0.52]]\n",
      "[[0.76       0.56       0.63333333]] [[0.76       0.63333333 0.56      ]]\n",
      "[[0.62 0.42]] [[0.62 0.42]]\n",
      "[[0.64 0.78 0.48]] [[0.78 0.64 0.48]]\n",
      "[[0.52 0.52 0.64]] [[0.64 0.52 0.52]]\n",
      "[[0.5 0.5 0.5 0.5]] [[0.5 0.5 0.5 0.5]]\n",
      "[[0.52 0.54]] [[0.54 0.52]]\n",
      "[[0.5 0.5]] [[0.5 0.5]]\n",
      "[[0.5 0.5 0.5 0.5 0.5]] [[0.5 0.5 0.5 0.5 0.5]]\n",
      "[[0.78 0.5  0.5 ]] [[0.78 0.5  0.5 ]]\n",
      "[[0.5  0.5  0.5  0.66 0.5  0.78]] [[0.78 0.66 0.5  0.5  0.5  0.5 ]]\n",
      "[[0.5 0.5 0.5 0.5]] [[0.5 0.5 0.5 0.5]]\n",
      "[[0.5 0.5]] [[0.5 0.5]]\n",
      "[[0.5 0.5 0.5 0.5 0.5 0.5]] [[0.5 0.5 0.5 0.5 0.5 0.5]]\n",
      "[[0.78 0.5  0.5 ]] [[0.78 0.5  0.5 ]]\n",
      "[[0.66 0.78 0.64]] [[0.78 0.66 0.64]]\n",
      "[[0.78 0.64]] [[0.78 0.64]]\n",
      "[[0.68 0.78]] [[0.78 0.68]]\n",
      "[[0.78 0.5 ]] [[0.78 0.5 ]]\n",
      "[[0.78 0.68]] [[0.78 0.68]]\n",
      "[[0.9  0.46 0.74 0.76 0.64 0.82]] [[0.9  0.82 0.76 0.74 0.64 0.46]]\n",
      "[[0.68 0.78]] [[0.78 0.68]]\n",
      "[[0.56 0.6  0.78 0.2 ]] [[0.78 0.6  0.56 0.2 ]]\n",
      "[[0.66 0.32 0.48 0.34 0.48]] [[0.66 0.48 0.48 0.34 0.32]]\n",
      "[[0.5  0.44 0.56 0.52 0.48 0.52]] [[0.56 0.52 0.52 0.5  0.48 0.44]]\n",
      "[[0.32 0.48 0.52 0.34 0.34 0.66]] [[0.66 0.52 0.48 0.34 0.34 0.32]]\n",
      "[[0.34 0.34 0.48 0.56]] [[0.56 0.48 0.34 0.34]]\n",
      "[[0.62 0.48]] [[0.62 0.48]]\n",
      "[[0.32 0.48 0.66 0.34 0.34]] [[0.66 0.48 0.34 0.34 0.32]]\n",
      "[[0.32 0.48 0.34 0.48]] [[0.48 0.48 0.34 0.32]]\n",
      "[[0.66 0.32 0.48 0.34 0.34 0.48]] [[0.66 0.48 0.48 0.34 0.34 0.32]]\n",
      "[[0.62 0.5  0.48 0.6 ]] [[0.62 0.6  0.5  0.48]]\n",
      "[[0.52 0.48 0.5  0.52 0.62 0.46 0.56]] [[0.62 0.56 0.52 0.52 0.5  0.48 0.46]]\n",
      "[[0.34 0.48 0.4  0.5 ]] [[0.5  0.48 0.4  0.34]]\n",
      "[[0.62 0.5  0.62]] [[0.62 0.62 0.5 ]]\n",
      "[[0.32 0.36 0.48 0.34 0.48 0.46 0.44]] [[0.48 0.48 0.46 0.44 0.36 0.34 0.32]]\n",
      "[[0.66 0.32 0.48 0.34 0.48]] [[0.66 0.48 0.48 0.34 0.32]]\n",
      "[[0.34 0.46 0.54 0.52]] [[0.54 0.52 0.46 0.34]]\n",
      "[[0.48 0.34 0.46 0.5  0.54]] [[0.54 0.5  0.48 0.46 0.34]]\n",
      "[[0.34 0.48 0.34 0.5 ]] [[0.5  0.48 0.34 0.34]]\n",
      "[[0.66 0.5  0.34 0.66]] [[0.66 0.66 0.5  0.34]]\n",
      "[[0.68 0.58]] [[0.68 0.58]]\n",
      "[[0.34 0.62 0.34 0.34 0.52 0.4 ]] [[0.62 0.52 0.4  0.34 0.34 0.34]]\n",
      "[[0.66 0.34 0.4  0.34]] [[0.66 0.4  0.34 0.34]]\n",
      "[[0.54 0.46 0.48 0.5  0.46]] [[0.54 0.5  0.48 0.46 0.46]]\n",
      "[[0.66 0.56 0.46]] [[0.66 0.56 0.46]]\n",
      "[[0.52 0.48]] [[0.52 0.48]]\n",
      "[[0.66 0.52 0.6  0.5  0.7 ]] [[0.7  0.66 0.6  0.52 0.5 ]]\n",
      "[[0.5  0.5  0.48 0.5 ]] [[0.5  0.5  0.5  0.48]]\n",
      "[[0.44 0.52 0.52 0.52 0.32]] [[0.52 0.52 0.52 0.44 0.32]]\n",
      "[[0.52 0.54 0.48 0.66 0.52]] [[0.66 0.54 0.52 0.52 0.48]]\n",
      "[[0.66 0.48 0.34 0.48 0.34 0.5 ]] [[0.66 0.5  0.48 0.48 0.34 0.34]]\n",
      "[[0.66 0.34 0.48 0.34 0.48 0.52]] [[0.66 0.52 0.48 0.48 0.34 0.34]]\n",
      "[[0.66 0.34 0.48 0.34 0.34 0.48]] [[0.66 0.48 0.48 0.34 0.34 0.34]]\n",
      "[[0.66 0.34 0.34 0.4  0.52 0.48]] [[0.66 0.52 0.48 0.4  0.34 0.34]]\n",
      "[[0.6  0.34 0.52 0.52]] [[0.6  0.52 0.52 0.34]]\n",
      "[[0.34 0.66 0.34 0.48 0.48 0.48]] [[0.66 0.48 0.48 0.48 0.34 0.34]]\n",
      "[[0.66 0.48 0.34]] [[0.66 0.48 0.34]]\n",
      "[[0.66 0.56 0.56 0.56]] [[0.66 0.56 0.56 0.56]]\n",
      "[[0.34 0.66 0.34 0.48 0.48 0.52]] [[0.66 0.52 0.48 0.48 0.34 0.34]]\n",
      "[[0.6  0.42 0.68 0.5  0.5  0.32]] [[0.68 0.6  0.5  0.5  0.42 0.32]]\n",
      "[[0.58 0.42 0.4  0.56]] [[0.58 0.56 0.42 0.4 ]]\n",
      "[[0.48 0.32 0.36 0.6  0.3  0.46]] [[0.6  0.48 0.46 0.36 0.32 0.3 ]]\n",
      "[[0.32 0.56 0.42 0.4 ]] [[0.56 0.42 0.4  0.32]]\n",
      "[[0.56 0.42 0.48]] [[0.56 0.48 0.42]]\n",
      "[[0.56 0.48]] [[0.56 0.48]]\n",
      "[[0.46 0.56]] [[0.56 0.46]]\n",
      "[[0.68 0.6  0.42 0.5  0.52]] [[0.68 0.6  0.52 0.5  0.42]]\n",
      "[[0.56 0.42]] [[0.56 0.42]]\n",
      "[[0.4  0.52 0.56 0.58 0.6 ]] [[0.6  0.58 0.56 0.52 0.4 ]]\n",
      "[[0.6 0.5]] [[0.6 0.5]]\n",
      "[[0.46 0.46 0.26 0.54 0.24]] [[0.54 0.46 0.46 0.26 0.24]]\n",
      "[[0.46 0.46 0.42 0.26]] [[0.46 0.46 0.42 0.26]]\n",
      "[[0.48 0.48 0.32 0.36 0.52 0.56]] [[0.56 0.52 0.48 0.48 0.36 0.32]]\n",
      "[[0.6 0.6]] [[0.6 0.6]]\n",
      "[[0.1  0.52 0.52]] [[0.52 0.52 0.1 ]]\n",
      "[[0.64 0.56]] [[0.64 0.56]]\n",
      "[[0.52 0.52 0.66 0.5 ]] [[0.66 0.52 0.52 0.5 ]]\n",
      "[[0.575 0.64  0.725 0.52 ]] [[0.725 0.64  0.575 0.52 ]]\n",
      "[[0.52 0.56 0.52 0.66]] [[0.66 0.56 0.52 0.52]]\n",
      "[[0.64 0.5 ]] [[0.64 0.5 ]]\n",
      "[[0.453125 0.64     0.52    ]] [[0.64     0.52     0.453125]]\n",
      "[[0.52 0.56 0.52 0.66]] [[0.66 0.56 0.52 0.52]]\n",
      "[[0.52 0.56 0.66 0.52 0.5 ]] [[0.66 0.56 0.52 0.52 0.5 ]]\n",
      "[[0.575 0.64  0.725 0.52 ]] [[0.725 0.64  0.575 0.52 ]]\n",
      "[[0.46 0.6  0.64 0.46 0.6  0.5  0.72 0.58]] [[0.72 0.64 0.6  0.6  0.58 0.5  0.46 0.46]]\n",
      "[[0.46 0.6  0.64 0.5  0.6  0.46 0.72]] [[0.72 0.64 0.6  0.6  0.5  0.46 0.46]]\n",
      "[[0.46 0.62 0.64 0.5 ]] [[0.64 0.62 0.5  0.46]]\n",
      "[[0.46 0.6  0.5  0.72]] [[0.72 0.6  0.5  0.46]]\n",
      "[[0.62 0.52 0.54]] [[0.62 0.54 0.52]]\n",
      "[[0.5 0.5 0.5]] [[0.5 0.5 0.5]]\n",
      "[[0.72 0.52 0.46 0.52 0.5 ]] [[0.72 0.52 0.52 0.5  0.46]]\n",
      "[[0.5  0.62 0.5  0.5  0.62 0.64]] [[0.64 0.62 0.62 0.5  0.5  0.5 ]]\n",
      "[[1.   0.72]] [[1.   0.72]]\n",
      "[[0.47916667 0.56       0.6        0.48      ]] [[0.6        0.56       0.48       0.47916667]]\n",
      "[[0.46 0.6  0.5 ]] [[0.6  0.5  0.46]]\n",
      "[[0.56 0.52 0.46 0.5 ]] [[0.56 0.52 0.5  0.46]]\n",
      "[[0.44 0.52 0.4  0.5  0.52]] [[0.52 0.52 0.5  0.44 0.4 ]]\n",
      "[[0.46 1.  ]] [[1.   0.46]]\n",
      "[[0.46 0.62]] [[0.62 0.46]]\n",
      "[[0.5  0.56 0.56 0.46 0.5  0.46 0.5 ]] [[0.56 0.56 0.5  0.5  0.5  0.46 0.46]]\n",
      "[[0.52 0.6  0.52 0.5 ]] [[0.6  0.52 0.52 0.5 ]]\n",
      "[[0.5  0.46 0.5  0.6 ]] [[0.6  0.5  0.5  0.46]]\n",
      "[[0.4  0.6  0.5  0.44 0.5  0.4 ]] [[0.6  0.5  0.5  0.44 0.4  0.4 ]]\n",
      "[[0.5  1.   0.74 0.46]] [[1.   0.74 0.5  0.46]]\n",
      "[[0.5 0.5 0.4 0.5]] [[0.5 0.5 0.5 0.4]]\n",
      "[[1.  0.5 0.5 0.5]] [[1.  0.5 0.5 0.5]]\n",
      "[[0.54 0.64 0.62 0.5  0.48]] [[0.64 0.62 0.54 0.5  0.48]]\n",
      "[[0.46 0.6  0.5  0.72]] [[0.72 0.6  0.5  0.46]]\n",
      "[[1.  0.5 0.5 0.5]] [[1.  0.5 0.5 0.5]]\n",
      "[[0.44 0.4 ]] [[0.44 0.4 ]]\n",
      "[[0.46 0.5  0.6  0.6  0.64]] [[0.64 0.6  0.6  0.5  0.46]]\n",
      "[[0.48 0.5  0.5  0.54 0.44]] [[0.54 0.5  0.5  0.48 0.44]]\n",
      "[[0.46 0.62 0.64]] [[0.64 0.62 0.46]]\n"
     ]
    }
   ],
   "source": [
    "df['Stances_NDCG'] = df['Features_Raw'].apply(lambda x: transform_stances(x, method=ndcg))"
   ]
  },
  {
   "cell_type": "code",
   "execution_count": 34,
   "metadata": {},
   "outputs": [
    {
     "data": {
      "text/plain": [
       "count    481.000000\n",
       "mean       0.962825\n",
       "std        0.049394\n",
       "min        0.630930\n",
       "25%        0.942639\n",
       "50%        0.979165\n",
       "75%        1.000000\n",
       "max        1.000000\n",
       "Name: Stances_NDCG, dtype: float64"
      ]
     },
     "execution_count": 34,
     "metadata": {},
     "output_type": "execute_result"
    }
   ],
   "source": [
    "df['Stances_NDCG'].describe()"
   ]
  },
  {
   "cell_type": "code",
   "execution_count": 35,
   "metadata": {},
   "outputs": [
    {
     "data": {
      "text/html": [
       "<div>\n",
       "<style scoped>\n",
       "    .dataframe tbody tr th:only-of-type {\n",
       "        vertical-align: middle;\n",
       "    }\n",
       "\n",
       "    .dataframe tbody tr th {\n",
       "        vertical-align: top;\n",
       "    }\n",
       "\n",
       "    .dataframe thead th {\n",
       "        text-align: right;\n",
       "    }\n",
       "</style>\n",
       "<table border=\"1\" class=\"dataframe\">\n",
       "  <thead>\n",
       "    <tr style=\"text-align: right;\">\n",
       "      <th></th>\n",
       "      <th>count</th>\n",
       "      <th>mean</th>\n",
       "      <th>std</th>\n",
       "      <th>min</th>\n",
       "      <th>25%</th>\n",
       "      <th>50%</th>\n",
       "      <th>75%</th>\n",
       "      <th>max</th>\n",
       "    </tr>\n",
       "    <tr>\n",
       "      <th>Category</th>\n",
       "      <th></th>\n",
       "      <th></th>\n",
       "      <th></th>\n",
       "      <th></th>\n",
       "      <th></th>\n",
       "      <th></th>\n",
       "      <th></th>\n",
       "      <th></th>\n",
       "    </tr>\n",
       "  </thead>\n",
       "  <tbody>\n",
       "    <tr>\n",
       "      <th>Misl</th>\n",
       "      <td>243.0</td>\n",
       "      <td>0.962708</td>\n",
       "      <td>0.049040</td>\n",
       "      <td>0.63093</td>\n",
       "      <td>0.943011</td>\n",
       "      <td>0.981516</td>\n",
       "      <td>1.0</td>\n",
       "      <td>1.0</td>\n",
       "    </tr>\n",
       "    <tr>\n",
       "      <th>True</th>\n",
       "      <td>238.0</td>\n",
       "      <td>0.962944</td>\n",
       "      <td>0.049857</td>\n",
       "      <td>0.63093</td>\n",
       "      <td>0.942651</td>\n",
       "      <td>0.976208</td>\n",
       "      <td>1.0</td>\n",
       "      <td>1.0</td>\n",
       "    </tr>\n",
       "  </tbody>\n",
       "</table>\n",
       "</div>"
      ],
      "text/plain": [
       "          count      mean       std      min       25%       50%  75%  max\n",
       "Category                                                                  \n",
       "Misl      243.0  0.962708  0.049040  0.63093  0.943011  0.981516  1.0  1.0\n",
       "True      238.0  0.962944  0.049857  0.63093  0.942651  0.976208  1.0  1.0"
      ]
     },
     "execution_count": 35,
     "metadata": {},
     "output_type": "execute_result"
    }
   ],
   "source": [
    "df.groupby('Category')['Stances_NDCG'].describe()"
   ]
  },
  {
   "cell_type": "code",
   "execution_count": 36,
   "metadata": {},
   "outputs": [
    {
     "data": {
      "text/html": [
       "<div>\n",
       "<style scoped>\n",
       "    .dataframe tbody tr th:only-of-type {\n",
       "        vertical-align: middle;\n",
       "    }\n",
       "\n",
       "    .dataframe tbody tr th {\n",
       "        vertical-align: top;\n",
       "    }\n",
       "\n",
       "    .dataframe thead th {\n",
       "        text-align: right;\n",
       "    }\n",
       "</style>\n",
       "<table border=\"1\" class=\"dataframe\">\n",
       "  <thead>\n",
       "    <tr style=\"text-align: right;\">\n",
       "      <th></th>\n",
       "      <th>count</th>\n",
       "      <th>mean</th>\n",
       "      <th>std</th>\n",
       "      <th>min</th>\n",
       "      <th>25%</th>\n",
       "      <th>50%</th>\n",
       "      <th>75%</th>\n",
       "      <th>max</th>\n",
       "    </tr>\n",
       "    <tr>\n",
       "      <th>num_valid_articles</th>\n",
       "      <th></th>\n",
       "      <th></th>\n",
       "      <th></th>\n",
       "      <th></th>\n",
       "      <th></th>\n",
       "      <th></th>\n",
       "      <th></th>\n",
       "      <th></th>\n",
       "    </tr>\n",
       "  </thead>\n",
       "  <tbody>\n",
       "    <tr>\n",
       "      <th>1</th>\n",
       "      <td>0.0</td>\n",
       "      <td>NaN</td>\n",
       "      <td>NaN</td>\n",
       "      <td>NaN</td>\n",
       "      <td>NaN</td>\n",
       "      <td>NaN</td>\n",
       "      <td>NaN</td>\n",
       "      <td>NaN</td>\n",
       "    </tr>\n",
       "    <tr>\n",
       "      <th>2</th>\n",
       "      <td>128.0</td>\n",
       "      <td>0.978547</td>\n",
       "      <td>0.053396</td>\n",
       "      <td>0.630930</td>\n",
       "      <td>0.972465</td>\n",
       "      <td>1.000000</td>\n",
       "      <td>1.000000</td>\n",
       "      <td>1.000000</td>\n",
       "    </tr>\n",
       "    <tr>\n",
       "      <th>3</th>\n",
       "      <td>114.0</td>\n",
       "      <td>0.967973</td>\n",
       "      <td>0.048339</td>\n",
       "      <td>0.704431</td>\n",
       "      <td>0.952796</td>\n",
       "      <td>0.982022</td>\n",
       "      <td>1.000000</td>\n",
       "      <td>1.000000</td>\n",
       "    </tr>\n",
       "    <tr>\n",
       "      <th>4</th>\n",
       "      <td>97.0</td>\n",
       "      <td>0.960410</td>\n",
       "      <td>0.041277</td>\n",
       "      <td>0.768858</td>\n",
       "      <td>0.932317</td>\n",
       "      <td>0.975230</td>\n",
       "      <td>0.995061</td>\n",
       "      <td>1.000000</td>\n",
       "    </tr>\n",
       "    <tr>\n",
       "      <th>5</th>\n",
       "      <td>67.0</td>\n",
       "      <td>0.946564</td>\n",
       "      <td>0.051165</td>\n",
       "      <td>0.692736</td>\n",
       "      <td>0.929165</td>\n",
       "      <td>0.952884</td>\n",
       "      <td>0.983033</td>\n",
       "      <td>1.000000</td>\n",
       "    </tr>\n",
       "    <tr>\n",
       "      <th>6</th>\n",
       "      <td>50.0</td>\n",
       "      <td>0.948721</td>\n",
       "      <td>0.043370</td>\n",
       "      <td>0.805914</td>\n",
       "      <td>0.936017</td>\n",
       "      <td>0.955702</td>\n",
       "      <td>0.978902</td>\n",
       "      <td>1.000000</td>\n",
       "    </tr>\n",
       "    <tr>\n",
       "      <th>7</th>\n",
       "      <td>17.0</td>\n",
       "      <td>0.934183</td>\n",
       "      <td>0.044122</td>\n",
       "      <td>0.849172</td>\n",
       "      <td>0.911346</td>\n",
       "      <td>0.937351</td>\n",
       "      <td>0.961544</td>\n",
       "      <td>0.995230</td>\n",
       "    </tr>\n",
       "    <tr>\n",
       "      <th>8</th>\n",
       "      <td>6.0</td>\n",
       "      <td>0.959450</td>\n",
       "      <td>0.034678</td>\n",
       "      <td>0.915757</td>\n",
       "      <td>0.930386</td>\n",
       "      <td>0.969431</td>\n",
       "      <td>0.980891</td>\n",
       "      <td>1.000000</td>\n",
       "    </tr>\n",
       "    <tr>\n",
       "      <th>9</th>\n",
       "      <td>2.0</td>\n",
       "      <td>0.931193</td>\n",
       "      <td>0.020129</td>\n",
       "      <td>0.916960</td>\n",
       "      <td>0.924077</td>\n",
       "      <td>0.931193</td>\n",
       "      <td>0.938310</td>\n",
       "      <td>0.945426</td>\n",
       "    </tr>\n",
       "  </tbody>\n",
       "</table>\n",
       "</div>"
      ],
      "text/plain": [
       "                    count      mean       std       min       25%       50%  \\\n",
       "num_valid_articles                                                            \n",
       "1                     0.0       NaN       NaN       NaN       NaN       NaN   \n",
       "2                   128.0  0.978547  0.053396  0.630930  0.972465  1.000000   \n",
       "3                   114.0  0.967973  0.048339  0.704431  0.952796  0.982022   \n",
       "4                    97.0  0.960410  0.041277  0.768858  0.932317  0.975230   \n",
       "5                    67.0  0.946564  0.051165  0.692736  0.929165  0.952884   \n",
       "6                    50.0  0.948721  0.043370  0.805914  0.936017  0.955702   \n",
       "7                    17.0  0.934183  0.044122  0.849172  0.911346  0.937351   \n",
       "8                     6.0  0.959450  0.034678  0.915757  0.930386  0.969431   \n",
       "9                     2.0  0.931193  0.020129  0.916960  0.924077  0.931193   \n",
       "\n",
       "                         75%       max  \n",
       "num_valid_articles                      \n",
       "1                        NaN       NaN  \n",
       "2                   1.000000  1.000000  \n",
       "3                   1.000000  1.000000  \n",
       "4                   0.995061  1.000000  \n",
       "5                   0.983033  1.000000  \n",
       "6                   0.978902  1.000000  \n",
       "7                   0.961544  0.995230  \n",
       "8                   0.980891  1.000000  \n",
       "9                   0.938310  0.945426  "
      ]
     },
     "execution_count": 36,
     "metadata": {},
     "output_type": "execute_result"
    }
   ],
   "source": [
    "df.groupby('num_valid_articles')['Stances_NDCG'].describe()"
   ]
  },
  {
   "cell_type": "code",
   "execution_count": 37,
   "metadata": {},
   "outputs": [
    {
     "name": "stderr",
     "output_type": "stream",
     "text": [
      "C:\\Users\\danie\\AppData\\Local\\Temp\\ipykernel_2152\\1980220825.py:4: FutureWarning: \n",
      "\n",
      "Passing `palette` without assigning `hue` is deprecated and will be removed in v0.14.0. Assign the `x` variable to `hue` and set `legend=False` for the same effect.\n",
      "\n",
      "  sns.boxplot(data=df, x='num_valid_articles', y='Stances_NDCG', palette='Set1')\n"
     ]
    },
    {
     "data": {
      "text/plain": [
       "Text(0, 0.5, 'Stances Mean')"
      ]
     },
     "execution_count": 37,
     "metadata": {},
     "output_type": "execute_result"
    },
    {
     "data": {
      "image/png": "[encoded data removed]",
      "text/plain": [
       "<Figure size 640x480 with 1 Axes>"
      ]
     },
     "metadata": {},
     "output_type": "display_data"
    }
   ],
   "source": [
    "import matplotlib.pyplot as plt\n",
    "import seaborn as sns\n",
    "\n",
    "sns.boxplot(data=df, x='num_valid_articles', y='Stances_NDCG', palette='Set1')\n",
    "plt.title('Boxplot of Stances NDCG by Number of SERP Articles')\n",
    "plt.xlabel('User Label')\n",
    "plt.ylabel('Stances Mean')"
   ]
  },
  {
   "cell_type": "markdown",
   "metadata": {},
   "source": [
    "## First Contradicting Article"
   ]
  },
  {
   "cell_type": "code",
   "execution_count": 101,
   "metadata": {},
   "outputs": [
    {
     "data": {
      "text/plain": [
       "1      NaN\n",
       "2      1.0\n",
       "3      NaN\n",
       "4      3.0\n",
       "6      2.0\n",
       "      ... \n",
       "954    NaN\n",
       "955    1.0\n",
       "956    1.0\n",
       "957    2.0\n",
       "958    6.0\n",
       "Name: First_Contradicting, Length: 595, dtype: float64"
      ]
     },
     "execution_count": 101,
     "metadata": {},
     "output_type": "execute_result"
    }
   ],
   "source": [
    "def retrieve_first_contradicting(feat_dict):\n",
    "    if pd.isna(feat_dict):\n",
    "        return np.nan\n",
    "    \n",
    "    stance_list = feat_dict['article_stances']\n",
    "    serp_positions = feat_dict['article_serp_positions']\n",
    "\n",
    "    for stance, position in zip(stance_list, serp_positions):\n",
    "        if stance < 0:\n",
    "            return position\n",
    "        else:\n",
    "            np.nan\n",
    "\n",
    "df['First_Contradicting'] = df['Features_Raw'].apply(retrieve_first_contradicting)\n",
    "df['First_Contradicting']"
   ]
  },
  {
   "cell_type": "code",
   "execution_count": 103,
   "metadata": {},
   "outputs": [
    {
     "data": {
      "text/plain": [
       "1      1\n",
       "2      4\n",
       "3      6\n",
       "4      6\n",
       "6      2\n",
       "      ..\n",
       "954    1\n",
       "955    2\n",
       "956    5\n",
       "957    5\n",
       "958    3\n",
       "Name: num_valid_articles, Length: 595, dtype: int64"
      ]
     },
     "execution_count": 103,
     "metadata": {},
     "output_type": "execute_result"
    }
   ],
   "source": [
    "df['num_valid_articles']"
   ]
  },
  {
   "cell_type": "code",
   "execution_count": 102,
   "metadata": {},
   "outputs": [
    {
     "name": "stderr",
     "output_type": "stream",
     "text": [
      "C:\\Users\\danie\\AppData\\Local\\Temp\\ipykernel_2152\\2893478301.py:5: FutureWarning: \n",
      "\n",
      "Passing `palette` without assigning `hue` is deprecated and will be removed in v0.14.0. Assign the `x` variable to `hue` and set `legend=False` for the same effect.\n",
      "\n",
      "  sns.barplot(data=counts, x='Value', y='Count', palette='Set1')\n"
     ]
    },
    {
     "data": {
      "text/plain": [
       "Text(0, 0.5, 'Frequency')"
      ]
     },
     "execution_count": 102,
     "metadata": {},
     "output_type": "execute_result"
    },
    {
     "data": {
      "image/png": "[encoded data removed]",
      "text/plain": [
       "<Figure size 640x480 with 1 Axes>"
      ]
     },
     "metadata": {},
     "output_type": "display_data"
    }
   ],
   "source": [
    "counts = df['First_Contradicting'].value_counts().reset_index()\n",
    "counts.columns = ['Value', 'Count']  # Rename columns for clarity\n",
    "\n",
    "# Create the barplot\n",
    "sns.barplot(data=counts, x='Value', y='Count', palette='Set1')\n",
    "plt.title('Successfully obtained Articles')\n",
    "plt.xlabel('Number of Valid Articles')\n",
    "plt.ylabel('Frequency')"
   ]
  },
  {
   "cell_type": "markdown",
   "metadata": {},
   "source": [
    "### First vs. Last SERP Position"
   ]
  },
  {
   "cell_type": "code",
   "execution_count": 38,
   "metadata": {},
   "outputs": [],
   "source": [
    "def retrieve_serp_results(feat_dict, position=1):\n",
    "    if pd.isna(feat_dict):\n",
    "        return np.nan\n",
    "    \n",
    "    stance_list = feat_dict['article_stances']\n",
    "    serp_positions = feat_dict['article_serp_positions']\n",
    "    \n",
    "    if isinstance(position, list):\n",
    "        results = [np.mean(stance_list[serp_positions.index(pos)]) for pos in position if pos in serp_positions]\n",
    "        return np.nan if not results else np.mean(results)\n",
    "    elif position in serp_positions:\n",
    "        return np.mean(stance_list[serp_positions.index(position)])\n",
    "    \n",
    "    return np.nan"
   ]
  },
  {
   "cell_type": "code",
   "execution_count": 39,
   "metadata": {},
   "outputs": [],
   "source": [
    "df['Stances_First'] = df['Features_Raw'].apply(lambda x: retrieve_serp_results(x, position=[1]))\n",
    "df['Stances_Last'] = df['Features_Raw'].apply(lambda x: retrieve_serp_results(x, position=[10]))"
   ]
  },
  {
   "cell_type": "code",
   "execution_count": 41,
   "metadata": {},
   "outputs": [
    {
     "data": {
      "text/plain": [
       "count    242.000000\n",
       "mean       0.148926\n",
       "std        0.319132\n",
       "min       -1.000000\n",
       "25%        0.000000\n",
       "50%        0.120000\n",
       "75%        0.400000\n",
       "max        1.000000\n",
       "Name: Stances_First, dtype: float64"
      ]
     },
     "execution_count": 41,
     "metadata": {},
     "output_type": "execute_result"
    }
   ],
   "source": [
    "df['Stances_First'].describe()"
   ]
  },
  {
   "cell_type": "code",
   "execution_count": 42,
   "metadata": {},
   "outputs": [
    {
     "data": {
      "text/plain": [
       "count    165.000000\n",
       "mean       0.103273\n",
       "std        0.242952\n",
       "min       -0.400000\n",
       "25%        0.000000\n",
       "50%        0.000000\n",
       "75%        0.240000\n",
       "max        1.000000\n",
       "Name: Stances_Last, dtype: float64"
      ]
     },
     "execution_count": 42,
     "metadata": {},
     "output_type": "execute_result"
    }
   ],
   "source": [
    "df['Stances_Last'].describe()"
   ]
  },
  {
   "cell_type": "code",
   "execution_count": 43,
   "metadata": {},
   "outputs": [
    {
     "data": {
      "text/html": [
       "<div>\n",
       "<style scoped>\n",
       "    .dataframe tbody tr th:only-of-type {\n",
       "        vertical-align: middle;\n",
       "    }\n",
       "\n",
       "    .dataframe tbody tr th {\n",
       "        vertical-align: top;\n",
       "    }\n",
       "\n",
       "    .dataframe thead th {\n",
       "        text-align: right;\n",
       "    }\n",
       "</style>\n",
       "<table border=\"1\" class=\"dataframe\">\n",
       "  <thead>\n",
       "    <tr style=\"text-align: right;\">\n",
       "      <th></th>\n",
       "      <th>W</th>\n",
       "      <th>pval</th>\n",
       "      <th>normal</th>\n",
       "    </tr>\n",
       "  </thead>\n",
       "  <tbody>\n",
       "    <tr>\n",
       "      <th>Stances_First</th>\n",
       "      <td>0.940753</td>\n",
       "      <td>2.529963e-08</td>\n",
       "      <td>False</td>\n",
       "    </tr>\n",
       "  </tbody>\n",
       "</table>\n",
       "</div>"
      ],
      "text/plain": [
       "                      W          pval  normal\n",
       "Stances_First  0.940753  2.529963e-08   False"
      ]
     },
     "execution_count": 43,
     "metadata": {},
     "output_type": "execute_result"
    }
   ],
   "source": [
    "pg.normality(data=df['Stances_First']) #not normally distributed\n",
    "# pg.mwu(x=df.loc[df['Category'] == 'Misl', 'avg_score'],\n",
    "#                 y=df.loc[df['Category'] == 'True', 'avg_score'],\n",
    "#                 alternative='greater') #Mann-Whitney U (testing if Misl (Group 1) is higher than True (Group 2) -> differences statistically significant, but with a small effect size (RBC < 0.3)"
   ]
  },
  {
   "cell_type": "code",
   "execution_count": 44,
   "metadata": {},
   "outputs": [
    {
     "data": {
      "text/html": [
       "<div>\n",
       "<style scoped>\n",
       "    .dataframe tbody tr th:only-of-type {\n",
       "        vertical-align: middle;\n",
       "    }\n",
       "\n",
       "    .dataframe tbody tr th {\n",
       "        vertical-align: top;\n",
       "    }\n",
       "\n",
       "    .dataframe thead th {\n",
       "        text-align: right;\n",
       "    }\n",
       "</style>\n",
       "<table border=\"1\" class=\"dataframe\">\n",
       "  <thead>\n",
       "    <tr style=\"text-align: right;\">\n",
       "      <th></th>\n",
       "      <th>W</th>\n",
       "      <th>pval</th>\n",
       "      <th>normal</th>\n",
       "    </tr>\n",
       "  </thead>\n",
       "  <tbody>\n",
       "    <tr>\n",
       "      <th>Stances_Last</th>\n",
       "      <td>0.909639</td>\n",
       "      <td>1.454345e-08</td>\n",
       "      <td>False</td>\n",
       "    </tr>\n",
       "  </tbody>\n",
       "</table>\n",
       "</div>"
      ],
      "text/plain": [
       "                     W          pval  normal\n",
       "Stances_Last  0.909639  1.454345e-08   False"
      ]
     },
     "execution_count": 44,
     "metadata": {},
     "output_type": "execute_result"
    }
   ],
   "source": [
    "pg.normality(data=df['Stances_Last']) #not normally distributed"
   ]
  },
  {
   "cell_type": "code",
   "execution_count": 45,
   "metadata": {},
   "outputs": [],
   "source": [
    "#comparing last vs first against each other (not considering category)"
   ]
  },
  {
   "cell_type": "code",
   "execution_count": 46,
   "metadata": {},
   "outputs": [
    {
     "data": {
      "text/html": [
       "<div>\n",
       "<style scoped>\n",
       "    .dataframe tbody tr th:only-of-type {\n",
       "        vertical-align: middle;\n",
       "    }\n",
       "\n",
       "    .dataframe tbody tr th {\n",
       "        vertical-align: top;\n",
       "    }\n",
       "\n",
       "    .dataframe thead th {\n",
       "        text-align: right;\n",
       "    }\n",
       "</style>\n",
       "<table border=\"1\" class=\"dataframe\">\n",
       "  <thead>\n",
       "    <tr style=\"text-align: right;\">\n",
       "      <th></th>\n",
       "      <th>U-val</th>\n",
       "      <th>alternative</th>\n",
       "      <th>p-val</th>\n",
       "      <th>RBC</th>\n",
       "      <th>CLES</th>\n",
       "    </tr>\n",
       "  </thead>\n",
       "  <tbody>\n",
       "    <tr>\n",
       "      <th>MWU</th>\n",
       "      <td>23521.5</td>\n",
       "      <td>greater</td>\n",
       "      <td>0.001058</td>\n",
       "      <td>0.178137</td>\n",
       "      <td>0.589068</td>\n",
       "    </tr>\n",
       "  </tbody>\n",
       "</table>\n",
       "</div>"
      ],
      "text/plain": [
       "       U-val alternative     p-val       RBC      CLES\n",
       "MWU  23521.5     greater  0.001058  0.178137  0.589068"
      ]
     },
     "execution_count": 46,
     "metadata": {},
     "output_type": "execute_result"
    }
   ],
   "source": [
    "pg.mwu(x=df['Stances_First'],\n",
    "        y=df['Stances_Last'],\n",
    "        alternative='greater') #Mann-Whitney U (testing if Misl (Group 1) is higher than True (Group 2) -> differences statistically significant, but with a small effect size (RBC < 0.3)"
   ]
  },
  {
   "cell_type": "code",
   "execution_count": 47,
   "metadata": {},
   "outputs": [
    {
     "data": {
      "text/html": [
       "<div>\n",
       "<style scoped>\n",
       "    .dataframe tbody tr th:only-of-type {\n",
       "        vertical-align: middle;\n",
       "    }\n",
       "\n",
       "    .dataframe tbody tr th {\n",
       "        vertical-align: top;\n",
       "    }\n",
       "\n",
       "    .dataframe thead th {\n",
       "        text-align: right;\n",
       "    }\n",
       "</style>\n",
       "<table border=\"1\" class=\"dataframe\">\n",
       "  <thead>\n",
       "    <tr style=\"text-align: right;\">\n",
       "      <th></th>\n",
       "      <th>count</th>\n",
       "      <th>mean</th>\n",
       "      <th>std</th>\n",
       "      <th>min</th>\n",
       "      <th>25%</th>\n",
       "      <th>50%</th>\n",
       "      <th>75%</th>\n",
       "      <th>max</th>\n",
       "    </tr>\n",
       "    <tr>\n",
       "      <th>Category</th>\n",
       "      <th></th>\n",
       "      <th></th>\n",
       "      <th></th>\n",
       "      <th></th>\n",
       "      <th></th>\n",
       "      <th></th>\n",
       "      <th></th>\n",
       "      <th></th>\n",
       "    </tr>\n",
       "  </thead>\n",
       "  <tbody>\n",
       "    <tr>\n",
       "      <th>Misl</th>\n",
       "      <td>124.0</td>\n",
       "      <td>0.116129</td>\n",
       "      <td>0.28300</td>\n",
       "      <td>-1.0</td>\n",
       "      <td>0.0</td>\n",
       "      <td>0.08</td>\n",
       "      <td>0.29</td>\n",
       "      <td>0.84</td>\n",
       "    </tr>\n",
       "    <tr>\n",
       "      <th>True</th>\n",
       "      <td>118.0</td>\n",
       "      <td>0.183390</td>\n",
       "      <td>0.35107</td>\n",
       "      <td>-1.0</td>\n",
       "      <td>0.0</td>\n",
       "      <td>0.20</td>\n",
       "      <td>0.44</td>\n",
       "      <td>1.00</td>\n",
       "    </tr>\n",
       "  </tbody>\n",
       "</table>\n",
       "</div>"
      ],
      "text/plain": [
       "          count      mean      std  min  25%   50%   75%   max\n",
       "Category                                                      \n",
       "Misl      124.0  0.116129  0.28300 -1.0  0.0  0.08  0.29  0.84\n",
       "True      118.0  0.183390  0.35107 -1.0  0.0  0.20  0.44  1.00"
      ]
     },
     "execution_count": 47,
     "metadata": {},
     "output_type": "execute_result"
    }
   ],
   "source": [
    "df.groupby('Category')['Stances_First'].describe()"
   ]
  },
  {
   "cell_type": "code",
   "execution_count": 48,
   "metadata": {},
   "outputs": [
    {
     "data": {
      "text/html": [
       "<div>\n",
       "<style scoped>\n",
       "    .dataframe tbody tr th:only-of-type {\n",
       "        vertical-align: middle;\n",
       "    }\n",
       "\n",
       "    .dataframe tbody tr th {\n",
       "        vertical-align: top;\n",
       "    }\n",
       "\n",
       "    .dataframe thead th {\n",
       "        text-align: right;\n",
       "    }\n",
       "</style>\n",
       "<table border=\"1\" class=\"dataframe\">\n",
       "  <thead>\n",
       "    <tr style=\"text-align: right;\">\n",
       "      <th></th>\n",
       "      <th>U-val</th>\n",
       "      <th>alternative</th>\n",
       "      <th>p-val</th>\n",
       "      <th>RBC</th>\n",
       "      <th>CLES</th>\n",
       "    </tr>\n",
       "  </thead>\n",
       "  <tbody>\n",
       "    <tr>\n",
       "      <th>MWU</th>\n",
       "      <td>5877.0</td>\n",
       "      <td>less</td>\n",
       "      <td>0.004003</td>\n",
       "      <td>-0.196692</td>\n",
       "      <td>0.598346</td>\n",
       "    </tr>\n",
       "  </tbody>\n",
       "</table>\n",
       "</div>"
      ],
      "text/plain": [
       "      U-val alternative     p-val       RBC      CLES\n",
       "MWU  5877.0        less  0.004003 -0.196692  0.598346"
      ]
     },
     "execution_count": 48,
     "metadata": {},
     "output_type": "execute_result"
    }
   ],
   "source": [
    "pg.normality(data=df, dv='Stances_First', group='Category') #not normally distributed\n",
    "pg.mwu(x=df.loc[df['Category'] == 'Misl', 'Stances_First'],\n",
    "                y=df.loc[df['Category'] == 'True', 'Stances_First'],\n",
    "                alternative='less') #Mann-Whitney U (testing if Misl (Group 1) is higher than True (Group 2) -> differences statistically significant, but with a small effect size (RBC < 0.3)"
   ]
  },
  {
   "cell_type": "code",
   "execution_count": 49,
   "metadata": {},
   "outputs": [
    {
     "data": {
      "text/html": [
       "<div>\n",
       "<style scoped>\n",
       "    .dataframe tbody tr th:only-of-type {\n",
       "        vertical-align: middle;\n",
       "    }\n",
       "\n",
       "    .dataframe tbody tr th {\n",
       "        vertical-align: top;\n",
       "    }\n",
       "\n",
       "    .dataframe thead th {\n",
       "        text-align: right;\n",
       "    }\n",
       "</style>\n",
       "<table border=\"1\" class=\"dataframe\">\n",
       "  <thead>\n",
       "    <tr style=\"text-align: right;\">\n",
       "      <th></th>\n",
       "      <th>count</th>\n",
       "      <th>mean</th>\n",
       "      <th>std</th>\n",
       "      <th>min</th>\n",
       "      <th>25%</th>\n",
       "      <th>50%</th>\n",
       "      <th>75%</th>\n",
       "      <th>max</th>\n",
       "    </tr>\n",
       "    <tr>\n",
       "      <th>Category</th>\n",
       "      <th></th>\n",
       "      <th></th>\n",
       "      <th></th>\n",
       "      <th></th>\n",
       "      <th></th>\n",
       "      <th></th>\n",
       "      <th></th>\n",
       "      <th></th>\n",
       "    </tr>\n",
       "  </thead>\n",
       "  <tbody>\n",
       "    <tr>\n",
       "      <th>Misl</th>\n",
       "      <td>79.0</td>\n",
       "      <td>0.057722</td>\n",
       "      <td>0.233918</td>\n",
       "      <td>-0.36</td>\n",
       "      <td>-0.04</td>\n",
       "      <td>0.00</td>\n",
       "      <td>0.14</td>\n",
       "      <td>1.00</td>\n",
       "    </tr>\n",
       "    <tr>\n",
       "      <th>True</th>\n",
       "      <td>86.0</td>\n",
       "      <td>0.145116</td>\n",
       "      <td>0.244895</td>\n",
       "      <td>-0.40</td>\n",
       "      <td>0.00</td>\n",
       "      <td>0.04</td>\n",
       "      <td>0.28</td>\n",
       "      <td>0.68</td>\n",
       "    </tr>\n",
       "  </tbody>\n",
       "</table>\n",
       "</div>"
      ],
      "text/plain": [
       "          count      mean       std   min   25%   50%   75%   max\n",
       "Category                                                         \n",
       "Misl       79.0  0.057722  0.233918 -0.36 -0.04  0.00  0.14  1.00\n",
       "True       86.0  0.145116  0.244895 -0.40  0.00  0.04  0.28  0.68"
      ]
     },
     "execution_count": 49,
     "metadata": {},
     "output_type": "execute_result"
    }
   ],
   "source": [
    "df.groupby('Category')['Stances_Last'].describe()"
   ]
  },
  {
   "cell_type": "code",
   "execution_count": 50,
   "metadata": {},
   "outputs": [
    {
     "data": {
      "text/html": [
       "<div>\n",
       "<style scoped>\n",
       "    .dataframe tbody tr th:only-of-type {\n",
       "        vertical-align: middle;\n",
       "    }\n",
       "\n",
       "    .dataframe tbody tr th {\n",
       "        vertical-align: top;\n",
       "    }\n",
       "\n",
       "    .dataframe thead th {\n",
       "        text-align: right;\n",
       "    }\n",
       "</style>\n",
       "<table border=\"1\" class=\"dataframe\">\n",
       "  <thead>\n",
       "    <tr style=\"text-align: right;\">\n",
       "      <th></th>\n",
       "      <th>U-val</th>\n",
       "      <th>alternative</th>\n",
       "      <th>p-val</th>\n",
       "      <th>RBC</th>\n",
       "      <th>CLES</th>\n",
       "    </tr>\n",
       "  </thead>\n",
       "  <tbody>\n",
       "    <tr>\n",
       "      <th>MWU</th>\n",
       "      <td>2602.5</td>\n",
       "      <td>less</td>\n",
       "      <td>0.00407</td>\n",
       "      <td>-0.233883</td>\n",
       "      <td>0.616941</td>\n",
       "    </tr>\n",
       "  </tbody>\n",
       "</table>\n",
       "</div>"
      ],
      "text/plain": [
       "      U-val alternative    p-val       RBC      CLES\n",
       "MWU  2602.5        less  0.00407 -0.233883  0.616941"
      ]
     },
     "execution_count": 50,
     "metadata": {},
     "output_type": "execute_result"
    }
   ],
   "source": [
    "pg.normality(data=df, dv='Stances_Last', group='Category') #not normally distributed\n",
    "pg.mwu(x=df.loc[df['Category'] == 'Misl', 'Stances_Last'],\n",
    "                y=df.loc[df['Category'] == 'True', 'Stances_Last'],\n",
    "                alternative='less') #Mann-Whitney U (testing if Misl (Group 1) is higher than True (Group 2) -> differences statistically significant, but with a small effect size (RBC < 0.3)"
   ]
  },
  {
   "cell_type": "code",
   "execution_count": 51,
   "metadata": {},
   "outputs": [
    {
     "name": "stderr",
     "output_type": "stream",
     "text": [
      "C:\\Users\\danie\\AppData\\Local\\Temp\\ipykernel_2152\\4258603429.py:1: FutureWarning: \n",
      "\n",
      "Passing `palette` without assigning `hue` is deprecated and will be removed in v0.14.0. Assign the `x` variable to `hue` and set `legend=False` for the same effect.\n",
      "\n",
      "  sns.boxplot(data=df, x='Category', y='Stances_First', palette='Set1')\n"
     ]
    },
    {
     "data": {
      "text/plain": [
       "Text(0, 0.5, 'Stances Mean')"
      ]
     },
     "execution_count": 51,
     "metadata": {},
     "output_type": "execute_result"
    },
    {
     "data": {
      "image/png": "[encoded data removed]",
      "text/plain": [
       "<Figure size 640x480 with 1 Axes>"
      ]
     },
     "metadata": {},
     "output_type": "display_data"
    }
   ],
   "source": [
    "sns.boxplot(data=df, x='Category', y='Stances_First', palette='Set1')\n",
    "plt.title('Stance of First SERP Article Stances by User Label')\n",
    "plt.xlabel('User Label')\n",
    "plt.ylabel('Stances Mean')"
   ]
  },
  {
   "cell_type": "code",
   "execution_count": 52,
   "metadata": {},
   "outputs": [
    {
     "data": {
      "text/plain": [
       "count    242.000000\n",
       "mean       0.148926\n",
       "std        0.319132\n",
       "min       -1.000000\n",
       "25%        0.000000\n",
       "50%        0.120000\n",
       "75%        0.400000\n",
       "max        1.000000\n",
       "Name: Stances_First, dtype: float64"
      ]
     },
     "execution_count": 52,
     "metadata": {},
     "output_type": "execute_result"
    }
   ],
   "source": [
    "df['Stances_First'].describe()"
   ]
  },
  {
   "cell_type": "code",
   "execution_count": 53,
   "metadata": {},
   "outputs": [
    {
     "data": {
      "text/plain": [
       "count    165.000000\n",
       "mean       0.103273\n",
       "std        0.242952\n",
       "min       -0.400000\n",
       "25%        0.000000\n",
       "50%        0.000000\n",
       "75%        0.240000\n",
       "max        1.000000\n",
       "Name: Stances_Last, dtype: float64"
      ]
     },
     "execution_count": 53,
     "metadata": {},
     "output_type": "execute_result"
    }
   ],
   "source": [
    "df['Stances_Last'].describe()"
   ]
  },
  {
   "cell_type": "code",
   "execution_count": 54,
   "metadata": {},
   "outputs": [
    {
     "data": {
      "image/png": "[encoded data removed]",
      "text/plain": [
       "<Figure size 640x480 with 1 Axes>"
      ]
     },
     "metadata": {},
     "output_type": "display_data"
    }
   ],
   "source": [
    "sns.boxplot(data=[df['Stances_First'], df['Stances_Last']], palette='Set1')\n",
    "plt.title('Stances of Articles based on Position')\n",
    "plt.xticks([0, 1], ['Stances First Article', 'Stances Last Article'])\n",
    "plt.show()"
   ]
  },
  {
   "cell_type": "code",
   "execution_count": 55,
   "metadata": {},
   "outputs": [
    {
     "data": {
      "text/html": [
       "<div>\n",
       "<style scoped>\n",
       "    .dataframe tbody tr th:only-of-type {\n",
       "        vertical-align: middle;\n",
       "    }\n",
       "\n",
       "    .dataframe tbody tr th {\n",
       "        vertical-align: top;\n",
       "    }\n",
       "\n",
       "    .dataframe thead th {\n",
       "        text-align: right;\n",
       "    }\n",
       "</style>\n",
       "<table border=\"1\" class=\"dataframe\">\n",
       "  <thead>\n",
       "    <tr style=\"text-align: right;\">\n",
       "      <th></th>\n",
       "      <th>count</th>\n",
       "      <th>mean</th>\n",
       "      <th>std</th>\n",
       "      <th>min</th>\n",
       "      <th>25%</th>\n",
       "      <th>50%</th>\n",
       "      <th>75%</th>\n",
       "      <th>max</th>\n",
       "    </tr>\n",
       "    <tr>\n",
       "      <th>Category</th>\n",
       "      <th></th>\n",
       "      <th></th>\n",
       "      <th></th>\n",
       "      <th></th>\n",
       "      <th></th>\n",
       "      <th></th>\n",
       "      <th></th>\n",
       "      <th></th>\n",
       "    </tr>\n",
       "  </thead>\n",
       "  <tbody>\n",
       "    <tr>\n",
       "      <th>Misl</th>\n",
       "      <td>79.0</td>\n",
       "      <td>0.057722</td>\n",
       "      <td>0.233918</td>\n",
       "      <td>-0.36</td>\n",
       "      <td>-0.04</td>\n",
       "      <td>0.00</td>\n",
       "      <td>0.14</td>\n",
       "      <td>1.00</td>\n",
       "    </tr>\n",
       "    <tr>\n",
       "      <th>True</th>\n",
       "      <td>86.0</td>\n",
       "      <td>0.145116</td>\n",
       "      <td>0.244895</td>\n",
       "      <td>-0.40</td>\n",
       "      <td>0.00</td>\n",
       "      <td>0.04</td>\n",
       "      <td>0.28</td>\n",
       "      <td>0.68</td>\n",
       "    </tr>\n",
       "  </tbody>\n",
       "</table>\n",
       "</div>"
      ],
      "text/plain": [
       "          count      mean       std   min   25%   50%   75%   max\n",
       "Category                                                         \n",
       "Misl       79.0  0.057722  0.233918 -0.36 -0.04  0.00  0.14  1.00\n",
       "True       86.0  0.145116  0.244895 -0.40  0.00  0.04  0.28  0.68"
      ]
     },
     "execution_count": 55,
     "metadata": {},
     "output_type": "execute_result"
    }
   ],
   "source": [
    "df.groupby('Category')['Stances_Last'].describe()"
   ]
  },
  {
   "cell_type": "code",
   "execution_count": 56,
   "metadata": {},
   "outputs": [
    {
     "name": "stderr",
     "output_type": "stream",
     "text": [
      "C:\\Users\\danie\\AppData\\Local\\Temp\\ipykernel_2152\\825327286.py:1: FutureWarning: \n",
      "\n",
      "Passing `palette` without assigning `hue` is deprecated and will be removed in v0.14.0. Assign the `x` variable to `hue` and set `legend=False` for the same effect.\n",
      "\n",
      "  sns.boxplot(data=df, x='Category', y='Stances_Last', palette='Set1')\n"
     ]
    },
    {
     "data": {
      "text/plain": [
       "Text(0, 0.5, 'Stances Mean')"
      ]
     },
     "execution_count": 56,
     "metadata": {},
     "output_type": "execute_result"
    },
    {
     "data": {
      "image/png": "[encoded data removed]",
      "text/plain": [
       "<Figure size 640x480 with 1 Axes>"
      ]
     },
     "metadata": {},
     "output_type": "display_data"
    }
   ],
   "source": [
    "sns.boxplot(data=df, x='Category', y='Stances_Last', palette='Set1')\n",
    "plt.title('Stance of Last SERP Article Stances by User Label')\n",
    "plt.xlabel('User Label')\n",
    "plt.ylabel('Stances Mean')"
   ]
  },
  {
   "cell_type": "markdown",
   "metadata": {},
   "source": [
    "### Median"
   ]
  },
  {
   "cell_type": "code",
   "execution_count": 57,
   "metadata": {},
   "outputs": [],
   "source": [
    "df['Stances_Median'] = df['Features_Raw'].apply(lambda x: transform_stances(x, method=np.median))"
   ]
  },
  {
   "cell_type": "code",
   "execution_count": 58,
   "metadata": {},
   "outputs": [
    {
     "data": {
      "text/plain": [
       "count    595.000000\n",
       "mean       0.106918\n",
       "std        0.248738\n",
       "min       -1.000000\n",
       "25%        0.000000\n",
       "50%        0.080000\n",
       "75%        0.260000\n",
       "max        1.000000\n",
       "Name: Stances_Median, dtype: float64"
      ]
     },
     "execution_count": 58,
     "metadata": {},
     "output_type": "execute_result"
    }
   ],
   "source": [
    "df['Stances_Median'].describe()"
   ]
  },
  {
   "cell_type": "code",
   "execution_count": 59,
   "metadata": {},
   "outputs": [
    {
     "data": {
      "text/html": [
       "<div>\n",
       "<style scoped>\n",
       "    .dataframe tbody tr th:only-of-type {\n",
       "        vertical-align: middle;\n",
       "    }\n",
       "\n",
       "    .dataframe tbody tr th {\n",
       "        vertical-align: top;\n",
       "    }\n",
       "\n",
       "    .dataframe thead th {\n",
       "        text-align: right;\n",
       "    }\n",
       "</style>\n",
       "<table border=\"1\" class=\"dataframe\">\n",
       "  <thead>\n",
       "    <tr style=\"text-align: right;\">\n",
       "      <th></th>\n",
       "      <th>count</th>\n",
       "      <th>mean</th>\n",
       "      <th>std</th>\n",
       "      <th>min</th>\n",
       "      <th>25%</th>\n",
       "      <th>50%</th>\n",
       "      <th>75%</th>\n",
       "      <th>max</th>\n",
       "    </tr>\n",
       "    <tr>\n",
       "      <th>Category</th>\n",
       "      <th></th>\n",
       "      <th></th>\n",
       "      <th></th>\n",
       "      <th></th>\n",
       "      <th></th>\n",
       "      <th></th>\n",
       "      <th></th>\n",
       "      <th></th>\n",
       "    </tr>\n",
       "  </thead>\n",
       "  <tbody>\n",
       "    <tr>\n",
       "      <th>Misl</th>\n",
       "      <td>300.0</td>\n",
       "      <td>0.074843</td>\n",
       "      <td>0.236080</td>\n",
       "      <td>-0.8</td>\n",
       "      <td>-0.02</td>\n",
       "      <td>0.00</td>\n",
       "      <td>0.20</td>\n",
       "      <td>0.76</td>\n",
       "    </tr>\n",
       "    <tr>\n",
       "      <th>True</th>\n",
       "      <td>295.0</td>\n",
       "      <td>0.139537</td>\n",
       "      <td>0.257302</td>\n",
       "      <td>-1.0</td>\n",
       "      <td>0.00</td>\n",
       "      <td>0.12</td>\n",
       "      <td>0.31</td>\n",
       "      <td>1.00</td>\n",
       "    </tr>\n",
       "  </tbody>\n",
       "</table>\n",
       "</div>"
      ],
      "text/plain": [
       "          count      mean       std  min   25%   50%   75%   max\n",
       "Category                                                        \n",
       "Misl      300.0  0.074843  0.236080 -0.8 -0.02  0.00  0.20  0.76\n",
       "True      295.0  0.139537  0.257302 -1.0  0.00  0.12  0.31  1.00"
      ]
     },
     "execution_count": 59,
     "metadata": {},
     "output_type": "execute_result"
    }
   ],
   "source": [
    "df.groupby('Category')['Stances_Median'].describe()"
   ]
  },
  {
   "cell_type": "code",
   "execution_count": 60,
   "metadata": {},
   "outputs": [
    {
     "data": {
      "text/html": [
       "<div>\n",
       "<style scoped>\n",
       "    .dataframe tbody tr th:only-of-type {\n",
       "        vertical-align: middle;\n",
       "    }\n",
       "\n",
       "    .dataframe tbody tr th {\n",
       "        vertical-align: top;\n",
       "    }\n",
       "\n",
       "    .dataframe thead th {\n",
       "        text-align: right;\n",
       "    }\n",
       "</style>\n",
       "<table border=\"1\" class=\"dataframe\">\n",
       "  <thead>\n",
       "    <tr style=\"text-align: right;\">\n",
       "      <th></th>\n",
       "      <th>count</th>\n",
       "      <th>mean</th>\n",
       "      <th>std</th>\n",
       "      <th>min</th>\n",
       "      <th>25%</th>\n",
       "      <th>50%</th>\n",
       "      <th>75%</th>\n",
       "      <th>max</th>\n",
       "    </tr>\n",
       "    <tr>\n",
       "      <th>num_valid_articles</th>\n",
       "      <th></th>\n",
       "      <th></th>\n",
       "      <th></th>\n",
       "      <th></th>\n",
       "      <th></th>\n",
       "      <th></th>\n",
       "      <th></th>\n",
       "      <th></th>\n",
       "    </tr>\n",
       "  </thead>\n",
       "  <tbody>\n",
       "    <tr>\n",
       "      <th>1</th>\n",
       "      <td>105.0</td>\n",
       "      <td>0.147429</td>\n",
       "      <td>0.351888</td>\n",
       "      <td>-1.00</td>\n",
       "      <td>0.00</td>\n",
       "      <td>0.12</td>\n",
       "      <td>0.440000</td>\n",
       "      <td>1.00</td>\n",
       "    </tr>\n",
       "    <tr>\n",
       "      <th>2</th>\n",
       "      <td>137.0</td>\n",
       "      <td>0.113066</td>\n",
       "      <td>0.279699</td>\n",
       "      <td>-1.00</td>\n",
       "      <td>0.00</td>\n",
       "      <td>0.08</td>\n",
       "      <td>0.320000</td>\n",
       "      <td>0.72</td>\n",
       "    </tr>\n",
       "    <tr>\n",
       "      <th>3</th>\n",
       "      <td>114.0</td>\n",
       "      <td>0.102398</td>\n",
       "      <td>0.209916</td>\n",
       "      <td>-0.80</td>\n",
       "      <td>0.00</td>\n",
       "      <td>0.08</td>\n",
       "      <td>0.266667</td>\n",
       "      <td>0.48</td>\n",
       "    </tr>\n",
       "    <tr>\n",
       "      <th>4</th>\n",
       "      <td>97.0</td>\n",
       "      <td>0.051782</td>\n",
       "      <td>0.159106</td>\n",
       "      <td>-0.30</td>\n",
       "      <td>-0.02</td>\n",
       "      <td>0.02</td>\n",
       "      <td>0.140000</td>\n",
       "      <td>0.46</td>\n",
       "    </tr>\n",
       "    <tr>\n",
       "      <th>5</th>\n",
       "      <td>67.0</td>\n",
       "      <td>0.113731</td>\n",
       "      <td>0.158982</td>\n",
       "      <td>-0.32</td>\n",
       "      <td>0.00</td>\n",
       "      <td>0.08</td>\n",
       "      <td>0.200000</td>\n",
       "      <td>0.56</td>\n",
       "    </tr>\n",
       "    <tr>\n",
       "      <th>6</th>\n",
       "      <td>50.0</td>\n",
       "      <td>0.088600</td>\n",
       "      <td>0.221147</td>\n",
       "      <td>-0.48</td>\n",
       "      <td>-0.04</td>\n",
       "      <td>0.02</td>\n",
       "      <td>0.220000</td>\n",
       "      <td>0.62</td>\n",
       "    </tr>\n",
       "    <tr>\n",
       "      <th>7</th>\n",
       "      <td>17.0</td>\n",
       "      <td>0.121176</td>\n",
       "      <td>0.226326</td>\n",
       "      <td>-0.40</td>\n",
       "      <td>0.00</td>\n",
       "      <td>0.04</td>\n",
       "      <td>0.300000</td>\n",
       "      <td>0.48</td>\n",
       "    </tr>\n",
       "    <tr>\n",
       "      <th>8</th>\n",
       "      <td>6.0</td>\n",
       "      <td>0.313333</td>\n",
       "      <td>0.171425</td>\n",
       "      <td>0.08</td>\n",
       "      <td>0.20</td>\n",
       "      <td>0.32</td>\n",
       "      <td>0.425000</td>\n",
       "      <td>0.54</td>\n",
       "    </tr>\n",
       "    <tr>\n",
       "      <th>9</th>\n",
       "      <td>2.0</td>\n",
       "      <td>-0.020000</td>\n",
       "      <td>0.084853</td>\n",
       "      <td>-0.08</td>\n",
       "      <td>-0.05</td>\n",
       "      <td>-0.02</td>\n",
       "      <td>0.010000</td>\n",
       "      <td>0.04</td>\n",
       "    </tr>\n",
       "  </tbody>\n",
       "</table>\n",
       "</div>"
      ],
      "text/plain": [
       "                    count      mean       std   min   25%   50%       75%  \\\n",
       "num_valid_articles                                                          \n",
       "1                   105.0  0.147429  0.351888 -1.00  0.00  0.12  0.440000   \n",
       "2                   137.0  0.113066  0.279699 -1.00  0.00  0.08  0.320000   \n",
       "3                   114.0  0.102398  0.209916 -0.80  0.00  0.08  0.266667   \n",
       "4                    97.0  0.051782  0.159106 -0.30 -0.02  0.02  0.140000   \n",
       "5                    67.0  0.113731  0.158982 -0.32  0.00  0.08  0.200000   \n",
       "6                    50.0  0.088600  0.221147 -0.48 -0.04  0.02  0.220000   \n",
       "7                    17.0  0.121176  0.226326 -0.40  0.00  0.04  0.300000   \n",
       "8                     6.0  0.313333  0.171425  0.08  0.20  0.32  0.425000   \n",
       "9                     2.0 -0.020000  0.084853 -0.08 -0.05 -0.02  0.010000   \n",
       "\n",
       "                     max  \n",
       "num_valid_articles        \n",
       "1                   1.00  \n",
       "2                   0.72  \n",
       "3                   0.48  \n",
       "4                   0.46  \n",
       "5                   0.56  \n",
       "6                   0.62  \n",
       "7                   0.48  \n",
       "8                   0.54  \n",
       "9                   0.04  "
      ]
     },
     "execution_count": 60,
     "metadata": {},
     "output_type": "execute_result"
    }
   ],
   "source": [
    "df.groupby('num_valid_articles')['Stances_Median'].describe()"
   ]
  },
  {
   "cell_type": "code",
   "execution_count": 61,
   "metadata": {},
   "outputs": [
    {
     "name": "stderr",
     "output_type": "stream",
     "text": [
      "C:\\Users\\danie\\AppData\\Local\\Temp\\ipykernel_2152\\2000799094.py:4: FutureWarning: \n",
      "\n",
      "Passing `palette` without assigning `hue` is deprecated and will be removed in v0.14.0. Assign the `x` variable to `hue` and set `legend=False` for the same effect.\n",
      "\n",
      "  sns.boxplot(data=df, x='Category', y='Stances_Median', palette='Set1')\n"
     ]
    },
    {
     "data": {
      "text/plain": [
       "Text(0, 0.5, 'Stances Median')"
      ]
     },
     "execution_count": 61,
     "metadata": {},
     "output_type": "execute_result"
    },
    {
     "data": {
      "image/png": "[encoded data removed]",
      "text/plain": [
       "<Figure size 640x480 with 1 Axes>"
      ]
     },
     "metadata": {},
     "output_type": "display_data"
    }
   ],
   "source": [
    "import matplotlib.pyplot as plt\n",
    "import seaborn as sns\n",
    "\n",
    "sns.boxplot(data=df, x='Category', y='Stances_Median', palette='Set1')\n",
    "plt.title('Boxplot of Stances Median by User Label')\n",
    "plt.xlabel('User Label')\n",
    "plt.ylabel('Stances Median')"
   ]
  },
  {
   "cell_type": "markdown",
   "metadata": {},
   "source": [
    "## Stances w/ Positions"
   ]
  },
  {
   "cell_type": "markdown",
   "metadata": {},
   "source": [
    "### Mean"
   ]
  },
  {
   "cell_type": "code",
   "execution_count": 62,
   "metadata": {},
   "outputs": [],
   "source": [
    "df['Stances_Pos_Mean'] = df['Features_Pos'].apply(lambda x: transform_stances(x, method=np.mean))"
   ]
  },
  {
   "cell_type": "code",
   "execution_count": 63,
   "metadata": {},
   "outputs": [],
   "source": [
    "# from sklearn.preprocessing import MinMaxScaler\n",
    "# scaler = MinMaxScaler(feature_range=(-1, 1))\n",
    "# df['Stances_Pos_Mean'] = scaler.fit_transform(np.array(df['Stances_Pos_Mean']).reshape(-1, 1)).flatten()"
   ]
  },
  {
   "cell_type": "code",
   "execution_count": 64,
   "metadata": {},
   "outputs": [
    {
     "data": {
      "text/plain": [
       "count    595.000000\n",
       "mean       0.110435\n",
       "std        0.265344\n",
       "min       -1.051961\n",
       "25%       -0.018654\n",
       "50%        0.072826\n",
       "75%        0.254797\n",
       "max        1.311765\n",
       "Name: Stances_Pos_Mean, dtype: float64"
      ]
     },
     "execution_count": 64,
     "metadata": {},
     "output_type": "execute_result"
    }
   ],
   "source": [
    "df['Stances_Pos_Mean'].describe()"
   ]
  },
  {
   "cell_type": "code",
   "execution_count": 65,
   "metadata": {},
   "outputs": [
    {
     "data": {
      "text/html": [
       "<div>\n",
       "<style scoped>\n",
       "    .dataframe tbody tr th:only-of-type {\n",
       "        vertical-align: middle;\n",
       "    }\n",
       "\n",
       "    .dataframe tbody tr th {\n",
       "        vertical-align: top;\n",
       "    }\n",
       "\n",
       "    .dataframe thead th {\n",
       "        text-align: right;\n",
       "    }\n",
       "</style>\n",
       "<table border=\"1\" class=\"dataframe\">\n",
       "  <thead>\n",
       "    <tr style=\"text-align: right;\">\n",
       "      <th></th>\n",
       "      <th>count</th>\n",
       "      <th>mean</th>\n",
       "      <th>std</th>\n",
       "      <th>min</th>\n",
       "      <th>25%</th>\n",
       "      <th>50%</th>\n",
       "      <th>75%</th>\n",
       "      <th>max</th>\n",
       "    </tr>\n",
       "    <tr>\n",
       "      <th>Category</th>\n",
       "      <th></th>\n",
       "      <th></th>\n",
       "      <th></th>\n",
       "      <th></th>\n",
       "      <th></th>\n",
       "      <th></th>\n",
       "      <th></th>\n",
       "      <th></th>\n",
       "    </tr>\n",
       "  </thead>\n",
       "  <tbody>\n",
       "    <tr>\n",
       "      <th>Misl</th>\n",
       "      <td>300.0</td>\n",
       "      <td>0.068827</td>\n",
       "      <td>0.231332</td>\n",
       "      <td>-0.876371</td>\n",
       "      <td>-0.043623</td>\n",
       "      <td>0.030157</td>\n",
       "      <td>0.203577</td>\n",
       "      <td>0.872332</td>\n",
       "    </tr>\n",
       "    <tr>\n",
       "      <th>True</th>\n",
       "      <td>295.0</td>\n",
       "      <td>0.152748</td>\n",
       "      <td>0.290284</td>\n",
       "      <td>-1.051961</td>\n",
       "      <td>0.000000</td>\n",
       "      <td>0.136407</td>\n",
       "      <td>0.337488</td>\n",
       "      <td>1.311765</td>\n",
       "    </tr>\n",
       "  </tbody>\n",
       "</table>\n",
       "</div>"
      ],
      "text/plain": [
       "          count      mean       std       min       25%       50%       75%  \\\n",
       "Category                                                                      \n",
       "Misl      300.0  0.068827  0.231332 -0.876371 -0.043623  0.030157  0.203577   \n",
       "True      295.0  0.152748  0.290284 -1.051961  0.000000  0.136407  0.337488   \n",
       "\n",
       "               max  \n",
       "Category            \n",
       "Misl      0.872332  \n",
       "True      1.311765  "
      ]
     },
     "execution_count": 65,
     "metadata": {},
     "output_type": "execute_result"
    }
   ],
   "source": [
    "df.groupby('Category')['Stances_Pos_Mean'].describe()"
   ]
  },
  {
   "cell_type": "code",
   "execution_count": 66,
   "metadata": {},
   "outputs": [
    {
     "data": {
      "text/html": [
       "<div>\n",
       "<style scoped>\n",
       "    .dataframe tbody tr th:only-of-type {\n",
       "        vertical-align: middle;\n",
       "    }\n",
       "\n",
       "    .dataframe tbody tr th {\n",
       "        vertical-align: top;\n",
       "    }\n",
       "\n",
       "    .dataframe thead th {\n",
       "        text-align: right;\n",
       "    }\n",
       "</style>\n",
       "<table border=\"1\" class=\"dataframe\">\n",
       "  <thead>\n",
       "    <tr style=\"text-align: right;\">\n",
       "      <th></th>\n",
       "      <th>count</th>\n",
       "      <th>mean</th>\n",
       "      <th>std</th>\n",
       "      <th>min</th>\n",
       "      <th>25%</th>\n",
       "      <th>50%</th>\n",
       "      <th>75%</th>\n",
       "      <th>max</th>\n",
       "    </tr>\n",
       "    <tr>\n",
       "      <th>num_valid_articles</th>\n",
       "      <th></th>\n",
       "      <th></th>\n",
       "      <th></th>\n",
       "      <th></th>\n",
       "      <th></th>\n",
       "      <th></th>\n",
       "      <th></th>\n",
       "      <th></th>\n",
       "    </tr>\n",
       "  </thead>\n",
       "  <tbody>\n",
       "    <tr>\n",
       "      <th>1</th>\n",
       "      <td>105.0</td>\n",
       "      <td>0.149067</td>\n",
       "      <td>0.363327</td>\n",
       "      <td>-1.051961</td>\n",
       "      <td>0.000000</td>\n",
       "      <td>0.078881</td>\n",
       "      <td>0.336364</td>\n",
       "      <td>1.311765</td>\n",
       "    </tr>\n",
       "    <tr>\n",
       "      <th>2</th>\n",
       "      <td>137.0</td>\n",
       "      <td>0.109790</td>\n",
       "      <td>0.286027</td>\n",
       "      <td>-1.051961</td>\n",
       "      <td>0.000000</td>\n",
       "      <td>0.069315</td>\n",
       "      <td>0.278853</td>\n",
       "      <td>0.872332</td>\n",
       "    </tr>\n",
       "    <tr>\n",
       "      <th>3</th>\n",
       "      <td>114.0</td>\n",
       "      <td>0.098474</td>\n",
       "      <td>0.223160</td>\n",
       "      <td>-0.876371</td>\n",
       "      <td>-0.001512</td>\n",
       "      <td>0.063778</td>\n",
       "      <td>0.252389</td>\n",
       "      <td>0.537424</td>\n",
       "    </tr>\n",
       "    <tr>\n",
       "      <th>4</th>\n",
       "      <td>97.0</td>\n",
       "      <td>0.067965</td>\n",
       "      <td>0.177569</td>\n",
       "      <td>-0.466434</td>\n",
       "      <td>-0.042246</td>\n",
       "      <td>0.044003</td>\n",
       "      <td>0.178884</td>\n",
       "      <td>0.608268</td>\n",
       "    </tr>\n",
       "    <tr>\n",
       "      <th>5</th>\n",
       "      <td>67.0</td>\n",
       "      <td>0.101703</td>\n",
       "      <td>0.186441</td>\n",
       "      <td>-0.310055</td>\n",
       "      <td>-0.041306</td>\n",
       "      <td>0.083332</td>\n",
       "      <td>0.215512</td>\n",
       "      <td>0.482327</td>\n",
       "    </tr>\n",
       "    <tr>\n",
       "      <th>6</th>\n",
       "      <td>50.0</td>\n",
       "      <td>0.109930</td>\n",
       "      <td>0.268550</td>\n",
       "      <td>-0.559411</td>\n",
       "      <td>-0.073110</td>\n",
       "      <td>0.031509</td>\n",
       "      <td>0.306751</td>\n",
       "      <td>0.741479</td>\n",
       "    </tr>\n",
       "    <tr>\n",
       "      <th>7</th>\n",
       "      <td>17.0</td>\n",
       "      <td>0.138208</td>\n",
       "      <td>0.289163</td>\n",
       "      <td>-0.366384</td>\n",
       "      <td>0.003677</td>\n",
       "      <td>0.043283</td>\n",
       "      <td>0.384485</td>\n",
       "      <td>0.566020</td>\n",
       "    </tr>\n",
       "    <tr>\n",
       "      <th>8</th>\n",
       "      <td>6.0</td>\n",
       "      <td>0.405284</td>\n",
       "      <td>0.218960</td>\n",
       "      <td>0.140415</td>\n",
       "      <td>0.219251</td>\n",
       "      <td>0.431033</td>\n",
       "      <td>0.562115</td>\n",
       "      <td>0.674759</td>\n",
       "    </tr>\n",
       "    <tr>\n",
       "      <th>9</th>\n",
       "      <td>2.0</td>\n",
       "      <td>0.052597</td>\n",
       "      <td>0.112423</td>\n",
       "      <td>-0.026898</td>\n",
       "      <td>0.012849</td>\n",
       "      <td>0.052597</td>\n",
       "      <td>0.092345</td>\n",
       "      <td>0.132092</td>\n",
       "    </tr>\n",
       "  </tbody>\n",
       "</table>\n",
       "</div>"
      ],
      "text/plain": [
       "                    count      mean       std       min       25%       50%  \\\n",
       "num_valid_articles                                                            \n",
       "1                   105.0  0.149067  0.363327 -1.051961  0.000000  0.078881   \n",
       "2                   137.0  0.109790  0.286027 -1.051961  0.000000  0.069315   \n",
       "3                   114.0  0.098474  0.223160 -0.876371 -0.001512  0.063778   \n",
       "4                    97.0  0.067965  0.177569 -0.466434 -0.042246  0.044003   \n",
       "5                    67.0  0.101703  0.186441 -0.310055 -0.041306  0.083332   \n",
       "6                    50.0  0.109930  0.268550 -0.559411 -0.073110  0.031509   \n",
       "7                    17.0  0.138208  0.289163 -0.366384  0.003677  0.043283   \n",
       "8                     6.0  0.405284  0.218960  0.140415  0.219251  0.431033   \n",
       "9                     2.0  0.052597  0.112423 -0.026898  0.012849  0.052597   \n",
       "\n",
       "                         75%       max  \n",
       "num_valid_articles                      \n",
       "1                   0.336364  1.311765  \n",
       "2                   0.278853  0.872332  \n",
       "3                   0.252389  0.537424  \n",
       "4                   0.178884  0.608268  \n",
       "5                   0.215512  0.482327  \n",
       "6                   0.306751  0.741479  \n",
       "7                   0.384485  0.566020  \n",
       "8                   0.562115  0.674759  \n",
       "9                   0.092345  0.132092  "
      ]
     },
     "execution_count": 66,
     "metadata": {},
     "output_type": "execute_result"
    }
   ],
   "source": [
    "df.groupby('num_valid_articles')['Stances_Pos_Mean'].describe()\n"
   ]
  },
  {
   "cell_type": "code",
   "execution_count": 67,
   "metadata": {},
   "outputs": [
    {
     "data": {
      "text/html": [
       "<div>\n",
       "<style scoped>\n",
       "    .dataframe tbody tr th:only-of-type {\n",
       "        vertical-align: middle;\n",
       "    }\n",
       "\n",
       "    .dataframe tbody tr th {\n",
       "        vertical-align: top;\n",
       "    }\n",
       "\n",
       "    .dataframe thead th {\n",
       "        text-align: right;\n",
       "    }\n",
       "</style>\n",
       "<table border=\"1\" class=\"dataframe\">\n",
       "  <thead>\n",
       "    <tr style=\"text-align: right;\">\n",
       "      <th></th>\n",
       "      <th>U-val</th>\n",
       "      <th>alternative</th>\n",
       "      <th>p-val</th>\n",
       "      <th>RBC</th>\n",
       "      <th>CLES</th>\n",
       "    </tr>\n",
       "  </thead>\n",
       "  <tbody>\n",
       "    <tr>\n",
       "      <th>MWU</th>\n",
       "      <td>34636.5</td>\n",
       "      <td>less</td>\n",
       "      <td>0.000002</td>\n",
       "      <td>-0.217254</td>\n",
       "      <td>0.608627</td>\n",
       "    </tr>\n",
       "  </tbody>\n",
       "</table>\n",
       "</div>"
      ],
      "text/plain": [
       "       U-val alternative     p-val       RBC      CLES\n",
       "MWU  34636.5        less  0.000002 -0.217254  0.608627"
      ]
     },
     "execution_count": 67,
     "metadata": {},
     "output_type": "execute_result"
    }
   ],
   "source": [
    "pg.normality(data=df, dv='Stances_Pos_Mean', group='Category') #not normally distributed\n",
    "pg.mwu(x=df.loc[df['Category'] == 'Misl', 'Stances_Pos_Mean'],\n",
    "                y=df.loc[df['Category'] == 'True', 'Stances_Pos_Mean'],\n",
    "                alternative='less')"
   ]
  },
  {
   "cell_type": "code",
   "execution_count": 68,
   "metadata": {},
   "outputs": [
    {
     "name": "stderr",
     "output_type": "stream",
     "text": [
      "C:\\Users\\danie\\AppData\\Local\\Temp\\ipykernel_2152\\4211040222.py:1: FutureWarning: \n",
      "\n",
      "Passing `palette` without assigning `hue` is deprecated and will be removed in v0.14.0. Assign the `x` variable to `hue` and set `legend=False` for the same effect.\n",
      "\n",
      "  sns.boxplot(data=df, x='Category', y='Stances_Pos_Mean', palette='Set1')\n"
     ]
    },
    {
     "data": {
      "text/plain": [
       "Text(0, 0.5, 'Stances Mean')"
      ]
     },
     "execution_count": 68,
     "metadata": {},
     "output_type": "execute_result"
    },
    {
     "data": {
      "image/png": "[encoded data removed]",
      "text/plain": [
       "<Figure size 640x480 with 1 Axes>"
      ]
     },
     "metadata": {},
     "output_type": "display_data"
    }
   ],
   "source": [
    "sns.boxplot(data=df, x='Category', y='Stances_Pos_Mean', palette='Set1')\n",
    "plt.title('Boxplot of Stances(Position) Mean by User Label')\n",
    "plt.xlabel('User Label')\n",
    "plt.ylabel('Stances Mean')"
   ]
  },
  {
   "cell_type": "code",
   "execution_count": 69,
   "metadata": {},
   "outputs": [
    {
     "data": {
      "text/html": [
       "<div>\n",
       "<style scoped>\n",
       "    .dataframe tbody tr th:only-of-type {\n",
       "        vertical-align: middle;\n",
       "    }\n",
       "\n",
       "    .dataframe tbody tr th {\n",
       "        vertical-align: top;\n",
       "    }\n",
       "\n",
       "    .dataframe thead th {\n",
       "        text-align: right;\n",
       "    }\n",
       "</style>\n",
       "<table border=\"1\" class=\"dataframe\">\n",
       "  <thead>\n",
       "    <tr style=\"text-align: right;\">\n",
       "      <th></th>\n",
       "      <th>count</th>\n",
       "      <th>mean</th>\n",
       "      <th>std</th>\n",
       "      <th>min</th>\n",
       "      <th>25%</th>\n",
       "      <th>50%</th>\n",
       "      <th>75%</th>\n",
       "      <th>max</th>\n",
       "    </tr>\n",
       "    <tr>\n",
       "      <th>Category</th>\n",
       "      <th></th>\n",
       "      <th></th>\n",
       "      <th></th>\n",
       "      <th></th>\n",
       "      <th></th>\n",
       "      <th></th>\n",
       "      <th></th>\n",
       "      <th></th>\n",
       "    </tr>\n",
       "  </thead>\n",
       "  <tbody>\n",
       "    <tr>\n",
       "      <th>Misl</th>\n",
       "      <td>123.0</td>\n",
       "      <td>0.053369</td>\n",
       "      <td>0.237068</td>\n",
       "      <td>-0.876371</td>\n",
       "      <td>-0.066944</td>\n",
       "      <td>0.043283</td>\n",
       "      <td>0.182674</td>\n",
       "      <td>0.717274</td>\n",
       "    </tr>\n",
       "    <tr>\n",
       "      <th>True</th>\n",
       "      <td>142.0</td>\n",
       "      <td>0.162543</td>\n",
       "      <td>0.307195</td>\n",
       "      <td>-1.051961</td>\n",
       "      <td>0.000000</td>\n",
       "      <td>0.136671</td>\n",
       "      <td>0.392641</td>\n",
       "      <td>1.311765</td>\n",
       "    </tr>\n",
       "  </tbody>\n",
       "</table>\n",
       "</div>"
      ],
      "text/plain": [
       "          count      mean       std       min       25%       50%       75%  \\\n",
       "Category                                                                      \n",
       "Misl      123.0  0.053369  0.237068 -0.876371 -0.066944  0.043283  0.182674   \n",
       "True      142.0  0.162543  0.307195 -1.051961  0.000000  0.136671  0.392641   \n",
       "\n",
       "               max  \n",
       "Category            \n",
       "Misl      0.717274  \n",
       "True      1.311765  "
      ]
     },
     "execution_count": 69,
     "metadata": {},
     "output_type": "execute_result"
    }
   ],
   "source": [
    "last_search_df = df.drop_duplicates(subset='ResponseId', keep='last')\n",
    "last_search_df.groupby('Category')['Stances_Pos_Mean'].describe()"
   ]
  },
  {
   "cell_type": "markdown",
   "metadata": {},
   "source": [
    "## Stances w/ Headlines"
   ]
  },
  {
   "cell_type": "markdown",
   "metadata": {},
   "source": [
    "### Mean"
   ]
  },
  {
   "cell_type": "code",
   "execution_count": 70,
   "metadata": {},
   "outputs": [],
   "source": [
    "df['Stances_H_Mean'] = df['Features_H'].apply(lambda x: transform_stances(x, method=np.mean))"
   ]
  },
  {
   "cell_type": "code",
   "execution_count": 71,
   "metadata": {},
   "outputs": [],
   "source": [
    "# from sklearn.preprocessing import MinMaxScaler\n",
    "# scaler = MinMaxScaler(feature_range=(-1, 1))\n",
    "# df['Stances_H_Mean'] = scaler.fit_transform(np.array(df['Stances_H_Mean']).reshape(-1, 1)).flatten()"
   ]
  },
  {
   "cell_type": "code",
   "execution_count": 72,
   "metadata": {},
   "outputs": [
    {
     "data": {
      "text/plain": [
       "count    595.000000\n",
       "mean       0.016804\n",
       "std        0.076590\n",
       "min       -0.300000\n",
       "25%        0.000000\n",
       "50%        0.000000\n",
       "75%        0.025833\n",
       "max        1.000000\n",
       "Name: Stances_H_Mean, dtype: float64"
      ]
     },
     "execution_count": 72,
     "metadata": {},
     "output_type": "execute_result"
    }
   ],
   "source": [
    "df['Stances_H_Mean'].describe()"
   ]
  },
  {
   "cell_type": "code",
   "execution_count": 73,
   "metadata": {},
   "outputs": [
    {
     "data": {
      "text/html": [
       "<div>\n",
       "<style scoped>\n",
       "    .dataframe tbody tr th:only-of-type {\n",
       "        vertical-align: middle;\n",
       "    }\n",
       "\n",
       "    .dataframe tbody tr th {\n",
       "        vertical-align: top;\n",
       "    }\n",
       "\n",
       "    .dataframe thead th {\n",
       "        text-align: right;\n",
       "    }\n",
       "</style>\n",
       "<table border=\"1\" class=\"dataframe\">\n",
       "  <thead>\n",
       "    <tr style=\"text-align: right;\">\n",
       "      <th></th>\n",
       "      <th>count</th>\n",
       "      <th>mean</th>\n",
       "      <th>std</th>\n",
       "      <th>min</th>\n",
       "      <th>25%</th>\n",
       "      <th>50%</th>\n",
       "      <th>75%</th>\n",
       "      <th>max</th>\n",
       "    </tr>\n",
       "    <tr>\n",
       "      <th>Category</th>\n",
       "      <th></th>\n",
       "      <th></th>\n",
       "      <th></th>\n",
       "      <th></th>\n",
       "      <th></th>\n",
       "      <th></th>\n",
       "      <th></th>\n",
       "      <th></th>\n",
       "    </tr>\n",
       "  </thead>\n",
       "  <tbody>\n",
       "    <tr>\n",
       "      <th>Misl</th>\n",
       "      <td>300.0</td>\n",
       "      <td>0.012224</td>\n",
       "      <td>0.057989</td>\n",
       "      <td>-0.173333</td>\n",
       "      <td>0.0</td>\n",
       "      <td>0.0</td>\n",
       "      <td>0.020000</td>\n",
       "      <td>0.52</td>\n",
       "    </tr>\n",
       "    <tr>\n",
       "      <th>True</th>\n",
       "      <td>295.0</td>\n",
       "      <td>0.021461</td>\n",
       "      <td>0.091590</td>\n",
       "      <td>-0.300000</td>\n",
       "      <td>0.0</td>\n",
       "      <td>0.0</td>\n",
       "      <td>0.026667</td>\n",
       "      <td>1.00</td>\n",
       "    </tr>\n",
       "  </tbody>\n",
       "</table>\n",
       "</div>"
      ],
      "text/plain": [
       "          count      mean       std       min  25%  50%       75%   max\n",
       "Category                                                               \n",
       "Misl      300.0  0.012224  0.057989 -0.173333  0.0  0.0  0.020000  0.52\n",
       "True      295.0  0.021461  0.091590 -0.300000  0.0  0.0  0.026667  1.00"
      ]
     },
     "execution_count": 73,
     "metadata": {},
     "output_type": "execute_result"
    }
   ],
   "source": [
    "df.groupby('Category')['Stances_H_Mean'].describe()"
   ]
  },
  {
   "cell_type": "code",
   "execution_count": 74,
   "metadata": {},
   "outputs": [
    {
     "data": {
      "text/html": [
       "<div>\n",
       "<style scoped>\n",
       "    .dataframe tbody tr th:only-of-type {\n",
       "        vertical-align: middle;\n",
       "    }\n",
       "\n",
       "    .dataframe tbody tr th {\n",
       "        vertical-align: top;\n",
       "    }\n",
       "\n",
       "    .dataframe thead th {\n",
       "        text-align: right;\n",
       "    }\n",
       "</style>\n",
       "<table border=\"1\" class=\"dataframe\">\n",
       "  <thead>\n",
       "    <tr style=\"text-align: right;\">\n",
       "      <th></th>\n",
       "      <th>U-val</th>\n",
       "      <th>alternative</th>\n",
       "      <th>p-val</th>\n",
       "      <th>RBC</th>\n",
       "      <th>CLES</th>\n",
       "    </tr>\n",
       "  </thead>\n",
       "  <tbody>\n",
       "    <tr>\n",
       "      <th>MWU</th>\n",
       "      <td>39397.0</td>\n",
       "      <td>less</td>\n",
       "      <td>0.006848</td>\n",
       "      <td>-0.109672</td>\n",
       "      <td>0.554836</td>\n",
       "    </tr>\n",
       "  </tbody>\n",
       "</table>\n",
       "</div>"
      ],
      "text/plain": [
       "       U-val alternative     p-val       RBC      CLES\n",
       "MWU  39397.0        less  0.006848 -0.109672  0.554836"
      ]
     },
     "execution_count": 74,
     "metadata": {},
     "output_type": "execute_result"
    }
   ],
   "source": [
    "import pingouin as pg\n",
    "pg.normality(data=df, dv='Stances_H_Mean', group='Category') #not normally distributed\n",
    "pg.mwu(x=df.loc[df['Category'] == 'Misl', 'Stances_H_Mean'],\n",
    "                y=df.loc[df['Category'] == 'True', 'Stances_H_Mean'],\n",
    "                alternative='less') #Mann-Whitney U (testing if Misl (Group 1) is less than True (Group 2) -> differences statistically significant, but with a small effect size (RBC < 0.3)"
   ]
  },
  {
   "cell_type": "code",
   "execution_count": 75,
   "metadata": {},
   "outputs": [
    {
     "data": {
      "text/html": [
       "<div>\n",
       "<style scoped>\n",
       "    .dataframe tbody tr th:only-of-type {\n",
       "        vertical-align: middle;\n",
       "    }\n",
       "\n",
       "    .dataframe tbody tr th {\n",
       "        vertical-align: top;\n",
       "    }\n",
       "\n",
       "    .dataframe thead th {\n",
       "        text-align: right;\n",
       "    }\n",
       "</style>\n",
       "<table border=\"1\" class=\"dataframe\">\n",
       "  <thead>\n",
       "    <tr style=\"text-align: right;\">\n",
       "      <th></th>\n",
       "      <th>count</th>\n",
       "      <th>mean</th>\n",
       "      <th>std</th>\n",
       "      <th>min</th>\n",
       "      <th>25%</th>\n",
       "      <th>50%</th>\n",
       "      <th>75%</th>\n",
       "      <th>max</th>\n",
       "    </tr>\n",
       "    <tr>\n",
       "      <th>num_valid_articles</th>\n",
       "      <th></th>\n",
       "      <th></th>\n",
       "      <th></th>\n",
       "      <th></th>\n",
       "      <th></th>\n",
       "      <th></th>\n",
       "      <th></th>\n",
       "      <th></th>\n",
       "    </tr>\n",
       "  </thead>\n",
       "  <tbody>\n",
       "    <tr>\n",
       "      <th>1</th>\n",
       "      <td>105.0</td>\n",
       "      <td>0.026667</td>\n",
       "      <td>0.144293</td>\n",
       "      <td>-0.160000</td>\n",
       "      <td>0.000000</td>\n",
       "      <td>0.000000</td>\n",
       "      <td>0.000000</td>\n",
       "      <td>1.000000</td>\n",
       "    </tr>\n",
       "    <tr>\n",
       "      <th>2</th>\n",
       "      <td>137.0</td>\n",
       "      <td>0.019124</td>\n",
       "      <td>0.078098</td>\n",
       "      <td>-0.300000</td>\n",
       "      <td>0.000000</td>\n",
       "      <td>0.000000</td>\n",
       "      <td>0.020000</td>\n",
       "      <td>0.520000</td>\n",
       "    </tr>\n",
       "    <tr>\n",
       "      <th>3</th>\n",
       "      <td>114.0</td>\n",
       "      <td>0.007057</td>\n",
       "      <td>0.021087</td>\n",
       "      <td>-0.066667</td>\n",
       "      <td>0.000000</td>\n",
       "      <td>0.000000</td>\n",
       "      <td>0.022222</td>\n",
       "      <td>0.053333</td>\n",
       "    </tr>\n",
       "    <tr>\n",
       "      <th>4</th>\n",
       "      <td>97.0</td>\n",
       "      <td>0.018754</td>\n",
       "      <td>0.053092</td>\n",
       "      <td>-0.050000</td>\n",
       "      <td>0.000000</td>\n",
       "      <td>0.000000</td>\n",
       "      <td>0.030000</td>\n",
       "      <td>0.250000</td>\n",
       "    </tr>\n",
       "    <tr>\n",
       "      <th>5</th>\n",
       "      <td>67.0</td>\n",
       "      <td>0.012816</td>\n",
       "      <td>0.029383</td>\n",
       "      <td>-0.064000</td>\n",
       "      <td>0.000000</td>\n",
       "      <td>0.008000</td>\n",
       "      <td>0.032000</td>\n",
       "      <td>0.112000</td>\n",
       "    </tr>\n",
       "    <tr>\n",
       "      <th>6</th>\n",
       "      <td>50.0</td>\n",
       "      <td>0.010960</td>\n",
       "      <td>0.036933</td>\n",
       "      <td>-0.173333</td>\n",
       "      <td>0.000000</td>\n",
       "      <td>0.000000</td>\n",
       "      <td>0.033333</td>\n",
       "      <td>0.066667</td>\n",
       "    </tr>\n",
       "    <tr>\n",
       "      <th>7</th>\n",
       "      <td>17.0</td>\n",
       "      <td>0.013053</td>\n",
       "      <td>0.028666</td>\n",
       "      <td>-0.057143</td>\n",
       "      <td>0.000000</td>\n",
       "      <td>0.011429</td>\n",
       "      <td>0.028571</td>\n",
       "      <td>0.057143</td>\n",
       "    </tr>\n",
       "    <tr>\n",
       "      <th>8</th>\n",
       "      <td>6.0</td>\n",
       "      <td>0.042500</td>\n",
       "      <td>0.017819</td>\n",
       "      <td>0.025000</td>\n",
       "      <td>0.031250</td>\n",
       "      <td>0.040000</td>\n",
       "      <td>0.045000</td>\n",
       "      <td>0.075000</td>\n",
       "    </tr>\n",
       "    <tr>\n",
       "      <th>9</th>\n",
       "      <td>2.0</td>\n",
       "      <td>0.035556</td>\n",
       "      <td>0.018856</td>\n",
       "      <td>0.022222</td>\n",
       "      <td>0.028889</td>\n",
       "      <td>0.035556</td>\n",
       "      <td>0.042222</td>\n",
       "      <td>0.048889</td>\n",
       "    </tr>\n",
       "  </tbody>\n",
       "</table>\n",
       "</div>"
      ],
      "text/plain": [
       "                    count      mean       std       min       25%       50%  \\\n",
       "num_valid_articles                                                            \n",
       "1                   105.0  0.026667  0.144293 -0.160000  0.000000  0.000000   \n",
       "2                   137.0  0.019124  0.078098 -0.300000  0.000000  0.000000   \n",
       "3                   114.0  0.007057  0.021087 -0.066667  0.000000  0.000000   \n",
       "4                    97.0  0.018754  0.053092 -0.050000  0.000000  0.000000   \n",
       "5                    67.0  0.012816  0.029383 -0.064000  0.000000  0.008000   \n",
       "6                    50.0  0.010960  0.036933 -0.173333  0.000000  0.000000   \n",
       "7                    17.0  0.013053  0.028666 -0.057143  0.000000  0.011429   \n",
       "8                     6.0  0.042500  0.017819  0.025000  0.031250  0.040000   \n",
       "9                     2.0  0.035556  0.018856  0.022222  0.028889  0.035556   \n",
       "\n",
       "                         75%       max  \n",
       "num_valid_articles                      \n",
       "1                   0.000000  1.000000  \n",
       "2                   0.020000  0.520000  \n",
       "3                   0.022222  0.053333  \n",
       "4                   0.030000  0.250000  \n",
       "5                   0.032000  0.112000  \n",
       "6                   0.033333  0.066667  \n",
       "7                   0.028571  0.057143  \n",
       "8                   0.045000  0.075000  \n",
       "9                   0.042222  0.048889  "
      ]
     },
     "execution_count": 75,
     "metadata": {},
     "output_type": "execute_result"
    }
   ],
   "source": [
    "df.groupby('num_valid_articles')['Stances_H_Mean'].describe()"
   ]
  },
  {
   "cell_type": "code",
   "execution_count": 76,
   "metadata": {},
   "outputs": [
    {
     "name": "stderr",
     "output_type": "stream",
     "text": [
      "C:\\Users\\danie\\AppData\\Local\\Temp\\ipykernel_2152\\3702187806.py:1: FutureWarning: \n",
      "\n",
      "Passing `palette` without assigning `hue` is deprecated and will be removed in v0.14.0. Assign the `x` variable to `hue` and set `legend=False` for the same effect.\n",
      "\n",
      "  sns.boxplot(data=df, x='Category', y='Stances_H_Mean', palette='Set1')\n"
     ]
    },
    {
     "data": {
      "text/plain": [
       "Text(0, 0.5, 'Stances Mean')"
      ]
     },
     "execution_count": 76,
     "metadata": {},
     "output_type": "execute_result"
    },
    {
     "data": {
      "image/png": "[encoded data removed]",
      "text/plain": [
       "<Figure size 640x480 with 1 Axes>"
      ]
     },
     "metadata": {},
     "output_type": "display_data"
    }
   ],
   "source": [
    "sns.boxplot(data=df, x='Category', y='Stances_H_Mean', palette='Set1')\n",
    "plt.title('Boxplot of Stances(Headline) Mean by User Label')\n",
    "plt.xlabel('User Label')\n",
    "plt.ylabel('Stances Mean')"
   ]
  },
  {
   "cell_type": "markdown",
   "metadata": {},
   "source": [
    "## Stances w/ Headlines and Pos"
   ]
  },
  {
   "cell_type": "code",
   "execution_count": 77,
   "metadata": {},
   "outputs": [],
   "source": [
    "df['Stances_HP_Mean'] = df['Features_HP'].apply(lambda x: transform_stances(x, method=np.mean))"
   ]
  },
  {
   "cell_type": "code",
   "execution_count": 78,
   "metadata": {},
   "outputs": [
    {
     "data": {
      "text/plain": [
       "count    595.000000\n",
       "mean       0.130348\n",
       "std        0.324515\n",
       "min       -1.051961\n",
       "25%       -0.021919\n",
       "50%        0.082854\n",
       "75%        0.299202\n",
       "max        2.623529\n",
       "Name: Stances_HP_Mean, dtype: float64"
      ]
     },
     "execution_count": 78,
     "metadata": {},
     "output_type": "execute_result"
    }
   ],
   "source": [
    "df['Stances_HP_Mean'].describe()"
   ]
  },
  {
   "cell_type": "code",
   "execution_count": 79,
   "metadata": {},
   "outputs": [
    {
     "data": {
      "text/html": [
       "<div>\n",
       "<style scoped>\n",
       "    .dataframe tbody tr th:only-of-type {\n",
       "        vertical-align: middle;\n",
       "    }\n",
       "\n",
       "    .dataframe tbody tr th {\n",
       "        vertical-align: top;\n",
       "    }\n",
       "\n",
       "    .dataframe thead th {\n",
       "        text-align: right;\n",
       "    }\n",
       "</style>\n",
       "<table border=\"1\" class=\"dataframe\">\n",
       "  <thead>\n",
       "    <tr style=\"text-align: right;\">\n",
       "      <th></th>\n",
       "      <th>count</th>\n",
       "      <th>mean</th>\n",
       "      <th>std</th>\n",
       "      <th>min</th>\n",
       "      <th>25%</th>\n",
       "      <th>50%</th>\n",
       "      <th>75%</th>\n",
       "      <th>max</th>\n",
       "    </tr>\n",
       "    <tr>\n",
       "      <th>Category</th>\n",
       "      <th></th>\n",
       "      <th></th>\n",
       "      <th></th>\n",
       "      <th></th>\n",
       "      <th></th>\n",
       "      <th></th>\n",
       "      <th></th>\n",
       "      <th></th>\n",
       "    </tr>\n",
       "  </thead>\n",
       "  <tbody>\n",
       "    <tr>\n",
       "      <th>Misl</th>\n",
       "      <td>300.0</td>\n",
       "      <td>0.081979</td>\n",
       "      <td>0.275492</td>\n",
       "      <td>-0.956641</td>\n",
       "      <td>-0.052985</td>\n",
       "      <td>0.028222</td>\n",
       "      <td>0.218865</td>\n",
       "      <td>1.546845</td>\n",
       "    </tr>\n",
       "    <tr>\n",
       "      <th>True</th>\n",
       "      <td>295.0</td>\n",
       "      <td>0.179536</td>\n",
       "      <td>0.361617</td>\n",
       "      <td>-1.051961</td>\n",
       "      <td>0.000000</td>\n",
       "      <td>0.157397</td>\n",
       "      <td>0.354452</td>\n",
       "      <td>2.623529</td>\n",
       "    </tr>\n",
       "  </tbody>\n",
       "</table>\n",
       "</div>"
      ],
      "text/plain": [
       "          count      mean       std       min       25%       50%       75%  \\\n",
       "Category                                                                      \n",
       "Misl      300.0  0.081979  0.275492 -0.956641 -0.052985  0.028222  0.218865   \n",
       "True      295.0  0.179536  0.361617 -1.051961  0.000000  0.157397  0.354452   \n",
       "\n",
       "               max  \n",
       "Category            \n",
       "Misl      1.546845  \n",
       "True      2.623529  "
      ]
     },
     "execution_count": 79,
     "metadata": {},
     "output_type": "execute_result"
    }
   ],
   "source": [
    "df.groupby('Category')['Stances_HP_Mean'].describe()"
   ]
  },
  {
   "cell_type": "code",
   "execution_count": 80,
   "metadata": {},
   "outputs": [
    {
     "data": {
      "text/html": [
       "<div>\n",
       "<style scoped>\n",
       "    .dataframe tbody tr th:only-of-type {\n",
       "        vertical-align: middle;\n",
       "    }\n",
       "\n",
       "    .dataframe tbody tr th {\n",
       "        vertical-align: top;\n",
       "    }\n",
       "\n",
       "    .dataframe thead th {\n",
       "        text-align: right;\n",
       "    }\n",
       "</style>\n",
       "<table border=\"1\" class=\"dataframe\">\n",
       "  <thead>\n",
       "    <tr style=\"text-align: right;\">\n",
       "      <th></th>\n",
       "      <th>count</th>\n",
       "      <th>mean</th>\n",
       "      <th>std</th>\n",
       "      <th>min</th>\n",
       "      <th>25%</th>\n",
       "      <th>50%</th>\n",
       "      <th>75%</th>\n",
       "      <th>max</th>\n",
       "    </tr>\n",
       "    <tr>\n",
       "      <th>num_valid_articles</th>\n",
       "      <th></th>\n",
       "      <th></th>\n",
       "      <th></th>\n",
       "      <th></th>\n",
       "      <th></th>\n",
       "      <th></th>\n",
       "      <th></th>\n",
       "      <th></th>\n",
       "    </tr>\n",
       "  </thead>\n",
       "  <tbody>\n",
       "    <tr>\n",
       "      <th>1</th>\n",
       "      <td>105.0</td>\n",
       "      <td>0.181893</td>\n",
       "      <td>0.485070</td>\n",
       "      <td>-1.051961</td>\n",
       "      <td>0.000000</td>\n",
       "      <td>0.080000</td>\n",
       "      <td>0.336364</td>\n",
       "      <td>2.623529</td>\n",
       "    </tr>\n",
       "    <tr>\n",
       "      <th>2</th>\n",
       "      <td>137.0</td>\n",
       "      <td>0.130961</td>\n",
       "      <td>0.343547</td>\n",
       "      <td>-1.051961</td>\n",
       "      <td>0.000000</td>\n",
       "      <td>0.084371</td>\n",
       "      <td>0.326667</td>\n",
       "      <td>1.546845</td>\n",
       "    </tr>\n",
       "    <tr>\n",
       "      <th>3</th>\n",
       "      <td>114.0</td>\n",
       "      <td>0.105073</td>\n",
       "      <td>0.238739</td>\n",
       "      <td>-0.956641</td>\n",
       "      <td>-0.012425</td>\n",
       "      <td>0.076451</td>\n",
       "      <td>0.267079</td>\n",
       "      <td>0.564805</td>\n",
       "    </tr>\n",
       "    <tr>\n",
       "      <th>4</th>\n",
       "      <td>97.0</td>\n",
       "      <td>0.090666</td>\n",
       "      <td>0.220919</td>\n",
       "      <td>-0.466434</td>\n",
       "      <td>-0.052952</td>\n",
       "      <td>0.073774</td>\n",
       "      <td>0.187497</td>\n",
       "      <td>0.741793</td>\n",
       "    </tr>\n",
       "    <tr>\n",
       "      <th>5</th>\n",
       "      <td>67.0</td>\n",
       "      <td>0.116113</td>\n",
       "      <td>0.215979</td>\n",
       "      <td>-0.310055</td>\n",
       "      <td>-0.051091</td>\n",
       "      <td>0.121035</td>\n",
       "      <td>0.250966</td>\n",
       "      <td>0.611123</td>\n",
       "    </tr>\n",
       "    <tr>\n",
       "      <th>6</th>\n",
       "      <td>50.0</td>\n",
       "      <td>0.125457</td>\n",
       "      <td>0.309340</td>\n",
       "      <td>-0.795390</td>\n",
       "      <td>-0.093859</td>\n",
       "      <td>0.031910</td>\n",
       "      <td>0.347352</td>\n",
       "      <td>0.841438</td>\n",
       "    </tr>\n",
       "    <tr>\n",
       "      <th>7</th>\n",
       "      <td>17.0</td>\n",
       "      <td>0.157473</td>\n",
       "      <td>0.320845</td>\n",
       "      <td>-0.400785</td>\n",
       "      <td>0.008495</td>\n",
       "      <td>0.077656</td>\n",
       "      <td>0.375673</td>\n",
       "      <td>0.640043</td>\n",
       "    </tr>\n",
       "    <tr>\n",
       "      <th>8</th>\n",
       "      <td>6.0</td>\n",
       "      <td>0.470368</td>\n",
       "      <td>0.221484</td>\n",
       "      <td>0.170997</td>\n",
       "      <td>0.316756</td>\n",
       "      <td>0.481655</td>\n",
       "      <td>0.627702</td>\n",
       "      <td>0.749728</td>\n",
       "    </tr>\n",
       "    <tr>\n",
       "      <th>9</th>\n",
       "      <td>2.0</td>\n",
       "      <td>0.095954</td>\n",
       "      <td>0.135932</td>\n",
       "      <td>-0.000164</td>\n",
       "      <td>0.047895</td>\n",
       "      <td>0.095954</td>\n",
       "      <td>0.144013</td>\n",
       "      <td>0.192073</td>\n",
       "    </tr>\n",
       "  </tbody>\n",
       "</table>\n",
       "</div>"
      ],
      "text/plain": [
       "                    count      mean       std       min       25%       50%  \\\n",
       "num_valid_articles                                                            \n",
       "1                   105.0  0.181893  0.485070 -1.051961  0.000000  0.080000   \n",
       "2                   137.0  0.130961  0.343547 -1.051961  0.000000  0.084371   \n",
       "3                   114.0  0.105073  0.238739 -0.956641 -0.012425  0.076451   \n",
       "4                    97.0  0.090666  0.220919 -0.466434 -0.052952  0.073774   \n",
       "5                    67.0  0.116113  0.215979 -0.310055 -0.051091  0.121035   \n",
       "6                    50.0  0.125457  0.309340 -0.795390 -0.093859  0.031910   \n",
       "7                    17.0  0.157473  0.320845 -0.400785  0.008495  0.077656   \n",
       "8                     6.0  0.470368  0.221484  0.170997  0.316756  0.481655   \n",
       "9                     2.0  0.095954  0.135932 -0.000164  0.047895  0.095954   \n",
       "\n",
       "                         75%       max  \n",
       "num_valid_articles                      \n",
       "1                   0.336364  2.623529  \n",
       "2                   0.326667  1.546845  \n",
       "3                   0.267079  0.564805  \n",
       "4                   0.187497  0.741793  \n",
       "5                   0.250966  0.611123  \n",
       "6                   0.347352  0.841438  \n",
       "7                   0.375673  0.640043  \n",
       "8                   0.627702  0.749728  \n",
       "9                   0.144013  0.192073  "
      ]
     },
     "execution_count": 80,
     "metadata": {},
     "output_type": "execute_result"
    }
   ],
   "source": [
    "df.groupby('num_valid_articles')['Stances_HP_Mean'].describe()"
   ]
  },
  {
   "cell_type": "code",
   "execution_count": 81,
   "metadata": {},
   "outputs": [
    {
     "data": {
      "text/html": [
       "<div>\n",
       "<style scoped>\n",
       "    .dataframe tbody tr th:only-of-type {\n",
       "        vertical-align: middle;\n",
       "    }\n",
       "\n",
       "    .dataframe tbody tr th {\n",
       "        vertical-align: top;\n",
       "    }\n",
       "\n",
       "    .dataframe thead th {\n",
       "        text-align: right;\n",
       "    }\n",
       "</style>\n",
       "<table border=\"1\" class=\"dataframe\">\n",
       "  <thead>\n",
       "    <tr style=\"text-align: right;\">\n",
       "      <th></th>\n",
       "      <th>U-val</th>\n",
       "      <th>alternative</th>\n",
       "      <th>p-val</th>\n",
       "      <th>RBC</th>\n",
       "      <th>CLES</th>\n",
       "    </tr>\n",
       "  </thead>\n",
       "  <tbody>\n",
       "    <tr>\n",
       "      <th>MWU</th>\n",
       "      <td>34604.0</td>\n",
       "      <td>less</td>\n",
       "      <td>0.000002</td>\n",
       "      <td>-0.217989</td>\n",
       "      <td>0.608994</td>\n",
       "    </tr>\n",
       "  </tbody>\n",
       "</table>\n",
       "</div>"
      ],
      "text/plain": [
       "       U-val alternative     p-val       RBC      CLES\n",
       "MWU  34604.0        less  0.000002 -0.217989  0.608994"
      ]
     },
     "execution_count": 81,
     "metadata": {},
     "output_type": "execute_result"
    }
   ],
   "source": [
    "pg.normality(data=df, dv='Stances_HP_Mean', group='Category') #not normally distributed\n",
    "pg.mwu(x=df.loc[df['Category'] == 'Misl', 'Stances_HP_Mean'],\n",
    "                y=df.loc[df['Category'] == 'True', 'Stances_HP_Mean'],\n",
    "                alternative='less')"
   ]
  },
  {
   "cell_type": "code",
   "execution_count": 82,
   "metadata": {},
   "outputs": [
    {
     "name": "stderr",
     "output_type": "stream",
     "text": [
      "C:\\Users\\danie\\AppData\\Local\\Temp\\ipykernel_2152\\1375276248.py:1: FutureWarning: \n",
      "\n",
      "Passing `palette` without assigning `hue` is deprecated and will be removed in v0.14.0. Assign the `x` variable to `hue` and set `legend=False` for the same effect.\n",
      "\n",
      "  sns.boxplot(data=df, x='Category', y='Stances_HP_Mean', palette='Set1')\n"
     ]
    },
    {
     "data": {
      "text/plain": [
       "Text(0, 0.5, 'Stances Mean')"
      ]
     },
     "execution_count": 82,
     "metadata": {},
     "output_type": "execute_result"
    },
    {
     "data": {
      "image/png": "[encoded data removed]",
      "text/plain": [
       "<Figure size 640x480 with 1 Axes>"
      ]
     },
     "metadata": {},
     "output_type": "display_data"
    }
   ],
   "source": [
    "sns.boxplot(data=df, x='Category', y='Stances_HP_Mean', palette='Set1')\n",
    "plt.title('Boxplot of Stances (Headlines + Position) Mean by User Label')\n",
    "plt.xlabel('User Label')\n",
    "plt.ylabel('Stances Mean')"
   ]
  },
  {
   "cell_type": "markdown",
   "metadata": {},
   "source": [
    "# Newsguard Score"
   ]
  },
  {
   "cell_type": "code",
   "execution_count": 83,
   "metadata": {},
   "outputs": [],
   "source": [
    "def transform_newsguard(feat_dict, method):\n",
    "    if pd.isna(feat_dict):\n",
    "        return np.nan\n",
    "    article_ng_scores = feat_dict['article_ng_scores']\n",
    "    article_ng_scores = np.nan_to_num(article_ng_scores, nan=0)\n",
    "    return method(article_ng_scores)"
   ]
  },
  {
   "cell_type": "code",
   "execution_count": 84,
   "metadata": {},
   "outputs": [],
   "source": [
    "df['Newsguard_Mean'] = df['Features_Raw'].apply(lambda x: transform_newsguard(x, method=np.mean))"
   ]
  },
  {
   "cell_type": "code",
   "execution_count": 85,
   "metadata": {},
   "outputs": [
    {
     "data": {
      "text/html": [
       "<div>\n",
       "<style scoped>\n",
       "    .dataframe tbody tr th:only-of-type {\n",
       "        vertical-align: middle;\n",
       "    }\n",
       "\n",
       "    .dataframe tbody tr th {\n",
       "        vertical-align: top;\n",
       "    }\n",
       "\n",
       "    .dataframe thead th {\n",
       "        text-align: right;\n",
       "    }\n",
       "</style>\n",
       "<table border=\"1\" class=\"dataframe\">\n",
       "  <thead>\n",
       "    <tr style=\"text-align: right;\">\n",
       "      <th></th>\n",
       "      <th>count</th>\n",
       "      <th>mean</th>\n",
       "      <th>std</th>\n",
       "      <th>min</th>\n",
       "      <th>25%</th>\n",
       "      <th>50%</th>\n",
       "      <th>75%</th>\n",
       "      <th>max</th>\n",
       "    </tr>\n",
       "    <tr>\n",
       "      <th>Category</th>\n",
       "      <th></th>\n",
       "      <th></th>\n",
       "      <th></th>\n",
       "      <th></th>\n",
       "      <th></th>\n",
       "      <th></th>\n",
       "      <th></th>\n",
       "      <th></th>\n",
       "    </tr>\n",
       "  </thead>\n",
       "  <tbody>\n",
       "    <tr>\n",
       "      <th>Misl</th>\n",
       "      <td>300.0</td>\n",
       "      <td>87.583861</td>\n",
       "      <td>12.877383</td>\n",
       "      <td>23.5</td>\n",
       "      <td>86.914683</td>\n",
       "      <td>92.185065</td>\n",
       "      <td>95.000000</td>\n",
       "      <td>100.0</td>\n",
       "    </tr>\n",
       "    <tr>\n",
       "      <th>True</th>\n",
       "      <td>295.0</td>\n",
       "      <td>86.409363</td>\n",
       "      <td>13.170393</td>\n",
       "      <td>5.0</td>\n",
       "      <td>84.718750</td>\n",
       "      <td>90.562500</td>\n",
       "      <td>94.058333</td>\n",
       "      <td>100.0</td>\n",
       "    </tr>\n",
       "  </tbody>\n",
       "</table>\n",
       "</div>"
      ],
      "text/plain": [
       "          count       mean        std   min        25%        50%        75%  \\\n",
       "Category                                                                       \n",
       "Misl      300.0  87.583861  12.877383  23.5  86.914683  92.185065  95.000000   \n",
       "True      295.0  86.409363  13.170393   5.0  84.718750  90.562500  94.058333   \n",
       "\n",
       "            max  \n",
       "Category         \n",
       "Misl      100.0  \n",
       "True      100.0  "
      ]
     },
     "execution_count": 85,
     "metadata": {},
     "output_type": "execute_result"
    }
   ],
   "source": [
    "df.groupby('Category')['avg_score'].describe()"
   ]
  },
  {
   "cell_type": "code",
   "execution_count": 86,
   "metadata": {},
   "outputs": [
    {
     "data": {
      "text/html": [
       "<div>\n",
       "<style scoped>\n",
       "    .dataframe tbody tr th:only-of-type {\n",
       "        vertical-align: middle;\n",
       "    }\n",
       "\n",
       "    .dataframe tbody tr th {\n",
       "        vertical-align: top;\n",
       "    }\n",
       "\n",
       "    .dataframe thead th {\n",
       "        text-align: right;\n",
       "    }\n",
       "</style>\n",
       "<table border=\"1\" class=\"dataframe\">\n",
       "  <thead>\n",
       "    <tr style=\"text-align: right;\">\n",
       "      <th></th>\n",
       "      <th>W</th>\n",
       "      <th>pval</th>\n",
       "      <th>normal</th>\n",
       "    </tr>\n",
       "    <tr>\n",
       "      <th>Category</th>\n",
       "      <th></th>\n",
       "      <th></th>\n",
       "      <th></th>\n",
       "    </tr>\n",
       "  </thead>\n",
       "  <tbody>\n",
       "    <tr>\n",
       "      <th>Misl</th>\n",
       "      <td>0.719969</td>\n",
       "      <td>4.095464e-22</td>\n",
       "      <td>False</td>\n",
       "    </tr>\n",
       "    <tr>\n",
       "      <th>True</th>\n",
       "      <td>0.748896</td>\n",
       "      <td>7.084357e-21</td>\n",
       "      <td>False</td>\n",
       "    </tr>\n",
       "  </tbody>\n",
       "</table>\n",
       "</div>"
      ],
      "text/plain": [
       "                 W          pval  normal\n",
       "Category                                \n",
       "Misl      0.719969  4.095464e-22   False\n",
       "True      0.748896  7.084357e-21   False"
      ]
     },
     "execution_count": 86,
     "metadata": {},
     "output_type": "execute_result"
    }
   ],
   "source": [
    "pg.normality(data=df, dv='avg_score', group='Category') #not normally distributed\n",
    "# pg.mwu(x=df.loc[df['Category'] == 'Misl', 'avg_score'],\n",
    "#                 y=df.loc[df['Category'] == 'True', 'avg_score'],\n",
    "#                 alternative='greater') #Mann-Whitney U (testing if Misl (Group 1) is higher than True (Group 2) -> differences statistically significant, but with a small effect size (RBC < 0.3)"
   ]
  },
  {
   "cell_type": "markdown",
   "metadata": {},
   "source": [
    "This is the NewsGuard Score of the retrieved articles. For the final calculation, we instead use the average NG score given above."
   ]
  },
  {
   "cell_type": "code",
   "execution_count": 87,
   "metadata": {},
   "outputs": [
    {
     "name": "stderr",
     "output_type": "stream",
     "text": [
      "C:\\Users\\danie\\AppData\\Local\\Temp\\ipykernel_2152\\3465771059.py:1: FutureWarning: \n",
      "\n",
      "Passing `palette` without assigning `hue` is deprecated and will be removed in v0.14.0. Assign the `x` variable to `hue` and set `legend=False` for the same effect.\n",
      "\n",
      "  sns.boxplot(data=df, x='Category', y='Newsguard_Mean', palette='Set2')\n"
     ]
    },
    {
     "data": {
      "text/plain": [
       "Text(0, 0.5, 'NG Mean')"
      ]
     },
     "execution_count": 87,
     "metadata": {},
     "output_type": "execute_result"
    },
    {
     "data": {
      "image/png": "[encoded data removed]",
      "text/plain": [
       "<Figure size 640x480 with 1 Axes>"
      ]
     },
     "metadata": {},
     "output_type": "display_data"
    }
   ],
   "source": [
    "sns.boxplot(data=df, x='Category', y='Newsguard_Mean', palette='Set2')\n",
    "plt.title('Boxplot of Newsguard Mean by User Label')\n",
    "plt.xlabel('User Label')\n",
    "plt.ylabel('NG Mean')"
   ]
  },
  {
   "cell_type": "markdown",
   "metadata": {},
   "source": [
    "# Article SERP Position"
   ]
  },
  {
   "cell_type": "markdown",
   "metadata": {},
   "source": [
    "## Mean Rank"
   ]
  },
  {
   "cell_type": "code",
   "execution_count": 88,
   "metadata": {},
   "outputs": [],
   "source": [
    "def transform_serp_position(feat_dict, method):\n",
    "    if pd.isna(feat_dict):\n",
    "        return np.nan\n",
    "    article_serp_positions = feat_dict['article_serp_positions']\n",
    "    article_serp_positions = np.nan_to_num(article_serp_positions, nan=0)\n",
    "    return method(article_serp_positions)"
   ]
  },
  {
   "cell_type": "code",
   "execution_count": 89,
   "metadata": {},
   "outputs": [],
   "source": [
    "df['SERP_Position_Mean'] = df['Features_Raw'].apply(lambda x: transform_serp_position(x, method=np.mean))"
   ]
  },
  {
   "cell_type": "code",
   "execution_count": 90,
   "metadata": {},
   "outputs": [
    {
     "data": {
      "text/html": [
       "<div>\n",
       "<style scoped>\n",
       "    .dataframe tbody tr th:only-of-type {\n",
       "        vertical-align: middle;\n",
       "    }\n",
       "\n",
       "    .dataframe tbody tr th {\n",
       "        vertical-align: top;\n",
       "    }\n",
       "\n",
       "    .dataframe thead th {\n",
       "        text-align: right;\n",
       "    }\n",
       "</style>\n",
       "<table border=\"1\" class=\"dataframe\">\n",
       "  <thead>\n",
       "    <tr style=\"text-align: right;\">\n",
       "      <th></th>\n",
       "      <th>count</th>\n",
       "      <th>mean</th>\n",
       "      <th>std</th>\n",
       "      <th>min</th>\n",
       "      <th>25%</th>\n",
       "      <th>50%</th>\n",
       "      <th>75%</th>\n",
       "      <th>max</th>\n",
       "    </tr>\n",
       "    <tr>\n",
       "      <th>Category</th>\n",
       "      <th></th>\n",
       "      <th></th>\n",
       "      <th></th>\n",
       "      <th></th>\n",
       "      <th></th>\n",
       "      <th></th>\n",
       "      <th></th>\n",
       "      <th></th>\n",
       "    </tr>\n",
       "  </thead>\n",
       "  <tbody>\n",
       "    <tr>\n",
       "      <th>Misl</th>\n",
       "      <td>300.0</td>\n",
       "      <td>5.211726</td>\n",
       "      <td>1.955638</td>\n",
       "      <td>1.0</td>\n",
       "      <td>4.0</td>\n",
       "      <td>5.0</td>\n",
       "      <td>6.333333</td>\n",
       "      <td>10.0</td>\n",
       "    </tr>\n",
       "    <tr>\n",
       "      <th>True</th>\n",
       "      <td>295.0</td>\n",
       "      <td>4.916636</td>\n",
       "      <td>1.976339</td>\n",
       "      <td>1.0</td>\n",
       "      <td>3.9</td>\n",
       "      <td>5.0</td>\n",
       "      <td>6.166667</td>\n",
       "      <td>9.5</td>\n",
       "    </tr>\n",
       "  </tbody>\n",
       "</table>\n",
       "</div>"
      ],
      "text/plain": [
       "          count      mean       std  min  25%  50%       75%   max\n",
       "Category                                                          \n",
       "Misl      300.0  5.211726  1.955638  1.0  4.0  5.0  6.333333  10.0\n",
       "True      295.0  4.916636  1.976339  1.0  3.9  5.0  6.166667   9.5"
      ]
     },
     "execution_count": 90,
     "metadata": {},
     "output_type": "execute_result"
    }
   ],
   "source": [
    "df.groupby('Category')['SERP_Position_Mean'].describe()"
   ]
  },
  {
   "cell_type": "code",
   "execution_count": 91,
   "metadata": {},
   "outputs": [
    {
     "name": "stderr",
     "output_type": "stream",
     "text": [
      "C:\\Users\\danie\\AppData\\Local\\Temp\\ipykernel_2152\\3667827325.py:1: FutureWarning: \n",
      "\n",
      "Passing `palette` without assigning `hue` is deprecated and will be removed in v0.14.0. Assign the `x` variable to `hue` and set `legend=False` for the same effect.\n",
      "\n",
      "  sns.boxplot(data=df, x='Category', y='SERP_Position_Mean', palette='Set3')\n"
     ]
    },
    {
     "data": {
      "text/plain": [
       "Text(0, 0.5, 'NG Mean')"
      ]
     },
     "execution_count": 91,
     "metadata": {},
     "output_type": "execute_result"
    },
    {
     "data": {
      "image/png": "[encoded data removed]",
      "text/plain": [
       "<Figure size 640x480 with 1 Axes>"
      ]
     },
     "metadata": {},
     "output_type": "display_data"
    }
   ],
   "source": [
    "sns.boxplot(data=df, x='Category', y='SERP_Position_Mean', palette='Set3')\n",
    "plt.title('Boxplot of SERP Position Mean by User Label')\n",
    "plt.xlabel('User Label')\n",
    "plt.ylabel('NG Mean')"
   ]
  }
 ],
 "metadata": {
  "kernelspec": {
   "display_name": "venv",
   "language": "python",
   "name": "python3"
  },
  "language_info": {
   "codemirror_mode": {
    "name": "ipython",
    "version": 3
   },
   "file_extension": ".py",
   "mimetype": "text/x-python",
   "name": "python",
   "nbconvert_exporter": "python",
   "pygments_lexer": "ipython3",
   "version": "3.9.5"
  }
 },
 "nbformat": 4,
 "nbformat_minor": 2
}
