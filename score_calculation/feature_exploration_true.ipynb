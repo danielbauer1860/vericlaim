{
 "cells": [
  {
   "cell_type": "markdown",
   "metadata": {},
   "source": [
    "# Feature Exploration"
   ]
  },
  {
   "cell_type": "markdown",
   "metadata": {},
   "source": [
    "Goal: investigate each of the relevant features and conduct tests for significance between the relevant groups."
   ]
  },
  {
   "cell_type": "markdown",
   "metadata": {},
   "source": [
    "This is the notebook for the data with a true source article."
   ]
  },
  {
   "cell_type": "code",
   "execution_count": null,
   "metadata": {},
   "outputs": [],
   "source": [
    "import pandas as pd\n",
    "import os\n",
    "import numpy as np\n",
    "from dotenv import load_dotenv\n",
    "import ast\n",
    "import glob\n",
    "import pingouin as pg\n",
    "\n",
    "load_dotenv()\n",
    "\n",
    "data_folder = os.getenv(\"DATA_FOLDER\")\n",
    "\n",
    "file_prefix = 'true_label_data'#data with a true source article\n",
    "\n",
    "# Use glob to find all CSV files with the given filename start\n",
    "file_list = glob.glob(f\"{data_folder}/{file_prefix}*.csv\")\n",
    "\n",
    "# Read each file into a DataFrame and concatenate them into a single DataFrame\n",
    "dataframes = [pd.read_csv(file, sep=\";\",index_col=0) for file in file_list]\n",
    "df = pd.concat(dataframes, ignore_index=True)\n",
    "\n",
    "seaborn_palette = \"Blues\" #true data is color-coded blue"
   ]
  },
  {
   "cell_type": "markdown",
   "metadata": {},
   "source": [
    "Testing for faulty labels"
   ]
  },
  {
   "cell_type": "code",
   "execution_count": 3,
   "metadata": {},
   "outputs": [
    {
     "name": "stdout",
     "output_type": "stream",
     "text": [
      "0\n"
     ]
    }
   ],
   "source": [
    "faulty_labels = 0\n",
    "def safe_literal_eval(x):\n",
    "    global faulty_labels\n",
    "    try:\n",
    "        return ast.literal_eval(x)\n",
    "    except:\n",
    "        faulty_labels += 1\n",
    "\n",
    "df['Labels'] = df['Labels'].apply(safe_literal_eval)\n",
    "print(faulty_labels)"
   ]
  },
  {
   "cell_type": "markdown",
   "metadata": {},
   "source": [
    "## Statistical Analysis of NewsGuard scores (before Transformation)"
   ]
  },
  {
   "cell_type": "code",
   "execution_count": 4,
   "metadata": {},
   "outputs": [],
   "source": [
    "df = df[df['Category'] != 'Coul']"
   ]
  },
  {
   "cell_type": "code",
   "execution_count": 5,
   "metadata": {},
   "outputs": [
    {
     "data": {
      "text/html": [
       "<div>\n",
       "<style scoped>\n",
       "    .dataframe tbody tr th:only-of-type {\n",
       "        vertical-align: middle;\n",
       "    }\n",
       "\n",
       "    .dataframe tbody tr th {\n",
       "        vertical-align: top;\n",
       "    }\n",
       "\n",
       "    .dataframe thead th {\n",
       "        text-align: right;\n",
       "    }\n",
       "</style>\n",
       "<table border=\"1\" class=\"dataframe\">\n",
       "  <thead>\n",
       "    <tr style=\"text-align: right;\">\n",
       "      <th></th>\n",
       "      <th>count</th>\n",
       "      <th>mean</th>\n",
       "      <th>std</th>\n",
       "      <th>min</th>\n",
       "      <th>25%</th>\n",
       "      <th>50%</th>\n",
       "      <th>75%</th>\n",
       "      <th>max</th>\n",
       "    </tr>\n",
       "    <tr>\n",
       "      <th>Category</th>\n",
       "      <th></th>\n",
       "      <th></th>\n",
       "      <th></th>\n",
       "      <th></th>\n",
       "      <th></th>\n",
       "      <th></th>\n",
       "      <th></th>\n",
       "      <th></th>\n",
       "    </tr>\n",
       "  </thead>\n",
       "  <tbody>\n",
       "    <tr>\n",
       "      <th>True</th>\n",
       "      <td>97.0</td>\n",
       "      <td>85.844064</td>\n",
       "      <td>10.736738</td>\n",
       "      <td>35.00</td>\n",
       "      <td>86.500000</td>\n",
       "      <td>87.650000</td>\n",
       "      <td>90.900000</td>\n",
       "      <td>100.0</td>\n",
       "    </tr>\n",
       "    <tr>\n",
       "      <th>Misl</th>\n",
       "      <td>82.0</td>\n",
       "      <td>88.923210</td>\n",
       "      <td>10.147226</td>\n",
       "      <td>35.00</td>\n",
       "      <td>87.784722</td>\n",
       "      <td>91.152778</td>\n",
       "      <td>94.263393</td>\n",
       "      <td>100.0</td>\n",
       "    </tr>\n",
       "    <tr>\n",
       "      <th>True</th>\n",
       "      <td>443.0</td>\n",
       "      <td>89.592625</td>\n",
       "      <td>10.115085</td>\n",
       "      <td>21.25</td>\n",
       "      <td>87.650000</td>\n",
       "      <td>91.611111</td>\n",
       "      <td>94.704861</td>\n",
       "      <td>100.0</td>\n",
       "    </tr>\n",
       "  </tbody>\n",
       "</table>\n",
       "</div>"
      ],
      "text/plain": [
       "          count       mean        std    min        25%        50%        75%  \\\n",
       "Category                                                                        \n",
       "True       97.0  85.844064  10.736738  35.00  86.500000  87.650000  90.900000   \n",
       "Misl       82.0  88.923210  10.147226  35.00  87.784722  91.152778  94.263393   \n",
       "True      443.0  89.592625  10.115085  21.25  87.650000  91.611111  94.704861   \n",
       "\n",
       "            max  \n",
       "Category         \n",
       "True      100.0  \n",
       "Misl      100.0  \n",
       "True      100.0  "
      ]
     },
     "execution_count": 5,
     "metadata": {},
     "output_type": "execute_result"
    }
   ],
   "source": [
    "df.groupby('Category')['avg_score'].describe() "
   ]
  },
  {
   "cell_type": "code",
   "execution_count": 6,
   "metadata": {},
   "outputs": [
    {
     "data": {
      "text/html": [
       "<div>\n",
       "<style scoped>\n",
       "    .dataframe tbody tr th:only-of-type {\n",
       "        vertical-align: middle;\n",
       "    }\n",
       "\n",
       "    .dataframe tbody tr th {\n",
       "        vertical-align: top;\n",
       "    }\n",
       "\n",
       "    .dataframe thead th {\n",
       "        text-align: right;\n",
       "    }\n",
       "</style>\n",
       "<table border=\"1\" class=\"dataframe\">\n",
       "  <thead>\n",
       "    <tr style=\"text-align: right;\">\n",
       "      <th></th>\n",
       "      <th>U-val</th>\n",
       "      <th>alternative</th>\n",
       "      <th>p-val</th>\n",
       "      <th>RBC</th>\n",
       "      <th>CLES</th>\n",
       "    </tr>\n",
       "  </thead>\n",
       "  <tbody>\n",
       "    <tr>\n",
       "      <th>MWU</th>\n",
       "      <td>17188.0</td>\n",
       "      <td>less</td>\n",
       "      <td>0.219966</td>\n",
       "      <td>-0.053681</td>\n",
       "      <td>0.52684</td>\n",
       "    </tr>\n",
       "  </tbody>\n",
       "</table>\n",
       "</div>"
      ],
      "text/plain": [
       "       U-val alternative     p-val       RBC     CLES\n",
       "MWU  17188.0        less  0.219966 -0.053681  0.52684"
      ]
     },
     "execution_count": 6,
     "metadata": {},
     "output_type": "execute_result"
    }
   ],
   "source": [
    "pg.normality(data=df, dv='avg_score', group='Category') #not normally distributed\n",
    "pg.mwu(x=df.loc[df['Category'] == 'Misl', 'avg_score'],\n",
    "                y=df.loc[df['Category'] == 'True', 'avg_score'],\n",
    "                alternative='less') #Mann-Whitney U (testing if Misl (Group 1) is higher than True (Group 2) -> differences statistically significant, but with a small effect size (RBC < 0.3)"
   ]
  },
  {
   "cell_type": "markdown",
   "metadata": {},
   "source": [
    "Rerunning the analysis for only the non-NaN label values"
   ]
  },
  {
   "cell_type": "code",
   "execution_count": 7,
   "metadata": {},
   "outputs": [],
   "source": [
    "df = df[df['Labels'].notna()]"
   ]
  },
  {
   "cell_type": "code",
   "execution_count": 8,
   "metadata": {},
   "outputs": [
    {
     "data": {
      "text/html": [
       "<div>\n",
       "<style scoped>\n",
       "    .dataframe tbody tr th:only-of-type {\n",
       "        vertical-align: middle;\n",
       "    }\n",
       "\n",
       "    .dataframe tbody tr th {\n",
       "        vertical-align: top;\n",
       "    }\n",
       "\n",
       "    .dataframe thead th {\n",
       "        text-align: right;\n",
       "    }\n",
       "</style>\n",
       "<table border=\"1\" class=\"dataframe\">\n",
       "  <thead>\n",
       "    <tr style=\"text-align: right;\">\n",
       "      <th></th>\n",
       "      <th>count</th>\n",
       "      <th>mean</th>\n",
       "      <th>std</th>\n",
       "      <th>min</th>\n",
       "      <th>25%</th>\n",
       "      <th>50%</th>\n",
       "      <th>75%</th>\n",
       "      <th>max</th>\n",
       "    </tr>\n",
       "    <tr>\n",
       "      <th>Category</th>\n",
       "      <th></th>\n",
       "      <th></th>\n",
       "      <th></th>\n",
       "      <th></th>\n",
       "      <th></th>\n",
       "      <th></th>\n",
       "      <th></th>\n",
       "      <th></th>\n",
       "    </tr>\n",
       "  </thead>\n",
       "  <tbody>\n",
       "    <tr>\n",
       "      <th>True</th>\n",
       "      <td>97.0</td>\n",
       "      <td>85.844064</td>\n",
       "      <td>10.736738</td>\n",
       "      <td>35.00</td>\n",
       "      <td>86.500000</td>\n",
       "      <td>87.650000</td>\n",
       "      <td>90.900000</td>\n",
       "      <td>100.0</td>\n",
       "    </tr>\n",
       "    <tr>\n",
       "      <th>Misl</th>\n",
       "      <td>82.0</td>\n",
       "      <td>88.923210</td>\n",
       "      <td>10.147226</td>\n",
       "      <td>35.00</td>\n",
       "      <td>87.784722</td>\n",
       "      <td>91.152778</td>\n",
       "      <td>94.263393</td>\n",
       "      <td>100.0</td>\n",
       "    </tr>\n",
       "    <tr>\n",
       "      <th>True</th>\n",
       "      <td>443.0</td>\n",
       "      <td>89.592625</td>\n",
       "      <td>10.115085</td>\n",
       "      <td>21.25</td>\n",
       "      <td>87.650000</td>\n",
       "      <td>91.611111</td>\n",
       "      <td>94.704861</td>\n",
       "      <td>100.0</td>\n",
       "    </tr>\n",
       "  </tbody>\n",
       "</table>\n",
       "</div>"
      ],
      "text/plain": [
       "          count       mean        std    min        25%        50%        75%  \\\n",
       "Category                                                                        \n",
       "True       97.0  85.844064  10.736738  35.00  86.500000  87.650000  90.900000   \n",
       "Misl       82.0  88.923210  10.147226  35.00  87.784722  91.152778  94.263393   \n",
       "True      443.0  89.592625  10.115085  21.25  87.650000  91.611111  94.704861   \n",
       "\n",
       "            max  \n",
       "Category         \n",
       "True      100.0  \n",
       "Misl      100.0  \n",
       "True      100.0  "
      ]
     },
     "execution_count": 8,
     "metadata": {},
     "output_type": "execute_result"
    }
   ],
   "source": [
    "df.groupby('Category')['avg_score'].describe() "
   ]
  },
  {
   "cell_type": "code",
   "execution_count": 9,
   "metadata": {},
   "outputs": [
    {
     "data": {
      "text/html": [
       "<div>\n",
       "<style scoped>\n",
       "    .dataframe tbody tr th:only-of-type {\n",
       "        vertical-align: middle;\n",
       "    }\n",
       "\n",
       "    .dataframe tbody tr th {\n",
       "        vertical-align: top;\n",
       "    }\n",
       "\n",
       "    .dataframe thead th {\n",
       "        text-align: right;\n",
       "    }\n",
       "</style>\n",
       "<table border=\"1\" class=\"dataframe\">\n",
       "  <thead>\n",
       "    <tr style=\"text-align: right;\">\n",
       "      <th></th>\n",
       "      <th>W</th>\n",
       "      <th>pval</th>\n",
       "      <th>normal</th>\n",
       "    </tr>\n",
       "    <tr>\n",
       "      <th>Category</th>\n",
       "      <th></th>\n",
       "      <th></th>\n",
       "      <th></th>\n",
       "    </tr>\n",
       "  </thead>\n",
       "  <tbody>\n",
       "    <tr>\n",
       "      <th>Misl</th>\n",
       "      <td>0.672936</td>\n",
       "      <td>3.186644e-12</td>\n",
       "      <td>False</td>\n",
       "    </tr>\n",
       "    <tr>\n",
       "      <th>True</th>\n",
       "      <td>0.651738</td>\n",
       "      <td>4.601441e-29</td>\n",
       "      <td>False</td>\n",
       "    </tr>\n",
       "    <tr>\n",
       "      <th>True</th>\n",
       "      <td>0.693544</td>\n",
       "      <td>6.277756e-13</td>\n",
       "      <td>False</td>\n",
       "    </tr>\n",
       "  </tbody>\n",
       "</table>\n",
       "</div>"
      ],
      "text/plain": [
       "                 W          pval  normal\n",
       "Category                                \n",
       "Misl      0.672936  3.186644e-12   False\n",
       "True      0.651738  4.601441e-29   False\n",
       "True      0.693544  6.277756e-13   False"
      ]
     },
     "execution_count": 9,
     "metadata": {},
     "output_type": "execute_result"
    }
   ],
   "source": [
    "pg.normality(data=df, dv='avg_score', group='Category') #not normally distributed\n",
    "# pg.mwu(x=df.loc[df['Category'] == 'Misl', 'avg_score'],\n",
    "#                 y=df.loc[df['Category'] == 'True', 'avg_score'],\n",
    "#                 alternative='greater') #Mann-Whitney U (testing if Misl (Group 1) is higher than True (Group 2) -> differences statistically significant, but with a small effect size (RBC < 0.3)"
   ]
  },
  {
   "cell_type": "code",
   "execution_count": 10,
   "metadata": {},
   "outputs": [],
   "source": [
    "# placeholder_ng_score = df['avg_score'].median()\n",
    "# placeholder_ng_score"
   ]
  },
  {
   "cell_type": "markdown",
   "metadata": {},
   "source": [
    "## Feature Extraction"
   ]
  },
  {
   "cell_type": "markdown",
   "metadata": {},
   "source": [
    "This is the main function for extracting and calculating the features for analysis."
   ]
  },
  {
   "cell_type": "code",
   "execution_count": 11,
   "metadata": {},
   "outputs": [],
   "source": [
    "def retrieve_params(label_dict_list, positions=False, headlines=False):\n",
    "    #create three distinct lists to control each parameter\n",
    "    # if label_dict_list is empty return NaN\n",
    "    if not label_dict_list:\n",
    "        return np.nan\n",
    "    article_stances = []\n",
    "    article_ng_scores = []\n",
    "    article_serp_positions = []\n",
    "    \n",
    "    for article in label_dict_list: #this is the search level; here we can retrieve SERP position and Newsguard score\n",
    "        if not article: #catch empty entries\n",
    "            continue\n",
    "        if len(article['comparisons']) == 0:\n",
    "               continue\n",
    "        #retrieve variables\n",
    "        serp_newsguard = article['serp_newsguard']\n",
    "        serp_position = article['serp_position']\n",
    "\n",
    "        #add to lists for decomposed calculation\n",
    "        article_ng_scores.append(serp_newsguard)\n",
    "        article_serp_positions.append(serp_position)\n",
    "\n",
    "        article_stance = 0\n",
    "        for claim_pair in article['comparisons']: #this is the \"article level\"; here we can retrieve relative claim position and the bool headline info\n",
    "            relation = claim_pair['relation']\n",
    "\n",
    "            if relation == 0: #skip calculation logic for unrelated claims\n",
    "                continue\n",
    "\n",
    "            try:\n",
    "                #retrieve relative claim positions\n",
    "                fm_claim_position = claim_pair['fm_claim_position']\n",
    "                serp_claim_position = claim_pair['serp_claim_position']\n",
    "\n",
    "                #retrieve headline bool\n",
    "                fm_claim_headline = claim_pair['fm_claim_headline']\n",
    "                serp_claim_headline = claim_pair['serp_claim_headline']\n",
    "\n",
    "            except:\n",
    "                pass\n",
    "\n",
    "            if not positions and not headlines: #calculate article stance only based on relation\n",
    "                article_stance += relation\n",
    "            if positions and not headlines: #calculate article stance based on relation and position\n",
    "                if relation in [-1, 1]:\n",
    "                    if serp_claim_position < fm_claim_position: #if serp claim earlier in the article than the respective fm claim\n",
    "                        article_stance += relation + (serp_claim_position - fm_claim_position) if relation == -1 else relation - (serp_claim_position - fm_claim_position) #e.g. -1 - dif else 1 + dif (reinforcing in each direction)\n",
    "                    else: # if serp claim later in article than the respective fm claim\n",
    "                        article_stance += relation - (fm_claim_position - serp_claim_position) if relation == -1 else relation + (fm_claim_position - serp_claim_position) #e.g. - 1 + dif else 1 - dif (weakening in each direction)\n",
    "            if positions and headlines:\n",
    "                if relation in [-1, 1]:\n",
    "                    individual_stance = 0\n",
    "                    if serp_claim_position < fm_claim_position: #if serp claim earlier in the article than the respective fm claim\n",
    "                        individual_stance = relation + (serp_claim_position - fm_claim_position) if relation == -1 else relation - (serp_claim_position - fm_claim_position) #e.g. -1 - dif else 1 + dif (reinforcing in each direction)\n",
    "                        if serp_claim_headline:\n",
    "                            individual_stance *= 2\n",
    "                    else: # if serp claim later in article than the respective fm claim\n",
    "                        individual_stance = relation - (fm_claim_position - serp_claim_position) if relation == -1 else relation + (fm_claim_position - serp_claim_position) #e.g. - 1 + dif else 1 - dif (weakening in each direction)\n",
    "                        if serp_claim_headline:\n",
    "                                individual_stance *= 2\n",
    "                    article_stance += individual_stance\n",
    "            if headlines and not positions:\n",
    "                article_stance += relation * serp_claim_headline \n",
    "        if headlines and not positions:\n",
    "            article_stances.append(article_stance/len(article['comparisons']))\n",
    "        else:\n",
    "            article_stances.append(article_stance/len(article['comparisons']))\n",
    "\n",
    "    #if article_stances could not be successfully retrieved, return NaN\n",
    "    if not article_stances:\n",
    "        return np.nan\n",
    "    \n",
    "    article_ng_scores = np.array(article_ng_scores, dtype=float)\n",
    "    # article_ng_scores = np.nan_to_num(article_ng_scores, nan=placeholder_ng_score) \n",
    "\n",
    "    return {'article_stances': article_stances, 'article_ng_scores': article_ng_scores, 'article_serp_positions': article_serp_positions}"
   ]
  },
  {
   "cell_type": "markdown",
   "metadata": {},
   "source": [
    "Extracting the features based on different configs"
   ]
  },
  {
   "cell_type": "code",
   "execution_count": 12,
   "metadata": {},
   "outputs": [],
   "source": [
    "df['Features_Raw']= df['Labels'].apply(retrieve_params)\n",
    "df['Features_Pos']= df['Labels'].apply(lambda x: retrieve_params(x, positions=True, headlines=False))\n",
    "df['Features_H']= df['Labels'].apply(lambda x: retrieve_params(x, positions=False, headlines=True))\n",
    "df['Features_HP']= df['Labels'].apply(lambda x: retrieve_params(x, positions=True, headlines=True))"
   ]
  },
  {
   "cell_type": "code",
   "execution_count": 13,
   "metadata": {},
   "outputs": [],
   "source": [
    "df = df[df['Features_Raw'].notna()]"
   ]
  },
  {
   "cell_type": "code",
   "execution_count": 14,
   "metadata": {},
   "outputs": [
    {
     "data": {
      "text/html": [
       "<div>\n",
       "<style scoped>\n",
       "    .dataframe tbody tr th:only-of-type {\n",
       "        vertical-align: middle;\n",
       "    }\n",
       "\n",
       "    .dataframe tbody tr th {\n",
       "        vertical-align: top;\n",
       "    }\n",
       "\n",
       "    .dataframe thead th {\n",
       "        text-align: right;\n",
       "    }\n",
       "</style>\n",
       "<table border=\"1\" class=\"dataframe\">\n",
       "  <thead>\n",
       "    <tr style=\"text-align: right;\">\n",
       "      <th></th>\n",
       "      <th>Article_day</th>\n",
       "      <th>ResponseId</th>\n",
       "      <th>Day</th>\n",
       "      <th>Category</th>\n",
       "      <th>True_Dummy</th>\n",
       "      <th>Seven_Ordinal</th>\n",
       "      <th>Four_Ordinal</th>\n",
       "      <th>Age</th>\n",
       "      <th>Gender</th>\n",
       "      <th>FC_Eval</th>\n",
       "      <th>...</th>\n",
       "      <th>avg_score</th>\n",
       "      <th>list_domains</th>\n",
       "      <th>list_scores</th>\n",
       "      <th>all_clean_urls</th>\n",
       "      <th>newsguard_dict</th>\n",
       "      <th>Labels</th>\n",
       "      <th>Features_Raw</th>\n",
       "      <th>Features_Pos</th>\n",
       "      <th>Features_H</th>\n",
       "      <th>Features_HP</th>\n",
       "    </tr>\n",
       "  </thead>\n",
       "  <tbody>\n",
       "    <tr>\n",
       "      <th>0</th>\n",
       "      <td>Day_1_4</td>\n",
       "      <td>R_2y8dRM3TUWjSPIo</td>\n",
       "      <td>Day_1</td>\n",
       "      <td>Misl</td>\n",
       "      <td>0</td>\n",
       "      <td>1</td>\n",
       "      <td>1</td>\n",
       "      <td>20</td>\n",
       "      <td>0</td>\n",
       "      <td>True</td>\n",
       "      <td>...</td>\n",
       "      <td>92.750000</td>\n",
       "      <td>factcheck.org', 'thehill.com', 'newsweek.com',...</td>\n",
       "      <td>100,80,100,100,90,92.5,95,87.5,87.5,95</td>\n",
       "      <td>('https://www.factcheck.org/2021/07/debunking-...</td>\n",
       "      <td>{'factcheck.org': 100, 'thehill.com': 80, 'new...</td>\n",
       "      <td>[{}, {}, {}, {'comparisons': [{'claim_article_...</td>\n",
       "      <td>{'article_stances': [-0.04, -0.28, 0.08, -0.16...</td>\n",
       "      <td>{'article_stances': [-0.044121212121212124, -0...</td>\n",
       "      <td>{'article_stances': [0.0, 0.0, 0.0, 0.0, 0.0, ...</td>\n",
       "      <td>{'article_stances': [-0.044121212121212124, -0...</td>\n",
       "    </tr>\n",
       "    <tr>\n",
       "      <th>1</th>\n",
       "      <td>Day_1_4</td>\n",
       "      <td>R_bqJ3HoBP0lqi7CN</td>\n",
       "      <td>Day_1</td>\n",
       "      <td>True</td>\n",
       "      <td>1</td>\n",
       "      <td>5</td>\n",
       "      <td>3</td>\n",
       "      <td>30</td>\n",
       "      <td>0</td>\n",
       "      <td>True</td>\n",
       "      <td>...</td>\n",
       "      <td>94.642857</td>\n",
       "      <td>recorder.maricopa.gov', ''', 'azcentral.com', ...</td>\n",
       "      <td>92.5,100,87.5,95,95,92.5,100</td>\n",
       "      <td>('https://recorder.maricopa.gov/electionresult...</td>\n",
       "      <td>{}</td>\n",
       "      <td>[{}, {}, {'comparisons': [{'claim_article_a': ...</td>\n",
       "      <td>{'article_stances': [-0.2, -0.12, 0.04, 0.0, -...</td>\n",
       "      <td>{'article_stances': [-0.05843137254901954, -0....</td>\n",
       "      <td>{'article_stances': [0.0, 0.0, 0.0, 0.0, 0.0],...</td>\n",
       "      <td>{'article_stances': [-0.05843137254901954, -0....</td>\n",
       "    </tr>\n",
       "    <tr>\n",
       "      <th>2</th>\n",
       "      <td>Day_1_4</td>\n",
       "      <td>R_5ovNt0RyjDe4zhD</td>\n",
       "      <td>Day_1</td>\n",
       "      <td>True</td>\n",
       "      <td>1</td>\n",
       "      <td>5</td>\n",
       "      <td>3</td>\n",
       "      <td>37</td>\n",
       "      <td>1</td>\n",
       "      <td>True</td>\n",
       "      <td>...</td>\n",
       "      <td>95.833333</td>\n",
       "      <td>azcentral.com', 'abc15.com', 'thehill.com', 'p...</td>\n",
       "      <td>92.5,100,80,100,95,95,100,100,100</td>\n",
       "      <td>('https://www.azcentral.com/story/opinion/op-e...</td>\n",
       "      <td>{'azcentral.com': 92.5, 'abc15.com': 100, 'the...</td>\n",
       "      <td>[{'comparisons': [{'claim_article_a': \"The lio...</td>\n",
       "      <td>{'article_stances': [0.08, 0.08, -0.08, 0.04, ...</td>\n",
       "      <td>{'article_stances': [0.1340952380952381, 0.060...</td>\n",
       "      <td>{'article_stances': [0.0, 0.0, 0.0, 0.0, 0.0],...</td>\n",
       "      <td>{'article_stances': [0.1340952380952381, 0.060...</td>\n",
       "    </tr>\n",
       "    <tr>\n",
       "      <th>3</th>\n",
       "      <td>Day_1_4</td>\n",
       "      <td>R_1ILDrpPAAn0CdBx</td>\n",
       "      <td>Day_1</td>\n",
       "      <td>True</td>\n",
       "      <td>1</td>\n",
       "      <td>7</td>\n",
       "      <td>4</td>\n",
       "      <td>45</td>\n",
       "      <td>1</td>\n",
       "      <td>True</td>\n",
       "      <td>...</td>\n",
       "      <td>84.611111</td>\n",
       "      <td>thehill.com', 'azcentral.com', 'abc15.com', 'w...</td>\n",
       "      <td>80,92.5,100,42,100,95,100,57,95</td>\n",
       "      <td>('https://thehill.com/homenews/campaign/563658...</td>\n",
       "      <td>{'thehill.com': 80, 'azcentral.com': 92.5, 'ab...</td>\n",
       "      <td>[{}, {'comparisons': [{'claim_article_a': \"The...</td>\n",
       "      <td>{'article_stances': [0.08, 0.08, 0.0, 0.04], '...</td>\n",
       "      <td>{'article_stances': [0.1340952380952381, 0.060...</td>\n",
       "      <td>{'article_stances': [0.0, 0.0, 0.0, 0.0], 'art...</td>\n",
       "      <td>{'article_stances': [0.1340952380952381, 0.060...</td>\n",
       "    </tr>\n",
       "    <tr>\n",
       "      <th>4</th>\n",
       "      <td>Day_1_4</td>\n",
       "      <td>R_3MycWKTJGEI3fkc</td>\n",
       "      <td>Day_1</td>\n",
       "      <td>True</td>\n",
       "      <td>1</td>\n",
       "      <td>7</td>\n",
       "      <td>4</td>\n",
       "      <td>44</td>\n",
       "      <td>1</td>\n",
       "      <td>True</td>\n",
       "      <td>...</td>\n",
       "      <td>95.833333</td>\n",
       "      <td>azcentral.com', 'thehill.com', 'abc15.com', 'b...</td>\n",
       "      <td>92.5,80,100,95,100,95,100,100,100</td>\n",
       "      <td>('https://www.azcentral.com/story/opinion/op-e...</td>\n",
       "      <td>{'azcentral.com': 92.5, 'thehill.com': 80, 'ab...</td>\n",
       "      <td>[{'comparisons': [{'claim_article_a': \"The lio...</td>\n",
       "      <td>{'article_stances': [0.08, 0.08, 0.0, -0.04, 0...</td>\n",
       "      <td>{'article_stances': [0.1340952380952381, 0.060...</td>\n",
       "      <td>{'article_stances': [0.0, 0.0, 0.0, 0.0, 0.0, ...</td>\n",
       "      <td>{'article_stances': [0.1340952380952381, 0.060...</td>\n",
       "    </tr>\n",
       "    <tr>\n",
       "      <th>...</th>\n",
       "      <td>...</td>\n",
       "      <td>...</td>\n",
       "      <td>...</td>\n",
       "      <td>...</td>\n",
       "      <td>...</td>\n",
       "      <td>...</td>\n",
       "      <td>...</td>\n",
       "      <td>...</td>\n",
       "      <td>...</td>\n",
       "      <td>...</td>\n",
       "      <td>...</td>\n",
       "      <td>...</td>\n",
       "      <td>...</td>\n",
       "      <td>...</td>\n",
       "      <td>...</td>\n",
       "      <td>...</td>\n",
       "      <td>...</td>\n",
       "      <td>...</td>\n",
       "      <td>...</td>\n",
       "      <td>...</td>\n",
       "      <td>...</td>\n",
       "    </tr>\n",
       "    <tr>\n",
       "      <th>611</th>\n",
       "      <td>Day_12_4</td>\n",
       "      <td>R_2tsyqOCvwSnvYGB</td>\n",
       "      <td>Day_12</td>\n",
       "      <td>True</td>\n",
       "      <td>1</td>\n",
       "      <td>6</td>\n",
       "      <td>4</td>\n",
       "      <td>41</td>\n",
       "      <td>1</td>\n",
       "      <td>True</td>\n",
       "      <td>...</td>\n",
       "      <td>87.375000</td>\n",
       "      <td>foxnews.com', 'usatoday.com', 'suffolk.edu', '...</td>\n",
       "      <td>69.5,100,100,100,92.5,87.5,69.5,80</td>\n",
       "      <td>('https://www.foxnews.com/politics/biden-appro...</td>\n",
       "      <td>{'foxnews.com': 69.5, 'usatoday.com': 100, 'su...</td>\n",
       "      <td>[{'comparisons': [{'claim_article_a': 'Preside...</td>\n",
       "      <td>{'article_stances': [0.52, 0.4, 0.48, 0.52, 0....</td>\n",
       "      <td>{'article_stances': [0.4066666666666666, 0.349...</td>\n",
       "      <td>{'article_stances': [0.0, 0.0, 0.0, 0.0, 0.0, ...</td>\n",
       "      <td>{'article_stances': [0.4066666666666666, 0.349...</td>\n",
       "    </tr>\n",
       "    <tr>\n",
       "      <th>612</th>\n",
       "      <td>Day_12_4</td>\n",
       "      <td>R_3lskovMBpQinjLr</td>\n",
       "      <td>Day_12</td>\n",
       "      <td>True</td>\n",
       "      <td>1</td>\n",
       "      <td>6</td>\n",
       "      <td>3</td>\n",
       "      <td>36</td>\n",
       "      <td>0</td>\n",
       "      <td>True</td>\n",
       "      <td>...</td>\n",
       "      <td>85.550000</td>\n",
       "      <td>usatoday.com', 'cnn.com', 'foxnews.com', 'nyti...</td>\n",
       "      <td>100,87.5,69.5,100,69.5,77,100,69.5,87.5,95</td>\n",
       "      <td>('https://www.usatoday.com/story/news/politics...</td>\n",
       "      <td>{'usatoday.com': 100, 'cnn.com': 87.5, 'foxnew...</td>\n",
       "      <td>[{'comparisons': [{'claim_article_a': 'Preside...</td>\n",
       "      <td>{'article_stances': [0.52, 0.0, 0.28, 0.56, 0....</td>\n",
       "      <td>{'article_stances': [0.45515789473684215, 0.0,...</td>\n",
       "      <td>{'article_stances': [0.0, 0.0, 0.0, 0.0, 0.0, ...</td>\n",
       "      <td>{'article_stances': [0.45515789473684215, 0.0,...</td>\n",
       "    </tr>\n",
       "    <tr>\n",
       "      <th>613</th>\n",
       "      <td>Day_12_4</td>\n",
       "      <td>R_3h3c8lR9Ul1nE30</td>\n",
       "      <td>Day_12</td>\n",
       "      <td>True</td>\n",
       "      <td>1</td>\n",
       "      <td>5</td>\n",
       "      <td>3</td>\n",
       "      <td>32</td>\n",
       "      <td>1</td>\n",
       "      <td>True</td>\n",
       "      <td>...</td>\n",
       "      <td>85.850000</td>\n",
       "      <td>cnn.com', 'usatoday.com', 'nytimes.com', 'sfga...</td>\n",
       "      <td>87.5,100,100,100,69.5,80,69.5,95,87.5,69.5</td>\n",
       "      <td>('https://www.cnn.com/videos/politics/2021/11/...</td>\n",
       "      <td>{'cnn.com': 87.5, 'usatoday.com': 100, 'nytime...</td>\n",
       "      <td>[{'comparisons': [{'claim_article_a': 'Preside...</td>\n",
       "      <td>{'article_stances': [0.0, 0.4, 0.28, 0.24, 0.3...</td>\n",
       "      <td>{'article_stances': [0.0, 0.3497543859649123, ...</td>\n",
       "      <td>{'article_stances': [0.0, 0.0, 0.0, 0.0, 0.0, ...</td>\n",
       "      <td>{'article_stances': [0.0, 0.3497543859649123, ...</td>\n",
       "    </tr>\n",
       "    <tr>\n",
       "      <th>614</th>\n",
       "      <td>Day_12_4</td>\n",
       "      <td>R_3h3c8lR9Ul1nE30</td>\n",
       "      <td>Day_12</td>\n",
       "      <td>True</td>\n",
       "      <td>1</td>\n",
       "      <td>5</td>\n",
       "      <td>3</td>\n",
       "      <td>32</td>\n",
       "      <td>1</td>\n",
       "      <td>True</td>\n",
       "      <td>...</td>\n",
       "      <td>95.250000</td>\n",
       "      <td>apnews.com', 'politico.com', 'usatoday.com', '...</td>\n",
       "      <td>95,100,100,80,95,100,87.5,100,95,100</td>\n",
       "      <td>('https://apnews.com/article/joe-biden-5a8fd26...</td>\n",
       "      <td>{'apnews.com': 95, 'politico.com': 100, 'usato...</td>\n",
       "      <td>[{'comparisons': [{'claim_article_a': 'Preside...</td>\n",
       "      <td>{'article_stances': [-0.16, 0.0, -0.08, 0.0, -...</td>\n",
       "      <td>{'article_stances': [-0.147, -0.01047619047619...</td>\n",
       "      <td>{'article_stances': [-0.12, 0.0, 0.0, -0.12, -...</td>\n",
       "      <td>{'article_stances': [-0.24766666666666665, -0....</td>\n",
       "    </tr>\n",
       "    <tr>\n",
       "      <th>615</th>\n",
       "      <td>Day_12_4</td>\n",
       "      <td>R_3HwgknqxN3CNob6</td>\n",
       "      <td>Day_12</td>\n",
       "      <td>Misl</td>\n",
       "      <td>0</td>\n",
       "      <td>4</td>\n",
       "      <td>2</td>\n",
       "      <td>46</td>\n",
       "      <td>1</td>\n",
       "      <td>True</td>\n",
       "      <td>...</td>\n",
       "      <td>94.666667</td>\n",
       "      <td>foxnews.com', 'usatoday.com', 'sun-sentinel.co...</td>\n",
       "      <td>69.5,100,92.5,100,100,100,95,95,100</td>\n",
       "      <td>('https://www.foxnews.com/politics/biden-appro...</td>\n",
       "      <td>{'foxnews.com': 69.5, 'usatoday.com': 100, 'su...</td>\n",
       "      <td>[{'comparisons': [{'claim_article_a': 'Preside...</td>\n",
       "      <td>{'article_stances': [0.52, 0.4, 0.0], 'article...</td>\n",
       "      <td>{'article_stances': [0.4066666666666666, 0.349...</td>\n",
       "      <td>{'article_stances': [0.0, 0.0, 0.0], 'article_...</td>\n",
       "      <td>{'article_stances': [0.4066666666666666, 0.349...</td>\n",
       "    </tr>\n",
       "  </tbody>\n",
       "</table>\n",
       "<p>525 rows × 41 columns</p>\n",
       "</div>"
      ],
      "text/plain": [
       "    Article_day         ResponseId     Day Category  True_Dummy  \\\n",
       "0       Day_1_4  R_2y8dRM3TUWjSPIo   Day_1     Misl           0   \n",
       "1       Day_1_4  R_bqJ3HoBP0lqi7CN   Day_1     True           1   \n",
       "2       Day_1_4  R_5ovNt0RyjDe4zhD   Day_1     True           1   \n",
       "3       Day_1_4  R_1ILDrpPAAn0CdBx   Day_1     True           1   \n",
       "4       Day_1_4  R_3MycWKTJGEI3fkc   Day_1     True           1   \n",
       "..          ...                ...     ...      ...         ...   \n",
       "611    Day_12_4  R_2tsyqOCvwSnvYGB  Day_12     True           1   \n",
       "612    Day_12_4  R_3lskovMBpQinjLr  Day_12     True           1   \n",
       "613    Day_12_4  R_3h3c8lR9Ul1nE30  Day_12     True           1   \n",
       "614    Day_12_4  R_3h3c8lR9Ul1nE30  Day_12     True           1   \n",
       "615    Day_12_4  R_3HwgknqxN3CNob6  Day_12     Misl           0   \n",
       "\n",
       "     Seven_Ordinal  Four_Ordinal  Age  Gender  FC_Eval  ...  avg_score  \\\n",
       "0                1             1   20       0     True  ...  92.750000   \n",
       "1                5             3   30       0     True  ...  94.642857   \n",
       "2                5             3   37       1     True  ...  95.833333   \n",
       "3                7             4   45       1     True  ...  84.611111   \n",
       "4                7             4   44       1     True  ...  95.833333   \n",
       "..             ...           ...  ...     ...      ...  ...        ...   \n",
       "611              6             4   41       1     True  ...  87.375000   \n",
       "612              6             3   36       0     True  ...  85.550000   \n",
       "613              5             3   32       1     True  ...  85.850000   \n",
       "614              5             3   32       1     True  ...  95.250000   \n",
       "615              4             2   46       1     True  ...  94.666667   \n",
       "\n",
       "                                          list_domains  \\\n",
       "0    factcheck.org', 'thehill.com', 'newsweek.com',...   \n",
       "1    recorder.maricopa.gov', ''', 'azcentral.com', ...   \n",
       "2    azcentral.com', 'abc15.com', 'thehill.com', 'p...   \n",
       "3    thehill.com', 'azcentral.com', 'abc15.com', 'w...   \n",
       "4    azcentral.com', 'thehill.com', 'abc15.com', 'b...   \n",
       "..                                                 ...   \n",
       "611  foxnews.com', 'usatoday.com', 'suffolk.edu', '...   \n",
       "612  usatoday.com', 'cnn.com', 'foxnews.com', 'nyti...   \n",
       "613  cnn.com', 'usatoday.com', 'nytimes.com', 'sfga...   \n",
       "614  apnews.com', 'politico.com', 'usatoday.com', '...   \n",
       "615  foxnews.com', 'usatoday.com', 'sun-sentinel.co...   \n",
       "\n",
       "                                    list_scores  \\\n",
       "0        100,80,100,100,90,92.5,95,87.5,87.5,95   \n",
       "1                  92.5,100,87.5,95,95,92.5,100   \n",
       "2             92.5,100,80,100,95,95,100,100,100   \n",
       "3               80,92.5,100,42,100,95,100,57,95   \n",
       "4             92.5,80,100,95,100,95,100,100,100   \n",
       "..                                          ...   \n",
       "611          69.5,100,100,100,92.5,87.5,69.5,80   \n",
       "612  100,87.5,69.5,100,69.5,77,100,69.5,87.5,95   \n",
       "613  87.5,100,100,100,69.5,80,69.5,95,87.5,69.5   \n",
       "614        95,100,100,80,95,100,87.5,100,95,100   \n",
       "615         69.5,100,92.5,100,100,100,95,95,100   \n",
       "\n",
       "                                        all_clean_urls  \\\n",
       "0    ('https://www.factcheck.org/2021/07/debunking-...   \n",
       "1    ('https://recorder.maricopa.gov/electionresult...   \n",
       "2    ('https://www.azcentral.com/story/opinion/op-e...   \n",
       "3    ('https://thehill.com/homenews/campaign/563658...   \n",
       "4    ('https://www.azcentral.com/story/opinion/op-e...   \n",
       "..                                                 ...   \n",
       "611  ('https://www.foxnews.com/politics/biden-appro...   \n",
       "612  ('https://www.usatoday.com/story/news/politics...   \n",
       "613  ('https://www.cnn.com/videos/politics/2021/11/...   \n",
       "614  ('https://apnews.com/article/joe-biden-5a8fd26...   \n",
       "615  ('https://www.foxnews.com/politics/biden-appro...   \n",
       "\n",
       "                                        newsguard_dict  \\\n",
       "0    {'factcheck.org': 100, 'thehill.com': 80, 'new...   \n",
       "1                                                   {}   \n",
       "2    {'azcentral.com': 92.5, 'abc15.com': 100, 'the...   \n",
       "3    {'thehill.com': 80, 'azcentral.com': 92.5, 'ab...   \n",
       "4    {'azcentral.com': 92.5, 'thehill.com': 80, 'ab...   \n",
       "..                                                 ...   \n",
       "611  {'foxnews.com': 69.5, 'usatoday.com': 100, 'su...   \n",
       "612  {'usatoday.com': 100, 'cnn.com': 87.5, 'foxnew...   \n",
       "613  {'cnn.com': 87.5, 'usatoday.com': 100, 'nytime...   \n",
       "614  {'apnews.com': 95, 'politico.com': 100, 'usato...   \n",
       "615  {'foxnews.com': 69.5, 'usatoday.com': 100, 'su...   \n",
       "\n",
       "                                                Labels  \\\n",
       "0    [{}, {}, {}, {'comparisons': [{'claim_article_...   \n",
       "1    [{}, {}, {'comparisons': [{'claim_article_a': ...   \n",
       "2    [{'comparisons': [{'claim_article_a': \"The lio...   \n",
       "3    [{}, {'comparisons': [{'claim_article_a': \"The...   \n",
       "4    [{'comparisons': [{'claim_article_a': \"The lio...   \n",
       "..                                                 ...   \n",
       "611  [{'comparisons': [{'claim_article_a': 'Preside...   \n",
       "612  [{'comparisons': [{'claim_article_a': 'Preside...   \n",
       "613  [{'comparisons': [{'claim_article_a': 'Preside...   \n",
       "614  [{'comparisons': [{'claim_article_a': 'Preside...   \n",
       "615  [{'comparisons': [{'claim_article_a': 'Preside...   \n",
       "\n",
       "                                          Features_Raw  \\\n",
       "0    {'article_stances': [-0.04, -0.28, 0.08, -0.16...   \n",
       "1    {'article_stances': [-0.2, -0.12, 0.04, 0.0, -...   \n",
       "2    {'article_stances': [0.08, 0.08, -0.08, 0.04, ...   \n",
       "3    {'article_stances': [0.08, 0.08, 0.0, 0.04], '...   \n",
       "4    {'article_stances': [0.08, 0.08, 0.0, -0.04, 0...   \n",
       "..                                                 ...   \n",
       "611  {'article_stances': [0.52, 0.4, 0.48, 0.52, 0....   \n",
       "612  {'article_stances': [0.52, 0.0, 0.28, 0.56, 0....   \n",
       "613  {'article_stances': [0.0, 0.4, 0.28, 0.24, 0.3...   \n",
       "614  {'article_stances': [-0.16, 0.0, -0.08, 0.0, -...   \n",
       "615  {'article_stances': [0.52, 0.4, 0.0], 'article...   \n",
       "\n",
       "                                          Features_Pos  \\\n",
       "0    {'article_stances': [-0.044121212121212124, -0...   \n",
       "1    {'article_stances': [-0.05843137254901954, -0....   \n",
       "2    {'article_stances': [0.1340952380952381, 0.060...   \n",
       "3    {'article_stances': [0.1340952380952381, 0.060...   \n",
       "4    {'article_stances': [0.1340952380952381, 0.060...   \n",
       "..                                                 ...   \n",
       "611  {'article_stances': [0.4066666666666666, 0.349...   \n",
       "612  {'article_stances': [0.45515789473684215, 0.0,...   \n",
       "613  {'article_stances': [0.0, 0.3497543859649123, ...   \n",
       "614  {'article_stances': [-0.147, -0.01047619047619...   \n",
       "615  {'article_stances': [0.4066666666666666, 0.349...   \n",
       "\n",
       "                                            Features_H  \\\n",
       "0    {'article_stances': [0.0, 0.0, 0.0, 0.0, 0.0, ...   \n",
       "1    {'article_stances': [0.0, 0.0, 0.0, 0.0, 0.0],...   \n",
       "2    {'article_stances': [0.0, 0.0, 0.0, 0.0, 0.0],...   \n",
       "3    {'article_stances': [0.0, 0.0, 0.0, 0.0], 'art...   \n",
       "4    {'article_stances': [0.0, 0.0, 0.0, 0.0, 0.0, ...   \n",
       "..                                                 ...   \n",
       "611  {'article_stances': [0.0, 0.0, 0.0, 0.0, 0.0, ...   \n",
       "612  {'article_stances': [0.0, 0.0, 0.0, 0.0, 0.0, ...   \n",
       "613  {'article_stances': [0.0, 0.0, 0.0, 0.0, 0.0, ...   \n",
       "614  {'article_stances': [-0.12, 0.0, 0.0, -0.12, -...   \n",
       "615  {'article_stances': [0.0, 0.0, 0.0], 'article_...   \n",
       "\n",
       "                                           Features_HP  \n",
       "0    {'article_stances': [-0.044121212121212124, -0...  \n",
       "1    {'article_stances': [-0.05843137254901954, -0....  \n",
       "2    {'article_stances': [0.1340952380952381, 0.060...  \n",
       "3    {'article_stances': [0.1340952380952381, 0.060...  \n",
       "4    {'article_stances': [0.1340952380952381, 0.060...  \n",
       "..                                                 ...  \n",
       "611  {'article_stances': [0.4066666666666666, 0.349...  \n",
       "612  {'article_stances': [0.45515789473684215, 0.0,...  \n",
       "613  {'article_stances': [0.0, 0.3497543859649123, ...  \n",
       "614  {'article_stances': [-0.24766666666666665, -0....  \n",
       "615  {'article_stances': [0.4066666666666666, 0.349...  \n",
       "\n",
       "[525 rows x 41 columns]"
      ]
     },
     "execution_count": 14,
     "metadata": {},
     "output_type": "execute_result"
    }
   ],
   "source": [
    "df"
   ]
  },
  {
   "cell_type": "markdown",
   "metadata": {},
   "source": [
    "# Additional Features for Exploration"
   ]
  },
  {
   "cell_type": "markdown",
   "metadata": {},
   "source": [
    "## Label Transformation"
   ]
  },
  {
   "cell_type": "code",
   "execution_count": 15,
   "metadata": {},
   "outputs": [],
   "source": [
    "label_mapping = {\n",
    "    'Coul' : np.nan,\n",
    "    'Misl' : 0,\n",
    "    'True' : 1\n",
    "}\n",
    "\n",
    "df['User_Labels'] = df['Category'].map(label_mapping)"
   ]
  },
  {
   "cell_type": "code",
   "execution_count": 16,
   "metadata": {},
   "outputs": [],
   "source": [
    "df = df[df['User_Labels'].notna()] #remove 'could' values"
   ]
  },
  {
   "cell_type": "markdown",
   "metadata": {},
   "source": [
    "## Number of articles"
   ]
  },
  {
   "cell_type": "code",
   "execution_count": 17,
   "metadata": {},
   "outputs": [
    {
     "name": "stderr",
     "output_type": "stream",
     "text": [
      "C:\\Users\\danie\\AppData\\Local\\Temp\\ipykernel_11368\\401153082.py:4: SettingWithCopyWarning: \n",
      "A value is trying to be set on a copy of a slice from a DataFrame.\n",
      "Try using .loc[row_indexer,col_indexer] = value instead\n",
      "\n",
      "See the caveats in the documentation: https://pandas.pydata.org/pandas-docs/stable/user_guide/indexing.html#returning-a-view-versus-a-copy\n",
      "  df['num_valid_articles'] = df['Labels'].apply(get_num_articles)\n"
     ]
    }
   ],
   "source": [
    "def get_num_articles(label_lists):\n",
    "    return sum(bool(d) for d in label_lists)\n",
    "\n",
    "df['num_valid_articles'] = df['Labels'].apply(get_num_articles)"
   ]
  },
  {
   "cell_type": "code",
   "execution_count": 18,
   "metadata": {},
   "outputs": [
    {
     "data": {
      "text/plain": [
       "count    474.000000\n",
       "mean       5.362869\n",
       "std        2.093777\n",
       "min        1.000000\n",
       "25%        4.000000\n",
       "50%        6.000000\n",
       "75%        7.000000\n",
       "max       10.000000\n",
       "Name: num_valid_articles, dtype: float64"
      ]
     },
     "execution_count": 18,
     "metadata": {},
     "output_type": "execute_result"
    }
   ],
   "source": [
    "df['num_valid_articles'].describe()"
   ]
  },
  {
   "cell_type": "code",
   "execution_count": 19,
   "metadata": {},
   "outputs": [
    {
     "data": {
      "text/html": [
       "<div>\n",
       "<style scoped>\n",
       "    .dataframe tbody tr th:only-of-type {\n",
       "        vertical-align: middle;\n",
       "    }\n",
       "\n",
       "    .dataframe tbody tr th {\n",
       "        vertical-align: top;\n",
       "    }\n",
       "\n",
       "    .dataframe thead th {\n",
       "        text-align: right;\n",
       "    }\n",
       "</style>\n",
       "<table border=\"1\" class=\"dataframe\">\n",
       "  <thead>\n",
       "    <tr style=\"text-align: right;\">\n",
       "      <th></th>\n",
       "      <th>count</th>\n",
       "      <th>mean</th>\n",
       "      <th>std</th>\n",
       "      <th>min</th>\n",
       "      <th>25%</th>\n",
       "      <th>50%</th>\n",
       "      <th>75%</th>\n",
       "      <th>max</th>\n",
       "    </tr>\n",
       "    <tr>\n",
       "      <th>Category</th>\n",
       "      <th></th>\n",
       "      <th></th>\n",
       "      <th></th>\n",
       "      <th></th>\n",
       "      <th></th>\n",
       "      <th></th>\n",
       "      <th></th>\n",
       "      <th></th>\n",
       "    </tr>\n",
       "  </thead>\n",
       "  <tbody>\n",
       "    <tr>\n",
       "      <th>Misl</th>\n",
       "      <td>74.0</td>\n",
       "      <td>5.081081</td>\n",
       "      <td>2.124590</td>\n",
       "      <td>1.0</td>\n",
       "      <td>3.0</td>\n",
       "      <td>5.0</td>\n",
       "      <td>7.0</td>\n",
       "      <td>9.0</td>\n",
       "    </tr>\n",
       "    <tr>\n",
       "      <th>True</th>\n",
       "      <td>400.0</td>\n",
       "      <td>5.415000</td>\n",
       "      <td>2.086542</td>\n",
       "      <td>1.0</td>\n",
       "      <td>4.0</td>\n",
       "      <td>6.0</td>\n",
       "      <td>7.0</td>\n",
       "      <td>10.0</td>\n",
       "    </tr>\n",
       "  </tbody>\n",
       "</table>\n",
       "</div>"
      ],
      "text/plain": [
       "          count      mean       std  min  25%  50%  75%   max\n",
       "Category                                                     \n",
       "Misl       74.0  5.081081  2.124590  1.0  3.0  5.0  7.0   9.0\n",
       "True      400.0  5.415000  2.086542  1.0  4.0  6.0  7.0  10.0"
      ]
     },
     "execution_count": 19,
     "metadata": {},
     "output_type": "execute_result"
    }
   ],
   "source": [
    "df.groupby('Category')['num_valid_articles'].describe()"
   ]
  },
  {
   "cell_type": "code",
   "execution_count": 20,
   "metadata": {},
   "outputs": [
    {
     "name": "stderr",
     "output_type": "stream",
     "text": [
      "C:\\Users\\danie\\AppData\\Local\\Temp\\ipykernel_11368\\284188435.py:8: FutureWarning: \n",
      "\n",
      "Passing `palette` without assigning `hue` is deprecated and will be removed in v0.14.0. Assign the `x` variable to `hue` and set `legend=False` for the same effect.\n",
      "\n",
      "  sns.barplot(data=counts, x='Value', y='Count', palette=seaborn_palette)\n"
     ]
    },
    {
     "data": {
      "text/plain": [
       "Text(0, 0.5, 'Frequency')"
      ]
     },
     "execution_count": 20,
     "metadata": {},
     "output_type": "execute_result"
    },
    {
     "data": {
      "image/png": "[encoded data removed]",
      "text/plain": [
       "<Figure size 640x480 with 1 Axes>"
      ]
     },
     "metadata": {},
     "output_type": "display_data"
    }
   ],
   "source": [
    "import matplotlib.pyplot as plt\n",
    "import seaborn as sns\n",
    "\n",
    "counts = df['num_valid_articles'].value_counts().reset_index()\n",
    "counts.columns = ['Value', 'Count']  # Rename columns for clarity\n",
    "\n",
    "# Create the barplot\n",
    "sns.barplot(data=counts, x='Value', y='Count', palette=seaborn_palette)\n",
    "plt.title('Successfully obtained Articles')\n",
    "plt.xlabel('Number of Valid Articles')\n",
    "plt.ylabel('Frequency')"
   ]
  },
  {
   "cell_type": "markdown",
   "metadata": {},
   "source": [
    "# Article Stances"
   ]
  },
  {
   "cell_type": "markdown",
   "metadata": {},
   "source": [
    "## Raw Stances"
   ]
  },
  {
   "cell_type": "code",
   "execution_count": 21,
   "metadata": {},
   "outputs": [],
   "source": [
    "#try different transformation methods\n",
    "\n",
    "def transform_stances(feat_dict, method):\n",
    "    if pd.isna(feat_dict):\n",
    "        return np.nan\n",
    "    stance_list = feat_dict['article_stances']\n",
    "    return method(stance_list)"
   ]
  },
  {
   "cell_type": "markdown",
   "metadata": {},
   "source": [
    "### Mean"
   ]
  },
  {
   "cell_type": "code",
   "execution_count": 22,
   "metadata": {},
   "outputs": [
    {
     "name": "stderr",
     "output_type": "stream",
     "text": [
      "C:\\Users\\danie\\AppData\\Local\\Temp\\ipykernel_11368\\1622541352.py:1: SettingWithCopyWarning: \n",
      "A value is trying to be set on a copy of a slice from a DataFrame.\n",
      "Try using .loc[row_indexer,col_indexer] = value instead\n",
      "\n",
      "See the caveats in the documentation: https://pandas.pydata.org/pandas-docs/stable/user_guide/indexing.html#returning-a-view-versus-a-copy\n",
      "  df['Stances_Mean'] = df['Features_Raw'].apply(lambda x: transform_stances(x, method=np.mean))\n"
     ]
    }
   ],
   "source": [
    "df['Stances_Mean'] = df['Features_Raw'].apply(lambda x: transform_stances(x, method=np.mean))"
   ]
  },
  {
   "cell_type": "code",
   "execution_count": 23,
   "metadata": {},
   "outputs": [
    {
     "data": {
      "text/plain": [
       "count    474.000000\n",
       "mean       0.261906\n",
       "std        0.201794\n",
       "min       -0.400000\n",
       "25%        0.100000\n",
       "50%        0.261429\n",
       "75%        0.435938\n",
       "max        0.733333\n",
       "Name: Stances_Mean, dtype: float64"
      ]
     },
     "execution_count": 23,
     "metadata": {},
     "output_type": "execute_result"
    }
   ],
   "source": [
    "df['Stances_Mean'].describe()"
   ]
  },
  {
   "cell_type": "code",
   "execution_count": 24,
   "metadata": {},
   "outputs": [
    {
     "data": {
      "text/html": [
       "<div>\n",
       "<style scoped>\n",
       "    .dataframe tbody tr th:only-of-type {\n",
       "        vertical-align: middle;\n",
       "    }\n",
       "\n",
       "    .dataframe tbody tr th {\n",
       "        vertical-align: top;\n",
       "    }\n",
       "\n",
       "    .dataframe thead th {\n",
       "        text-align: right;\n",
       "    }\n",
       "</style>\n",
       "<table border=\"1\" class=\"dataframe\">\n",
       "  <thead>\n",
       "    <tr style=\"text-align: right;\">\n",
       "      <th></th>\n",
       "      <th>count</th>\n",
       "      <th>mean</th>\n",
       "      <th>std</th>\n",
       "      <th>min</th>\n",
       "      <th>25%</th>\n",
       "      <th>50%</th>\n",
       "      <th>75%</th>\n",
       "      <th>max</th>\n",
       "    </tr>\n",
       "    <tr>\n",
       "      <th>Category</th>\n",
       "      <th></th>\n",
       "      <th></th>\n",
       "      <th></th>\n",
       "      <th></th>\n",
       "      <th></th>\n",
       "      <th></th>\n",
       "      <th></th>\n",
       "      <th></th>\n",
       "    </tr>\n",
       "  </thead>\n",
       "  <tbody>\n",
       "    <tr>\n",
       "      <th>Misl</th>\n",
       "      <td>74.0</td>\n",
       "      <td>0.164059</td>\n",
       "      <td>0.193629</td>\n",
       "      <td>-0.4</td>\n",
       "      <td>0.001429</td>\n",
       "      <td>0.125714</td>\n",
       "      <td>0.316667</td>\n",
       "      <td>0.586667</td>\n",
       "    </tr>\n",
       "    <tr>\n",
       "      <th>True</th>\n",
       "      <td>400.0</td>\n",
       "      <td>0.280008</td>\n",
       "      <td>0.198267</td>\n",
       "      <td>-0.4</td>\n",
       "      <td>0.120000</td>\n",
       "      <td>0.289444</td>\n",
       "      <td>0.444667</td>\n",
       "      <td>0.733333</td>\n",
       "    </tr>\n",
       "  </tbody>\n",
       "</table>\n",
       "</div>"
      ],
      "text/plain": [
       "          count      mean       std  min       25%       50%       75%  \\\n",
       "Category                                                                 \n",
       "Misl       74.0  0.164059  0.193629 -0.4  0.001429  0.125714  0.316667   \n",
       "True      400.0  0.280008  0.198267 -0.4  0.120000  0.289444  0.444667   \n",
       "\n",
       "               max  \n",
       "Category            \n",
       "Misl      0.586667  \n",
       "True      0.733333  "
      ]
     },
     "execution_count": 24,
     "metadata": {},
     "output_type": "execute_result"
    }
   ],
   "source": [
    "df.groupby('Category')['Stances_Mean'].describe()"
   ]
  },
  {
   "cell_type": "code",
   "execution_count": 25,
   "metadata": {},
   "outputs": [
    {
     "data": {
      "text/html": [
       "<div>\n",
       "<style scoped>\n",
       "    .dataframe tbody tr th:only-of-type {\n",
       "        vertical-align: middle;\n",
       "    }\n",
       "\n",
       "    .dataframe tbody tr th {\n",
       "        vertical-align: top;\n",
       "    }\n",
       "\n",
       "    .dataframe thead th {\n",
       "        text-align: right;\n",
       "    }\n",
       "</style>\n",
       "<table border=\"1\" class=\"dataframe\">\n",
       "  <thead>\n",
       "    <tr style=\"text-align: right;\">\n",
       "      <th></th>\n",
       "      <th>U-val</th>\n",
       "      <th>alternative</th>\n",
       "      <th>p-val</th>\n",
       "      <th>RBC</th>\n",
       "      <th>CLES</th>\n",
       "    </tr>\n",
       "  </thead>\n",
       "  <tbody>\n",
       "    <tr>\n",
       "      <th>MWU</th>\n",
       "      <td>9819.5</td>\n",
       "      <td>less</td>\n",
       "      <td>0.000002</td>\n",
       "      <td>-0.33652</td>\n",
       "      <td>0.66826</td>\n",
       "    </tr>\n",
       "  </tbody>\n",
       "</table>\n",
       "</div>"
      ],
      "text/plain": [
       "      U-val alternative     p-val      RBC     CLES\n",
       "MWU  9819.5        less  0.000002 -0.33652  0.66826"
      ]
     },
     "execution_count": 25,
     "metadata": {},
     "output_type": "execute_result"
    }
   ],
   "source": [
    "import pingouin as pg\n",
    "pg.normality(data=df, dv='Stances_Mean', group='Category') #not normally distributed\n",
    "pg.mwu(x=df.loc[df['Category'] == 'Misl', 'Stances_Mean'],\n",
    "                y=df.loc[df['Category'] == 'True', 'Stances_Mean'],\n",
    "                alternative='less') #Mann-Whitney U (testing if Misl (Group 1) is less than True (Group 2) -> differences statistically significant, but with a small effect size (RBC < 0.3)"
   ]
  },
  {
   "cell_type": "code",
   "execution_count": 26,
   "metadata": {},
   "outputs": [
    {
     "data": {
      "text/html": [
       "<div>\n",
       "<style scoped>\n",
       "    .dataframe tbody tr th:only-of-type {\n",
       "        vertical-align: middle;\n",
       "    }\n",
       "\n",
       "    .dataframe tbody tr th {\n",
       "        vertical-align: top;\n",
       "    }\n",
       "\n",
       "    .dataframe thead th {\n",
       "        text-align: right;\n",
       "    }\n",
       "</style>\n",
       "<table border=\"1\" class=\"dataframe\">\n",
       "  <thead>\n",
       "    <tr style=\"text-align: right;\">\n",
       "      <th></th>\n",
       "      <th>count</th>\n",
       "      <th>mean</th>\n",
       "      <th>std</th>\n",
       "      <th>min</th>\n",
       "      <th>25%</th>\n",
       "      <th>50%</th>\n",
       "      <th>75%</th>\n",
       "      <th>max</th>\n",
       "    </tr>\n",
       "    <tr>\n",
       "      <th>num_valid_articles</th>\n",
       "      <th></th>\n",
       "      <th></th>\n",
       "      <th></th>\n",
       "      <th></th>\n",
       "      <th></th>\n",
       "      <th></th>\n",
       "      <th></th>\n",
       "      <th></th>\n",
       "    </tr>\n",
       "  </thead>\n",
       "  <tbody>\n",
       "    <tr>\n",
       "      <th>1</th>\n",
       "      <td>18.0</td>\n",
       "      <td>0.177778</td>\n",
       "      <td>0.315027</td>\n",
       "      <td>-0.400000</td>\n",
       "      <td>0.000000</td>\n",
       "      <td>0.200000</td>\n",
       "      <td>0.430000</td>\n",
       "      <td>0.600000</td>\n",
       "    </tr>\n",
       "    <tr>\n",
       "      <th>2</th>\n",
       "      <td>39.0</td>\n",
       "      <td>0.329673</td>\n",
       "      <td>0.192495</td>\n",
       "      <td>0.000000</td>\n",
       "      <td>0.190000</td>\n",
       "      <td>0.400000</td>\n",
       "      <td>0.480000</td>\n",
       "      <td>0.640000</td>\n",
       "    </tr>\n",
       "    <tr>\n",
       "      <th>3</th>\n",
       "      <td>44.0</td>\n",
       "      <td>0.277116</td>\n",
       "      <td>0.234200</td>\n",
       "      <td>-0.080000</td>\n",
       "      <td>0.090000</td>\n",
       "      <td>0.253333</td>\n",
       "      <td>0.520000</td>\n",
       "      <td>0.733333</td>\n",
       "    </tr>\n",
       "    <tr>\n",
       "      <th>4</th>\n",
       "      <td>60.0</td>\n",
       "      <td>0.245885</td>\n",
       "      <td>0.252677</td>\n",
       "      <td>-0.380000</td>\n",
       "      <td>0.050000</td>\n",
       "      <td>0.255000</td>\n",
       "      <td>0.450000</td>\n",
       "      <td>0.630000</td>\n",
       "    </tr>\n",
       "    <tr>\n",
       "      <th>5</th>\n",
       "      <td>65.0</td>\n",
       "      <td>0.253317</td>\n",
       "      <td>0.193865</td>\n",
       "      <td>-0.088000</td>\n",
       "      <td>0.128000</td>\n",
       "      <td>0.224000</td>\n",
       "      <td>0.460000</td>\n",
       "      <td>0.576000</td>\n",
       "    </tr>\n",
       "    <tr>\n",
       "      <th>6</th>\n",
       "      <td>80.0</td>\n",
       "      <td>0.241410</td>\n",
       "      <td>0.170807</td>\n",
       "      <td>-0.106667</td>\n",
       "      <td>0.120000</td>\n",
       "      <td>0.250000</td>\n",
       "      <td>0.388580</td>\n",
       "      <td>0.600000</td>\n",
       "    </tr>\n",
       "    <tr>\n",
       "      <th>7</th>\n",
       "      <td>94.0</td>\n",
       "      <td>0.256708</td>\n",
       "      <td>0.181322</td>\n",
       "      <td>-0.125714</td>\n",
       "      <td>0.116429</td>\n",
       "      <td>0.254709</td>\n",
       "      <td>0.426071</td>\n",
       "      <td>0.566561</td>\n",
       "    </tr>\n",
       "    <tr>\n",
       "      <th>8</th>\n",
       "      <td>58.0</td>\n",
       "      <td>0.280656</td>\n",
       "      <td>0.162728</td>\n",
       "      <td>-0.070000</td>\n",
       "      <td>0.115000</td>\n",
       "      <td>0.292870</td>\n",
       "      <td>0.385000</td>\n",
       "      <td>0.670000</td>\n",
       "    </tr>\n",
       "    <tr>\n",
       "      <th>9</th>\n",
       "      <td>13.0</td>\n",
       "      <td>0.276239</td>\n",
       "      <td>0.143396</td>\n",
       "      <td>0.008889</td>\n",
       "      <td>0.217778</td>\n",
       "      <td>0.288889</td>\n",
       "      <td>0.351111</td>\n",
       "      <td>0.475556</td>\n",
       "    </tr>\n",
       "    <tr>\n",
       "      <th>10</th>\n",
       "      <td>3.0</td>\n",
       "      <td>0.454000</td>\n",
       "      <td>0.069656</td>\n",
       "      <td>0.398000</td>\n",
       "      <td>0.415000</td>\n",
       "      <td>0.432000</td>\n",
       "      <td>0.482000</td>\n",
       "      <td>0.532000</td>\n",
       "    </tr>\n",
       "  </tbody>\n",
       "</table>\n",
       "</div>"
      ],
      "text/plain": [
       "                    count      mean       std       min       25%       50%  \\\n",
       "num_valid_articles                                                            \n",
       "1                    18.0  0.177778  0.315027 -0.400000  0.000000  0.200000   \n",
       "2                    39.0  0.329673  0.192495  0.000000  0.190000  0.400000   \n",
       "3                    44.0  0.277116  0.234200 -0.080000  0.090000  0.253333   \n",
       "4                    60.0  0.245885  0.252677 -0.380000  0.050000  0.255000   \n",
       "5                    65.0  0.253317  0.193865 -0.088000  0.128000  0.224000   \n",
       "6                    80.0  0.241410  0.170807 -0.106667  0.120000  0.250000   \n",
       "7                    94.0  0.256708  0.181322 -0.125714  0.116429  0.254709   \n",
       "8                    58.0  0.280656  0.162728 -0.070000  0.115000  0.292870   \n",
       "9                    13.0  0.276239  0.143396  0.008889  0.217778  0.288889   \n",
       "10                    3.0  0.454000  0.069656  0.398000  0.415000  0.432000   \n",
       "\n",
       "                         75%       max  \n",
       "num_valid_articles                      \n",
       "1                   0.430000  0.600000  \n",
       "2                   0.480000  0.640000  \n",
       "3                   0.520000  0.733333  \n",
       "4                   0.450000  0.630000  \n",
       "5                   0.460000  0.576000  \n",
       "6                   0.388580  0.600000  \n",
       "7                   0.426071  0.566561  \n",
       "8                   0.385000  0.670000  \n",
       "9                   0.351111  0.475556  \n",
       "10                  0.482000  0.532000  "
      ]
     },
     "execution_count": 26,
     "metadata": {},
     "output_type": "execute_result"
    }
   ],
   "source": [
    "df.groupby('num_valid_articles')['Stances_Mean'].describe()"
   ]
  },
  {
   "cell_type": "code",
   "execution_count": 27,
   "metadata": {},
   "outputs": [
    {
     "name": "stderr",
     "output_type": "stream",
     "text": [
      "C:\\Users\\danie\\AppData\\Local\\Temp\\ipykernel_11368\\3906879507.py:4: FutureWarning: \n",
      "\n",
      "Passing `palette` without assigning `hue` is deprecated and will be removed in v0.14.0. Assign the `x` variable to `hue` and set `legend=False` for the same effect.\n",
      "\n",
      "  sns.boxplot(data=df, x='Category', y='Stances_Mean', palette=seaborn_palette)\n"
     ]
    },
    {
     "data": {
      "text/plain": [
       "Text(0, 0.5, 'Stances Mean')"
      ]
     },
     "execution_count": 27,
     "metadata": {},
     "output_type": "execute_result"
    },
    {
     "data": {
      "image/png": "[encoded data removed]",
      "text/plain": [
       "<Figure size 640x480 with 1 Axes>"
      ]
     },
     "metadata": {},
     "output_type": "display_data"
    }
   ],
   "source": [
    "import matplotlib.pyplot as plt\n",
    "import seaborn as sns\n",
    "\n",
    "sns.boxplot(data=df, x='Category', y='Stances_Mean', palette=seaborn_palette)\n",
    "plt.title('Boxplot of Stances Mean by User Label')\n",
    "plt.xlabel('User Label')\n",
    "plt.ylabel('Stances Mean')"
   ]
  },
  {
   "cell_type": "code",
   "execution_count": 28,
   "metadata": {},
   "outputs": [
    {
     "name": "stderr",
     "output_type": "stream",
     "text": [
      "C:\\Users\\danie\\AppData\\Local\\Temp\\ipykernel_11368\\177119608.py:1: FutureWarning: \n",
      "\n",
      "Passing `palette` without assigning `hue` is deprecated and will be removed in v0.14.0. Assign the `x` variable to `hue` and set `legend=False` for the same effect.\n",
      "\n",
      "  sns.boxplot(data=df, x='num_valid_articles', y='Stances_Mean', palette=seaborn_palette)\n"
     ]
    },
    {
     "data": {
      "text/plain": [
       "Text(0, 0.5, 'Stances Mean')"
      ]
     },
     "execution_count": 28,
     "metadata": {},
     "output_type": "execute_result"
    },
    {
     "data": {
      "image/png": "[encoded data removed]",
      "text/plain": [
       "<Figure size 640x480 with 1 Axes>"
      ]
     },
     "metadata": {},
     "output_type": "display_data"
    }
   ],
   "source": [
    "sns.boxplot(data=df, x='num_valid_articles', y='Stances_Mean', palette=seaborn_palette)\n",
    "plt.title('Boxplot of Stances Mean by SERP article count')\n",
    "plt.xlabel('Number of Valid Articles')\n",
    "plt.ylabel('Stances Mean')"
   ]
  },
  {
   "cell_type": "markdown",
   "metadata": {},
   "source": [
    "#### Last User Queries"
   ]
  },
  {
   "cell_type": "code",
   "execution_count": 29,
   "metadata": {},
   "outputs": [
    {
     "data": {
      "text/html": [
       "<div>\n",
       "<style scoped>\n",
       "    .dataframe tbody tr th:only-of-type {\n",
       "        vertical-align: middle;\n",
       "    }\n",
       "\n",
       "    .dataframe tbody tr th {\n",
       "        vertical-align: top;\n",
       "    }\n",
       "\n",
       "    .dataframe thead th {\n",
       "        text-align: right;\n",
       "    }\n",
       "</style>\n",
       "<table border=\"1\" class=\"dataframe\">\n",
       "  <thead>\n",
       "    <tr style=\"text-align: right;\">\n",
       "      <th></th>\n",
       "      <th>count</th>\n",
       "      <th>mean</th>\n",
       "      <th>std</th>\n",
       "      <th>min</th>\n",
       "      <th>25%</th>\n",
       "      <th>50%</th>\n",
       "      <th>75%</th>\n",
       "      <th>max</th>\n",
       "    </tr>\n",
       "    <tr>\n",
       "      <th>Category</th>\n",
       "      <th></th>\n",
       "      <th></th>\n",
       "      <th></th>\n",
       "      <th></th>\n",
       "      <th></th>\n",
       "      <th></th>\n",
       "      <th></th>\n",
       "      <th></th>\n",
       "    </tr>\n",
       "  </thead>\n",
       "  <tbody>\n",
       "    <tr>\n",
       "      <th>Misl</th>\n",
       "      <td>25.0</td>\n",
       "      <td>0.169752</td>\n",
       "      <td>0.176533</td>\n",
       "      <td>-0.10</td>\n",
       "      <td>0.026667</td>\n",
       "      <td>0.125714</td>\n",
       "      <td>0.300000</td>\n",
       "      <td>0.525000</td>\n",
       "    </tr>\n",
       "    <tr>\n",
       "      <th>True</th>\n",
       "      <td>199.0</td>\n",
       "      <td>0.280353</td>\n",
       "      <td>0.191281</td>\n",
       "      <td>-0.38</td>\n",
       "      <td>0.143333</td>\n",
       "      <td>0.262857</td>\n",
       "      <td>0.447333</td>\n",
       "      <td>0.733333</td>\n",
       "    </tr>\n",
       "  </tbody>\n",
       "</table>\n",
       "</div>"
      ],
      "text/plain": [
       "          count      mean       std   min       25%       50%       75%  \\\n",
       "Category                                                                  \n",
       "Misl       25.0  0.169752  0.176533 -0.10  0.026667  0.125714  0.300000   \n",
       "True      199.0  0.280353  0.191281 -0.38  0.143333  0.262857  0.447333   \n",
       "\n",
       "               max  \n",
       "Category            \n",
       "Misl      0.525000  \n",
       "True      0.733333  "
      ]
     },
     "execution_count": 29,
     "metadata": {},
     "output_type": "execute_result"
    }
   ],
   "source": [
    "last_search_df = df.drop_duplicates(subset='ResponseId', keep='last')\n",
    "last_search_df.groupby('Category')['Stances_Mean'].describe()"
   ]
  },
  {
   "cell_type": "code",
   "execution_count": 30,
   "metadata": {},
   "outputs": [
    {
     "name": "stderr",
     "output_type": "stream",
     "text": [
      "C:\\Users\\danie\\AppData\\Local\\Temp\\ipykernel_11368\\1437997146.py:1: FutureWarning: \n",
      "\n",
      "Passing `palette` without assigning `hue` is deprecated and will be removed in v0.14.0. Assign the `x` variable to `hue` and set `legend=False` for the same effect.\n",
      "\n",
      "  sns.boxplot(data=last_search_df, x='Category', y='Stances_Mean', palette=seaborn_palette)\n"
     ]
    },
    {
     "data": {
      "text/plain": [
       "Text(0, 0.5, 'Stances Mean')"
      ]
     },
     "execution_count": 30,
     "metadata": {},
     "output_type": "execute_result"
    },
    {
     "data": {
      "image/png": "[encoded data removed]",
      "text/plain": [
       "<Figure size 640x480 with 1 Axes>"
      ]
     },
     "metadata": {},
     "output_type": "display_data"
    }
   ],
   "source": [
    "sns.boxplot(data=last_search_df, x='Category', y='Stances_Mean', palette=seaborn_palette)\n",
    "plt.title('Boxplot of Stances Mean by User Label (Only last query)')\n",
    "plt.xlabel('User Label')\n",
    "plt.ylabel('Stances Mean')"
   ]
  },
  {
   "cell_type": "markdown",
   "metadata": {},
   "source": [
    "### NDCG"
   ]
  },
  {
   "cell_type": "code",
   "execution_count": 31,
   "metadata": {},
   "outputs": [],
   "source": [
    "from sklearn.metrics import ndcg_score"
   ]
  },
  {
   "cell_type": "code",
   "execution_count": 32,
   "metadata": {},
   "outputs": [
    {
     "name": "stdout",
     "output_type": "stream",
     "text": [
      "[[0.75  0.505 0.65  0.    1.   ]] [[1.    0.75  0.65  0.505 0.   ]]\n"
     ]
    },
    {
     "data": {
      "text/plain": [
       "np.float64(0.883307074205988)"
      ]
     },
     "execution_count": 32,
     "metadata": {},
     "output_type": "execute_result"
    }
   ],
   "source": [
    "test_array = [0.5, 0.01, 0.3, -1, 1]\n",
    "\n",
    "#transform values to fit between 0 and 1\n",
    "\n",
    "def ndcg(stances):\n",
    "    stances = np.array(stances)\n",
    "    stances = (stances + 1) / 2  # Transform values from [-1, 1] to [0, 1]\n",
    "    if len(stances) == 1:\n",
    "        return np.nan\n",
    "    true_relevance = np.array([stances])  \n",
    "    relevance_score = np.array([sorted(stances, reverse=True)]) \n",
    "    print(true_relevance, relevance_score)\n",
    "\n",
    "    return ndcg_score(true_relevance, relevance_score)\n",
    "          \n",
    "ndcg(test_array)"
   ]
  },
  {
   "cell_type": "code",
   "execution_count": 33,
   "metadata": {},
   "outputs": [
    {
     "name": "stdout",
     "output_type": "stream",
     "text": [
      "[[0.48 0.36 0.54 0.42 0.52 0.48]] [[0.54 0.52 0.48 0.48 0.42 0.36]]\n",
      "[[0.4  0.44 0.52 0.5  0.42]] [[0.52 0.5  0.44 0.42 0.4 ]]\n",
      "[[0.54 0.54 0.46 0.52 0.48]] [[0.54 0.54 0.52 0.48 0.46]]\n",
      "[[0.54 0.54 0.5  0.52]] [[0.54 0.54 0.52 0.5 ]]\n",
      "[[0.54 0.54 0.5  0.48 0.52 0.38 0.54]] [[0.54 0.54 0.54 0.52 0.5  0.48 0.38]]\n",
      "[[0.54 0.54 0.6 ]] [[0.6  0.54 0.54]]\n",
      "[[0.5  0.54 0.44 0.58]] [[0.58 0.54 0.5  0.44]]\n",
      "[[0.54 0.54 0.42 0.52 0.5  0.36]] [[0.54 0.54 0.52 0.5  0.42 0.36]]\n",
      "[[0.54 0.58 0.52 0.5  0.44 0.42]] [[0.58 0.54 0.52 0.5  0.44 0.42]]\n",
      "[[0.5 0.5 0.5 0.5]] [[0.5 0.5 0.5 0.5]]\n",
      "[[0.52 0.5 ]] [[0.52 0.5 ]]\n",
      "[[0.54 0.54 0.6 ]] [[0.6  0.54 0.54]]\n",
      "[[0.6  0.5  0.58]] [[0.6  0.58 0.5 ]]\n",
      "[[0.4  0.5  0.52 0.44 0.48 0.5  0.52]] [[0.52 0.52 0.5  0.5  0.48 0.44 0.4 ]]\n",
      "[[0.54 0.54 0.34 0.56]] [[0.56 0.54 0.54 0.34]]\n",
      "[[0.54 0.5  0.52 0.52 0.42]] [[0.54 0.52 0.52 0.5  0.42]]\n",
      "[[0.54 0.5  0.7  0.56 0.38 0.38]] [[0.7  0.56 0.54 0.5  0.38 0.38]]\n",
      "[[0.5  0.44 0.48 0.54 0.52 0.52 0.52]] [[0.54 0.52 0.52 0.52 0.5  0.48 0.44]]\n",
      "[[0.52 0.4  0.48 0.52 0.38 0.48 0.44 0.5 ]] [[0.52 0.52 0.5  0.48 0.48 0.44 0.4  0.38]]\n",
      "[[0.52 0.52]] [[0.52 0.52]]\n",
      "[[0.54 0.54 0.5  0.54 0.48 0.52]] [[0.54 0.54 0.54 0.52 0.5  0.48]]\n",
      "[[0.54 0.54 0.52 0.5  0.4  0.44 0.46]] [[0.54 0.54 0.52 0.5  0.46 0.44 0.4 ]]\n",
      "[[0.5  0.52 0.5  0.4  0.5  0.52]] [[0.52 0.52 0.5  0.5  0.5  0.4 ]]\n",
      "[[0.6 0.5]] [[0.6 0.5]]\n",
      "[[0.48 0.5  0.4 ]] [[0.5  0.48 0.4 ]]\n",
      "[[0.54 0.54 0.48 0.54 0.44 0.5  0.54 0.52 0.44]] [[0.54 0.54 0.54 0.54 0.52 0.5  0.48 0.44 0.44]]\n",
      "[[0.42 0.4  0.4 ]] [[0.42 0.4  0.4 ]]\n",
      "[[0.5  0.44 0.54 0.52]] [[0.54 0.52 0.5  0.44]]\n",
      "[[0.54 0.54 0.5  0.52 0.56]] [[0.56 0.54 0.54 0.52 0.5 ]]\n",
      "[[0.4  0.44 0.58 0.52 0.46]] [[0.58 0.52 0.46 0.44 0.4 ]]\n",
      "[[0.52 0.5  0.38 0.5 ]] [[0.52 0.5  0.5  0.38]]\n",
      "[[0.54 0.4  0.52 0.42 0.5  0.54]] [[0.54 0.54 0.52 0.5  0.42 0.4 ]]\n",
      "[[0.54 0.5  0.5  0.4  0.44 0.48 0.2 ]] [[0.54 0.5  0.5  0.48 0.44 0.4  0.2 ]]\n",
      "[[0.54 0.5  0.7  0.56 0.34 0.38]] [[0.7  0.56 0.54 0.5  0.38 0.34]]\n",
      "[[0.54 0.54 0.42 0.5 ]] [[0.54 0.54 0.5  0.42]]\n",
      "[[0.54 0.54 0.34 0.54]] [[0.54 0.54 0.54 0.34]]\n",
      "[[0.54 0.54 0.5  0.48 0.56 0.56 0.52]] [[0.56 0.56 0.54 0.54 0.52 0.5  0.48]]\n",
      "[[0.54 0.34 0.54]] [[0.54 0.54 0.34]]\n",
      "[[0.4  0.5  0.52 0.6  0.42 0.5  0.5 ]] [[0.6  0.52 0.5  0.5  0.5  0.42 0.4 ]]\n",
      "[[0.54 0.54 0.5  0.48 0.52 0.38 0.56]] [[0.56 0.54 0.54 0.52 0.5  0.48 0.38]]\n",
      "[[0.48 0.54 0.56 0.5 ]] [[0.56 0.54 0.5  0.48]]\n",
      "[[0.54 0.54 0.54 0.5  0.6  0.62]] [[0.62 0.6  0.54 0.54 0.54 0.5 ]]\n",
      "[[0.4  0.44 0.42 0.44 0.48 0.5  0.54]] [[0.54 0.5  0.48 0.44 0.44 0.42 0.4 ]]\n",
      "[[0.54 0.54 0.5  0.48 0.4  0.48 0.52 0.5 ]] [[0.54 0.54 0.52 0.5  0.5  0.48 0.48 0.4 ]]\n",
      "[[0.4  0.48 0.52 0.58 0.5 ]] [[0.58 0.52 0.5  0.48 0.4 ]]\n",
      "[[0.48 0.54 0.5 ]] [[0.54 0.5  0.48]]\n",
      "[[0.52       0.48       0.5        0.53333333 0.5       ]] [[0.53333333 0.52       0.5        0.5        0.48      ]]\n",
      "[[0.5  0.4  0.48 0.5  0.54 0.5  0.48]] [[0.54 0.5  0.5  0.5  0.48 0.48 0.4 ]]\n",
      "[[0.54 0.54 0.5  0.5  0.52 0.34]] [[0.54 0.54 0.52 0.5  0.5  0.34]]\n",
      "[[0.52 0.54 0.52 0.52 0.56 0.5 ]] [[0.56 0.54 0.52 0.52 0.52 0.5 ]]\n",
      "[[0.48 0.52 0.52 0.44 0.5  0.5  0.4 ]] [[0.52 0.52 0.5  0.5  0.48 0.44 0.4 ]]\n",
      "[[0.5  0.5  0.4  0.52 0.42]] [[0.52 0.5  0.5  0.42 0.4 ]]\n",
      "[[0.6  0.62 0.5  0.56 0.58]] [[0.62 0.6  0.58 0.56 0.5 ]]\n",
      "[[0.6  0.64 0.56 0.58]] [[0.64 0.6  0.58 0.56]]\n",
      "[[0.84 0.64 0.7  0.54 0.58]] [[0.84 0.7  0.64 0.58 0.54]]\n",
      "[[0.64 0.64 0.6  0.6  0.64 0.5  0.64]] [[0.64 0.64 0.64 0.64 0.6  0.6  0.5 ]]\n",
      "[[0.6  0.5  0.6  0.66 0.7  0.54 0.6 ]] [[0.7  0.66 0.6  0.6  0.6  0.54 0.5 ]]\n",
      "[[0.64 0.6  0.5  0.6  0.66 0.64 0.6  0.54 0.68]] [[0.68 0.66 0.64 0.64 0.6  0.6  0.6  0.54 0.5 ]]\n",
      "[[0.6  0.5  0.6  0.64 0.64 0.6 ]] [[0.64 0.64 0.6  0.6  0.6  0.5 ]]\n",
      "[[0.5  0.64 0.84 0.6  0.56 0.64 0.64]] [[0.84 0.64 0.64 0.64 0.6  0.56 0.5 ]]\n",
      "[[0.74 0.62 0.64 0.6  0.6  0.6 ]] [[0.74 0.64 0.62 0.6  0.6  0.6 ]]\n",
      "[[0.64 0.68 0.6  0.84 0.58]] [[0.84 0.68 0.64 0.6  0.58]]\n",
      "[[0.64 0.58 0.64 0.6  0.58 0.6  0.64 0.5 ]] [[0.64 0.64 0.64 0.6  0.6  0.58 0.58 0.5 ]]\n",
      "[[0.54 0.6  0.64 0.6  0.58]] [[0.64 0.6  0.6  0.58 0.54]]\n",
      "[[0.54 0.64 0.64 0.6  0.64 0.6  0.68]] [[0.68 0.64 0.64 0.64 0.6  0.6  0.54]]\n",
      "[[0.64 0.6  0.54 0.58 0.64 0.64 0.6  0.6  0.66]] [[0.66 0.64 0.64 0.64 0.6  0.6  0.6  0.58 0.54]]\n",
      "[[0.58 0.6  0.7  0.64 0.56 0.58 0.58 0.64]] [[0.7  0.64 0.64 0.6  0.58 0.58 0.58 0.56]]\n",
      "[[0.64 0.64 0.58 0.6  0.64 0.64 0.62]] [[0.64 0.64 0.64 0.64 0.62 0.6  0.58]]\n",
      "[[0.6  0.68 0.54 0.64 0.6  0.62]] [[0.68 0.64 0.62 0.6  0.6  0.54]]\n",
      "[[0.6  0.64 0.5  0.58 0.54 0.64]] [[0.64 0.64 0.6  0.58 0.54 0.5 ]]\n",
      "[[0.6  0.52 0.62 0.64]] [[0.64 0.62 0.6  0.52]]\n",
      "[[0.54 0.6  0.58 0.66 0.64 0.64 0.58]] [[0.66 0.64 0.64 0.6  0.58 0.58 0.54]]\n",
      "[[0.64 0.62 0.6  0.64 0.6  0.64 0.64 0.64]] [[0.64 0.64 0.64 0.64 0.64 0.62 0.6  0.6 ]]\n",
      "[[0.64 0.6  0.64 0.58 0.64 0.64 0.6  0.6  0.54]] [[0.64 0.64 0.64 0.64 0.6  0.6  0.6  0.58 0.54]]\n",
      "[[0.54 0.58 0.62 0.64 0.64 0.6  0.6 ]] [[0.64 0.64 0.62 0.6  0.6  0.58 0.54]]\n",
      "[[0.64 0.58 0.6  0.64 0.64]] [[0.64 0.64 0.64 0.6  0.58]]\n",
      "[[0.6  0.64 0.52 0.64 0.6  0.64]] [[0.64 0.64 0.64 0.6  0.6  0.52]]\n",
      "[[0.64 0.54 0.6  0.66 0.58 0.62 0.64 0.54]] [[0.66 0.64 0.64 0.62 0.6  0.58 0.54 0.54]]\n",
      "[[0.54 0.6  0.66 0.58 0.66]] [[0.66 0.66 0.6  0.58 0.54]]\n",
      "[[0.5  0.84 0.58 0.64 0.68 0.58 0.6 ]] [[0.84 0.68 0.64 0.6  0.58 0.58 0.5 ]]\n",
      "[[0.64 0.58 0.6  0.64 0.54 0.5 ]] [[0.64 0.64 0.6  0.58 0.54 0.5 ]]\n",
      "[[0.64 0.64 0.58 0.6  0.64 0.6  0.64]] [[0.64 0.64 0.64 0.64 0.6  0.6  0.58]]\n",
      "[[0.62 0.58 0.52 0.5  0.62]] [[0.62 0.62 0.58 0.52 0.5 ]]\n",
      "[[0.64 0.58 0.64 0.6  0.6  0.64 0.6 ]] [[0.64 0.64 0.64 0.6  0.6  0.6  0.58]]\n",
      "[[0.54 0.6  0.58 0.66 0.58 0.64 0.6 ]] [[0.66 0.64 0.6  0.6  0.58 0.58 0.54]]\n",
      "[[0.5 0.5 0.5 0.5 0.5]] [[0.5 0.5 0.5 0.5 0.5]]\n",
      "[[0.64 0.6  0.58 0.66 0.64 0.58 0.64]] [[0.66 0.64 0.64 0.64 0.6  0.58 0.58]]\n",
      "[[0.54 0.6  0.62 0.64 0.66]] [[0.66 0.64 0.62 0.6  0.54]]\n",
      "[[0.64 0.5  0.64 0.5  0.64 0.5 ]] [[0.64 0.64 0.64 0.5  0.5  0.5 ]]\n",
      "[[0.68 0.66 0.66 0.5  0.6 ]] [[0.68 0.66 0.66 0.6  0.5 ]]\n",
      "[[0.54 0.64 0.6  0.58 0.64 0.54 0.64]] [[0.64 0.64 0.64 0.6  0.58 0.54 0.54]]\n",
      "[[0.54 0.6  0.66 0.64 0.64 0.6  0.6  0.62]] [[0.66 0.64 0.64 0.62 0.6  0.6  0.6  0.54]]\n",
      "[[0.6  0.54 0.58 0.62 0.64]] [[0.64 0.62 0.6  0.58 0.54]]\n",
      "[[0.54 0.6  0.66 0.64 0.64 0.6  0.6  0.62]] [[0.66 0.64 0.64 0.62 0.6  0.6  0.6  0.54]]\n",
      "[[0.64 0.64 0.58 0.6  0.64 0.5  0.64]] [[0.64 0.64 0.64 0.64 0.6  0.58 0.5 ]]\n",
      "[[0.62 0.5  0.5  0.5 ]] [[0.62 0.5  0.5  0.5 ]]\n",
      "[[0.6  0.6  0.7  0.52 0.64]] [[0.7  0.64 0.6  0.6  0.52]]\n",
      "[[0.64 0.6  0.64 0.54 0.84 0.6  0.64 0.5 ]] [[0.84 0.64 0.64 0.64 0.6  0.6  0.54 0.5 ]]\n",
      "[[0.5  0.58 0.64 0.6 ]] [[0.64 0.6  0.58 0.5 ]]\n",
      "[[0.64 0.6  0.64 0.84 0.64 0.62 0.6 ]] [[0.84 0.64 0.64 0.64 0.62 0.6  0.6 ]]\n",
      "[[0.66 0.84 0.58 0.64 0.64 0.6 ]] [[0.84 0.66 0.64 0.64 0.6  0.58]]\n",
      "[[0.64 0.58 0.84 0.5  0.58]] [[0.84 0.64 0.58 0.58 0.5 ]]\n",
      "[[0.76 0.5 ]] [[0.76 0.5 ]]\n",
      "[[0.76       0.9        0.78       0.8        1.         0.76\n",
      "  0.46296296]] [[1.         0.9        0.8        0.78       0.76       0.76\n",
      "  0.46296296]]\n",
      "[[0.76 0.72 0.72 0.9 ]] [[0.9  0.76 0.72 0.72]]\n",
      "[[0.8  0.76 0.76 0.8  0.6 ]] [[0.8  0.8  0.76 0.76 0.6 ]]\n",
      "[[0.52       0.72       0.72       0.51724138 0.78      ]] [[0.78       0.72       0.72       0.52       0.51724138]]\n",
      "[[0.76 0.76 0.72 0.78 0.72 0.7  1.  ]] [[1.   0.78 0.76 0.76 0.72 0.72 0.7 ]]\n",
      "[[0.76 0.76 0.2  0.7 ]] [[0.76 0.76 0.7  0.2 ]]\n",
      "[[0.76 0.72 0.72 0.78 0.76]] [[0.78 0.76 0.76 0.72 0.72]]\n",
      "[[0.76 0.72 0.72]] [[0.76 0.72 0.72]]\n",
      "[[0.84 0.7  0.76 0.8  0.9  0.8 ]] [[0.9  0.84 0.8  0.8  0.76 0.7 ]]\n",
      "[[0.72 0.68 0.5 ]] [[0.72 0.68 0.5 ]]\n",
      "[[0.76 0.68 0.5  0.2 ]] [[0.76 0.68 0.5  0.2 ]]\n",
      "[[0.76 0.72 0.78 0.72 0.76]] [[0.78 0.76 0.76 0.72 0.72]]\n",
      "[[0.62 0.8  0.76 0.7  0.8 ]] [[0.8  0.8  0.76 0.7  0.62]]\n",
      "[[0.56 0.76]] [[0.76 0.56]]\n",
      "[[0.72 0.86 0.8 ]] [[0.86 0.8  0.72]]\n",
      "[[0.76 0.9  0.78 0.9  0.7  0.84 1.   0.8 ]] [[1.   0.9  0.9  0.84 0.8  0.78 0.76 0.7 ]]\n",
      "[[0.76 0.76 0.8  0.6  0.82 0.7  0.9 ]] [[0.9  0.82 0.8  0.76 0.76 0.7  0.6 ]]\n",
      "[[0.8        0.46296296 0.9        0.62       0.36666667 0.8       ]] [[0.9        0.8        0.8        0.62       0.46296296 0.36666667]]\n",
      "[[0.75 0.7  0.78 0.76 0.8  0.7 ]] [[0.8  0.78 0.76 0.75 0.7  0.7 ]]\n",
      "[[0.76 0.76 0.8  0.6  0.82 0.7  0.9 ]] [[0.9  0.82 0.8  0.76 0.76 0.7  0.6 ]]\n",
      "[[0.5 0.6 0.6 0.5]] [[0.6 0.6 0.5 0.5]]\n",
      "[[0.6 0.8]] [[0.8 0.6]]\n",
      "[[0.51724138 0.78      ]] [[0.78       0.51724138]]\n",
      "[[1.   0.76 0.7  0.2  0.8 ]] [[1.   0.8  0.76 0.7  0.2 ]]\n",
      "[[0.76 0.7  0.84 0.96]] [[0.96 0.84 0.76 0.7 ]]\n",
      "[[0.76 0.7  0.8  0.8 ]] [[0.8  0.8  0.76 0.7 ]]\n",
      "[[0.7  0.76]] [[0.76 0.7 ]]\n",
      "[[0.68 0.5  0.75 0.76 0.7  0.64 0.5 ]] [[0.76 0.75 0.7  0.68 0.64 0.5  0.5 ]]\n",
      "[[0.8  0.76 0.76 0.8  0.72]] [[0.8  0.8  0.76 0.76 0.72]]\n",
      "[[0.66 0.72 0.8 ]] [[0.8  0.72 0.66]]\n",
      "[[0.5  0.6  0.92 0.5 ]] [[0.92 0.6  0.5  0.5 ]]\n",
      "[[0.76 0.74 0.72 0.72 0.9 ]] [[0.9  0.76 0.74 0.72 0.72]]\n",
      "[[0.76 0.72 0.78 0.8  0.82]] [[0.82 0.8  0.78 0.76 0.72]]\n",
      "[[0.76 0.74 0.78 0.8  0.8 ]] [[0.8  0.8  0.78 0.76 0.74]]\n",
      "[[0.76 0.78 0.72 0.72 0.1  0.76 0.7 ]] [[0.78 0.76 0.76 0.72 0.72 0.7  0.1 ]]\n",
      "[[0.76 0.72 0.76 0.9 ]] [[0.9  0.76 0.76 0.72]]\n",
      "[[0.7  0.76 0.72 0.78]] [[0.78 0.76 0.72 0.7 ]]\n",
      "[[0.72  0.6   0.3   0.4   0.375]] [[0.72  0.6   0.4   0.375 0.3  ]]\n",
      "[[0.56 0.4  0.6  0.68]] [[0.68 0.6  0.56 0.4 ]]\n",
      "[[0.9  0.68 0.78]] [[0.9  0.78 0.68]]\n",
      "[[0.76 0.7 ]] [[0.76 0.7 ]]\n",
      "[[0.76 0.9  1.   0.8  0.54 0.7  0.9  0.66 0.6  0.8 ]] [[1.   0.9  0.9  0.8  0.8  0.76 0.7  0.66 0.6  0.54]]\n",
      "[[0.76 0.2  0.76]] [[0.76 0.76 0.2 ]]\n",
      "[[0.8  0.5  0.8  0.76]] [[0.8  0.8  0.76 0.5 ]]\n",
      "[[0.9  0.5  0.62 0.76 0.76 0.72]] [[0.9  0.76 0.76 0.72 0.62 0.5 ]]\n",
      "[[0.76 0.72 0.72 0.78 0.7 ]] [[0.78 0.76 0.72 0.72 0.7 ]]\n",
      "[[0.76 0.7  0.84]] [[0.84 0.76 0.7 ]]\n",
      "[[0.6  0.68 0.5  0.8 ]] [[0.8  0.68 0.6  0.5 ]]\n",
      "[[0.76       0.9        0.78       0.82       1.         0.76\n",
      "  0.46296296]] [[1.         0.9        0.82       0.78       0.76       0.76\n",
      "  0.46296296]]\n",
      "[[0.6  0.7  0.56]] [[0.7  0.6  0.56]]\n",
      "[[0.76 0.72]] [[0.76 0.72]]\n",
      "[[0.84 0.7  0.76 0.8 ]] [[0.84 0.8  0.76 0.7 ]]\n",
      "[[0.76 0.7 ]] [[0.76 0.7 ]]\n",
      "[[0.8 0.7]] [[0.8 0.7]]\n",
      "[[0.76 0.72 0.8  0.76 0.96 0.72]] [[0.96 0.8  0.76 0.76 0.72 0.72]]\n",
      "[[0.7  0.76 0.96 0.8 ]] [[0.96 0.8  0.76 0.7 ]]\n",
      "[[0.8  0.76 0.7  0.8 ]] [[0.8  0.8  0.76 0.7 ]]\n",
      "[[0.72 0.68 0.6  0.74]] [[0.74 0.72 0.68 0.6 ]]\n",
      "[[0.76 0.72 0.72 1.   0.6 ]] [[1.   0.76 0.72 0.72 0.6 ]]\n",
      "[[0.72       0.76       0.51724138 0.68       0.72       0.8\n",
      "  0.78       0.76      ]] [[0.8        0.78       0.76       0.76       0.72       0.72\n",
      "  0.68       0.51724138]]\n",
      "[[0.72 0.72 1.   0.6 ]] [[1.   0.72 0.72 0.6 ]]\n",
      "[[0.51724138 0.8        0.76       0.51724138]] [[0.8        0.76       0.51724138 0.51724138]]\n",
      "[[0.76 0.72 0.74 0.78 0.66 0.76]] [[0.78 0.76 0.76 0.74 0.72 0.66]]\n",
      "[[0.72       0.62       0.46296296 0.9        0.7        0.78      ]] [[0.9        0.78       0.72       0.7        0.62       0.46296296]]\n",
      "[[0.51724138 0.72       0.72       0.72       0.51724138 0.85\n",
      "  0.78      ]] [[0.85       0.78       0.72       0.72       0.72       0.51724138\n",
      "  0.51724138]]\n",
      "[[0.76 0.76 0.72 0.78 0.72 0.7  1.  ]] [[1.   0.78 0.76 0.76 0.72 0.72 0.7 ]]\n",
      "[[0.76 0.72 0.78 0.72 0.72 0.8  1.   0.6 ]] [[1.   0.8  0.78 0.76 0.72 0.72 0.72 0.6 ]]\n",
      "[[0.76 0.72 0.9  0.76 0.8 ]] [[0.9  0.8  0.76 0.76 0.72]]\n",
      "[[0.6  0.8  0.5  0.5  0.76 0.8 ]] [[0.8  0.8  0.76 0.6  0.5  0.5 ]]\n",
      "[[0.76 0.8  0.7  0.84]] [[0.84 0.8  0.76 0.7 ]]\n",
      "[[0.76 0.78 0.72 0.72 0.1  0.76 0.7 ]] [[0.78 0.76 0.76 0.72 0.72 0.7  0.1 ]]\n",
      "[[0.9  0.76 0.72]] [[0.9  0.76 0.72]]\n",
      "[[0.6 1.  0.5]] [[1.  0.6 0.5]]\n",
      "[[0.48 0.7 ]] [[0.7  0.48]]\n",
      "[[0.8 0.7 0.8]] [[0.8 0.8 0.7]]\n",
      "[[0.9 0.6]] [[0.9 0.6]]\n",
      "[[0.58 0.82]] [[0.82 0.58]]\n",
      "[[0.9  0.9  0.58 0.48 0.8 ]] [[0.9  0.9  0.8  0.58 0.48]]\n",
      "[[0.9 0.9 0.5]] [[0.9 0.9 0.5]]\n",
      "[[0.9  0.58]] [[0.9  0.58]]\n",
      "[[0.8  0.74]] [[0.8  0.74]]\n",
      "[[0.6  0.3  0.58 0.7  0.82 0.8 ]] [[0.82 0.8  0.7  0.6  0.58 0.3 ]]\n",
      "[[0.58 0.5  0.7  0.8 ]] [[0.8  0.7  0.58 0.5 ]]\n",
      "[[0.8  0.7  0.58]] [[0.8  0.7  0.58]]\n",
      "[[1.  0.5]] [[1.  0.5]]\n",
      "[[0.5 0.5 0.5]] [[0.5 0.5 0.5]]\n",
      "[[0.58 0.8  0.6  0.22 0.8  0.74 0.9 ]] [[0.9  0.8  0.8  0.74 0.6  0.58 0.22]]\n",
      "[[0.9  0.58 0.8 ]] [[0.9  0.8  0.58]]\n",
      "[[0.58 1.   1.  ]] [[1.   1.   0.58]]\n",
      "[[0.9  0.58 0.8 ]] [[0.9  0.8  0.58]]\n",
      "[[0.5 0.5]] [[0.5 0.5]]\n",
      "[[0.9  0.9  0.58 0.48 0.8 ]] [[0.9  0.9  0.8  0.58 0.48]]\n",
      "[[0.58 0.8 ]] [[0.8  0.58]]\n",
      "[[0.9  0.58]] [[0.9  0.58]]\n",
      "[[0.5 1. ]] [[1.  0.5]]\n",
      "[[0.9 0.7]] [[0.9 0.7]]\n",
      "[[0.66 0.32 0.62 0.74 0.1  0.3 ]] [[0.74 0.66 0.62 0.32 0.3  0.1 ]]\n",
      "[[0.6  0.6  0.8  0.22 0.8  0.9  0.8 ]] [[0.9  0.8  0.8  0.8  0.6  0.6  0.22]]\n",
      "[[0.6  0.54 0.7  0.58 0.76]] [[0.76 0.7  0.6  0.58 0.54]]\n",
      "[[0.6 0.6 0.6 0.6 0.6 0.9 0.8]] [[0.9 0.8 0.6 0.6 0.6 0.6 0.6]]\n",
      "[[0.74 0.9 ]] [[0.9  0.74]]\n",
      "[[0.54 0.1  0.2  0.4 ]] [[0.54 0.4  0.2  0.1 ]]\n",
      "[[1.  0.5]] [[1.  0.5]]\n",
      "[[0.54 0.1  0.2  0.4 ]] [[0.54 0.4  0.2  0.1 ]]\n",
      "[[0.9  0.9  0.5  0.58]] [[0.9  0.9  0.58 0.5 ]]\n",
      "[[0.6 0.5 0.7 0.8]] [[0.8 0.7 0.6 0.5]]\n",
      "[[0.9  0.58 0.8 ]] [[0.9  0.8  0.58]]\n",
      "[[0.9 0.3]] [[0.9 0.3]]\n",
      "[[0.6 1.  1. ]] [[1.  1.  0.6]]\n",
      "[[0.9  0.58]] [[0.9  0.58]]\n",
      "[[0.6 0.6 0.6 0.6 0.6 0.8 0.9]] [[0.9 0.8 0.6 0.6 0.6 0.6 0.6]]\n",
      "[[0.9  0.58]] [[0.9  0.58]]\n",
      "[[0.9 0.6 0.8]] [[0.9 0.8 0.6]]\n",
      "[[0.64  0.825 0.72  0.7   0.5   0.9   0.68 ]] [[0.9   0.825 0.72  0.7   0.68  0.64  0.5  ]]\n",
      "[[0.66 0.66 0.82 0.74 0.65 0.5  0.68]] [[0.82 0.74 0.68 0.66 0.66 0.65 0.5 ]]\n",
      "[[0.66  0.72  0.5   0.6   0.74  0.74  0.825 0.82 ]] [[0.825 0.82  0.74  0.74  0.72  0.66  0.6   0.5  ]]\n",
      "[[0.64 0.64 0.82 0.8  0.8  0.7 ]] [[0.82 0.8  0.8  0.7  0.64 0.64]]\n",
      "[[0.72 0.74 0.6  0.5  0.74 0.82]] [[0.82 0.74 0.74 0.72 0.6  0.5 ]]\n",
      "[[0.7  0.66 0.82 0.74 0.7  0.5  0.5 ]] [[0.82 0.74 0.7  0.7  0.66 0.5  0.5 ]]\n",
      "[[0.68  0.9   0.8   0.8   0.825 0.5   0.5   0.74 ]] [[0.9   0.825 0.8   0.8   0.74  0.68  0.5   0.5  ]]\n",
      "[[0.68  0.66  0.72  0.825 0.65  0.85  0.9  ]] [[0.9   0.85  0.825 0.72  0.68  0.66  0.65 ]]\n",
      "[[0.64  0.62  0.68  0.825 0.65  0.9   0.85  0.82 ]] [[0.9   0.85  0.825 0.82  0.68  0.65  0.64  0.62 ]]\n",
      "[[0.7  0.66 0.82 0.72 0.7  0.5  0.65]] [[0.82 0.72 0.7  0.7  0.66 0.65 0.5 ]]\n",
      "[[0.64  0.66  0.72  0.825 0.65  0.9   0.85  0.82 ]] [[0.9   0.85  0.825 0.82  0.72  0.66  0.65  0.64 ]]\n",
      "[[0.7  0.68 0.64 0.8  0.82 0.64 0.76]] [[0.82 0.8  0.76 0.7  0.68 0.64 0.64]]\n",
      "[[0.8  0.68 0.7  0.82 0.65 0.76]] [[0.82 0.8  0.76 0.7  0.68 0.65]]\n",
      "[[0.5 0.5 0.5 0.5 0.5]] [[0.5 0.5 0.5 0.5 0.5]]\n",
      "[[0.72 0.74 0.6  0.5  0.78 0.82]] [[0.82 0.78 0.74 0.72 0.6  0.5 ]]\n",
      "[[0.68 0.66 0.82 0.65 0.82 0.74 0.7 ]] [[0.82 0.82 0.74 0.7  0.68 0.66 0.65]]\n",
      "[[0.7  0.64 0.66 0.84 0.8  0.8  0.64]] [[0.84 0.8  0.8  0.7  0.66 0.64 0.64]]\n",
      "[[0.62 0.65 0.82 0.75 0.76 0.74]] [[0.82 0.76 0.75 0.74 0.65 0.62]]\n",
      "[[0.68 0.76 0.7  0.82 0.65 0.76]] [[0.82 0.76 0.76 0.7  0.68 0.65]]\n",
      "[[0.8  0.72 0.7  0.64 0.82 0.64]] [[0.82 0.8  0.72 0.7  0.64 0.64]]\n",
      "[[0.66 0.82 0.66 0.74 0.7  0.68]] [[0.82 0.74 0.7  0.68 0.66 0.66]]\n",
      "[[0.66 0.72 0.7  0.72 0.76 0.76 0.82]] [[0.82 0.76 0.76 0.72 0.72 0.7  0.66]]\n",
      "[[0.66  0.72  0.72  0.825 0.9   0.68  0.7   0.8  ]] [[0.9   0.825 0.8   0.72  0.72  0.7   0.68  0.66 ]]\n",
      "[[0.8  0.68 0.78 0.65 0.66 0.8 ]] [[0.8  0.8  0.78 0.68 0.66 0.65]]\n",
      "[[0.64  0.66  0.72  0.825 0.65  0.9   0.85 ]] [[0.9   0.85  0.825 0.72  0.66  0.65  0.64 ]]\n",
      "[[0.72 0.74]] [[0.74 0.72]]\n",
      "[[0.66 0.72 0.8  0.65 0.82]] [[0.82 0.8  0.72 0.66 0.65]]\n",
      "[[0.7  0.66 0.64 0.84 0.8  0.64 0.74]] [[0.84 0.8  0.74 0.7  0.66 0.64 0.64]]\n",
      "[[0.65 0.8  0.82 0.72 0.76 0.7  0.66]] [[0.82 0.8  0.76 0.72 0.7  0.66 0.65]]\n",
      "[[0.66 0.65 0.68 0.82 0.8 ]] [[0.82 0.8  0.68 0.66 0.65]]\n",
      "[[0.825 0.65  0.85  0.82 ]] [[0.85  0.825 0.82  0.65 ]]\n",
      "[[0.8  0.74 0.74 0.76 0.68]] [[0.8  0.76 0.74 0.74 0.68]]\n",
      "[[0.7  0.82 0.7  0.8  0.84 0.5  0.8  0.8 ]] [[0.84 0.82 0.8  0.8  0.8  0.7  0.7  0.5 ]]\n",
      "[[0.7  0.84 0.8  0.5  0.7  0.7  0.8  0.7 ]] [[0.84 0.8  0.8  0.7  0.7  0.7  0.7  0.5 ]]\n",
      "[[0.5 0.5 0.5]] [[0.5 0.5 0.5]]\n",
      "[[0.6  0.7  0.84 0.8  0.5  0.6  0.8 ]] [[0.84 0.8  0.8  0.7  0.6  0.6  0.5 ]]\n",
      "[[0.5 0.5 0.1 0.8 0.5 0.5 0.5 0.7 0.5]] [[0.8 0.7 0.5 0.5 0.5 0.5 0.5 0.5 0.1]]\n",
      "[[0.5  0.5  0.1  0.7  0.84 0.8  0.5 ]] [[0.84 0.8  0.7  0.5  0.5  0.5  0.1 ]]\n",
      "[[0.7  0.8  0.7  0.8  0.84 0.5  0.7  0.5 ]] [[0.84 0.8  0.8  0.7  0.7  0.7  0.5  0.5 ]]\n",
      "[[0.5 0.5 0.1 0.7]] [[0.7 0.5 0.5 0.1]]\n",
      "[[0.6  0.6  0.5  0.74 0.8 ]] [[0.8  0.74 0.6  0.6  0.5 ]]\n",
      "[[0.7  0.8  0.7  0.8  0.84 0.5  0.7  0.5 ]] [[0.84 0.8  0.8  0.7  0.7  0.7  0.5  0.5 ]]\n",
      "[[0.7  0.8  0.7  0.8  0.84 0.5  0.7  0.5 ]] [[0.84 0.8  0.8  0.7  0.7  0.7  0.5  0.5 ]]\n",
      "[[0.7  0.7  0.8  0.84 0.5  0.8  0.7 ]] [[0.84 0.8  0.8  0.7  0.7  0.7  0.5 ]]\n",
      "[[0.62 0.5  0.5 ]] [[0.62 0.5  0.5 ]]\n",
      "[[0.7  0.7  0.8  0.84 0.5  0.8  0.7 ]] [[0.84 0.8  0.8  0.7  0.7  0.7  0.5 ]]\n",
      "[[0.8 0.9 0.6 0.5 0.1]] [[0.9 0.8 0.6 0.5 0.1]]\n",
      "[[0.7  0.84 0.5  0.8  0.8  0.7  0.7 ]] [[0.84 0.8  0.8  0.7  0.7  0.7  0.5 ]]\n",
      "[[0.7  0.7  0.8  0.84 0.5  0.8  0.7  0.5 ]] [[0.84 0.8  0.8  0.7  0.7  0.7  0.5  0.5 ]]\n",
      "[[0.5 0.5 0.5 0.5 0.5 0.5 0.4]] [[0.5 0.5 0.5 0.5 0.5 0.5 0.4]]\n",
      "[[0.7  0.5  0.8  0.7  0.5  0.84 0.8 ]] [[0.84 0.8  0.8  0.7  0.7  0.5  0.5 ]]\n",
      "[[0.7  0.7  0.8  0.84 0.5  0.8  0.7  0.5 ]] [[0.84 0.8  0.8  0.7  0.7  0.7  0.5  0.5 ]]\n",
      "[[0.7 0.8]] [[0.8 0.7]]\n",
      "[[0.7  0.7  0.8  0.84 0.8  0.7  0.5 ]] [[0.84 0.8  0.8  0.7  0.7  0.7  0.5 ]]\n",
      "[[0.5 0.5 0.5 0.6]] [[0.6 0.5 0.5 0.5]]\n",
      "[[0.5 0.5 0.5 0.6]] [[0.6 0.5 0.5 0.5]]\n",
      "[[0.6  0.6  0.5  0.74]] [[0.74 0.6  0.6  0.5 ]]\n",
      "[[0.7  0.8  0.6  0.82 0.78]] [[0.82 0.8  0.78 0.7  0.6 ]]\n",
      "[[0.7 0.5 0.4 0.6]] [[0.7 0.6 0.5 0.4]]\n",
      "[[0.  0.8 0.7 0.6 0.6]] [[0.8 0.7 0.6 0.6 0. ]]\n",
      "[[0.8 0.9 0.6 0.5 0.1]] [[0.9 0.8 0.6 0.5 0.1]]\n",
      "[[0.4 0.6 0.8 0.7]] [[0.8 0.7 0.6 0.4]]\n",
      "[[0.8 0.5 0.5 0.5 0.4 0.6 0.5]] [[0.8 0.6 0.5 0.5 0.5 0.5 0.4]]\n",
      "[[0.7  0.7  0.8  0.84 0.5  0.8  0.7  0.5 ]] [[0.84 0.8  0.8  0.7  0.7  0.7  0.5  0.5 ]]\n",
      "[[0.5  0.5  0.1  0.7  0.84 0.8  0.5  0.5 ]] [[0.84 0.8  0.7  0.5  0.5  0.5  0.5  0.1 ]]\n",
      "[[0.5 0.5 0.5]] [[0.5 0.5 0.5]]\n",
      "[[0.84 0.8  0.5  0.7  0.7  0.8  0.8 ]] [[0.84 0.8  0.8  0.8  0.7  0.7  0.5 ]]\n",
      "[[0.7  0.7  0.8  0.84 0.5  0.8  0.7  0.5 ]] [[0.84 0.8  0.8  0.7  0.7  0.7  0.5  0.5 ]]\n",
      "[[0.6  0.5  0.6  0.74 0.8  0.7 ]] [[0.8  0.74 0.7  0.6  0.6  0.5 ]]\n",
      "[[0.7  0.7  0.5  0.84 0.8  0.7 ]] [[0.84 0.8  0.7  0.7  0.7  0.5 ]]\n",
      "[[0.7  0.84 0.8  0.5  0.8  0.7  0.8 ]] [[0.84 0.8  0.8  0.8  0.7  0.7  0.5 ]]\n",
      "[[0.7  0.8  0.7  0.8  0.84 0.5  0.7  0.5 ]] [[0.84 0.8  0.8  0.7  0.7  0.7  0.5  0.5 ]]\n",
      "[[0.7  0.8  0.7  0.8  0.84 0.5  0.7  0.5 ]] [[0.84 0.8  0.8  0.7  0.7  0.7  0.5  0.5 ]]\n",
      "[[0.7  0.84 0.8  0.5  0.7  0.8  0.7  0.8  0.7 ]] [[0.84 0.8  0.8  0.8  0.7  0.7  0.7  0.7  0.5 ]]\n",
      "[[0.7  0.8  0.84 0.5  0.7  0.5  0.8  0.6  0.8  0.75]] [[0.84 0.8  0.8  0.8  0.75 0.7  0.7  0.6  0.5  0.5 ]]\n",
      "[[0.5 0.5 0.5 0.7 0.6]] [[0.7 0.6 0.5 0.5 0.5]]\n",
      "[[0.7  0.7  0.8  0.84 0.5  0.8  0.7  0.5 ]] [[0.84 0.8  0.8  0.7  0.7  0.7  0.5  0.5 ]]\n",
      "[[0.6 0.5 0.5 0.5]] [[0.6 0.5 0.5 0.5]]\n",
      "[[0.7  0.7  0.84 0.5  0.8  0.8  0.7  0.8 ]] [[0.84 0.8  0.8  0.8  0.7  0.7  0.7  0.5 ]]\n",
      "[[0.7 0.8 0.8 0.7 1.  0.6 0.8]] [[1.  0.8 0.8 0.8 0.7 0.7 0.6]]\n",
      "[[0.7  0.7  0.8  0.84 0.5  0.8  0.7  0.5 ]] [[0.84 0.8  0.8  0.7  0.7  0.7  0.5  0.5 ]]\n",
      "[[0.7 0.8 0.7 0.8 0.6 0.5 0.7 0.5]] [[0.8 0.8 0.7 0.7 0.7 0.6 0.5 0.5]]\n",
      "[[0.5 0.6]] [[0.6 0.5]]\n",
      "[[0.5 0.5 0.1 0.7 0.6 0.8 0.5]] [[0.8 0.7 0.6 0.5 0.5 0.5 0.1]]\n",
      "[[0.7  0.6  0.8  0.5  0.7  0.7  0.72 0.8 ]] [[0.8  0.8  0.72 0.7  0.7  0.7  0.6  0.5 ]]\n",
      "[[0.6        0.56666667 0.62962963 0.3        0.7        0.63333333\n",
      "  0.31481481]] [[0.7        0.63333333 0.62962963 0.6        0.56666667 0.31481481\n",
      "  0.3       ]]\n",
      "[[0.7        0.6        0.56666667 0.56666667 0.63333333 0.76666667]] [[0.76666667 0.7        0.63333333 0.6        0.56666667 0.56666667]]\n",
      "[[0.4        0.5        0.53333333 0.53333333 0.56666667 0.5\n",
      "  0.46666667]] [[0.56666667 0.53333333 0.53333333 0.5        0.5        0.46666667\n",
      "  0.4       ]]\n",
      "[[0.53333333 0.53333333 0.5        0.5        0.56666667 0.66666667]] [[0.66666667 0.56666667 0.53333333 0.53333333 0.5        0.5       ]]\n",
      "[[0.44444444 0.52       0.33333333 0.5        0.36666667 0.53333333\n",
      "  0.5       ]] [[0.53333333 0.52       0.5        0.5        0.44444444 0.36666667\n",
      "  0.33333333]]\n",
      "[[0.35185185 0.5        0.33333333 0.5        0.66666667]] [[0.66666667 0.5        0.5        0.35185185 0.33333333]]\n",
      "[[0.62962963 0.63333333 0.53333333 0.66666667 0.6        0.63333333\n",
      "  0.56666667]] [[0.66666667 0.63333333 0.63333333 0.62962963 0.6        0.56666667\n",
      "  0.53333333]]\n",
      "[[0.6        0.56666667 0.63333333 0.6        0.63333333 0.66666667\n",
      "  0.76666667 0.56      ]] [[0.76666667 0.66666667 0.63333333 0.63333333 0.6        0.6\n",
      "  0.56666667 0.56      ]]\n",
      "[[0.6        0.6        0.5        0.53333333 0.62962963 0.4       ]] [[0.62962963 0.6        0.6        0.53333333 0.5        0.4       ]]\n",
      "[[0.66666667 0.62962963 0.53333333 0.7        0.56666667 0.66666667]] [[0.7        0.66666667 0.66666667 0.62962963 0.56666667 0.53333333]]\n",
      "[[0.6        0.63333333 0.56666667 0.63333333 0.66666667 0.76666667\n",
      "  0.6        0.62962963]] [[0.76666667 0.66666667 0.63333333 0.63333333 0.62962963 0.6\n",
      "  0.6        0.56666667]]\n",
      "[[0.6        0.56666667 0.63333333 0.56666667 0.66666667 0.6\n",
      "  0.76666667 0.66666667]] [[0.76666667 0.66666667 0.66666667 0.63333333 0.6        0.6\n",
      "  0.56666667 0.56666667]]\n",
      "[[0.66666667 0.62962963 0.53333333 0.7        0.56666667 0.6\n",
      "  0.66666667]] [[0.7        0.66666667 0.66666667 0.62962963 0.6        0.56666667\n",
      "  0.53333333]]\n",
      "[[0.66666667 0.63333333 0.5        0.43333333 0.7        0.46666667]] [[0.7        0.66666667 0.63333333 0.5        0.46666667 0.43333333]]\n",
      "[[0.6        0.56666667 0.63333333 0.6        0.56666667 0.76666667\n",
      "  0.66666667 0.57692308]] [[0.76666667 0.66666667 0.63333333 0.6        0.6        0.57692308\n",
      "  0.56666667 0.56666667]]\n",
      "[[0.4        0.53333333 0.62962963]] [[0.62962963 0.53333333 0.4       ]]\n",
      "[[0.66666667 0.6        0.63333333 0.63333333 0.56666667 0.76666667]] [[0.76666667 0.66666667 0.63333333 0.63333333 0.6        0.56666667]]\n",
      "[[0.56 0.52 0.82 0.54 0.58 0.66]] [[0.82 0.66 0.58 0.56 0.54 0.52]]\n",
      "[[0.4  0.56 0.6  0.54 0.6  0.64 0.54 0.46]] [[0.64 0.6  0.6  0.56 0.54 0.54 0.46 0.4 ]]\n",
      "[[0.56 0.6  0.6  0.58 0.6  0.74 0.55]] [[0.74 0.6  0.6  0.6  0.58 0.56 0.55]]\n",
      "[[0.56 0.4  0.46 0.56 0.6  0.54 0.66 0.46]] [[0.66 0.6  0.56 0.56 0.54 0.46 0.46 0.4 ]]\n",
      "[[0.56 0.58 0.54 0.56 0.54 0.58]] [[0.58 0.58 0.56 0.56 0.54 0.54]]\n",
      "[[0.56 0.4  0.6  0.56 0.56 0.66 0.6  0.46]] [[0.66 0.6  0.6  0.56 0.56 0.56 0.46 0.4 ]]\n",
      "[[0.56 0.56 0.6  0.54 0.58]] [[0.6  0.58 0.56 0.56 0.54]]\n",
      "[[0.58 0.48 0.5  0.56]] [[0.58 0.56 0.5  0.48]]\n",
      "[[0.5  0.64 0.6  0.48 0.6  0.54]] [[0.64 0.6  0.6  0.54 0.5  0.48]]\n",
      "[[0.56 0.4  0.54 0.56 0.62 0.6  0.56 0.6 ]] [[0.62 0.6  0.6  0.56 0.56 0.56 0.54 0.4 ]]\n",
      "[[0.6  0.62]] [[0.62 0.6 ]]\n",
      "[[0.58       0.4        0.54       0.6        0.54       0.63333333\n",
      "  0.5        0.62      ]] [[0.63333333 0.62       0.6        0.58       0.54       0.54\n",
      "  0.5        0.4       ]]\n",
      "[[0.58 0.56 0.82 0.58 0.52]] [[0.82 0.58 0.58 0.56 0.52]]\n",
      "[[0.6  0.54 0.6 ]] [[0.6  0.6  0.54]]\n",
      "[[0.5  0.56]] [[0.56 0.5 ]]\n",
      "[[0.66 0.56 0.6  0.58 0.58]] [[0.66 0.6  0.58 0.58 0.56]]\n",
      "[[0.56 0.6  0.46 0.6  0.58 0.6 ]] [[0.6  0.6  0.6  0.58 0.56 0.46]]\n",
      "[[0.6  0.54 0.6  0.58 0.56 0.6  0.64 0.48]] [[0.64 0.6  0.6  0.6  0.58 0.56 0.54 0.48]]\n",
      "[[0.5  0.6  0.54 0.55 0.56]] [[0.6  0.56 0.55 0.54 0.5 ]]\n",
      "[[0.6  0.5  0.58]] [[0.6  0.58 0.5 ]]\n",
      "[[0.62 0.64 0.56 0.48 0.62]] [[0.64 0.62 0.62 0.56 0.48]]\n",
      "[[0.56 0.7  0.46 0.6  0.58 0.74]] [[0.74 0.7  0.6  0.58 0.56 0.46]]\n",
      "[[0.2  0.62 0.6  0.56 0.56 0.6  0.6 ]] [[0.62 0.6  0.6  0.6  0.56 0.56 0.2 ]]\n",
      "[[0.42 0.4  0.5  0.5  0.5 ]] [[0.5  0.5  0.5  0.42 0.4 ]]\n",
      "[[0.56 0.54 0.4  0.6  0.6  0.58 0.6  0.6 ]] [[0.6  0.6  0.6  0.6  0.58 0.56 0.54 0.4 ]]\n",
      "[[0.54       0.63333333 0.58       0.6        0.54       0.58\n",
      "  0.58       0.4       ]] [[0.63333333 0.6        0.58       0.58       0.58       0.54\n",
      "  0.54       0.4       ]]\n",
      "[[0.58 0.5  0.56]] [[0.58 0.56 0.5 ]]\n",
      "[[0.5  0.54 0.56 0.6  0.56 0.6  0.58]] [[0.6  0.6  0.58 0.56 0.56 0.54 0.5 ]]\n",
      "[[0.6  0.58 0.6  0.62 0.62 0.56 0.6 ]] [[0.62 0.62 0.6  0.6  0.6  0.58 0.56]]\n",
      "[[0.56 0.5  0.4  0.54 0.6  0.62 0.56 0.6 ]] [[0.62 0.6  0.6  0.56 0.56 0.54 0.5  0.4 ]]\n",
      "[[0.5  0.48 0.66 0.64 0.56 0.6 ]] [[0.66 0.64 0.6  0.56 0.5  0.48]]\n",
      "[[0.62 0.56 0.62 0.58 0.56 0.58 0.46]] [[0.62 0.62 0.58 0.58 0.56 0.56 0.46]]\n",
      "[[0.5 0.5]] [[0.5 0.5]]\n",
      "[[0.6  0.6  0.5  0.56 0.56 0.6 ]] [[0.6  0.6  0.6  0.56 0.56 0.5 ]]\n",
      "[[0.6  0.42 0.44]] [[0.6  0.44 0.42]]\n",
      "[[0.64 0.6 ]] [[0.64 0.6 ]]\n",
      "[[0.4  0.6  0.54 0.56 0.58 0.54]] [[0.6  0.58 0.56 0.54 0.54 0.4 ]]\n",
      "[[0.6  0.6  0.58 0.4  0.58 0.5 ]] [[0.6  0.6  0.58 0.58 0.5  0.4 ]]\n",
      "[[0.56 0.6  0.46 0.62 0.58]] [[0.62 0.6  0.58 0.56 0.46]]\n",
      "[[0.58 0.74 0.74 0.5  0.66 0.5 ]] [[0.74 0.74 0.66 0.58 0.5  0.5 ]]\n",
      "[[0.64 0.58 0.54 0.64 0.46 0.5 ]] [[0.64 0.64 0.58 0.54 0.5  0.46]]\n",
      "[[0.4  0.62 0.6  0.54 0.54 0.56 0.58]] [[0.62 0.6  0.58 0.56 0.54 0.54 0.4 ]]\n",
      "[[0.56 0.54 0.56 0.58 0.5  0.58 0.58]] [[0.58 0.58 0.58 0.56 0.56 0.54 0.5 ]]\n",
      "[[0.4  0.6  0.6  0.54 0.56 0.56 0.56]] [[0.6  0.6  0.56 0.56 0.56 0.54 0.4 ]]\n",
      "[[0.56 0.4  0.54 0.58 0.56 0.6  0.56 0.56]] [[0.6  0.58 0.56 0.56 0.56 0.56 0.54 0.4 ]]\n",
      "[[0.5  0.58 0.54 0.6  0.6  0.6  0.56 0.64]] [[0.64 0.6  0.6  0.6  0.58 0.56 0.54 0.5 ]]\n",
      "[[0.6  0.64 0.6  0.48 0.6 ]] [[0.64 0.6  0.6  0.6  0.48]]\n",
      "[[0.6  0.56 0.58 0.58 0.58 0.58 0.46]] [[0.6  0.58 0.58 0.58 0.58 0.56 0.46]]\n",
      "[[0.6  0.6  0.46 0.6  0.58 0.74]] [[0.74 0.6  0.6  0.6  0.58 0.46]]\n",
      "[[0.58 0.4  0.54 0.58 0.56 0.62 0.56 0.56]] [[0.62 0.58 0.58 0.56 0.56 0.56 0.54 0.4 ]]\n",
      "[[0.4  0.6  0.6  0.54 0.56 0.6 ]] [[0.6  0.6  0.6  0.56 0.54 0.4 ]]\n",
      "[[0.5  0.56 0.6  0.56 0.6  0.58]] [[0.6  0.6  0.58 0.56 0.56 0.5 ]]\n",
      "[[0.66 0.64 0.5  0.6  0.6  0.58 0.52]] [[0.66 0.64 0.6  0.6  0.58 0.52 0.5 ]]\n",
      "[[0.5 0.5 0.5 0.5 0.5 0.5 0.5 0.5]] [[0.5 0.5 0.5 0.5 0.5 0.5 0.5 0.5]]\n",
      "[[0.56 0.46 0.4  0.6  0.62 0.58 0.6  0.46]] [[0.62 0.6  0.6  0.58 0.56 0.46 0.46 0.4 ]]\n",
      "[[0.54 0.54 0.56]] [[0.56 0.54 0.54]]\n",
      "[[0.5  0.5  0.62 0.6  0.56 0.58 0.52]] [[0.62 0.6  0.58 0.56 0.52 0.5  0.5 ]]\n",
      "[[0.4  0.56 0.54 0.58 0.64 0.56 0.54 0.54]] [[0.64 0.58 0.56 0.56 0.54 0.54 0.54 0.4 ]]\n",
      "[[0.8  0.6  0.64 0.48 0.82 0.7  0.7  0.82 0.8 ]] [[0.82 0.82 0.8  0.8  0.7  0.7  0.64 0.6  0.48]]\n",
      "[[0.6  0.54 0.5  0.7  0.74 0.7  0.7  0.6  0.66]] [[0.74 0.7  0.7  0.7  0.66 0.6  0.6  0.54 0.5 ]]\n",
      "[[0.8  0.48]] [[0.8  0.48]]\n",
      "[[0.4  0.68 0.6  0.5  0.62 0.78 0.35]] [[0.78 0.68 0.62 0.6  0.5  0.4  0.35]]\n",
      "[[0.68 0.78 0.48 0.7  0.68 0.9  0.8 ]] [[0.9  0.8  0.78 0.7  0.68 0.68 0.48]]\n",
      "[[0.68 0.48 0.76 0.9  0.52 0.9  0.6  0.7 ]] [[0.9  0.9  0.76 0.7  0.68 0.6  0.52 0.48]]\n",
      "[[0.66 0.48 0.76 0.9  0.68 0.9  0.6  0.7 ]] [[0.9  0.9  0.76 0.7  0.68 0.66 0.6  0.48]]\n",
      "[[0.82 0.7  0.9  0.82]] [[0.9  0.82 0.82 0.7 ]]\n",
      "[[0.5 0.8 0.5 0.8 0.7]] [[0.8 0.8 0.7 0.5 0.5]]\n",
      "[[0.5  0.7  0.72 0.6  0.82 0.62]] [[0.82 0.72 0.7  0.62 0.6  0.5 ]]\n",
      "[[0.48 0.7  0.68 0.8  0.5  0.6 ]] [[0.8  0.7  0.68 0.6  0.5  0.48]]\n",
      "[[0.48 0.68 0.68 0.8  0.5  0.6 ]] [[0.8  0.68 0.68 0.6  0.5  0.48]]\n",
      "[[0.52 0.74 0.44 0.78 0.7  0.54]] [[0.78 0.74 0.7  0.54 0.52 0.44]]\n",
      "[[0.78 0.8  0.7  0.5  0.6  0.6 ]] [[0.8  0.78 0.7  0.6  0.6  0.5 ]]\n",
      "[[0.66 0.64 0.5 ]] [[0.66 0.64 0.5 ]]\n",
      "[[0.68 0.9  0.48 0.76 0.52 0.6 ]] [[0.9  0.76 0.68 0.6  0.52 0.48]]\n",
      "[[0.48 0.5  0.8  0.7  0.78 0.6  0.82]] [[0.82 0.8  0.78 0.7  0.6  0.5  0.48]]\n",
      "[[0.74 0.6  0.8  0.66 0.74 0.65 0.7  0.9 ]] [[0.9  0.8  0.74 0.74 0.7  0.66 0.65 0.6 ]]\n",
      "[[0.5 0.5]] [[0.5 0.5]]\n",
      "[[0.82 0.8  0.8  0.8 ]] [[0.82 0.8  0.8  0.8 ]]\n",
      "[[0.8  0.48 0.82 0.7 ]] [[0.82 0.8  0.7  0.48]]\n",
      "[[0.48 0.8  0.5  0.8  0.82]] [[0.82 0.8  0.8  0.5  0.48]]\n",
      "[[0.8  0.82 0.7  0.82]] [[0.82 0.82 0.8  0.7 ]]\n",
      "[[0.82       0.74       0.56       0.7        0.9        0.83333333]] [[0.9        0.83333333 0.82       0.74       0.7        0.56      ]]\n",
      "[[0.6  0.74 0.8 ]] [[0.8  0.74 0.6 ]]\n",
      "[[0.58 0.58 0.44 0.5  0.82 0.66 0.64]] [[0.82 0.66 0.64 0.58 0.58 0.5  0.44]]\n",
      "[[0.72 0.72 0.66 0.75 0.6 ]] [[0.75 0.72 0.72 0.66 0.6 ]]\n",
      "[[0.2  0.52 0.56 0.62 0.76 0.3 ]] [[0.76 0.62 0.56 0.52 0.3  0.2 ]]\n",
      "[[0.68 0.8  0.38 0.48]] [[0.8  0.68 0.48 0.38]]\n",
      "[[0.68 0.38]] [[0.68 0.38]]\n",
      "[[0.8  0.48]] [[0.8  0.48]]\n",
      "[[0.68 0.8  0.9  0.48 0.6  0.5 ]] [[0.9  0.8  0.68 0.6  0.5  0.48]]\n",
      "[[0.54 0.6  0.68 0.52 0.8  0.6  0.82 0.82 0.7 ]] [[0.82 0.82 0.8  0.7  0.68 0.6  0.6  0.54 0.52]]\n",
      "[[0.74 0.82 0.82 0.8  0.52 0.56]] [[0.82 0.82 0.8  0.74 0.56 0.52]]\n",
      "[[0.46 0.5  0.5 ]] [[0.5  0.5  0.46]]\n",
      "[[0.7  0.74 0.68 0.5  0.9  0.82 0.66 0.66 0.72 0.78]] [[0.9  0.82 0.78 0.74 0.72 0.7  0.68 0.66 0.66 0.5 ]]\n",
      "[[0.48 0.7  0.68 0.8  0.5  0.6 ]] [[0.8  0.7  0.68 0.6  0.5  0.48]]\n",
      "[[0.68 0.5  0.36]] [[0.68 0.5  0.36]]\n",
      "[[0.5  0.52 0.8  0.6  0.82 0.7  0.82 0.68 0.56]] [[0.82 0.82 0.8  0.7  0.68 0.6  0.56 0.52 0.5 ]]\n",
      "[[0.48 0.6  0.52 0.74 0.52 0.78]] [[0.78 0.74 0.6  0.52 0.52 0.48]]\n",
      "[[0.8  0.48 0.82 0.7  0.82]] [[0.82 0.82 0.8  0.7  0.48]]\n",
      "[[0.48 0.68 0.7  0.8  0.5  0.6 ]] [[0.8  0.7  0.68 0.6  0.5  0.48]]\n",
      "[[0.48 0.8  0.5  0.8 ]] [[0.8  0.8  0.5  0.48]]\n",
      "[[0.8  0.5  0.82 0.7  0.82 0.8  0.56]] [[0.82 0.82 0.8  0.8  0.7  0.56 0.5 ]]\n",
      "[[0.82 0.7  0.9  0.74]] [[0.9  0.82 0.74 0.7 ]]\n",
      "[[0.48 0.7  0.52 0.68 0.9  0.8  0.5 ]] [[0.9  0.8  0.7  0.68 0.52 0.5  0.48]]\n",
      "[[0.62 0.34 0.5  0.62 0.36 0.58 0.6 ]] [[0.62 0.62 0.6  0.58 0.5  0.36 0.34]]\n",
      "[[0.5 0.8 0.5 0.8]] [[0.8 0.8 0.5 0.5]]\n",
      "[[0.74 0.8  0.8  0.8  0.48 0.82 0.7 ]] [[0.82 0.8  0.8  0.8  0.74 0.7  0.48]]\n",
      "[[0.68 0.38 0.7 ]] [[0.7  0.68 0.38]]\n",
      "[[0.52 0.66 0.7  0.62 0.78 0.54 0.76 0.74 0.6 ]] [[0.78 0.76 0.74 0.7  0.66 0.62 0.6  0.54 0.52]]\n",
      "[[0.7  0.58 0.64 0.74 0.76 0.78 0.76]] [[0.78 0.76 0.76 0.74 0.7  0.64 0.58]]\n",
      "[[0.72 0.62 0.7  0.78]] [[0.78 0.72 0.7  0.62]]\n",
      "[[0.76 0.7  0.48 0.74 0.74 0.74]] [[0.76 0.74 0.74 0.74 0.7  0.48]]\n",
      "[[0.76 0.76 0.72 0.78 0.7  0.5 ]] [[0.78 0.76 0.76 0.72 0.7  0.5 ]]\n",
      "[[0.7        0.62       0.64       0.74       0.66666667 0.58\n",
      "  0.5       ]] [[0.74       0.7        0.66666667 0.64       0.62       0.58\n",
      "  0.5       ]]\n",
      "[[0.76 0.7  0.74 0.72 0.78 0.78 0.82 0.72 0.62]] [[0.82 0.78 0.78 0.76 0.74 0.72 0.72 0.7  0.62]]\n",
      "[[0.76 0.74 0.76 0.7  0.7 ]] [[0.76 0.76 0.74 0.7  0.7 ]]\n",
      "[[0.74 0.62 0.58 0.42 0.68 0.74]] [[0.74 0.74 0.68 0.62 0.58 0.42]]\n",
      "[[0.7  0.76 0.56 0.74]] [[0.76 0.74 0.7  0.56]]\n",
      "[[0.62 0.76 0.76 0.7  0.5 ]] [[0.76 0.76 0.7  0.62 0.5 ]]\n",
      "[[0.76 0.76 0.74 0.62]] [[0.76 0.76 0.74 0.62]]\n",
      "[[0.76 0.76 0.72 0.76 0.52 0.78 0.5  0.48]] [[0.78 0.76 0.76 0.76 0.72 0.52 0.5  0.48]]\n",
      "[[0.7  0.78 0.66]] [[0.78 0.7  0.66]]\n",
      "[[0.7  0.58 0.64]] [[0.7  0.64 0.58]]\n",
      "[[0.52 0.26 0.74 0.42]] [[0.74 0.52 0.42 0.26]]\n",
      "[[0.8  0.74 0.58 0.62]] [[0.8  0.74 0.62 0.58]]\n",
      "[[0.66666667 0.6        0.72      ]] [[0.72       0.66666667 0.6       ]]\n",
      "[[0.76 0.7  0.74 0.78 0.68 0.78]] [[0.78 0.78 0.76 0.74 0.7  0.68]]\n",
      "[[0.7  0.48 0.68 0.68 0.78 0.62 0.5  0.74 0.62]] [[0.78 0.74 0.7  0.68 0.68 0.62 0.62 0.5  0.48]]\n",
      "[[0.24 0.56 0.72 0.48 0.8  0.5  0.44]] [[0.8  0.72 0.56 0.5  0.48 0.44 0.24]]\n",
      "[[0.5  0.7  0.74 0.34 0.58]] [[0.74 0.7  0.58 0.5  0.34]]\n",
      "[[0.76       0.74       0.66       0.7        0.7        0.66666667]] [[0.76       0.74       0.7        0.7        0.66666667 0.66      ]]\n",
      "[[0.5        0.62       0.7        0.66666667 0.5       ]] [[0.7        0.66666667 0.62       0.5        0.5       ]]\n",
      "[[0.64 0.58 0.7  0.62 0.66 0.74 0.74]] [[0.74 0.74 0.7  0.66 0.64 0.62 0.58]]\n",
      "[[0.76 0.7  0.74 0.76 0.72 0.68]] [[0.76 0.76 0.74 0.72 0.7  0.68]]\n",
      "[[0.76       0.5        0.64       0.78       0.58       0.62\n",
      "  0.7        0.66666667]] [[0.78       0.76       0.7        0.66666667 0.64       0.62\n",
      "  0.58       0.5       ]]\n",
      "[[0.5        0.7        0.64       0.62       0.66666667 0.7\n",
      "  0.78      ]] [[0.78       0.7        0.7        0.66666667 0.64       0.62\n",
      "  0.5       ]]\n",
      "[[0.42 0.5  0.46 0.5  0.38 0.42]] [[0.5  0.5  0.46 0.42 0.42 0.38]]\n",
      "[[0.76 0.7  0.5 ]] [[0.76 0.7  0.5 ]]\n"
     ]
    },
    {
     "name": "stderr",
     "output_type": "stream",
     "text": [
      "C:\\Users\\danie\\AppData\\Local\\Temp\\ipykernel_11368\\1914666279.py:1: SettingWithCopyWarning: \n",
      "A value is trying to be set on a copy of a slice from a DataFrame.\n",
      "Try using .loc[row_indexer,col_indexer] = value instead\n",
      "\n",
      "See the caveats in the documentation: https://pandas.pydata.org/pandas-docs/stable/user_guide/indexing.html#returning-a-view-versus-a-copy\n",
      "  df['Stances_NDCG'] = df['Features_Raw'].apply(lambda x: transform_stances(x, method=ndcg))\n"
     ]
    }
   ],
   "source": [
    "df['Stances_NDCG'] = df['Features_Raw'].apply(lambda x: transform_stances(x, method=ndcg))"
   ]
  },
  {
   "cell_type": "code",
   "execution_count": 34,
   "metadata": {},
   "outputs": [
    {
     "data": {
      "text/plain": [
       "count    456.000000\n",
       "mean       0.960736\n",
       "std        0.034855\n",
       "min        0.745418\n",
       "25%        0.943129\n",
       "50%        0.965241\n",
       "75%        0.987811\n",
       "max        1.000000\n",
       "Name: Stances_NDCG, dtype: float64"
      ]
     },
     "execution_count": 34,
     "metadata": {},
     "output_type": "execute_result"
    }
   ],
   "source": [
    "df['Stances_NDCG'].describe()"
   ]
  },
  {
   "cell_type": "code",
   "execution_count": 35,
   "metadata": {},
   "outputs": [
    {
     "data": {
      "text/html": [
       "<div>\n",
       "<style scoped>\n",
       "    .dataframe tbody tr th:only-of-type {\n",
       "        vertical-align: middle;\n",
       "    }\n",
       "\n",
       "    .dataframe tbody tr th {\n",
       "        vertical-align: top;\n",
       "    }\n",
       "\n",
       "    .dataframe thead th {\n",
       "        text-align: right;\n",
       "    }\n",
       "</style>\n",
       "<table border=\"1\" class=\"dataframe\">\n",
       "  <thead>\n",
       "    <tr style=\"text-align: right;\">\n",
       "      <th></th>\n",
       "      <th>count</th>\n",
       "      <th>mean</th>\n",
       "      <th>std</th>\n",
       "      <th>min</th>\n",
       "      <th>25%</th>\n",
       "      <th>50%</th>\n",
       "      <th>75%</th>\n",
       "      <th>max</th>\n",
       "    </tr>\n",
       "    <tr>\n",
       "      <th>Category</th>\n",
       "      <th></th>\n",
       "      <th></th>\n",
       "      <th></th>\n",
       "      <th></th>\n",
       "      <th></th>\n",
       "      <th></th>\n",
       "      <th></th>\n",
       "      <th></th>\n",
       "    </tr>\n",
       "  </thead>\n",
       "  <tbody>\n",
       "    <tr>\n",
       "      <th>Misl</th>\n",
       "      <td>70.0</td>\n",
       "      <td>0.959544</td>\n",
       "      <td>0.039809</td>\n",
       "      <td>0.826093</td>\n",
       "      <td>0.943218</td>\n",
       "      <td>0.964823</td>\n",
       "      <td>0.988265</td>\n",
       "      <td>1.0</td>\n",
       "    </tr>\n",
       "    <tr>\n",
       "      <th>True</th>\n",
       "      <td>386.0</td>\n",
       "      <td>0.960952</td>\n",
       "      <td>0.033933</td>\n",
       "      <td>0.745418</td>\n",
       "      <td>0.943222</td>\n",
       "      <td>0.965276</td>\n",
       "      <td>0.987720</td>\n",
       "      <td>1.0</td>\n",
       "    </tr>\n",
       "  </tbody>\n",
       "</table>\n",
       "</div>"
      ],
      "text/plain": [
       "          count      mean       std       min       25%       50%       75%  \\\n",
       "Category                                                                      \n",
       "Misl       70.0  0.959544  0.039809  0.826093  0.943218  0.964823  0.988265   \n",
       "True      386.0  0.960952  0.033933  0.745418  0.943222  0.965276  0.987720   \n",
       "\n",
       "          max  \n",
       "Category       \n",
       "Misl      1.0  \n",
       "True      1.0  "
      ]
     },
     "execution_count": 35,
     "metadata": {},
     "output_type": "execute_result"
    }
   ],
   "source": [
    "df.groupby('Category')['Stances_NDCG'].describe()"
   ]
  },
  {
   "cell_type": "code",
   "execution_count": 36,
   "metadata": {},
   "outputs": [
    {
     "data": {
      "text/html": [
       "<div>\n",
       "<style scoped>\n",
       "    .dataframe tbody tr th:only-of-type {\n",
       "        vertical-align: middle;\n",
       "    }\n",
       "\n",
       "    .dataframe tbody tr th {\n",
       "        vertical-align: top;\n",
       "    }\n",
       "\n",
       "    .dataframe thead th {\n",
       "        text-align: right;\n",
       "    }\n",
       "</style>\n",
       "<table border=\"1\" class=\"dataframe\">\n",
       "  <thead>\n",
       "    <tr style=\"text-align: right;\">\n",
       "      <th></th>\n",
       "      <th>count</th>\n",
       "      <th>mean</th>\n",
       "      <th>std</th>\n",
       "      <th>min</th>\n",
       "      <th>25%</th>\n",
       "      <th>50%</th>\n",
       "      <th>75%</th>\n",
       "      <th>max</th>\n",
       "    </tr>\n",
       "    <tr>\n",
       "      <th>num_valid_articles</th>\n",
       "      <th></th>\n",
       "      <th></th>\n",
       "      <th></th>\n",
       "      <th></th>\n",
       "      <th></th>\n",
       "      <th></th>\n",
       "      <th></th>\n",
       "      <th></th>\n",
       "    </tr>\n",
       "  </thead>\n",
       "  <tbody>\n",
       "    <tr>\n",
       "      <th>1</th>\n",
       "      <td>0.0</td>\n",
       "      <td>NaN</td>\n",
       "      <td>NaN</td>\n",
       "      <td>NaN</td>\n",
       "      <td>NaN</td>\n",
       "      <td>NaN</td>\n",
       "      <td>NaN</td>\n",
       "      <td>NaN</td>\n",
       "    </tr>\n",
       "    <tr>\n",
       "      <th>2</th>\n",
       "      <td>39.0</td>\n",
       "      <td>0.980700</td>\n",
       "      <td>0.033867</td>\n",
       "      <td>0.859719</td>\n",
       "      <td>0.972491</td>\n",
       "      <td>1.000000</td>\n",
       "      <td>1.000000</td>\n",
       "      <td>1.000000</td>\n",
       "    </tr>\n",
       "    <tr>\n",
       "      <th>3</th>\n",
       "      <td>44.0</td>\n",
       "      <td>0.976619</td>\n",
       "      <td>0.030041</td>\n",
       "      <td>0.868115</td>\n",
       "      <td>0.972459</td>\n",
       "      <td>0.984740</td>\n",
       "      <td>1.000000</td>\n",
       "      <td>1.000000</td>\n",
       "    </tr>\n",
       "    <tr>\n",
       "      <th>4</th>\n",
       "      <td>60.0</td>\n",
       "      <td>0.962145</td>\n",
       "      <td>0.034150</td>\n",
       "      <td>0.863535</td>\n",
       "      <td>0.940694</td>\n",
       "      <td>0.971445</td>\n",
       "      <td>0.988751</td>\n",
       "      <td>1.000000</td>\n",
       "    </tr>\n",
       "    <tr>\n",
       "      <th>5</th>\n",
       "      <td>65.0</td>\n",
       "      <td>0.962944</td>\n",
       "      <td>0.040516</td>\n",
       "      <td>0.745418</td>\n",
       "      <td>0.943703</td>\n",
       "      <td>0.975750</td>\n",
       "      <td>0.989067</td>\n",
       "      <td>1.000000</td>\n",
       "    </tr>\n",
       "    <tr>\n",
       "      <th>6</th>\n",
       "      <td>80.0</td>\n",
       "      <td>0.959116</td>\n",
       "      <td>0.032461</td>\n",
       "      <td>0.801103</td>\n",
       "      <td>0.947040</td>\n",
       "      <td>0.964659</td>\n",
       "      <td>0.981445</td>\n",
       "      <td>0.998908</td>\n",
       "    </tr>\n",
       "    <tr>\n",
       "      <th>7</th>\n",
       "      <td>94.0</td>\n",
       "      <td>0.950232</td>\n",
       "      <td>0.035982</td>\n",
       "      <td>0.826093</td>\n",
       "      <td>0.933645</td>\n",
       "      <td>0.956764</td>\n",
       "      <td>0.976518</td>\n",
       "      <td>1.000000</td>\n",
       "    </tr>\n",
       "    <tr>\n",
       "      <th>8</th>\n",
       "      <td>58.0</td>\n",
       "      <td>0.954075</td>\n",
       "      <td>0.025151</td>\n",
       "      <td>0.844099</td>\n",
       "      <td>0.945367</td>\n",
       "      <td>0.959866</td>\n",
       "      <td>0.965097</td>\n",
       "      <td>1.000000</td>\n",
       "    </tr>\n",
       "    <tr>\n",
       "      <th>9</th>\n",
       "      <td>13.0</td>\n",
       "      <td>0.947915</td>\n",
       "      <td>0.034070</td>\n",
       "      <td>0.890233</td>\n",
       "      <td>0.925320</td>\n",
       "      <td>0.952583</td>\n",
       "      <td>0.978837</td>\n",
       "      <td>0.988966</td>\n",
       "    </tr>\n",
       "    <tr>\n",
       "      <th>10</th>\n",
       "      <td>3.0</td>\n",
       "      <td>0.948914</td>\n",
       "      <td>0.006288</td>\n",
       "      <td>0.942107</td>\n",
       "      <td>0.946119</td>\n",
       "      <td>0.950131</td>\n",
       "      <td>0.952318</td>\n",
       "      <td>0.954504</td>\n",
       "    </tr>\n",
       "  </tbody>\n",
       "</table>\n",
       "</div>"
      ],
      "text/plain": [
       "                    count      mean       std       min       25%       50%  \\\n",
       "num_valid_articles                                                            \n",
       "1                     0.0       NaN       NaN       NaN       NaN       NaN   \n",
       "2                    39.0  0.980700  0.033867  0.859719  0.972491  1.000000   \n",
       "3                    44.0  0.976619  0.030041  0.868115  0.972459  0.984740   \n",
       "4                    60.0  0.962145  0.034150  0.863535  0.940694  0.971445   \n",
       "5                    65.0  0.962944  0.040516  0.745418  0.943703  0.975750   \n",
       "6                    80.0  0.959116  0.032461  0.801103  0.947040  0.964659   \n",
       "7                    94.0  0.950232  0.035982  0.826093  0.933645  0.956764   \n",
       "8                    58.0  0.954075  0.025151  0.844099  0.945367  0.959866   \n",
       "9                    13.0  0.947915  0.034070  0.890233  0.925320  0.952583   \n",
       "10                    3.0  0.948914  0.006288  0.942107  0.946119  0.950131   \n",
       "\n",
       "                         75%       max  \n",
       "num_valid_articles                      \n",
       "1                        NaN       NaN  \n",
       "2                   1.000000  1.000000  \n",
       "3                   1.000000  1.000000  \n",
       "4                   0.988751  1.000000  \n",
       "5                   0.989067  1.000000  \n",
       "6                   0.981445  0.998908  \n",
       "7                   0.976518  1.000000  \n",
       "8                   0.965097  1.000000  \n",
       "9                   0.978837  0.988966  \n",
       "10                  0.952318  0.954504  "
      ]
     },
     "execution_count": 36,
     "metadata": {},
     "output_type": "execute_result"
    }
   ],
   "source": [
    "df.groupby('num_valid_articles')['Stances_NDCG'].describe()"
   ]
  },
  {
   "cell_type": "code",
   "execution_count": 37,
   "metadata": {},
   "outputs": [
    {
     "name": "stderr",
     "output_type": "stream",
     "text": [
      "C:\\Users\\danie\\AppData\\Local\\Temp\\ipykernel_11368\\876285696.py:4: FutureWarning: \n",
      "\n",
      "Passing `palette` without assigning `hue` is deprecated and will be removed in v0.14.0. Assign the `x` variable to `hue` and set `legend=False` for the same effect.\n",
      "\n",
      "  sns.boxplot(data=df, x='num_valid_articles', y='Stances_NDCG', palette=seaborn_palette)\n"
     ]
    },
    {
     "data": {
      "text/plain": [
       "Text(0, 0.5, 'Stances Mean')"
      ]
     },
     "execution_count": 37,
     "metadata": {},
     "output_type": "execute_result"
    },
    {
     "data": {
      "image/png": "[encoded data removed]",
      "text/plain": [
       "<Figure size 640x480 with 1 Axes>"
      ]
     },
     "metadata": {},
     "output_type": "display_data"
    }
   ],
   "source": [
    "import matplotlib.pyplot as plt\n",
    "import seaborn as sns\n",
    "\n",
    "sns.boxplot(data=df, x='num_valid_articles', y='Stances_NDCG', palette=seaborn_palette)\n",
    "plt.title('Boxplot of Stances NDCG by Number of SERP Articles')\n",
    "plt.xlabel('User Label')\n",
    "plt.ylabel('Stances Mean')"
   ]
  },
  {
   "cell_type": "markdown",
   "metadata": {},
   "source": [
    "### First vs. Last SERP Position"
   ]
  },
  {
   "cell_type": "code",
   "execution_count": 38,
   "metadata": {},
   "outputs": [],
   "source": [
    "def retrieve_serp_results(feat_dict, position=1):\n",
    "    if pd.isna(feat_dict):\n",
    "        return np.nan\n",
    "    \n",
    "    stance_list = feat_dict['article_stances']\n",
    "    serp_positions = feat_dict['article_serp_positions']\n",
    "    \n",
    "    if isinstance(position, list):\n",
    "        results = [np.mean(stance_list[serp_positions.index(pos)]) for pos in position if pos in serp_positions]\n",
    "        return np.nan if not results else np.mean(results)\n",
    "    elif position in serp_positions:\n",
    "        return np.mean(stance_list[serp_positions.index(position)])\n",
    "    \n",
    "    return np.nan"
   ]
  },
  {
   "cell_type": "code",
   "execution_count": 39,
   "metadata": {},
   "outputs": [
    {
     "name": "stderr",
     "output_type": "stream",
     "text": [
      "C:\\Users\\danie\\AppData\\Local\\Temp\\ipykernel_11368\\2326893941.py:1: SettingWithCopyWarning: \n",
      "A value is trying to be set on a copy of a slice from a DataFrame.\n",
      "Try using .loc[row_indexer,col_indexer] = value instead\n",
      "\n",
      "See the caveats in the documentation: https://pandas.pydata.org/pandas-docs/stable/user_guide/indexing.html#returning-a-view-versus-a-copy\n",
      "  df['Stances_First'] = df['Features_Raw'].apply(lambda x: retrieve_serp_results(x, position=[1]))\n",
      "C:\\Users\\danie\\AppData\\Local\\Temp\\ipykernel_11368\\2326893941.py:2: SettingWithCopyWarning: \n",
      "A value is trying to be set on a copy of a slice from a DataFrame.\n",
      "Try using .loc[row_indexer,col_indexer] = value instead\n",
      "\n",
      "See the caveats in the documentation: https://pandas.pydata.org/pandas-docs/stable/user_guide/indexing.html#returning-a-view-versus-a-copy\n",
      "  df['Stances_Last'] = df['Features_Raw'].apply(lambda x: retrieve_serp_results(x, position=[10]))\n"
     ]
    }
   ],
   "source": [
    "df['Stances_First'] = df['Features_Raw'].apply(lambda x: retrieve_serp_results(x, position=[1]))\n",
    "df['Stances_Last'] = df['Features_Raw'].apply(lambda x: retrieve_serp_results(x, position=[10]))"
   ]
  },
  {
   "cell_type": "code",
   "execution_count": 40,
   "metadata": {},
   "outputs": [
    {
     "data": {
      "text/plain": [
       "count    257.000000\n",
       "mean       0.244647\n",
       "std        0.246391\n",
       "min       -1.000000\n",
       "25%        0.080000\n",
       "50%        0.280000\n",
       "75%        0.400000\n",
       "max        1.000000\n",
       "Name: Stances_First, dtype: float64"
      ]
     },
     "execution_count": 40,
     "metadata": {},
     "output_type": "execute_result"
    }
   ],
   "source": [
    "df['Stances_First'].describe()"
   ]
  },
  {
   "cell_type": "code",
   "execution_count": 41,
   "metadata": {},
   "outputs": [
    {
     "data": {
      "text/plain": [
       "count    229.000000\n",
       "mean       0.242052\n",
       "std        0.274279\n",
       "min       -0.600000\n",
       "25%        0.000000\n",
       "50%        0.200000\n",
       "75%        0.440000\n",
       "max        1.000000\n",
       "Name: Stances_Last, dtype: float64"
      ]
     },
     "execution_count": 41,
     "metadata": {},
     "output_type": "execute_result"
    }
   ],
   "source": [
    "df['Stances_Last'].describe()"
   ]
  },
  {
   "cell_type": "code",
   "execution_count": 42,
   "metadata": {},
   "outputs": [
    {
     "data": {
      "text/html": [
       "<div>\n",
       "<style scoped>\n",
       "    .dataframe tbody tr th:only-of-type {\n",
       "        vertical-align: middle;\n",
       "    }\n",
       "\n",
       "    .dataframe tbody tr th {\n",
       "        vertical-align: top;\n",
       "    }\n",
       "\n",
       "    .dataframe thead th {\n",
       "        text-align: right;\n",
       "    }\n",
       "</style>\n",
       "<table border=\"1\" class=\"dataframe\">\n",
       "  <thead>\n",
       "    <tr style=\"text-align: right;\">\n",
       "      <th></th>\n",
       "      <th>W</th>\n",
       "      <th>pval</th>\n",
       "      <th>normal</th>\n",
       "    </tr>\n",
       "  </thead>\n",
       "  <tbody>\n",
       "    <tr>\n",
       "      <th>Stances_First</th>\n",
       "      <td>0.969339</td>\n",
       "      <td>0.000025</td>\n",
       "      <td>False</td>\n",
       "    </tr>\n",
       "  </tbody>\n",
       "</table>\n",
       "</div>"
      ],
      "text/plain": [
       "                      W      pval  normal\n",
       "Stances_First  0.969339  0.000025   False"
      ]
     },
     "execution_count": 42,
     "metadata": {},
     "output_type": "execute_result"
    }
   ],
   "source": [
    "pg.normality(data=df['Stances_First']) #not normally distributed\n",
    "# pg.mwu(x=df.loc[df['Category'] == 'Misl', 'avg_score'],\n",
    "#                 y=df.loc[df['Category'] == 'True', 'avg_score'],\n",
    "#                 alternative='greater') #Mann-Whitney U (testing if Misl (Group 1) is higher than True (Group 2) -> differences statistically significant, but with a small effect size (RBC < 0.3)"
   ]
  },
  {
   "cell_type": "code",
   "execution_count": 43,
   "metadata": {},
   "outputs": [
    {
     "data": {
      "text/html": [
       "<div>\n",
       "<style scoped>\n",
       "    .dataframe tbody tr th:only-of-type {\n",
       "        vertical-align: middle;\n",
       "    }\n",
       "\n",
       "    .dataframe tbody tr th {\n",
       "        vertical-align: top;\n",
       "    }\n",
       "\n",
       "    .dataframe thead th {\n",
       "        text-align: right;\n",
       "    }\n",
       "</style>\n",
       "<table border=\"1\" class=\"dataframe\">\n",
       "  <thead>\n",
       "    <tr style=\"text-align: right;\">\n",
       "      <th></th>\n",
       "      <th>W</th>\n",
       "      <th>pval</th>\n",
       "      <th>normal</th>\n",
       "    </tr>\n",
       "  </thead>\n",
       "  <tbody>\n",
       "    <tr>\n",
       "      <th>Stances_Last</th>\n",
       "      <td>0.977072</td>\n",
       "      <td>0.000896</td>\n",
       "      <td>False</td>\n",
       "    </tr>\n",
       "  </tbody>\n",
       "</table>\n",
       "</div>"
      ],
      "text/plain": [
       "                     W      pval  normal\n",
       "Stances_Last  0.977072  0.000896   False"
      ]
     },
     "execution_count": 43,
     "metadata": {},
     "output_type": "execute_result"
    }
   ],
   "source": [
    "pg.normality(data=df['Stances_Last']) #not normally distributed"
   ]
  },
  {
   "cell_type": "code",
   "execution_count": 44,
   "metadata": {},
   "outputs": [],
   "source": [
    "#comparing last vs first against each other (not considering category)"
   ]
  },
  {
   "cell_type": "code",
   "execution_count": 45,
   "metadata": {},
   "outputs": [
    {
     "data": {
      "text/html": [
       "<div>\n",
       "<style scoped>\n",
       "    .dataframe tbody tr th:only-of-type {\n",
       "        vertical-align: middle;\n",
       "    }\n",
       "\n",
       "    .dataframe tbody tr th {\n",
       "        vertical-align: top;\n",
       "    }\n",
       "\n",
       "    .dataframe thead th {\n",
       "        text-align: right;\n",
       "    }\n",
       "</style>\n",
       "<table border=\"1\" class=\"dataframe\">\n",
       "  <thead>\n",
       "    <tr style=\"text-align: right;\">\n",
       "      <th></th>\n",
       "      <th>U-val</th>\n",
       "      <th>alternative</th>\n",
       "      <th>p-val</th>\n",
       "      <th>RBC</th>\n",
       "      <th>CLES</th>\n",
       "    </tr>\n",
       "  </thead>\n",
       "  <tbody>\n",
       "    <tr>\n",
       "      <th>MWU</th>\n",
       "      <td>30377.0</td>\n",
       "      <td>greater</td>\n",
       "      <td>0.268885</td>\n",
       "      <td>0.032301</td>\n",
       "      <td>0.51615</td>\n",
       "    </tr>\n",
       "  </tbody>\n",
       "</table>\n",
       "</div>"
      ],
      "text/plain": [
       "       U-val alternative     p-val       RBC     CLES\n",
       "MWU  30377.0     greater  0.268885  0.032301  0.51615"
      ]
     },
     "execution_count": 45,
     "metadata": {},
     "output_type": "execute_result"
    }
   ],
   "source": [
    "pg.mwu(x=df['Stances_First'],\n",
    "        y=df['Stances_Last'],\n",
    "        alternative='greater') #Mann-Whitney U (testing if Misl (Group 1) is higher than True (Group 2) -> differences statistically significant, but with a small effect size (RBC < 0.3)"
   ]
  },
  {
   "cell_type": "code",
   "execution_count": 46,
   "metadata": {},
   "outputs": [
    {
     "data": {
      "text/html": [
       "<div>\n",
       "<style scoped>\n",
       "    .dataframe tbody tr th:only-of-type {\n",
       "        vertical-align: middle;\n",
       "    }\n",
       "\n",
       "    .dataframe tbody tr th {\n",
       "        vertical-align: top;\n",
       "    }\n",
       "\n",
       "    .dataframe thead th {\n",
       "        text-align: right;\n",
       "    }\n",
       "</style>\n",
       "<table border=\"1\" class=\"dataframe\">\n",
       "  <thead>\n",
       "    <tr style=\"text-align: right;\">\n",
       "      <th></th>\n",
       "      <th>count</th>\n",
       "      <th>mean</th>\n",
       "      <th>std</th>\n",
       "      <th>min</th>\n",
       "      <th>25%</th>\n",
       "      <th>50%</th>\n",
       "      <th>75%</th>\n",
       "      <th>max</th>\n",
       "    </tr>\n",
       "    <tr>\n",
       "      <th>Category</th>\n",
       "      <th></th>\n",
       "      <th></th>\n",
       "      <th></th>\n",
       "      <th></th>\n",
       "      <th></th>\n",
       "      <th></th>\n",
       "      <th></th>\n",
       "      <th></th>\n",
       "    </tr>\n",
       "  </thead>\n",
       "  <tbody>\n",
       "    <tr>\n",
       "      <th>Misl</th>\n",
       "      <td>39.0</td>\n",
       "      <td>0.172308</td>\n",
       "      <td>0.275016</td>\n",
       "      <td>-0.52</td>\n",
       "      <td>0.00</td>\n",
       "      <td>0.12</td>\n",
       "      <td>0.4</td>\n",
       "      <td>0.6</td>\n",
       "    </tr>\n",
       "    <tr>\n",
       "      <th>True</th>\n",
       "      <td>218.0</td>\n",
       "      <td>0.257588</td>\n",
       "      <td>0.239303</td>\n",
       "      <td>-1.00</td>\n",
       "      <td>0.08</td>\n",
       "      <td>0.28</td>\n",
       "      <td>0.4</td>\n",
       "      <td>1.0</td>\n",
       "    </tr>\n",
       "  </tbody>\n",
       "</table>\n",
       "</div>"
      ],
      "text/plain": [
       "          count      mean       std   min   25%   50%  75%  max\n",
       "Category                                                       \n",
       "Misl       39.0  0.172308  0.275016 -0.52  0.00  0.12  0.4  0.6\n",
       "True      218.0  0.257588  0.239303 -1.00  0.08  0.28  0.4  1.0"
      ]
     },
     "execution_count": 46,
     "metadata": {},
     "output_type": "execute_result"
    }
   ],
   "source": [
    "df.groupby('Category')['Stances_First'].describe()"
   ]
  },
  {
   "cell_type": "code",
   "execution_count": 47,
   "metadata": {},
   "outputs": [
    {
     "data": {
      "text/html": [
       "<div>\n",
       "<style scoped>\n",
       "    .dataframe tbody tr th:only-of-type {\n",
       "        vertical-align: middle;\n",
       "    }\n",
       "\n",
       "    .dataframe tbody tr th {\n",
       "        vertical-align: top;\n",
       "    }\n",
       "\n",
       "    .dataframe thead th {\n",
       "        text-align: right;\n",
       "    }\n",
       "</style>\n",
       "<table border=\"1\" class=\"dataframe\">\n",
       "  <thead>\n",
       "    <tr style=\"text-align: right;\">\n",
       "      <th></th>\n",
       "      <th>W</th>\n",
       "      <th>pval</th>\n",
       "      <th>normal</th>\n",
       "    </tr>\n",
       "    <tr>\n",
       "      <th>Category</th>\n",
       "      <th></th>\n",
       "      <th></th>\n",
       "      <th></th>\n",
       "    </tr>\n",
       "  </thead>\n",
       "  <tbody>\n",
       "    <tr>\n",
       "      <th>Misl</th>\n",
       "      <td>0.958923</td>\n",
       "      <td>0.164148</td>\n",
       "      <td>True</td>\n",
       "    </tr>\n",
       "    <tr>\n",
       "      <th>True</th>\n",
       "      <td>0.962797</td>\n",
       "      <td>0.000018</td>\n",
       "      <td>False</td>\n",
       "    </tr>\n",
       "  </tbody>\n",
       "</table>\n",
       "</div>"
      ],
      "text/plain": [
       "                 W      pval  normal\n",
       "Category                            \n",
       "Misl      0.958923  0.164148    True\n",
       "True      0.962797  0.000018   False"
      ]
     },
     "execution_count": 47,
     "metadata": {},
     "output_type": "execute_result"
    }
   ],
   "source": [
    "pg.normality(data=df, dv='Stances_First', group='Category') #not normally distributed\n",
    "# pg.mwu(x=df.loc[df['Category'] == 'Misl', 'Stances_First'],\n",
    "#                 y=df.loc[df['Category'] == 'True', 'Stances_First'],\n",
    "#                 alternative='less') #Mann-Whitney U (testing if Misl (Group 1) is higher than True (Group 2) -> differences statistically significant, but with a small effect size (RBC < 0.3)"
   ]
  },
  {
   "cell_type": "code",
   "execution_count": 48,
   "metadata": {},
   "outputs": [
    {
     "data": {
      "text/html": [
       "<div>\n",
       "<style scoped>\n",
       "    .dataframe tbody tr th:only-of-type {\n",
       "        vertical-align: middle;\n",
       "    }\n",
       "\n",
       "    .dataframe tbody tr th {\n",
       "        vertical-align: top;\n",
       "    }\n",
       "\n",
       "    .dataframe thead th {\n",
       "        text-align: right;\n",
       "    }\n",
       "</style>\n",
       "<table border=\"1\" class=\"dataframe\">\n",
       "  <thead>\n",
       "    <tr style=\"text-align: right;\">\n",
       "      <th></th>\n",
       "      <th>count</th>\n",
       "      <th>mean</th>\n",
       "      <th>std</th>\n",
       "      <th>min</th>\n",
       "      <th>25%</th>\n",
       "      <th>50%</th>\n",
       "      <th>75%</th>\n",
       "      <th>max</th>\n",
       "    </tr>\n",
       "    <tr>\n",
       "      <th>Category</th>\n",
       "      <th></th>\n",
       "      <th></th>\n",
       "      <th></th>\n",
       "      <th></th>\n",
       "      <th></th>\n",
       "      <th></th>\n",
       "      <th></th>\n",
       "      <th></th>\n",
       "    </tr>\n",
       "  </thead>\n",
       "  <tbody>\n",
       "    <tr>\n",
       "      <th>Misl</th>\n",
       "      <td>36.0</td>\n",
       "      <td>0.156667</td>\n",
       "      <td>0.233116</td>\n",
       "      <td>-0.2</td>\n",
       "      <td>0.0</td>\n",
       "      <td>0.14</td>\n",
       "      <td>0.24</td>\n",
       "      <td>0.6</td>\n",
       "    </tr>\n",
       "    <tr>\n",
       "      <th>True</th>\n",
       "      <td>193.0</td>\n",
       "      <td>0.257978</td>\n",
       "      <td>0.278938</td>\n",
       "      <td>-0.6</td>\n",
       "      <td>0.0</td>\n",
       "      <td>0.24</td>\n",
       "      <td>0.48</td>\n",
       "      <td>1.0</td>\n",
       "    </tr>\n",
       "  </tbody>\n",
       "</table>\n",
       "</div>"
      ],
      "text/plain": [
       "          count      mean       std  min  25%   50%   75%  max\n",
       "Category                                                      \n",
       "Misl       36.0  0.156667  0.233116 -0.2  0.0  0.14  0.24  0.6\n",
       "True      193.0  0.257978  0.278938 -0.6  0.0  0.24  0.48  1.0"
      ]
     },
     "execution_count": 48,
     "metadata": {},
     "output_type": "execute_result"
    }
   ],
   "source": [
    "df.groupby('Category')['Stances_Last'].describe()"
   ]
  },
  {
   "cell_type": "code",
   "execution_count": 49,
   "metadata": {},
   "outputs": [
    {
     "data": {
      "text/html": [
       "<div>\n",
       "<style scoped>\n",
       "    .dataframe tbody tr th:only-of-type {\n",
       "        vertical-align: middle;\n",
       "    }\n",
       "\n",
       "    .dataframe tbody tr th {\n",
       "        vertical-align: top;\n",
       "    }\n",
       "\n",
       "    .dataframe thead th {\n",
       "        text-align: right;\n",
       "    }\n",
       "</style>\n",
       "<table border=\"1\" class=\"dataframe\">\n",
       "  <thead>\n",
       "    <tr style=\"text-align: right;\">\n",
       "      <th></th>\n",
       "      <th>U-val</th>\n",
       "      <th>alternative</th>\n",
       "      <th>p-val</th>\n",
       "      <th>RBC</th>\n",
       "      <th>CLES</th>\n",
       "    </tr>\n",
       "  </thead>\n",
       "  <tbody>\n",
       "    <tr>\n",
       "      <th>MWU</th>\n",
       "      <td>2661.5</td>\n",
       "      <td>less</td>\n",
       "      <td>0.012761</td>\n",
       "      <td>-0.23388</td>\n",
       "      <td>0.61694</td>\n",
       "    </tr>\n",
       "  </tbody>\n",
       "</table>\n",
       "</div>"
      ],
      "text/plain": [
       "      U-val alternative     p-val      RBC     CLES\n",
       "MWU  2661.5        less  0.012761 -0.23388  0.61694"
      ]
     },
     "execution_count": 49,
     "metadata": {},
     "output_type": "execute_result"
    }
   ],
   "source": [
    "pg.normality(data=df, dv='Stances_Last', group='Category') #not normally distributed\n",
    "pg.mwu(x=df.loc[df['Category'] == 'Misl', 'Stances_Last'],\n",
    "                y=df.loc[df['Category'] == 'True', 'Stances_Last'],\n",
    "                alternative='less') #Mann-Whitney U (testing if Misl (Group 1) is higher than True (Group 2) -> differences statistically significant, but with a small effect size (RBC < 0.3)"
   ]
  },
  {
   "cell_type": "code",
   "execution_count": 50,
   "metadata": {},
   "outputs": [
    {
     "name": "stderr",
     "output_type": "stream",
     "text": [
      "C:\\Users\\danie\\AppData\\Local\\Temp\\ipykernel_11368\\4087716365.py:1: FutureWarning: \n",
      "\n",
      "Passing `palette` without assigning `hue` is deprecated and will be removed in v0.14.0. Assign the `x` variable to `hue` and set `legend=False` for the same effect.\n",
      "\n",
      "  sns.boxplot(data=df, x='Category', y='Stances_First', palette=seaborn_palette)\n"
     ]
    },
    {
     "data": {
      "text/plain": [
       "Text(0, 0.5, 'Stances Mean')"
      ]
     },
     "execution_count": 50,
     "metadata": {},
     "output_type": "execute_result"
    },
    {
     "data": {
      "image/png": "[encoded data removed]",
      "text/plain": [
       "<Figure size 640x480 with 1 Axes>"
      ]
     },
     "metadata": {},
     "output_type": "display_data"
    }
   ],
   "source": [
    "sns.boxplot(data=df, x='Category', y='Stances_First', palette=seaborn_palette)\n",
    "plt.title('Stance of First SERP Article Stances by User Label')\n",
    "plt.xlabel('User Label')\n",
    "plt.ylabel('Stances Mean')"
   ]
  },
  {
   "cell_type": "code",
   "execution_count": 51,
   "metadata": {},
   "outputs": [
    {
     "data": {
      "text/plain": [
       "count    257.000000\n",
       "mean       0.244647\n",
       "std        0.246391\n",
       "min       -1.000000\n",
       "25%        0.080000\n",
       "50%        0.280000\n",
       "75%        0.400000\n",
       "max        1.000000\n",
       "Name: Stances_First, dtype: float64"
      ]
     },
     "execution_count": 51,
     "metadata": {},
     "output_type": "execute_result"
    }
   ],
   "source": [
    "df['Stances_First'].describe()"
   ]
  },
  {
   "cell_type": "code",
   "execution_count": 52,
   "metadata": {},
   "outputs": [
    {
     "data": {
      "text/plain": [
       "count    229.000000\n",
       "mean       0.242052\n",
       "std        0.274279\n",
       "min       -0.600000\n",
       "25%        0.000000\n",
       "50%        0.200000\n",
       "75%        0.440000\n",
       "max        1.000000\n",
       "Name: Stances_Last, dtype: float64"
      ]
     },
     "execution_count": 52,
     "metadata": {},
     "output_type": "execute_result"
    }
   ],
   "source": [
    "df['Stances_Last'].describe()"
   ]
  },
  {
   "cell_type": "code",
   "execution_count": 53,
   "metadata": {},
   "outputs": [
    {
     "data": {
      "image/png": "[encoded data removed]",
      "text/plain": [
       "<Figure size 640x480 with 1 Axes>"
      ]
     },
     "metadata": {},
     "output_type": "display_data"
    }
   ],
   "source": [
    "sns.boxplot(data=[df['Stances_First'], df['Stances_Last']], palette=seaborn_palette)\n",
    "plt.title('Stances of Articles based on Position')\n",
    "plt.xticks([0, 1], ['Stances First Article', 'Stances Last Article'])\n",
    "plt.show()"
   ]
  },
  {
   "cell_type": "code",
   "execution_count": 54,
   "metadata": {},
   "outputs": [
    {
     "data": {
      "text/html": [
       "<div>\n",
       "<style scoped>\n",
       "    .dataframe tbody tr th:only-of-type {\n",
       "        vertical-align: middle;\n",
       "    }\n",
       "\n",
       "    .dataframe tbody tr th {\n",
       "        vertical-align: top;\n",
       "    }\n",
       "\n",
       "    .dataframe thead th {\n",
       "        text-align: right;\n",
       "    }\n",
       "</style>\n",
       "<table border=\"1\" class=\"dataframe\">\n",
       "  <thead>\n",
       "    <tr style=\"text-align: right;\">\n",
       "      <th></th>\n",
       "      <th>count</th>\n",
       "      <th>mean</th>\n",
       "      <th>std</th>\n",
       "      <th>min</th>\n",
       "      <th>25%</th>\n",
       "      <th>50%</th>\n",
       "      <th>75%</th>\n",
       "      <th>max</th>\n",
       "    </tr>\n",
       "    <tr>\n",
       "      <th>Category</th>\n",
       "      <th></th>\n",
       "      <th></th>\n",
       "      <th></th>\n",
       "      <th></th>\n",
       "      <th></th>\n",
       "      <th></th>\n",
       "      <th></th>\n",
       "      <th></th>\n",
       "    </tr>\n",
       "  </thead>\n",
       "  <tbody>\n",
       "    <tr>\n",
       "      <th>Misl</th>\n",
       "      <td>36.0</td>\n",
       "      <td>0.156667</td>\n",
       "      <td>0.233116</td>\n",
       "      <td>-0.2</td>\n",
       "      <td>0.0</td>\n",
       "      <td>0.14</td>\n",
       "      <td>0.24</td>\n",
       "      <td>0.6</td>\n",
       "    </tr>\n",
       "    <tr>\n",
       "      <th>True</th>\n",
       "      <td>193.0</td>\n",
       "      <td>0.257978</td>\n",
       "      <td>0.278938</td>\n",
       "      <td>-0.6</td>\n",
       "      <td>0.0</td>\n",
       "      <td>0.24</td>\n",
       "      <td>0.48</td>\n",
       "      <td>1.0</td>\n",
       "    </tr>\n",
       "  </tbody>\n",
       "</table>\n",
       "</div>"
      ],
      "text/plain": [
       "          count      mean       std  min  25%   50%   75%  max\n",
       "Category                                                      \n",
       "Misl       36.0  0.156667  0.233116 -0.2  0.0  0.14  0.24  0.6\n",
       "True      193.0  0.257978  0.278938 -0.6  0.0  0.24  0.48  1.0"
      ]
     },
     "execution_count": 54,
     "metadata": {},
     "output_type": "execute_result"
    }
   ],
   "source": [
    "df.groupby('Category')['Stances_Last'].describe()"
   ]
  },
  {
   "cell_type": "markdown",
   "metadata": {},
   "source": []
  },
  {
   "cell_type": "code",
   "execution_count": 55,
   "metadata": {},
   "outputs": [
    {
     "name": "stderr",
     "output_type": "stream",
     "text": [
      "C:\\Users\\danie\\AppData\\Local\\Temp\\ipykernel_11368\\3757660247.py:1: FutureWarning: \n",
      "\n",
      "Passing `palette` without assigning `hue` is deprecated and will be removed in v0.14.0. Assign the `x` variable to `hue` and set `legend=False` for the same effect.\n",
      "\n",
      "  sns.boxplot(data=df, x='Category', y='Stances_Last', palette=seaborn_palette)\n"
     ]
    },
    {
     "data": {
      "text/plain": [
       "Text(0, 0.5, 'Stances Mean')"
      ]
     },
     "execution_count": 55,
     "metadata": {},
     "output_type": "execute_result"
    },
    {
     "data": {
      "image/png": "[encoded data removed]",
      "text/plain": [
       "<Figure size 640x480 with 1 Axes>"
      ]
     },
     "metadata": {},
     "output_type": "display_data"
    }
   ],
   "source": [
    "sns.boxplot(data=df, x='Category', y='Stances_Last', palette=seaborn_palette)\n",
    "plt.title('Stance of Last SERP Article Stances by User Label')\n",
    "plt.xlabel('User Label')\n",
    "plt.ylabel('Stances Mean')"
   ]
  },
  {
   "cell_type": "markdown",
   "metadata": {},
   "source": [
    "### Median"
   ]
  },
  {
   "cell_type": "code",
   "execution_count": 56,
   "metadata": {},
   "outputs": [
    {
     "name": "stderr",
     "output_type": "stream",
     "text": [
      "C:\\Users\\danie\\AppData\\Local\\Temp\\ipykernel_11368\\614005084.py:1: SettingWithCopyWarning: \n",
      "A value is trying to be set on a copy of a slice from a DataFrame.\n",
      "Try using .loc[row_indexer,col_indexer] = value instead\n",
      "\n",
      "See the caveats in the documentation: https://pandas.pydata.org/pandas-docs/stable/user_guide/indexing.html#returning-a-view-versus-a-copy\n",
      "  df['Stances_Median'] = df['Features_Raw'].apply(lambda x: transform_stances(x, method=np.median))\n"
     ]
    }
   ],
   "source": [
    "df['Stances_Median'] = df['Features_Raw'].apply(lambda x: transform_stances(x, method=np.median))"
   ]
  },
  {
   "cell_type": "code",
   "execution_count": 57,
   "metadata": {},
   "outputs": [
    {
     "data": {
      "text/plain": [
       "count    474.000000\n",
       "mean       0.277357\n",
       "std        0.211386\n",
       "min       -0.400000\n",
       "25%        0.120000\n",
       "50%        0.280000\n",
       "75%        0.440000\n",
       "max        1.000000\n",
       "Name: Stances_Median, dtype: float64"
      ]
     },
     "execution_count": 57,
     "metadata": {},
     "output_type": "execute_result"
    }
   ],
   "source": [
    "df['Stances_Median'].describe()"
   ]
  },
  {
   "cell_type": "code",
   "execution_count": 58,
   "metadata": {},
   "outputs": [
    {
     "data": {
      "text/html": [
       "<div>\n",
       "<style scoped>\n",
       "    .dataframe tbody tr th:only-of-type {\n",
       "        vertical-align: middle;\n",
       "    }\n",
       "\n",
       "    .dataframe tbody tr th {\n",
       "        vertical-align: top;\n",
       "    }\n",
       "\n",
       "    .dataframe thead th {\n",
       "        text-align: right;\n",
       "    }\n",
       "</style>\n",
       "<table border=\"1\" class=\"dataframe\">\n",
       "  <thead>\n",
       "    <tr style=\"text-align: right;\">\n",
       "      <th></th>\n",
       "      <th>count</th>\n",
       "      <th>mean</th>\n",
       "      <th>std</th>\n",
       "      <th>min</th>\n",
       "      <th>25%</th>\n",
       "      <th>50%</th>\n",
       "      <th>75%</th>\n",
       "      <th>max</th>\n",
       "    </tr>\n",
       "    <tr>\n",
       "      <th>Category</th>\n",
       "      <th></th>\n",
       "      <th></th>\n",
       "      <th></th>\n",
       "      <th></th>\n",
       "      <th></th>\n",
       "      <th></th>\n",
       "      <th></th>\n",
       "      <th></th>\n",
       "    </tr>\n",
       "  </thead>\n",
       "  <tbody>\n",
       "    <tr>\n",
       "      <th>Misl</th>\n",
       "      <td>74.0</td>\n",
       "      <td>0.186667</td>\n",
       "      <td>0.202877</td>\n",
       "      <td>-0.4</td>\n",
       "      <td>0.00</td>\n",
       "      <td>0.16</td>\n",
       "      <td>0.36</td>\n",
       "      <td>0.6</td>\n",
       "    </tr>\n",
       "    <tr>\n",
       "      <th>True</th>\n",
       "      <td>400.0</td>\n",
       "      <td>0.294135</td>\n",
       "      <td>0.208886</td>\n",
       "      <td>-0.4</td>\n",
       "      <td>0.16</td>\n",
       "      <td>0.28</td>\n",
       "      <td>0.46</td>\n",
       "      <td>1.0</td>\n",
       "    </tr>\n",
       "  </tbody>\n",
       "</table>\n",
       "</div>"
      ],
      "text/plain": [
       "          count      mean       std  min   25%   50%   75%  max\n",
       "Category                                                       \n",
       "Misl       74.0  0.186667  0.202877 -0.4  0.00  0.16  0.36  0.6\n",
       "True      400.0  0.294135  0.208886 -0.4  0.16  0.28  0.46  1.0"
      ]
     },
     "execution_count": 58,
     "metadata": {},
     "output_type": "execute_result"
    }
   ],
   "source": [
    "df.groupby('Category')['Stances_Median'].describe()"
   ]
  },
  {
   "cell_type": "code",
   "execution_count": 59,
   "metadata": {},
   "outputs": [
    {
     "data": {
      "text/html": [
       "<div>\n",
       "<style scoped>\n",
       "    .dataframe tbody tr th:only-of-type {\n",
       "        vertical-align: middle;\n",
       "    }\n",
       "\n",
       "    .dataframe tbody tr th {\n",
       "        vertical-align: top;\n",
       "    }\n",
       "\n",
       "    .dataframe thead th {\n",
       "        text-align: right;\n",
       "    }\n",
       "</style>\n",
       "<table border=\"1\" class=\"dataframe\">\n",
       "  <thead>\n",
       "    <tr style=\"text-align: right;\">\n",
       "      <th></th>\n",
       "      <th>count</th>\n",
       "      <th>mean</th>\n",
       "      <th>std</th>\n",
       "      <th>min</th>\n",
       "      <th>25%</th>\n",
       "      <th>50%</th>\n",
       "      <th>75%</th>\n",
       "      <th>max</th>\n",
       "    </tr>\n",
       "    <tr>\n",
       "      <th>num_valid_articles</th>\n",
       "      <th></th>\n",
       "      <th></th>\n",
       "      <th></th>\n",
       "      <th></th>\n",
       "      <th></th>\n",
       "      <th></th>\n",
       "      <th></th>\n",
       "      <th></th>\n",
       "    </tr>\n",
       "  </thead>\n",
       "  <tbody>\n",
       "    <tr>\n",
       "      <th>1</th>\n",
       "      <td>18.0</td>\n",
       "      <td>0.177778</td>\n",
       "      <td>0.315027</td>\n",
       "      <td>-0.40</td>\n",
       "      <td>0.000000</td>\n",
       "      <td>0.200000</td>\n",
       "      <td>0.430</td>\n",
       "      <td>0.600</td>\n",
       "    </tr>\n",
       "    <tr>\n",
       "      <th>2</th>\n",
       "      <td>39.0</td>\n",
       "      <td>0.329673</td>\n",
       "      <td>0.192495</td>\n",
       "      <td>0.00</td>\n",
       "      <td>0.190000</td>\n",
       "      <td>0.400000</td>\n",
       "      <td>0.480</td>\n",
       "      <td>0.640</td>\n",
       "    </tr>\n",
       "    <tr>\n",
       "      <th>3</th>\n",
       "      <td>44.0</td>\n",
       "      <td>0.317273</td>\n",
       "      <td>0.279203</td>\n",
       "      <td>-0.12</td>\n",
       "      <td>0.080000</td>\n",
       "      <td>0.306667</td>\n",
       "      <td>0.520</td>\n",
       "      <td>1.000</td>\n",
       "    </tr>\n",
       "    <tr>\n",
       "      <th>4</th>\n",
       "      <td>60.0</td>\n",
       "      <td>0.258037</td>\n",
       "      <td>0.257297</td>\n",
       "      <td>-0.40</td>\n",
       "      <td>0.055000</td>\n",
       "      <td>0.278621</td>\n",
       "      <td>0.485</td>\n",
       "      <td>0.645</td>\n",
       "    </tr>\n",
       "    <tr>\n",
       "      <th>5</th>\n",
       "      <td>65.0</td>\n",
       "      <td>0.269231</td>\n",
       "      <td>0.211219</td>\n",
       "      <td>-0.20</td>\n",
       "      <td>0.160000</td>\n",
       "      <td>0.200000</td>\n",
       "      <td>0.480</td>\n",
       "      <td>0.600</td>\n",
       "    </tr>\n",
       "    <tr>\n",
       "      <th>6</th>\n",
       "      <td>80.0</td>\n",
       "      <td>0.255870</td>\n",
       "      <td>0.172560</td>\n",
       "      <td>-0.12</td>\n",
       "      <td>0.133333</td>\n",
       "      <td>0.240000</td>\n",
       "      <td>0.420</td>\n",
       "      <td>0.600</td>\n",
       "    </tr>\n",
       "    <tr>\n",
       "      <th>7</th>\n",
       "      <td>94.0</td>\n",
       "      <td>0.275020</td>\n",
       "      <td>0.185257</td>\n",
       "      <td>-0.12</td>\n",
       "      <td>0.160000</td>\n",
       "      <td>0.280000</td>\n",
       "      <td>0.400</td>\n",
       "      <td>0.600</td>\n",
       "    </tr>\n",
       "    <tr>\n",
       "      <th>8</th>\n",
       "      <td>58.0</td>\n",
       "      <td>0.294419</td>\n",
       "      <td>0.165969</td>\n",
       "      <td>-0.04</td>\n",
       "      <td>0.165000</td>\n",
       "      <td>0.293333</td>\n",
       "      <td>0.400</td>\n",
       "      <td>0.640</td>\n",
       "    </tr>\n",
       "    <tr>\n",
       "      <th>9</th>\n",
       "      <td>13.0</td>\n",
       "      <td>0.280000</td>\n",
       "      <td>0.143295</td>\n",
       "      <td>0.00</td>\n",
       "      <td>0.200000</td>\n",
       "      <td>0.320000</td>\n",
       "      <td>0.360</td>\n",
       "      <td>0.480</td>\n",
       "    </tr>\n",
       "    <tr>\n",
       "      <th>10</th>\n",
       "      <td>3.0</td>\n",
       "      <td>0.476667</td>\n",
       "      <td>0.073711</td>\n",
       "      <td>0.42</td>\n",
       "      <td>0.435000</td>\n",
       "      <td>0.450000</td>\n",
       "      <td>0.505</td>\n",
       "      <td>0.560</td>\n",
       "    </tr>\n",
       "  </tbody>\n",
       "</table>\n",
       "</div>"
      ],
      "text/plain": [
       "                    count      mean       std   min       25%       50%  \\\n",
       "num_valid_articles                                                        \n",
       "1                    18.0  0.177778  0.315027 -0.40  0.000000  0.200000   \n",
       "2                    39.0  0.329673  0.192495  0.00  0.190000  0.400000   \n",
       "3                    44.0  0.317273  0.279203 -0.12  0.080000  0.306667   \n",
       "4                    60.0  0.258037  0.257297 -0.40  0.055000  0.278621   \n",
       "5                    65.0  0.269231  0.211219 -0.20  0.160000  0.200000   \n",
       "6                    80.0  0.255870  0.172560 -0.12  0.133333  0.240000   \n",
       "7                    94.0  0.275020  0.185257 -0.12  0.160000  0.280000   \n",
       "8                    58.0  0.294419  0.165969 -0.04  0.165000  0.293333   \n",
       "9                    13.0  0.280000  0.143295  0.00  0.200000  0.320000   \n",
       "10                    3.0  0.476667  0.073711  0.42  0.435000  0.450000   \n",
       "\n",
       "                      75%    max  \n",
       "num_valid_articles                \n",
       "1                   0.430  0.600  \n",
       "2                   0.480  0.640  \n",
       "3                   0.520  1.000  \n",
       "4                   0.485  0.645  \n",
       "5                   0.480  0.600  \n",
       "6                   0.420  0.600  \n",
       "7                   0.400  0.600  \n",
       "8                   0.400  0.640  \n",
       "9                   0.360  0.480  \n",
       "10                  0.505  0.560  "
      ]
     },
     "execution_count": 59,
     "metadata": {},
     "output_type": "execute_result"
    }
   ],
   "source": [
    "df.groupby('num_valid_articles')['Stances_Median'].describe()"
   ]
  },
  {
   "cell_type": "code",
   "execution_count": 60,
   "metadata": {},
   "outputs": [
    {
     "name": "stderr",
     "output_type": "stream",
     "text": [
      "C:\\Users\\danie\\AppData\\Local\\Temp\\ipykernel_11368\\3584357433.py:4: FutureWarning: \n",
      "\n",
      "Passing `palette` without assigning `hue` is deprecated and will be removed in v0.14.0. Assign the `x` variable to `hue` and set `legend=False` for the same effect.\n",
      "\n",
      "  sns.boxplot(data=df, x='Category', y='Stances_Median', palette=seaborn_palette)\n"
     ]
    },
    {
     "data": {
      "text/plain": [
       "Text(0, 0.5, 'Stances Median')"
      ]
     },
     "execution_count": 60,
     "metadata": {},
     "output_type": "execute_result"
    },
    {
     "data": {
      "image/png": "[encoded data removed]",
      "text/plain": [
       "<Figure size 640x480 with 1 Axes>"
      ]
     },
     "metadata": {},
     "output_type": "display_data"
    }
   ],
   "source": [
    "import matplotlib.pyplot as plt\n",
    "import seaborn as sns\n",
    "\n",
    "sns.boxplot(data=df, x='Category', y='Stances_Median', palette=seaborn_palette)\n",
    "plt.title('Boxplot of Stances Median by User Label')\n",
    "plt.xlabel('User Label')\n",
    "plt.ylabel('Stances Median')"
   ]
  },
  {
   "cell_type": "markdown",
   "metadata": {},
   "source": [
    "## Stances w/ Positions"
   ]
  },
  {
   "cell_type": "markdown",
   "metadata": {},
   "source": [
    "### Mean"
   ]
  },
  {
   "cell_type": "code",
   "execution_count": 61,
   "metadata": {},
   "outputs": [
    {
     "name": "stderr",
     "output_type": "stream",
     "text": [
      "C:\\Users\\danie\\AppData\\Local\\Temp\\ipykernel_11368\\341998645.py:1: SettingWithCopyWarning: \n",
      "A value is trying to be set on a copy of a slice from a DataFrame.\n",
      "Try using .loc[row_indexer,col_indexer] = value instead\n",
      "\n",
      "See the caveats in the documentation: https://pandas.pydata.org/pandas-docs/stable/user_guide/indexing.html#returning-a-view-versus-a-copy\n",
      "  df['Stances_Pos_Mean'] = df['Features_Pos'].apply(lambda x: transform_stances(x, method=np.mean))\n"
     ]
    }
   ],
   "source": [
    "df['Stances_Pos_Mean'] = df['Features_Pos'].apply(lambda x: transform_stances(x, method=np.mean))"
   ]
  },
  {
   "cell_type": "code",
   "execution_count": 62,
   "metadata": {},
   "outputs": [],
   "source": [
    "# from sklearn.preprocessing import MinMaxScaler\n",
    "# scaler = MinMaxScaler(feature_range=(-1, 1))\n",
    "# df['Stances_Pos_Mean'] = scaler.fit_transform(np.array(df['Stances_Pos_Mean']).reshape(-1, 1)).flatten()"
   ]
  },
  {
   "cell_type": "code",
   "execution_count": 63,
   "metadata": {},
   "outputs": [
    {
     "data": {
      "text/plain": [
       "count    474.000000\n",
       "mean       0.267910\n",
       "std        0.213948\n",
       "min       -0.573667\n",
       "25%        0.102262\n",
       "50%        0.258703\n",
       "75%        0.426371\n",
       "max        0.799724\n",
       "Name: Stances_Pos_Mean, dtype: float64"
      ]
     },
     "execution_count": 63,
     "metadata": {},
     "output_type": "execute_result"
    }
   ],
   "source": [
    "df['Stances_Pos_Mean'].describe()"
   ]
  },
  {
   "cell_type": "code",
   "execution_count": 64,
   "metadata": {},
   "outputs": [
    {
     "data": {
      "text/html": [
       "<div>\n",
       "<style scoped>\n",
       "    .dataframe tbody tr th:only-of-type {\n",
       "        vertical-align: middle;\n",
       "    }\n",
       "\n",
       "    .dataframe tbody tr th {\n",
       "        vertical-align: top;\n",
       "    }\n",
       "\n",
       "    .dataframe thead th {\n",
       "        text-align: right;\n",
       "    }\n",
       "</style>\n",
       "<table border=\"1\" class=\"dataframe\">\n",
       "  <thead>\n",
       "    <tr style=\"text-align: right;\">\n",
       "      <th></th>\n",
       "      <th>count</th>\n",
       "      <th>mean</th>\n",
       "      <th>std</th>\n",
       "      <th>min</th>\n",
       "      <th>25%</th>\n",
       "      <th>50%</th>\n",
       "      <th>75%</th>\n",
       "      <th>max</th>\n",
       "    </tr>\n",
       "    <tr>\n",
       "      <th>Category</th>\n",
       "      <th></th>\n",
       "      <th></th>\n",
       "      <th></th>\n",
       "      <th></th>\n",
       "      <th></th>\n",
       "      <th></th>\n",
       "      <th></th>\n",
       "      <th></th>\n",
       "    </tr>\n",
       "  </thead>\n",
       "  <tbody>\n",
       "    <tr>\n",
       "      <th>Misl</th>\n",
       "      <td>74.0</td>\n",
       "      <td>0.163317</td>\n",
       "      <td>0.205070</td>\n",
       "      <td>-0.573667</td>\n",
       "      <td>0.032266</td>\n",
       "      <td>0.115964</td>\n",
       "      <td>0.277727</td>\n",
       "      <td>0.709541</td>\n",
       "    </tr>\n",
       "    <tr>\n",
       "      <th>True</th>\n",
       "      <td>400.0</td>\n",
       "      <td>0.287260</td>\n",
       "      <td>0.210154</td>\n",
       "      <td>-0.466945</td>\n",
       "      <td>0.125278</td>\n",
       "      <td>0.282664</td>\n",
       "      <td>0.440172</td>\n",
       "      <td>0.799724</td>\n",
       "    </tr>\n",
       "  </tbody>\n",
       "</table>\n",
       "</div>"
      ],
      "text/plain": [
       "          count      mean       std       min       25%       50%       75%  \\\n",
       "Category                                                                      \n",
       "Misl       74.0  0.163317  0.205070 -0.573667  0.032266  0.115964  0.277727   \n",
       "True      400.0  0.287260  0.210154 -0.466945  0.125278  0.282664  0.440172   \n",
       "\n",
       "               max  \n",
       "Category            \n",
       "Misl      0.709541  \n",
       "True      0.799724  "
      ]
     },
     "execution_count": 64,
     "metadata": {},
     "output_type": "execute_result"
    }
   ],
   "source": [
    "df.groupby('Category')['Stances_Pos_Mean'].describe()"
   ]
  },
  {
   "cell_type": "code",
   "execution_count": 65,
   "metadata": {},
   "outputs": [
    {
     "data": {
      "text/html": [
       "<div>\n",
       "<style scoped>\n",
       "    .dataframe tbody tr th:only-of-type {\n",
       "        vertical-align: middle;\n",
       "    }\n",
       "\n",
       "    .dataframe tbody tr th {\n",
       "        vertical-align: top;\n",
       "    }\n",
       "\n",
       "    .dataframe thead th {\n",
       "        text-align: right;\n",
       "    }\n",
       "</style>\n",
       "<table border=\"1\" class=\"dataframe\">\n",
       "  <thead>\n",
       "    <tr style=\"text-align: right;\">\n",
       "      <th></th>\n",
       "      <th>count</th>\n",
       "      <th>mean</th>\n",
       "      <th>std</th>\n",
       "      <th>min</th>\n",
       "      <th>25%</th>\n",
       "      <th>50%</th>\n",
       "      <th>75%</th>\n",
       "      <th>max</th>\n",
       "    </tr>\n",
       "    <tr>\n",
       "      <th>num_valid_articles</th>\n",
       "      <th></th>\n",
       "      <th></th>\n",
       "      <th></th>\n",
       "      <th></th>\n",
       "      <th></th>\n",
       "      <th></th>\n",
       "      <th></th>\n",
       "      <th></th>\n",
       "    </tr>\n",
       "  </thead>\n",
       "  <tbody>\n",
       "    <tr>\n",
       "      <th>1</th>\n",
       "      <td>18.0</td>\n",
       "      <td>0.176432</td>\n",
       "      <td>0.350889</td>\n",
       "      <td>-0.573667</td>\n",
       "      <td>0.000000</td>\n",
       "      <td>0.218574</td>\n",
       "      <td>0.453511</td>\n",
       "      <td>0.652381</td>\n",
       "    </tr>\n",
       "    <tr>\n",
       "      <th>2</th>\n",
       "      <td>39.0</td>\n",
       "      <td>0.327204</td>\n",
       "      <td>0.230004</td>\n",
       "      <td>0.000000</td>\n",
       "      <td>0.084093</td>\n",
       "      <td>0.356013</td>\n",
       "      <td>0.479238</td>\n",
       "      <td>0.799724</td>\n",
       "    </tr>\n",
       "    <tr>\n",
       "      <th>3</th>\n",
       "      <td>44.0</td>\n",
       "      <td>0.253892</td>\n",
       "      <td>0.236085</td>\n",
       "      <td>-0.130481</td>\n",
       "      <td>0.087628</td>\n",
       "      <td>0.196444</td>\n",
       "      <td>0.474851</td>\n",
       "      <td>0.722187</td>\n",
       "    </tr>\n",
       "    <tr>\n",
       "      <th>4</th>\n",
       "      <td>60.0</td>\n",
       "      <td>0.263629</td>\n",
       "      <td>0.263537</td>\n",
       "      <td>-0.338335</td>\n",
       "      <td>0.059674</td>\n",
       "      <td>0.251298</td>\n",
       "      <td>0.485771</td>\n",
       "      <td>0.708572</td>\n",
       "    </tr>\n",
       "    <tr>\n",
       "      <th>5</th>\n",
       "      <td>65.0</td>\n",
       "      <td>0.263306</td>\n",
       "      <td>0.206845</td>\n",
       "      <td>-0.119915</td>\n",
       "      <td>0.115544</td>\n",
       "      <td>0.231454</td>\n",
       "      <td>0.380197</td>\n",
       "      <td>0.684824</td>\n",
       "    </tr>\n",
       "    <tr>\n",
       "      <th>6</th>\n",
       "      <td>80.0</td>\n",
       "      <td>0.248406</td>\n",
       "      <td>0.169440</td>\n",
       "      <td>-0.147579</td>\n",
       "      <td>0.124651</td>\n",
       "      <td>0.261341</td>\n",
       "      <td>0.360283</td>\n",
       "      <td>0.693056</td>\n",
       "    </tr>\n",
       "    <tr>\n",
       "      <th>7</th>\n",
       "      <td>94.0</td>\n",
       "      <td>0.263072</td>\n",
       "      <td>0.188737</td>\n",
       "      <td>-0.149414</td>\n",
       "      <td>0.119702</td>\n",
       "      <td>0.252543</td>\n",
       "      <td>0.383606</td>\n",
       "      <td>0.659616</td>\n",
       "    </tr>\n",
       "    <tr>\n",
       "      <th>8</th>\n",
       "      <td>58.0</td>\n",
       "      <td>0.299295</td>\n",
       "      <td>0.182930</td>\n",
       "      <td>-0.061861</td>\n",
       "      <td>0.120292</td>\n",
       "      <td>0.323401</td>\n",
       "      <td>0.463101</td>\n",
       "      <td>0.789626</td>\n",
       "    </tr>\n",
       "    <tr>\n",
       "      <th>9</th>\n",
       "      <td>13.0</td>\n",
       "      <td>0.267406</td>\n",
       "      <td>0.143534</td>\n",
       "      <td>0.009345</td>\n",
       "      <td>0.232137</td>\n",
       "      <td>0.258051</td>\n",
       "      <td>0.317432</td>\n",
       "      <td>0.543368</td>\n",
       "    </tr>\n",
       "    <tr>\n",
       "      <th>10</th>\n",
       "      <td>3.0</td>\n",
       "      <td>0.504029</td>\n",
       "      <td>0.108550</td>\n",
       "      <td>0.438970</td>\n",
       "      <td>0.441373</td>\n",
       "      <td>0.443777</td>\n",
       "      <td>0.536559</td>\n",
       "      <td>0.629341</td>\n",
       "    </tr>\n",
       "  </tbody>\n",
       "</table>\n",
       "</div>"
      ],
      "text/plain": [
       "                    count      mean       std       min       25%       50%  \\\n",
       "num_valid_articles                                                            \n",
       "1                    18.0  0.176432  0.350889 -0.573667  0.000000  0.218574   \n",
       "2                    39.0  0.327204  0.230004  0.000000  0.084093  0.356013   \n",
       "3                    44.0  0.253892  0.236085 -0.130481  0.087628  0.196444   \n",
       "4                    60.0  0.263629  0.263537 -0.338335  0.059674  0.251298   \n",
       "5                    65.0  0.263306  0.206845 -0.119915  0.115544  0.231454   \n",
       "6                    80.0  0.248406  0.169440 -0.147579  0.124651  0.261341   \n",
       "7                    94.0  0.263072  0.188737 -0.149414  0.119702  0.252543   \n",
       "8                    58.0  0.299295  0.182930 -0.061861  0.120292  0.323401   \n",
       "9                    13.0  0.267406  0.143534  0.009345  0.232137  0.258051   \n",
       "10                    3.0  0.504029  0.108550  0.438970  0.441373  0.443777   \n",
       "\n",
       "                         75%       max  \n",
       "num_valid_articles                      \n",
       "1                   0.453511  0.652381  \n",
       "2                   0.479238  0.799724  \n",
       "3                   0.474851  0.722187  \n",
       "4                   0.485771  0.708572  \n",
       "5                   0.380197  0.684824  \n",
       "6                   0.360283  0.693056  \n",
       "7                   0.383606  0.659616  \n",
       "8                   0.463101  0.789626  \n",
       "9                   0.317432  0.543368  \n",
       "10                  0.536559  0.629341  "
      ]
     },
     "execution_count": 65,
     "metadata": {},
     "output_type": "execute_result"
    }
   ],
   "source": [
    "df.groupby('num_valid_articles')['Stances_Pos_Mean'].describe()\n"
   ]
  },
  {
   "cell_type": "code",
   "execution_count": 66,
   "metadata": {},
   "outputs": [
    {
     "data": {
      "text/html": [
       "<div>\n",
       "<style scoped>\n",
       "    .dataframe tbody tr th:only-of-type {\n",
       "        vertical-align: middle;\n",
       "    }\n",
       "\n",
       "    .dataframe tbody tr th {\n",
       "        vertical-align: top;\n",
       "    }\n",
       "\n",
       "    .dataframe thead th {\n",
       "        text-align: right;\n",
       "    }\n",
       "</style>\n",
       "<table border=\"1\" class=\"dataframe\">\n",
       "  <thead>\n",
       "    <tr style=\"text-align: right;\">\n",
       "      <th></th>\n",
       "      <th>W</th>\n",
       "      <th>pval</th>\n",
       "      <th>normal</th>\n",
       "    </tr>\n",
       "    <tr>\n",
       "      <th>Category</th>\n",
       "      <th></th>\n",
       "      <th></th>\n",
       "      <th></th>\n",
       "    </tr>\n",
       "  </thead>\n",
       "  <tbody>\n",
       "    <tr>\n",
       "      <th>Misl</th>\n",
       "      <td>0.939260</td>\n",
       "      <td>0.001463</td>\n",
       "      <td>False</td>\n",
       "    </tr>\n",
       "    <tr>\n",
       "      <th>True</th>\n",
       "      <td>0.990291</td>\n",
       "      <td>0.009655</td>\n",
       "      <td>False</td>\n",
       "    </tr>\n",
       "  </tbody>\n",
       "</table>\n",
       "</div>"
      ],
      "text/plain": [
       "                 W      pval  normal\n",
       "Category                            \n",
       "Misl      0.939260  0.001463   False\n",
       "True      0.990291  0.009655   False"
      ]
     },
     "execution_count": 66,
     "metadata": {},
     "output_type": "execute_result"
    }
   ],
   "source": [
    "pg.normality(data=df, dv='Stances_Pos_Mean', group='Category') #not normally distributed\n",
    "# pg.mwu(x=df.loc[df['Category'] == 'Misl', 'Stances_Pos_Mean'],\n",
    "#                 y=df.loc[df['Category'] == 'True', 'Stances_Pos_Mean'],\n",
    "#                 alternative='less')"
   ]
  },
  {
   "cell_type": "code",
   "execution_count": 67,
   "metadata": {},
   "outputs": [
    {
     "name": "stderr",
     "output_type": "stream",
     "text": [
      "C:\\Users\\danie\\AppData\\Local\\Temp\\ipykernel_11368\\4194977180.py:1: FutureWarning: \n",
      "\n",
      "Passing `palette` without assigning `hue` is deprecated and will be removed in v0.14.0. Assign the `x` variable to `hue` and set `legend=False` for the same effect.\n",
      "\n",
      "  sns.boxplot(data=df, x='Category', y='Stances_Pos_Mean', palette=seaborn_palette)\n"
     ]
    },
    {
     "data": {
      "text/plain": [
       "Text(0, 0.5, 'Stances Mean')"
      ]
     },
     "execution_count": 67,
     "metadata": {},
     "output_type": "execute_result"
    },
    {
     "data": {
      "image/png": "[encoded data removed]",
      "text/plain": [
       "<Figure size 640x480 with 1 Axes>"
      ]
     },
     "metadata": {},
     "output_type": "display_data"
    }
   ],
   "source": [
    "sns.boxplot(data=df, x='Category', y='Stances_Pos_Mean', palette=seaborn_palette)\n",
    "plt.title('Boxplot of Stances (Position) Mean by User Label')\n",
    "plt.xlabel('User Label')\n",
    "plt.ylabel('Stances Mean')"
   ]
  },
  {
   "cell_type": "code",
   "execution_count": 68,
   "metadata": {},
   "outputs": [
    {
     "data": {
      "text/html": [
       "<div>\n",
       "<style scoped>\n",
       "    .dataframe tbody tr th:only-of-type {\n",
       "        vertical-align: middle;\n",
       "    }\n",
       "\n",
       "    .dataframe tbody tr th {\n",
       "        vertical-align: top;\n",
       "    }\n",
       "\n",
       "    .dataframe thead th {\n",
       "        text-align: right;\n",
       "    }\n",
       "</style>\n",
       "<table border=\"1\" class=\"dataframe\">\n",
       "  <thead>\n",
       "    <tr style=\"text-align: right;\">\n",
       "      <th></th>\n",
       "      <th>count</th>\n",
       "      <th>mean</th>\n",
       "      <th>std</th>\n",
       "      <th>min</th>\n",
       "      <th>25%</th>\n",
       "      <th>50%</th>\n",
       "      <th>75%</th>\n",
       "      <th>max</th>\n",
       "    </tr>\n",
       "    <tr>\n",
       "      <th>Category</th>\n",
       "      <th></th>\n",
       "      <th></th>\n",
       "      <th></th>\n",
       "      <th></th>\n",
       "      <th></th>\n",
       "      <th></th>\n",
       "      <th></th>\n",
       "      <th></th>\n",
       "    </tr>\n",
       "  </thead>\n",
       "  <tbody>\n",
       "    <tr>\n",
       "      <th>Misl</th>\n",
       "      <td>25.0</td>\n",
       "      <td>0.157323</td>\n",
       "      <td>0.174565</td>\n",
       "      <td>-0.137878</td>\n",
       "      <td>0.053021</td>\n",
       "      <td>0.112573</td>\n",
       "      <td>0.249865</td>\n",
       "      <td>0.571149</td>\n",
       "    </tr>\n",
       "    <tr>\n",
       "      <th>True</th>\n",
       "      <td>199.0</td>\n",
       "      <td>0.272927</td>\n",
       "      <td>0.194897</td>\n",
       "      <td>-0.338335</td>\n",
       "      <td>0.136288</td>\n",
       "      <td>0.267708</td>\n",
       "      <td>0.384333</td>\n",
       "      <td>0.799724</td>\n",
       "    </tr>\n",
       "  </tbody>\n",
       "</table>\n",
       "</div>"
      ],
      "text/plain": [
       "          count      mean       std       min       25%       50%       75%  \\\n",
       "Category                                                                      \n",
       "Misl       25.0  0.157323  0.174565 -0.137878  0.053021  0.112573  0.249865   \n",
       "True      199.0  0.272927  0.194897 -0.338335  0.136288  0.267708  0.384333   \n",
       "\n",
       "               max  \n",
       "Category            \n",
       "Misl      0.571149  \n",
       "True      0.799724  "
      ]
     },
     "execution_count": 68,
     "metadata": {},
     "output_type": "execute_result"
    }
   ],
   "source": [
    "last_search_df = df.drop_duplicates(subset='ResponseId', keep='last')\n",
    "last_search_df.groupby('Category')['Stances_Pos_Mean'].describe()"
   ]
  },
  {
   "cell_type": "markdown",
   "metadata": {},
   "source": [
    "## Stances w/ Headlines"
   ]
  },
  {
   "cell_type": "markdown",
   "metadata": {},
   "source": [
    "### Mean"
   ]
  },
  {
   "cell_type": "code",
   "execution_count": 69,
   "metadata": {},
   "outputs": [
    {
     "name": "stderr",
     "output_type": "stream",
     "text": [
      "C:\\Users\\danie\\AppData\\Local\\Temp\\ipykernel_11368\\2604616633.py:1: SettingWithCopyWarning: \n",
      "A value is trying to be set on a copy of a slice from a DataFrame.\n",
      "Try using .loc[row_indexer,col_indexer] = value instead\n",
      "\n",
      "See the caveats in the documentation: https://pandas.pydata.org/pandas-docs/stable/user_guide/indexing.html#returning-a-view-versus-a-copy\n",
      "  df['Stances_H_Mean'] = df['Features_H'].apply(lambda x: transform_stances(x, method=np.mean))\n"
     ]
    }
   ],
   "source": [
    "df['Stances_H_Mean'] = df['Features_H'].apply(lambda x: transform_stances(x, method=np.mean))"
   ]
  },
  {
   "cell_type": "code",
   "execution_count": 70,
   "metadata": {},
   "outputs": [],
   "source": [
    "# from sklearn.preprocessing import MinMaxScaler\n",
    "# scaler = MinMaxScaler(feature_range=(-1, 1))\n",
    "# df['Stances_H_Mean'] = scaler.fit_transform(np.array(df['Stances_H_Mean']).reshape(-1, 1)).flatten()"
   ]
  },
  {
   "cell_type": "code",
   "execution_count": 71,
   "metadata": {},
   "outputs": [
    {
     "data": {
      "text/plain": [
       "count    474.000000\n",
       "mean       0.023965\n",
       "std        0.059201\n",
       "min       -0.200000\n",
       "25%        0.000000\n",
       "50%        0.000000\n",
       "75%        0.029643\n",
       "max        0.500000\n",
       "Name: Stances_H_Mean, dtype: float64"
      ]
     },
     "execution_count": 71,
     "metadata": {},
     "output_type": "execute_result"
    }
   ],
   "source": [
    "df['Stances_H_Mean'].describe()"
   ]
  },
  {
   "cell_type": "code",
   "execution_count": 72,
   "metadata": {},
   "outputs": [
    {
     "data": {
      "text/html": [
       "<div>\n",
       "<style scoped>\n",
       "    .dataframe tbody tr th:only-of-type {\n",
       "        vertical-align: middle;\n",
       "    }\n",
       "\n",
       "    .dataframe tbody tr th {\n",
       "        vertical-align: top;\n",
       "    }\n",
       "\n",
       "    .dataframe thead th {\n",
       "        text-align: right;\n",
       "    }\n",
       "</style>\n",
       "<table border=\"1\" class=\"dataframe\">\n",
       "  <thead>\n",
       "    <tr style=\"text-align: right;\">\n",
       "      <th></th>\n",
       "      <th>count</th>\n",
       "      <th>mean</th>\n",
       "      <th>std</th>\n",
       "      <th>min</th>\n",
       "      <th>25%</th>\n",
       "      <th>50%</th>\n",
       "      <th>75%</th>\n",
       "      <th>max</th>\n",
       "    </tr>\n",
       "    <tr>\n",
       "      <th>Category</th>\n",
       "      <th></th>\n",
       "      <th></th>\n",
       "      <th></th>\n",
       "      <th></th>\n",
       "      <th></th>\n",
       "      <th></th>\n",
       "      <th></th>\n",
       "      <th></th>\n",
       "    </tr>\n",
       "  </thead>\n",
       "  <tbody>\n",
       "    <tr>\n",
       "      <th>Misl</th>\n",
       "      <td>74.0</td>\n",
       "      <td>0.011529</td>\n",
       "      <td>0.064667</td>\n",
       "      <td>-0.057143</td>\n",
       "      <td>0.0</td>\n",
       "      <td>0.0</td>\n",
       "      <td>0.00</td>\n",
       "      <td>0.500000</td>\n",
       "    </tr>\n",
       "    <tr>\n",
       "      <th>True</th>\n",
       "      <td>400.0</td>\n",
       "      <td>0.026265</td>\n",
       "      <td>0.057929</td>\n",
       "      <td>-0.200000</td>\n",
       "      <td>0.0</td>\n",
       "      <td>0.0</td>\n",
       "      <td>0.03</td>\n",
       "      <td>0.333333</td>\n",
       "    </tr>\n",
       "  </tbody>\n",
       "</table>\n",
       "</div>"
      ],
      "text/plain": [
       "          count      mean       std       min  25%  50%   75%       max\n",
       "Category                                                               \n",
       "Misl       74.0  0.011529  0.064667 -0.057143  0.0  0.0  0.00  0.500000\n",
       "True      400.0  0.026265  0.057929 -0.200000  0.0  0.0  0.03  0.333333"
      ]
     },
     "execution_count": 72,
     "metadata": {},
     "output_type": "execute_result"
    }
   ],
   "source": [
    "df.groupby('Category')['Stances_H_Mean'].describe()"
   ]
  },
  {
   "cell_type": "code",
   "execution_count": 73,
   "metadata": {},
   "outputs": [
    {
     "data": {
      "text/html": [
       "<div>\n",
       "<style scoped>\n",
       "    .dataframe tbody tr th:only-of-type {\n",
       "        vertical-align: middle;\n",
       "    }\n",
       "\n",
       "    .dataframe tbody tr th {\n",
       "        vertical-align: top;\n",
       "    }\n",
       "\n",
       "    .dataframe thead th {\n",
       "        text-align: right;\n",
       "    }\n",
       "</style>\n",
       "<table border=\"1\" class=\"dataframe\">\n",
       "  <thead>\n",
       "    <tr style=\"text-align: right;\">\n",
       "      <th></th>\n",
       "      <th>U-val</th>\n",
       "      <th>alternative</th>\n",
       "      <th>p-val</th>\n",
       "      <th>RBC</th>\n",
       "      <th>CLES</th>\n",
       "    </tr>\n",
       "  </thead>\n",
       "  <tbody>\n",
       "    <tr>\n",
       "      <th>MWU</th>\n",
       "      <td>10326.0</td>\n",
       "      <td>less</td>\n",
       "      <td>0.000004</td>\n",
       "      <td>-0.302297</td>\n",
       "      <td>0.651149</td>\n",
       "    </tr>\n",
       "  </tbody>\n",
       "</table>\n",
       "</div>"
      ],
      "text/plain": [
       "       U-val alternative     p-val       RBC      CLES\n",
       "MWU  10326.0        less  0.000004 -0.302297  0.651149"
      ]
     },
     "execution_count": 73,
     "metadata": {},
     "output_type": "execute_result"
    }
   ],
   "source": [
    "import pingouin as pg\n",
    "pg.normality(data=df, dv='Stances_H_Mean', group='Category') #not normally distributed\n",
    "pg.mwu(x=df.loc[df['Category'] == 'Misl', 'Stances_H_Mean'],\n",
    "                y=df.loc[df['Category'] == 'True', 'Stances_H_Mean'],\n",
    "                alternative='less') #Mann-Whitney U (testing if Misl (Group 1) is less than True (Group 2) -> differences statistically significant, but with a small effect size (RBC < 0.3)"
   ]
  },
  {
   "cell_type": "code",
   "execution_count": 74,
   "metadata": {},
   "outputs": [
    {
     "data": {
      "text/html": [
       "<div>\n",
       "<style scoped>\n",
       "    .dataframe tbody tr th:only-of-type {\n",
       "        vertical-align: middle;\n",
       "    }\n",
       "\n",
       "    .dataframe tbody tr th {\n",
       "        vertical-align: top;\n",
       "    }\n",
       "\n",
       "    .dataframe thead th {\n",
       "        text-align: right;\n",
       "    }\n",
       "</style>\n",
       "<table border=\"1\" class=\"dataframe\">\n",
       "  <thead>\n",
       "    <tr style=\"text-align: right;\">\n",
       "      <th></th>\n",
       "      <th>count</th>\n",
       "      <th>mean</th>\n",
       "      <th>std</th>\n",
       "      <th>min</th>\n",
       "      <th>25%</th>\n",
       "      <th>50%</th>\n",
       "      <th>75%</th>\n",
       "      <th>max</th>\n",
       "    </tr>\n",
       "    <tr>\n",
       "      <th>num_valid_articles</th>\n",
       "      <th></th>\n",
       "      <th></th>\n",
       "      <th></th>\n",
       "      <th></th>\n",
       "      <th></th>\n",
       "      <th></th>\n",
       "      <th></th>\n",
       "      <th></th>\n",
       "    </tr>\n",
       "  </thead>\n",
       "  <tbody>\n",
       "    <tr>\n",
       "      <th>1</th>\n",
       "      <td>18.0</td>\n",
       "      <td>0.006667</td>\n",
       "      <td>0.079113</td>\n",
       "      <td>-0.200000</td>\n",
       "      <td>0.000</td>\n",
       "      <td>0.000000</td>\n",
       "      <td>0.000000</td>\n",
       "      <td>0.200000</td>\n",
       "    </tr>\n",
       "    <tr>\n",
       "      <th>2</th>\n",
       "      <td>39.0</td>\n",
       "      <td>0.038974</td>\n",
       "      <td>0.106519</td>\n",
       "      <td>0.000000</td>\n",
       "      <td>0.000</td>\n",
       "      <td>0.000000</td>\n",
       "      <td>0.000000</td>\n",
       "      <td>0.500000</td>\n",
       "    </tr>\n",
       "    <tr>\n",
       "      <th>3</th>\n",
       "      <td>44.0</td>\n",
       "      <td>0.017879</td>\n",
       "      <td>0.070842</td>\n",
       "      <td>-0.013333</td>\n",
       "      <td>0.000</td>\n",
       "      <td>0.000000</td>\n",
       "      <td>0.000000</td>\n",
       "      <td>0.333333</td>\n",
       "    </tr>\n",
       "    <tr>\n",
       "      <th>4</th>\n",
       "      <td>60.0</td>\n",
       "      <td>0.026583</td>\n",
       "      <td>0.060887</td>\n",
       "      <td>0.000000</td>\n",
       "      <td>0.000</td>\n",
       "      <td>0.000000</td>\n",
       "      <td>0.002500</td>\n",
       "      <td>0.300000</td>\n",
       "    </tr>\n",
       "    <tr>\n",
       "      <th>5</th>\n",
       "      <td>65.0</td>\n",
       "      <td>0.020595</td>\n",
       "      <td>0.053939</td>\n",
       "      <td>-0.080000</td>\n",
       "      <td>0.000</td>\n",
       "      <td>0.000000</td>\n",
       "      <td>0.024000</td>\n",
       "      <td>0.264000</td>\n",
       "    </tr>\n",
       "    <tr>\n",
       "      <th>6</th>\n",
       "      <td>80.0</td>\n",
       "      <td>0.025847</td>\n",
       "      <td>0.042865</td>\n",
       "      <td>-0.060000</td>\n",
       "      <td>0.000</td>\n",
       "      <td>0.000000</td>\n",
       "      <td>0.040000</td>\n",
       "      <td>0.160000</td>\n",
       "    </tr>\n",
       "    <tr>\n",
       "      <th>7</th>\n",
       "      <td>94.0</td>\n",
       "      <td>0.024051</td>\n",
       "      <td>0.045714</td>\n",
       "      <td>-0.057143</td>\n",
       "      <td>0.000</td>\n",
       "      <td>0.007619</td>\n",
       "      <td>0.034286</td>\n",
       "      <td>0.225714</td>\n",
       "    </tr>\n",
       "    <tr>\n",
       "      <th>8</th>\n",
       "      <td>58.0</td>\n",
       "      <td>0.022163</td>\n",
       "      <td>0.047403</td>\n",
       "      <td>-0.025000</td>\n",
       "      <td>0.000</td>\n",
       "      <td>0.012500</td>\n",
       "      <td>0.030000</td>\n",
       "      <td>0.212500</td>\n",
       "    </tr>\n",
       "    <tr>\n",
       "      <th>9</th>\n",
       "      <td>13.0</td>\n",
       "      <td>0.025299</td>\n",
       "      <td>0.033915</td>\n",
       "      <td>-0.008889</td>\n",
       "      <td>0.000</td>\n",
       "      <td>0.017778</td>\n",
       "      <td>0.035556</td>\n",
       "      <td>0.088889</td>\n",
       "    </tr>\n",
       "    <tr>\n",
       "      <th>10</th>\n",
       "      <td>3.0</td>\n",
       "      <td>0.018667</td>\n",
       "      <td>0.016653</td>\n",
       "      <td>0.000000</td>\n",
       "      <td>0.012</td>\n",
       "      <td>0.024000</td>\n",
       "      <td>0.028000</td>\n",
       "      <td>0.032000</td>\n",
       "    </tr>\n",
       "  </tbody>\n",
       "</table>\n",
       "</div>"
      ],
      "text/plain": [
       "                    count      mean       std       min    25%       50%  \\\n",
       "num_valid_articles                                                         \n",
       "1                    18.0  0.006667  0.079113 -0.200000  0.000  0.000000   \n",
       "2                    39.0  0.038974  0.106519  0.000000  0.000  0.000000   \n",
       "3                    44.0  0.017879  0.070842 -0.013333  0.000  0.000000   \n",
       "4                    60.0  0.026583  0.060887  0.000000  0.000  0.000000   \n",
       "5                    65.0  0.020595  0.053939 -0.080000  0.000  0.000000   \n",
       "6                    80.0  0.025847  0.042865 -0.060000  0.000  0.000000   \n",
       "7                    94.0  0.024051  0.045714 -0.057143  0.000  0.007619   \n",
       "8                    58.0  0.022163  0.047403 -0.025000  0.000  0.012500   \n",
       "9                    13.0  0.025299  0.033915 -0.008889  0.000  0.017778   \n",
       "10                    3.0  0.018667  0.016653  0.000000  0.012  0.024000   \n",
       "\n",
       "                         75%       max  \n",
       "num_valid_articles                      \n",
       "1                   0.000000  0.200000  \n",
       "2                   0.000000  0.500000  \n",
       "3                   0.000000  0.333333  \n",
       "4                   0.002500  0.300000  \n",
       "5                   0.024000  0.264000  \n",
       "6                   0.040000  0.160000  \n",
       "7                   0.034286  0.225714  \n",
       "8                   0.030000  0.212500  \n",
       "9                   0.035556  0.088889  \n",
       "10                  0.028000  0.032000  "
      ]
     },
     "execution_count": 74,
     "metadata": {},
     "output_type": "execute_result"
    }
   ],
   "source": [
    "df.groupby('num_valid_articles')['Stances_H_Mean'].describe()"
   ]
  },
  {
   "cell_type": "code",
   "execution_count": 75,
   "metadata": {},
   "outputs": [
    {
     "name": "stderr",
     "output_type": "stream",
     "text": [
      "C:\\Users\\danie\\AppData\\Local\\Temp\\ipykernel_11368\\2672221805.py:1: FutureWarning: \n",
      "\n",
      "Passing `palette` without assigning `hue` is deprecated and will be removed in v0.14.0. Assign the `x` variable to `hue` and set `legend=False` for the same effect.\n",
      "\n",
      "  sns.boxplot(data=df, x='Category', y='Stances_H_Mean', palette=seaborn_palette)\n"
     ]
    },
    {
     "data": {
      "text/plain": [
       "Text(0, 0.5, 'Stances Mean')"
      ]
     },
     "execution_count": 75,
     "metadata": {},
     "output_type": "execute_result"
    },
    {
     "data": {
      "image/png": "[encoded data removed]",
      "text/plain": [
       "<Figure size 640x480 with 1 Axes>"
      ]
     },
     "metadata": {},
     "output_type": "display_data"
    }
   ],
   "source": [
    "sns.boxplot(data=df, x='Category', y='Stances_H_Mean', palette=seaborn_palette)\n",
    "plt.title('Boxplot of Stances (Headline) Mean by User Label')\n",
    "plt.xlabel('User Label')\n",
    "plt.ylabel('Stances Mean')"
   ]
  },
  {
   "cell_type": "markdown",
   "metadata": {},
   "source": [
    "## Stances w/ Headlines and Pos"
   ]
  },
  {
   "cell_type": "code",
   "execution_count": 76,
   "metadata": {},
   "outputs": [
    {
     "name": "stderr",
     "output_type": "stream",
     "text": [
      "C:\\Users\\danie\\AppData\\Local\\Temp\\ipykernel_11368\\2275436934.py:1: SettingWithCopyWarning: \n",
      "A value is trying to be set on a copy of a slice from a DataFrame.\n",
      "Try using .loc[row_indexer,col_indexer] = value instead\n",
      "\n",
      "See the caveats in the documentation: https://pandas.pydata.org/pandas-docs/stable/user_guide/indexing.html#returning-a-view-versus-a-copy\n",
      "  df['Stances_HP_Mean'] = df['Features_HP'].apply(lambda x: transform_stances(x, method=np.mean))\n"
     ]
    }
   ],
   "source": [
    "df['Stances_HP_Mean'] = df['Features_HP'].apply(lambda x: transform_stances(x, method=np.mean))"
   ]
  },
  {
   "cell_type": "code",
   "execution_count": 77,
   "metadata": {},
   "outputs": [
    {
     "data": {
      "text/plain": [
       "count    474.000000\n",
       "mean       0.291855\n",
       "std        0.235282\n",
       "min       -0.573667\n",
       "25%        0.102902\n",
       "50%        0.283402\n",
       "75%        0.487264\n",
       "max        0.980585\n",
       "Name: Stances_HP_Mean, dtype: float64"
      ]
     },
     "execution_count": 77,
     "metadata": {},
     "output_type": "execute_result"
    }
   ],
   "source": [
    "df['Stances_HP_Mean'].describe()"
   ]
  },
  {
   "cell_type": "code",
   "execution_count": 78,
   "metadata": {},
   "outputs": [
    {
     "data": {
      "text/html": [
       "<div>\n",
       "<style scoped>\n",
       "    .dataframe tbody tr th:only-of-type {\n",
       "        vertical-align: middle;\n",
       "    }\n",
       "\n",
       "    .dataframe tbody tr th {\n",
       "        vertical-align: top;\n",
       "    }\n",
       "\n",
       "    .dataframe thead th {\n",
       "        text-align: right;\n",
       "    }\n",
       "</style>\n",
       "<table border=\"1\" class=\"dataframe\">\n",
       "  <thead>\n",
       "    <tr style=\"text-align: right;\">\n",
       "      <th></th>\n",
       "      <th>count</th>\n",
       "      <th>mean</th>\n",
       "      <th>std</th>\n",
       "      <th>min</th>\n",
       "      <th>25%</th>\n",
       "      <th>50%</th>\n",
       "      <th>75%</th>\n",
       "      <th>max</th>\n",
       "    </tr>\n",
       "    <tr>\n",
       "      <th>Category</th>\n",
       "      <th></th>\n",
       "      <th></th>\n",
       "      <th></th>\n",
       "      <th></th>\n",
       "      <th></th>\n",
       "      <th></th>\n",
       "      <th></th>\n",
       "      <th></th>\n",
       "    </tr>\n",
       "  </thead>\n",
       "  <tbody>\n",
       "    <tr>\n",
       "      <th>Misl</th>\n",
       "      <td>74.0</td>\n",
       "      <td>0.169065</td>\n",
       "      <td>0.216344</td>\n",
       "      <td>-0.573667</td>\n",
       "      <td>0.025632</td>\n",
       "      <td>0.115964</td>\n",
       "      <td>0.302749</td>\n",
       "      <td>0.709541</td>\n",
       "    </tr>\n",
       "    <tr>\n",
       "      <th>True</th>\n",
       "      <td>400.0</td>\n",
       "      <td>0.314571</td>\n",
       "      <td>0.231835</td>\n",
       "      <td>-0.466945</td>\n",
       "      <td>0.132698</td>\n",
       "      <td>0.307781</td>\n",
       "      <td>0.503307</td>\n",
       "      <td>0.980585</td>\n",
       "    </tr>\n",
       "  </tbody>\n",
       "</table>\n",
       "</div>"
      ],
      "text/plain": [
       "          count      mean       std       min       25%       50%       75%  \\\n",
       "Category                                                                      \n",
       "Misl       74.0  0.169065  0.216344 -0.573667  0.025632  0.115964  0.302749   \n",
       "True      400.0  0.314571  0.231835 -0.466945  0.132698  0.307781  0.503307   \n",
       "\n",
       "               max  \n",
       "Category            \n",
       "Misl      0.709541  \n",
       "True      0.980585  "
      ]
     },
     "execution_count": 78,
     "metadata": {},
     "output_type": "execute_result"
    }
   ],
   "source": [
    "df.groupby('Category')['Stances_HP_Mean'].describe()"
   ]
  },
  {
   "cell_type": "code",
   "execution_count": 79,
   "metadata": {},
   "outputs": [
    {
     "data": {
      "text/html": [
       "<div>\n",
       "<style scoped>\n",
       "    .dataframe tbody tr th:only-of-type {\n",
       "        vertical-align: middle;\n",
       "    }\n",
       "\n",
       "    .dataframe tbody tr th {\n",
       "        vertical-align: top;\n",
       "    }\n",
       "\n",
       "    .dataframe thead th {\n",
       "        text-align: right;\n",
       "    }\n",
       "</style>\n",
       "<table border=\"1\" class=\"dataframe\">\n",
       "  <thead>\n",
       "    <tr style=\"text-align: right;\">\n",
       "      <th></th>\n",
       "      <th>count</th>\n",
       "      <th>mean</th>\n",
       "      <th>std</th>\n",
       "      <th>min</th>\n",
       "      <th>25%</th>\n",
       "      <th>50%</th>\n",
       "      <th>75%</th>\n",
       "      <th>max</th>\n",
       "    </tr>\n",
       "    <tr>\n",
       "      <th>num_valid_articles</th>\n",
       "      <th></th>\n",
       "      <th></th>\n",
       "      <th></th>\n",
       "      <th></th>\n",
       "      <th></th>\n",
       "      <th></th>\n",
       "      <th></th>\n",
       "      <th></th>\n",
       "    </tr>\n",
       "  </thead>\n",
       "  <tbody>\n",
       "    <tr>\n",
       "      <th>1</th>\n",
       "      <td>18.0</td>\n",
       "      <td>0.183875</td>\n",
       "      <td>0.371593</td>\n",
       "      <td>-0.573667</td>\n",
       "      <td>0.000000</td>\n",
       "      <td>0.218574</td>\n",
       "      <td>0.492411</td>\n",
       "      <td>0.717231</td>\n",
       "    </tr>\n",
       "    <tr>\n",
       "      <th>2</th>\n",
       "      <td>39.0</td>\n",
       "      <td>0.363138</td>\n",
       "      <td>0.260076</td>\n",
       "      <td>0.000000</td>\n",
       "      <td>0.084093</td>\n",
       "      <td>0.370000</td>\n",
       "      <td>0.552084</td>\n",
       "      <td>0.954245</td>\n",
       "    </tr>\n",
       "    <tr>\n",
       "      <th>3</th>\n",
       "      <td>44.0</td>\n",
       "      <td>0.258516</td>\n",
       "      <td>0.240088</td>\n",
       "      <td>-0.142925</td>\n",
       "      <td>0.087628</td>\n",
       "      <td>0.196444</td>\n",
       "      <td>0.518432</td>\n",
       "      <td>0.722187</td>\n",
       "    </tr>\n",
       "    <tr>\n",
       "      <th>4</th>\n",
       "      <td>60.0</td>\n",
       "      <td>0.292654</td>\n",
       "      <td>0.290090</td>\n",
       "      <td>-0.338335</td>\n",
       "      <td>0.059674</td>\n",
       "      <td>0.301026</td>\n",
       "      <td>0.550421</td>\n",
       "      <td>0.980585</td>\n",
       "    </tr>\n",
       "    <tr>\n",
       "      <th>5</th>\n",
       "      <td>65.0</td>\n",
       "      <td>0.283504</td>\n",
       "      <td>0.230587</td>\n",
       "      <td>-0.243372</td>\n",
       "      <td>0.115544</td>\n",
       "      <td>0.235683</td>\n",
       "      <td>0.509966</td>\n",
       "      <td>0.684824</td>\n",
       "    </tr>\n",
       "    <tr>\n",
       "      <th>6</th>\n",
       "      <td>80.0</td>\n",
       "      <td>0.279451</td>\n",
       "      <td>0.191904</td>\n",
       "      <td>-0.179127</td>\n",
       "      <td>0.147942</td>\n",
       "      <td>0.280070</td>\n",
       "      <td>0.395437</td>\n",
       "      <td>0.776891</td>\n",
       "    </tr>\n",
       "    <tr>\n",
       "      <th>7</th>\n",
       "      <td>94.0</td>\n",
       "      <td>0.288482</td>\n",
       "      <td>0.212247</td>\n",
       "      <td>-0.237598</td>\n",
       "      <td>0.119970</td>\n",
       "      <td>0.287522</td>\n",
       "      <td>0.455367</td>\n",
       "      <td>0.659616</td>\n",
       "    </tr>\n",
       "    <tr>\n",
       "      <th>8</th>\n",
       "      <td>58.0</td>\n",
       "      <td>0.319849</td>\n",
       "      <td>0.199960</td>\n",
       "      <td>-0.061861</td>\n",
       "      <td>0.127571</td>\n",
       "      <td>0.356020</td>\n",
       "      <td>0.503307</td>\n",
       "      <td>0.789626</td>\n",
       "    </tr>\n",
       "    <tr>\n",
       "      <th>9</th>\n",
       "      <td>13.0</td>\n",
       "      <td>0.300106</td>\n",
       "      <td>0.168274</td>\n",
       "      <td>-0.002417</td>\n",
       "      <td>0.255385</td>\n",
       "      <td>0.266812</td>\n",
       "      <td>0.423695</td>\n",
       "      <td>0.589088</td>\n",
       "    </tr>\n",
       "    <tr>\n",
       "      <th>10</th>\n",
       "      <td>3.0</td>\n",
       "      <td>0.526435</td>\n",
       "      <td>0.089125</td>\n",
       "      <td>0.474022</td>\n",
       "      <td>0.474982</td>\n",
       "      <td>0.475941</td>\n",
       "      <td>0.552641</td>\n",
       "      <td>0.629341</td>\n",
       "    </tr>\n",
       "  </tbody>\n",
       "</table>\n",
       "</div>"
      ],
      "text/plain": [
       "                    count      mean       std       min       25%       50%  \\\n",
       "num_valid_articles                                                            \n",
       "1                    18.0  0.183875  0.371593 -0.573667  0.000000  0.218574   \n",
       "2                    39.0  0.363138  0.260076  0.000000  0.084093  0.370000   \n",
       "3                    44.0  0.258516  0.240088 -0.142925  0.087628  0.196444   \n",
       "4                    60.0  0.292654  0.290090 -0.338335  0.059674  0.301026   \n",
       "5                    65.0  0.283504  0.230587 -0.243372  0.115544  0.235683   \n",
       "6                    80.0  0.279451  0.191904 -0.179127  0.147942  0.280070   \n",
       "7                    94.0  0.288482  0.212247 -0.237598  0.119970  0.287522   \n",
       "8                    58.0  0.319849  0.199960 -0.061861  0.127571  0.356020   \n",
       "9                    13.0  0.300106  0.168274 -0.002417  0.255385  0.266812   \n",
       "10                    3.0  0.526435  0.089125  0.474022  0.474982  0.475941   \n",
       "\n",
       "                         75%       max  \n",
       "num_valid_articles                      \n",
       "1                   0.492411  0.717231  \n",
       "2                   0.552084  0.954245  \n",
       "3                   0.518432  0.722187  \n",
       "4                   0.550421  0.980585  \n",
       "5                   0.509966  0.684824  \n",
       "6                   0.395437  0.776891  \n",
       "7                   0.455367  0.659616  \n",
       "8                   0.503307  0.789626  \n",
       "9                   0.423695  0.589088  \n",
       "10                  0.552641  0.629341  "
      ]
     },
     "execution_count": 79,
     "metadata": {},
     "output_type": "execute_result"
    }
   ],
   "source": [
    "df.groupby('num_valid_articles')['Stances_HP_Mean'].describe()"
   ]
  },
  {
   "cell_type": "code",
   "execution_count": 80,
   "metadata": {},
   "outputs": [
    {
     "data": {
      "text/html": [
       "<div>\n",
       "<style scoped>\n",
       "    .dataframe tbody tr th:only-of-type {\n",
       "        vertical-align: middle;\n",
       "    }\n",
       "\n",
       "    .dataframe tbody tr th {\n",
       "        vertical-align: top;\n",
       "    }\n",
       "\n",
       "    .dataframe thead th {\n",
       "        text-align: right;\n",
       "    }\n",
       "</style>\n",
       "<table border=\"1\" class=\"dataframe\">\n",
       "  <thead>\n",
       "    <tr style=\"text-align: right;\">\n",
       "      <th></th>\n",
       "      <th>W</th>\n",
       "      <th>pval</th>\n",
       "      <th>normal</th>\n",
       "    </tr>\n",
       "    <tr>\n",
       "      <th>Category</th>\n",
       "      <th></th>\n",
       "      <th></th>\n",
       "      <th></th>\n",
       "    </tr>\n",
       "  </thead>\n",
       "  <tbody>\n",
       "    <tr>\n",
       "      <th>Misl</th>\n",
       "      <td>0.939336</td>\n",
       "      <td>0.001476</td>\n",
       "      <td>False</td>\n",
       "    </tr>\n",
       "    <tr>\n",
       "      <th>True</th>\n",
       "      <td>0.989945</td>\n",
       "      <td>0.007702</td>\n",
       "      <td>False</td>\n",
       "    </tr>\n",
       "  </tbody>\n",
       "</table>\n",
       "</div>"
      ],
      "text/plain": [
       "                 W      pval  normal\n",
       "Category                            \n",
       "Misl      0.939336  0.001476   False\n",
       "True      0.989945  0.007702   False"
      ]
     },
     "execution_count": 80,
     "metadata": {},
     "output_type": "execute_result"
    }
   ],
   "source": [
    "pg.normality(data=df, dv='Stances_HP_Mean', group='Category') #not normally distributed\n",
    "# pg.mwu(x=df.loc[df['Category'] == 'Misl', 'Stances_HP_Mean'],\n",
    "#                 y=df.loc[df['Category'] == 'True', 'Stances_HP_Mean'],\n",
    "#                 alternative='less')"
   ]
  },
  {
   "cell_type": "code",
   "execution_count": 81,
   "metadata": {},
   "outputs": [
    {
     "name": "stderr",
     "output_type": "stream",
     "text": [
      "C:\\Users\\danie\\AppData\\Local\\Temp\\ipykernel_11368\\861737964.py:1: FutureWarning: \n",
      "\n",
      "Passing `palette` without assigning `hue` is deprecated and will be removed in v0.14.0. Assign the `x` variable to `hue` and set `legend=False` for the same effect.\n",
      "\n",
      "  sns.boxplot(data=df, x='Category', y='Stances_HP_Mean', palette=seaborn_palette)\n"
     ]
    },
    {
     "data": {
      "text/plain": [
       "Text(0, 0.5, 'Stances Mean')"
      ]
     },
     "execution_count": 81,
     "metadata": {},
     "output_type": "execute_result"
    },
    {
     "data": {
      "image/png": "[encoded data removed]",
      "text/plain": [
       "<Figure size 640x480 with 1 Axes>"
      ]
     },
     "metadata": {},
     "output_type": "display_data"
    }
   ],
   "source": [
    "sns.boxplot(data=df, x='Category', y='Stances_HP_Mean', palette=seaborn_palette)\n",
    "plt.title('Boxplot of Stances (Headlines + Position) Mean by User Label')\n",
    "plt.xlabel('User Label')\n",
    "plt.ylabel('Stances Mean')"
   ]
  },
  {
   "cell_type": "markdown",
   "metadata": {},
   "source": [
    "# Newsguard Score"
   ]
  },
  {
   "cell_type": "code",
   "execution_count": 82,
   "metadata": {},
   "outputs": [],
   "source": [
    "def transform_newsguard(feat_dict, method):\n",
    "    if pd.isna(feat_dict):\n",
    "        return np.nan\n",
    "    article_ng_scores = feat_dict['article_ng_scores']\n",
    "    article_ng_scores = np.nan_to_num(article_ng_scores, nan=0)\n",
    "    return method(article_ng_scores)"
   ]
  },
  {
   "cell_type": "code",
   "execution_count": 83,
   "metadata": {},
   "outputs": [
    {
     "name": "stderr",
     "output_type": "stream",
     "text": [
      "C:\\Users\\danie\\AppData\\Local\\Temp\\ipykernel_11368\\1875328657.py:1: SettingWithCopyWarning: \n",
      "A value is trying to be set on a copy of a slice from a DataFrame.\n",
      "Try using .loc[row_indexer,col_indexer] = value instead\n",
      "\n",
      "See the caveats in the documentation: https://pandas.pydata.org/pandas-docs/stable/user_guide/indexing.html#returning-a-view-versus-a-copy\n",
      "  df['Newsguard_Mean'] = df['Features_Raw'].apply(lambda x: transform_newsguard(x, method=np.mean))\n"
     ]
    }
   ],
   "source": [
    "df['Newsguard_Mean'] = df['Features_Raw'].apply(lambda x: transform_newsguard(x, method=np.mean))"
   ]
  },
  {
   "cell_type": "code",
   "execution_count": 84,
   "metadata": {},
   "outputs": [
    {
     "data": {
      "text/html": [
       "<div>\n",
       "<style scoped>\n",
       "    .dataframe tbody tr th:only-of-type {\n",
       "        vertical-align: middle;\n",
       "    }\n",
       "\n",
       "    .dataframe tbody tr th {\n",
       "        vertical-align: top;\n",
       "    }\n",
       "\n",
       "    .dataframe thead th {\n",
       "        text-align: right;\n",
       "    }\n",
       "</style>\n",
       "<table border=\"1\" class=\"dataframe\">\n",
       "  <thead>\n",
       "    <tr style=\"text-align: right;\">\n",
       "      <th></th>\n",
       "      <th>count</th>\n",
       "      <th>mean</th>\n",
       "      <th>std</th>\n",
       "      <th>min</th>\n",
       "      <th>25%</th>\n",
       "      <th>50%</th>\n",
       "      <th>75%</th>\n",
       "      <th>max</th>\n",
       "    </tr>\n",
       "    <tr>\n",
       "      <th>Category</th>\n",
       "      <th></th>\n",
       "      <th></th>\n",
       "      <th></th>\n",
       "      <th></th>\n",
       "      <th></th>\n",
       "      <th></th>\n",
       "      <th></th>\n",
       "      <th></th>\n",
       "    </tr>\n",
       "  </thead>\n",
       "  <tbody>\n",
       "    <tr>\n",
       "      <th>Misl</th>\n",
       "      <td>74.0</td>\n",
       "      <td>88.823788</td>\n",
       "      <td>10.605354</td>\n",
       "      <td>35.00</td>\n",
       "      <td>87.784722</td>\n",
       "      <td>91.458333</td>\n",
       "      <td>94.3750</td>\n",
       "      <td>100.0</td>\n",
       "    </tr>\n",
       "    <tr>\n",
       "      <th>True</th>\n",
       "      <td>397.0</td>\n",
       "      <td>89.717616</td>\n",
       "      <td>10.152677</td>\n",
       "      <td>21.25</td>\n",
       "      <td>87.750000</td>\n",
       "      <td>91.700000</td>\n",
       "      <td>94.9375</td>\n",
       "      <td>100.0</td>\n",
       "    </tr>\n",
       "  </tbody>\n",
       "</table>\n",
       "</div>"
      ],
      "text/plain": [
       "          count       mean        std    min        25%        50%      75%  \\\n",
       "Category                                                                      \n",
       "Misl       74.0  88.823788  10.605354  35.00  87.784722  91.458333  94.3750   \n",
       "True      397.0  89.717616  10.152677  21.25  87.750000  91.700000  94.9375   \n",
       "\n",
       "            max  \n",
       "Category         \n",
       "Misl      100.0  \n",
       "True      100.0  "
      ]
     },
     "execution_count": 84,
     "metadata": {},
     "output_type": "execute_result"
    }
   ],
   "source": [
    "df.groupby('Category')['avg_score'].describe()"
   ]
  },
  {
   "cell_type": "code",
   "execution_count": 85,
   "metadata": {},
   "outputs": [
    {
     "data": {
      "text/html": [
       "<div>\n",
       "<style scoped>\n",
       "    .dataframe tbody tr th:only-of-type {\n",
       "        vertical-align: middle;\n",
       "    }\n",
       "\n",
       "    .dataframe tbody tr th {\n",
       "        vertical-align: top;\n",
       "    }\n",
       "\n",
       "    .dataframe thead th {\n",
       "        text-align: right;\n",
       "    }\n",
       "</style>\n",
       "<table border=\"1\" class=\"dataframe\">\n",
       "  <thead>\n",
       "    <tr style=\"text-align: right;\">\n",
       "      <th></th>\n",
       "      <th>U-val</th>\n",
       "      <th>alternative</th>\n",
       "      <th>p-val</th>\n",
       "      <th>RBC</th>\n",
       "      <th>CLES</th>\n",
       "    </tr>\n",
       "  </thead>\n",
       "  <tbody>\n",
       "    <tr>\n",
       "      <th>MWU</th>\n",
       "      <td>13780.0</td>\n",
       "      <td>less</td>\n",
       "      <td>0.199002</td>\n",
       "      <td>-0.061883</td>\n",
       "      <td>0.530942</td>\n",
       "    </tr>\n",
       "  </tbody>\n",
       "</table>\n",
       "</div>"
      ],
      "text/plain": [
       "       U-val alternative     p-val       RBC      CLES\n",
       "MWU  13780.0        less  0.199002 -0.061883  0.530942"
      ]
     },
     "execution_count": 85,
     "metadata": {},
     "output_type": "execute_result"
    }
   ],
   "source": [
    "pg.normality(data=df, dv='avg_score', group='Category') #not normally distributed\n",
    "pg.mwu(x=df.loc[df['Category'] == 'Misl', 'avg_score'],\n",
    "                y=df.loc[df['Category'] == 'True', 'avg_score'],\n",
    "                alternative='less') #Mann-Whitney U (testing if Misl (Group 1) is higher than True (Group 2) -> differences statistically significant, but with a small effect size (RBC < 0.3)"
   ]
  },
  {
   "cell_type": "markdown",
   "metadata": {},
   "source": [
    "This is the NewsGuard Score of the retrieved articles. For the final calculation, we instead use the average NG score given above."
   ]
  },
  {
   "cell_type": "code",
   "execution_count": 86,
   "metadata": {},
   "outputs": [
    {
     "name": "stderr",
     "output_type": "stream",
     "text": [
      "C:\\Users\\danie\\AppData\\Local\\Temp\\ipykernel_11368\\3465771059.py:1: FutureWarning: \n",
      "\n",
      "Passing `palette` without assigning `hue` is deprecated and will be removed in v0.14.0. Assign the `x` variable to `hue` and set `legend=False` for the same effect.\n",
      "\n",
      "  sns.boxplot(data=df, x='Category', y='Newsguard_Mean', palette='Set2')\n"
     ]
    },
    {
     "data": {
      "text/plain": [
       "Text(0, 0.5, 'NG Mean')"
      ]
     },
     "execution_count": 86,
     "metadata": {},
     "output_type": "execute_result"
    },
    {
     "data": {
      "image/png": "[encoded data removed]",
      "text/plain": [
       "<Figure size 640x480 with 1 Axes>"
      ]
     },
     "metadata": {},
     "output_type": "display_data"
    }
   ],
   "source": [
    "sns.boxplot(data=df, x='Category', y='Newsguard_Mean', palette='Set2')\n",
    "plt.title('Boxplot of Newsguard Mean by User Label')\n",
    "plt.xlabel('User Label')\n",
    "plt.ylabel('NG Mean')"
   ]
  },
  {
   "cell_type": "markdown",
   "metadata": {},
   "source": [
    "# Article SERP Position"
   ]
  },
  {
   "cell_type": "markdown",
   "metadata": {},
   "source": [
    "## Mean Rank"
   ]
  },
  {
   "cell_type": "code",
   "execution_count": 87,
   "metadata": {},
   "outputs": [],
   "source": [
    "def transform_serp_position(feat_dict, method):\n",
    "    if pd.isna(feat_dict):\n",
    "        return np.nan\n",
    "    article_serp_positions = feat_dict['article_serp_positions']\n",
    "    article_serp_positions = np.nan_to_num(article_serp_positions, nan=0)\n",
    "    return method(article_serp_positions)"
   ]
  },
  {
   "cell_type": "code",
   "execution_count": 88,
   "metadata": {},
   "outputs": [
    {
     "name": "stderr",
     "output_type": "stream",
     "text": [
      "C:\\Users\\danie\\AppData\\Local\\Temp\\ipykernel_11368\\3830219677.py:1: SettingWithCopyWarning: \n",
      "A value is trying to be set on a copy of a slice from a DataFrame.\n",
      "Try using .loc[row_indexer,col_indexer] = value instead\n",
      "\n",
      "See the caveats in the documentation: https://pandas.pydata.org/pandas-docs/stable/user_guide/indexing.html#returning-a-view-versus-a-copy\n",
      "  df['SERP_Position_Mean'] = df['Features_Raw'].apply(lambda x: transform_serp_position(x, method=np.mean))\n"
     ]
    }
   ],
   "source": [
    "df['SERP_Position_Mean'] = df['Features_Raw'].apply(lambda x: transform_serp_position(x, method=np.mean))"
   ]
  },
  {
   "cell_type": "code",
   "execution_count": 89,
   "metadata": {},
   "outputs": [
    {
     "data": {
      "text/html": [
       "<div>\n",
       "<style scoped>\n",
       "    .dataframe tbody tr th:only-of-type {\n",
       "        vertical-align: middle;\n",
       "    }\n",
       "\n",
       "    .dataframe tbody tr th {\n",
       "        vertical-align: top;\n",
       "    }\n",
       "\n",
       "    .dataframe thead th {\n",
       "        text-align: right;\n",
       "    }\n",
       "</style>\n",
       "<table border=\"1\" class=\"dataframe\">\n",
       "  <thead>\n",
       "    <tr style=\"text-align: right;\">\n",
       "      <th></th>\n",
       "      <th>count</th>\n",
       "      <th>mean</th>\n",
       "      <th>std</th>\n",
       "      <th>min</th>\n",
       "      <th>25%</th>\n",
       "      <th>50%</th>\n",
       "      <th>75%</th>\n",
       "      <th>max</th>\n",
       "    </tr>\n",
       "    <tr>\n",
       "      <th>Category</th>\n",
       "      <th></th>\n",
       "      <th></th>\n",
       "      <th></th>\n",
       "      <th></th>\n",
       "      <th></th>\n",
       "      <th></th>\n",
       "      <th></th>\n",
       "      <th></th>\n",
       "    </tr>\n",
       "  </thead>\n",
       "  <tbody>\n",
       "    <tr>\n",
       "      <th>Misl</th>\n",
       "      <td>74.0</td>\n",
       "      <td>5.467723</td>\n",
       "      <td>1.560043</td>\n",
       "      <td>1.0</td>\n",
       "      <td>4.808333</td>\n",
       "      <td>5.309524</td>\n",
       "      <td>6.25</td>\n",
       "      <td>10.0</td>\n",
       "    </tr>\n",
       "    <tr>\n",
       "      <th>True</th>\n",
       "      <td>400.0</td>\n",
       "      <td>5.294329</td>\n",
       "      <td>1.362419</td>\n",
       "      <td>1.0</td>\n",
       "      <td>4.750000</td>\n",
       "      <td>5.285714</td>\n",
       "      <td>6.00</td>\n",
       "      <td>10.0</td>\n",
       "    </tr>\n",
       "  </tbody>\n",
       "</table>\n",
       "</div>"
      ],
      "text/plain": [
       "          count      mean       std  min       25%       50%   75%   max\n",
       "Category                                                                \n",
       "Misl       74.0  5.467723  1.560043  1.0  4.808333  5.309524  6.25  10.0\n",
       "True      400.0  5.294329  1.362419  1.0  4.750000  5.285714  6.00  10.0"
      ]
     },
     "execution_count": 89,
     "metadata": {},
     "output_type": "execute_result"
    }
   ],
   "source": [
    "df.groupby('Category')['SERP_Position_Mean'].describe()"
   ]
  },
  {
   "cell_type": "code",
   "execution_count": 90,
   "metadata": {},
   "outputs": [
    {
     "name": "stderr",
     "output_type": "stream",
     "text": [
      "C:\\Users\\danie\\AppData\\Local\\Temp\\ipykernel_11368\\3667827325.py:1: FutureWarning: \n",
      "\n",
      "Passing `palette` without assigning `hue` is deprecated and will be removed in v0.14.0. Assign the `x` variable to `hue` and set `legend=False` for the same effect.\n",
      "\n",
      "  sns.boxplot(data=df, x='Category', y='SERP_Position_Mean', palette='Set3')\n"
     ]
    },
    {
     "data": {
      "text/plain": [
       "Text(0, 0.5, 'NG Mean')"
      ]
     },
     "execution_count": 90,
     "metadata": {},
     "output_type": "execute_result"
    },
    {
     "data": {
      "image/png": "[encoded data removed]",
      "text/plain": [
       "<Figure size 640x480 with 1 Axes>"
      ]
     },
     "metadata": {},
     "output_type": "display_data"
    }
   ],
   "source": [
    "sns.boxplot(data=df, x='Category', y='SERP_Position_Mean', palette='Set3')\n",
    "plt.title('Boxplot of SERP Position Mean by User Label')\n",
    "plt.xlabel('User Label')\n",
    "plt.ylabel('NG Mean')"
   ]
  }
 ],
 "metadata": {
  "kernelspec": {
   "display_name": "venv",
   "language": "python",
   "name": "python3"
  },
  "language_info": {
   "codemirror_mode": {
    "name": "ipython",
    "version": 3
   },
   "file_extension": ".py",
   "mimetype": "text/x-python",
   "name": "python",
   "nbconvert_exporter": "python",
   "pygments_lexer": "ipython3",
   "version": "3.9.5"
  }
 },
 "nbformat": 4,
 "nbformat_minor": 2
}
